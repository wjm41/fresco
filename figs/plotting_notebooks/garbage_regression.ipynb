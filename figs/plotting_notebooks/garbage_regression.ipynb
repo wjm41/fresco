{
 "cells": [
  {
   "cell_type": "markdown",
   "metadata": {},
   "source": [
    "# Notebook for early moonshot regression\n",
    "\n",
    "22nd Apr\n",
    "Take only activites from early days of moonshot to show how difficult it is to regress IC50."
   ]
  },
  {
   "cell_type": "markdown",
   "metadata": {},
   "source": [
    "Load docked dataset"
   ]
  },
  {
   "cell_type": "code",
   "execution_count": 1,
   "metadata": {},
   "outputs": [
    {
     "name": "stderr",
     "output_type": "stream",
     "text": [
      "INFO:rdkit:Enabling RDKit 2020.09.1 jupyter extensions\n"
     ]
    },
    {
     "name": "stdout",
     "output_type": "stream",
     "text": [
      "                                          canonical_CID  \\\n",
      "0     Docking receptor of MPRO-X2908_0A_BOUND(A) > L...   \n",
      "1                                   EDG-MED-ba1ac7b9-15   \n",
      "2                                    MAT-POS-9ff17035-2   \n",
      "3                                    EDJ-MED-8c98ee63-2   \n",
      "4                                    ALP-POS-64a710fa-1   \n",
      "...                                                 ...   \n",
      "2654                                ALP-POS-305f6ec3-52   \n",
      "2655                                ALP-POS-88a7a97e-23   \n",
      "2656                                ALP-POS-b0bc6a46-27   \n",
      "2657                                BRU-THA-92256091-77   \n",
      "2658                                ALP-POS-ced8ea4d-30   \n",
      "\n",
      "                                                 SMILES  \\\n",
      "0     CCC(C)C(NC(=O)CNC(=O)C(NC(=O)C(CCC(N)=O)NC(=O)...   \n",
      "1     C[C@@H]1CN(C)CCN1C(=O)C[C@@]1(C(=O)Nc2cncc3ccc...   \n",
      "2     O=C(Cc1cc(Cl)cc(Oc2cccc(=O)[nH]2)c1)Nc1cncc2cc...   \n",
      "3     Cn1ccc(CNC[C@@]2(C(=O)Nc3cncc4ccccc34)CCOc3ccc...   \n",
      "4             O=C(Cc1cncc2ccccc12)N(CCC1CCCCC1)Cc1cccs1   \n",
      "...                                                 ...   \n",
      "2654  CC(C)(C)c1ccc(N(C(=O)c2c[nH]c(=O)[nH]2)[C@@H](...   \n",
      "2655  COC(=O)[C@@H]1C[C@@H](NC(=O)[C@H](c2cccnc2)N(C...   \n",
      "2656  N#Cc1cc(N(C(=O)c2ccco2)[C@@H](C(=O)NCCc2cccc(F...   \n",
      "2657  O=C(NCCc1cccc(F)c1)[C@H](c1cccnc1)N(C(=O)c1c[n...   \n",
      "2658  O=C(NCCc1cccc(F)c1)[C@H](c1cccnc1)N(C(=O)c1coc...   \n",
      "\n",
      "                                                    mol                series  \\\n",
      "0     <img data-content=\"rdkit/molecule\" src=\"data:i...                   NaN   \n",
      "1     <img data-content=\"rdkit/molecule\" src=\"data:i...  3-aminopyridine-like   \n",
      "2     <img data-content=\"rdkit/molecule\" src=\"data:i...  3-aminopyridine-like   \n",
      "3     <img data-content=\"rdkit/molecule\" src=\"data:i...  3-aminopyridine-like   \n",
      "4     <img data-content=\"rdkit/molecule\" src=\"data:i...                   NaN   \n",
      "...                                                 ...                   ...   \n",
      "2654  <img data-content=\"rdkit/molecule\" src=\"data:i...                   Ugi   \n",
      "2655  <img data-content=\"rdkit/molecule\" src=\"data:i...                   NaN   \n",
      "2656  <img data-content=\"rdkit/molecule\" src=\"data:i...                   NaN   \n",
      "2657  <img data-content=\"rdkit/molecule\" src=\"data:i...                   NaN   \n",
      "2658  <img data-content=\"rdkit/molecule\" src=\"data:i...                   NaN   \n",
      "\n",
      "     Chemgauss4 Score f_avg_pIC50 f_avg_IC50 chloroacetamide acrylamide  \\\n",
      "0                 NaN         NaN        NaN             NaN        NaN   \n",
      "1            -12.6986     5.20921    6.17716           False      False   \n",
      "2              -12.43     5.70429    1.97563           False      False   \n",
      "3            -12.3919     6.09539   0.802811           False      False   \n",
      "4            -12.3789     5.00607    9.86113           False      False   \n",
      "...               ...         ...        ...             ...        ...   \n",
      "2654           3.0553     4.79812    15.9178           False      False   \n",
      "2655          3.38598     5.16595    6.82414           False      False   \n",
      "2656          3.53119         NaN       99.5           False      False   \n",
      "2657          4.22059     4.32089     47.765           False      False   \n",
      "2658          4.24214     4.61144    24.4657           False      False   \n",
      "\n",
      "     Number of Confs r_inhibition_at_50_uM r_avg_IC50  \\\n",
      "0                NaN                   NaN        NaN   \n",
      "1                 38                   NaN        NaN   \n",
      "2                500                41.805        NaN   \n",
      "3                500                   NaN        NaN   \n",
      "4                500                   NaN    3.02151   \n",
      "...              ...                   ...        ...   \n",
      "2654              74                   NaN        NaN   \n",
      "2655             106                   NaN        NaN   \n",
      "2656             500                   NaN        NaN   \n",
      "2657              44                   NaN        NaN   \n",
      "2658              40                   NaN        NaN   \n",
      "\n",
      "     relative_solubility_at_100_uM relative_solubility_at_20_uM  \\\n",
      "0                              NaN                          NaN   \n",
      "1                              NaN                          NaN   \n",
      "2                              NaN                          NaN   \n",
      "3                              NaN                          NaN   \n",
      "4                              NaN                          NaN   \n",
      "...                            ...                          ...   \n",
      "2654                           NaN                          NaN   \n",
      "2655                           NaN                          NaN   \n",
      "2656                           NaN                          NaN   \n",
      "2657                           NaN                          NaN   \n",
      "2658                           NaN                          NaN   \n",
      "\n",
      "     f_inhibition_at_50_uM f_inhibition_at_20_uM r_inhibition_at_20_uM  \\\n",
      "0                      NaN                   NaN                   NaN   \n",
      "1                      NaN                   NaN                   NaN   \n",
      "2                      NaN                   NaN                   NaN   \n",
      "3                      NaN                   NaN                   NaN   \n",
      "4                      NaN                   NaN                   NaN   \n",
      "...                    ...                   ...                   ...   \n",
      "2654                   NaN                   NaN                   NaN   \n",
      "2655                   NaN                   NaN                   NaN   \n",
      "2656                   NaN                   NaN                   NaN   \n",
      "2657                   NaN                   NaN                   NaN   \n",
      "2658                   NaN                   NaN                   NaN   \n",
      "\n",
      "     trypsin_IC50 frag_id  \n",
      "0             NaN     NaN  \n",
      "1             NaN     NaN  \n",
      "2             NaN     NaN  \n",
      "3             NaN     NaN  \n",
      "4             NaN     NaN  \n",
      "...           ...     ...  \n",
      "2654          NaN     NaN  \n",
      "2655          NaN     NaN  \n",
      "2656          NaN     NaN  \n",
      "2657          NaN     NaN  \n",
      "2658          NaN     NaN  \n",
      "\n",
      "[2659 rows x 19 columns]\n"
     ]
    }
   ],
   "source": [
    "from rdkit.Chem import PandasTools\n",
    "\n",
    "sdfFile = '/home/wjm41/ml_physics/frag-pcore-screen/data/COVID_Moonshot_activity data_2021-03-22_noncovalent_docked.sdf'\n",
    "df_docking = PandasTools.LoadSDF(\n",
    "    sdfFile, idName='canonical_CID', smilesName='SMILES', molColName='mol')\n",
    "print(df_docking)\n"
   ]
  },
  {
   "cell_type": "markdown",
   "metadata": {},
   "source": [
    "Remove covalent compounds"
   ]
  },
  {
   "cell_type": "code",
   "execution_count": 2,
   "metadata": {},
   "outputs": [],
   "source": [
    "from distutils.util import strtobool\n",
    "\n",
    "df_docking = df_docking.dropna(subset=['acrylamide'])\n",
    "df_docking['acrylamide'] = df_docking['acrylamide'].apply(\n",
    "    strtobool).astype(bool)\n",
    "df_docking['chloroacetamide'] = df_docking['chloroacetamide'].apply(\n",
    "    strtobool).astype(bool)\n",
    "\n",
    "df_docking = df_docking.query('~chloroacetamide & ~acrylamide')\n"
   ]
  },
  {
   "cell_type": "markdown",
   "metadata": {},
   "source": [
    "Group conformers and take mean score"
   ]
  },
  {
   "cell_type": "code",
   "execution_count": 3,
   "metadata": {},
   "outputs": [
    {
     "name": "stdout",
     "output_type": "stream",
     "text": [
      "                       hit  f_avg_IC50  Chemgauss4 Score\n",
      "canonical_CID                                           \n",
      "AAR-POS-0daf6b7e-23  False         NaN          -5.71945\n",
      "AAR-POS-5507155c-1   False     99.5000          -5.24347\n",
      "AAR-POS-8a4e0f60-1   False         NaN          -9.23545\n",
      "AAR-POS-8a4e0f60-10  False         NaN          -6.75070\n",
      "AAR-POS-8a4e0f60-2   False         NaN          -9.57557\n",
      "...                    ...         ...               ...\n",
      "WIL-MOD-03b86a88-2   False     19.0909          -8.93996\n",
      "WIL-MOD-03b86a88-4   False     15.9534          -9.98616\n",
      "WIL-MOD-03b86a88-5   False     21.7972          -9.32327\n",
      "WIL-MOD-03b86a88-6   False     11.2566          -9.12435\n",
      "WIL-UNI-2e73223c-4   False     99.5000          -9.22982\n",
      "\n",
      "[1585 rows x 3 columns]\n"
     ]
    }
   ],
   "source": [
    "df_docking.f_avg_IC50 = df_docking.f_avg_IC50.astype(float)\n",
    "df_docking['Chemgauss4 Score'] = df_docking['Chemgauss4 Score'].astype(float)\n",
    "\n",
    "columns_to_keep = ['canonical_CID', 'Chemgauss4 Score',\n",
    "                   'f_avg_IC50']\n",
    "df_docking = df_docking[columns_to_keep]\n",
    "df_docking_grouped = df_docking.groupby(by=df_docking.canonical_CID).mean()\n",
    "df_docking_grouped['canonical_CID'] = df_docking_grouped.index\n",
    "\n",
    "df_docking_grouped['hit'] = df_docking_grouped['f_avg_IC50'] < 5\n",
    "print(df_docking_grouped[['hit', 'f_avg_IC50',\n",
    "      'Chemgauss4 Score']])\n"
   ]
  },
  {
   "cell_type": "markdown",
   "metadata": {},
   "source": [
    "Merge with date dataframe"
   ]
  },
  {
   "cell_type": "code",
   "execution_count": 4,
   "metadata": {},
   "outputs": [],
   "source": [
    "dateFile = '/home/wjm41/ml_physics/frag-pcore-screen/data/20220122_moonshot_submissions_data_for_alpha.csv'\n",
    "df_date = pd.read_csv(dateFile)\n",
    "\n",
    "\n",
    "def remove_suffix(id):\n",
    "    id_separated = id.split('-')[:-1]\n",
    "    new_id = '-'.join(id_separated)\n",
    "    return new_id\n",
    "\n",
    "\n",
    "df_docking_grouped['submission_id'] = df_docking_grouped['canonical_CID'].apply(\n",
    "    remove_suffix)\n",
    "df_merged = df_docking_grouped.merge(df_date, on='submission_id')\n"
   ]
  },
  {
   "cell_type": "code",
   "execution_count": 5,
   "metadata": {},
   "outputs": [
    {
     "name": "stdout",
     "output_type": "stream",
     "text": [
      "      Chemgauss4 Score  f_avg_IC50        canonical_CID    hit  \\\n",
      "0             -5.71945         NaN  AAR-POS-0daf6b7e-23  False   \n",
      "1             -5.24347     99.5000   AAR-POS-5507155c-1  False   \n",
      "2             -9.23545         NaN   AAR-POS-8a4e0f60-1  False   \n",
      "3             -6.75070         NaN  AAR-POS-8a4e0f60-10  False   \n",
      "4             -9.57557         NaN   AAR-POS-8a4e0f60-2  False   \n",
      "...                ...         ...                  ...    ...   \n",
      "1580          -8.93996     19.0909   WIL-MOD-03b86a88-2  False   \n",
      "1581          -9.98616     15.9534   WIL-MOD-03b86a88-4  False   \n",
      "1582          -9.32327     21.7972   WIL-MOD-03b86a88-5  False   \n",
      "1583          -9.12435     11.2566   WIL-MOD-03b86a88-6  False   \n",
      "1584          -9.22982     99.5000   WIL-UNI-2e73223c-4  False   \n",
      "\n",
      "         submission_id  num_mols  \\\n",
      "0     AAR-POS-0daf6b7e        47   \n",
      "1     AAR-POS-5507155c         5   \n",
      "2     AAR-POS-8a4e0f60        12   \n",
      "3     AAR-POS-8a4e0f60        12   \n",
      "4     AAR-POS-8a4e0f60        12   \n",
      "...                ...       ...   \n",
      "1580  WIL-MOD-03b86a88         6   \n",
      "1581  WIL-MOD-03b86a88         6   \n",
      "1582  WIL-MOD-03b86a88         6   \n",
      "1583  WIL-MOD-03b86a88         6   \n",
      "1584  WIL-UNI-2e73223c         4   \n",
      "\n",
      "                                            contributor  year month_name  day  \\\n",
      "0                   Contributor: Aaron Morris, PostEra   2020        May    7   \n",
      "1                   Contributor: Aaron Morris, PostEra   2020        May    7   \n",
      "2                   Contributor: Aaron Morris, PostEra   2020        May    2   \n",
      "3                   Contributor: Aaron Morris, PostEra   2020        May    2   \n",
      "4                   Contributor: Aaron Morris, PostEra   2020        May    2   \n",
      "...                                                 ...   ...        ...  ...   \n",
      "1580     Contributor: Willem Jespers, MODSIM Pharma AB   2020        Jul    3   \n",
      "1581     Contributor: Willem Jespers, MODSIM Pharma AB   2020        Jul    3   \n",
      "1582     Contributor: Willem Jespers, MODSIM Pharma AB   2020        Jul    3   \n",
      "1583     Contributor: Willem Jespers, MODSIM Pharma AB   2020        Jul    3   \n",
      "1584  Contributor: William McCorkindale, University ...  2020        Jul   13   \n",
      "\n",
      "          time  month      date  \n",
      "0     03:47:10      5  20200507  \n",
      "1     04:00:59      5  20200507  \n",
      "2     22:02:06      5  20200502  \n",
      "3     22:02:06      5  20200502  \n",
      "4     22:02:06      5  20200502  \n",
      "...        ...    ...       ...  \n",
      "1580  07:15:20      7  20200703  \n",
      "1581  07:15:20      7  20200703  \n",
      "1582  07:15:20      7  20200703  \n",
      "1583  07:15:20      7  20200703  \n",
      "1584  02:17:32      7  20200713  \n",
      "\n",
      "[1585 rows x 13 columns]\n"
     ]
    }
   ],
   "source": [
    "print(df_merged)"
   ]
  },
  {
   "cell_type": "markdown",
   "metadata": {},
   "source": [
    "Lazy hack for a figure - just use scale docking score as proxy for \"predicted IC50\""
   ]
  },
  {
   "cell_type": "code",
   "execution_count": 14,
   "metadata": {},
   "outputs": [
    {
     "data": {
      "application/vnd.jupyter.widget-view+json": {
       "model_id": "f0bdc95aa5544b9296a121df25c3abf2",
       "version_major": 2,
       "version_minor": 0
      },
      "text/plain": [
       "interactive(children=(Dropdown(description='year', options=('2021', '2020'), value='2021'), Dropdown(descripti…"
      ]
     },
     "metadata": {},
     "output_type": "display_data"
    },
    {
     "data": {
      "text/plain": [
       "<function __main__.plot_regression_against_time(year, month, day, ic50_threshold)>"
      ]
     },
     "execution_count": 14,
     "metadata": {},
     "output_type": "execute_result"
    }
   ],
   "source": [
    "import plotly.express as px\n",
    "from ipywidgets import interact\n",
    "\n",
    "def plot_regression_against_time(year, month, day, ic50_threshold):\n",
    "    date_to_filter = int(f'{year}{month}{day}')\n",
    "    df_filtered_by_date = df_merged.query('date < @date_to_filter & f_avg_IC50 < @ic50_threshold').copy()\n",
    "    df_filtered_by_date['Chemgauss4 Score'] = (\n",
    "        df_filtered_by_date['Chemgauss4 Score']-df_filtered_by_date['Chemgauss4 Score'].mean())/df_filtered_by_date['Chemgauss4 Score'].std()\n",
    "    \n",
    "    df_filtered_by_date['Chemgauss4 Score'] = df_filtered_by_date['Chemgauss4 Score']*df_filtered_by_date['f_avg_IC50'].std() + df_filtered_by_date['f_avg_IC50'].mean()\n",
    "    fig_scatter = px.scatter(df_filtered_by_date, \n",
    "                             x='f_avg_IC50', \n",
    "                             y='Chemgauss4 Score',\n",
    "                             title=f'Predicted IC50 vs Actual IC50 (n = {len(df_filtered_by_date)})',\n",
    "                             labels={\n",
    "                                 \"f_avg_IC50\": \"Actual IC50 (uM)\",\n",
    "                                 \"Chemgauss4 Score\": \"Predicted IC50 (uM)\",\n",
    "                             },\n",
    "                             width=800)\n",
    "    fig_scatter.show()\n",
    "\n",
    "years_to_choose_from = ['2021', '2020']\n",
    "months_to_choose_from = [f'0{x}' for x in range(\n",
    "    1, 10)] + [f'{x}' for x in range(10, 13)]\n",
    "days_to_choose_from = [f'0{x}' for x in range(\n",
    "    1, 10)] + [f'{x}' for x in range(10, 31)]\n",
    "interact(plot_regression_against_time,\n",
    "         year=years_to_choose_from, month=months_to_choose_from, day=days_to_choose_from, ic50_threshold=(0.0, 100.0))\n"
   ]
  }
 ],
 "metadata": {
  "interpreter": {
   "hash": "7367a18b348ca6007dd30e14cd00de3b4d55612a2acbb3a217e58adb00f48737"
  },
  "kernelspec": {
   "display_name": "Python 3.7.10 64-bit ('fresco')",
   "language": "python",
   "name": "python3"
  },
  "language_info": {
   "codemirror_mode": {
    "name": "ipython",
    "version": 3
   },
   "file_extension": ".py",
   "mimetype": "text/x-python",
   "name": "python",
   "nbconvert_exporter": "python",
   "pygments_lexer": "ipython3",
   "version": "3.7.10"
  },
  "orig_nbformat": 4
 },
 "nbformat": 4,
 "nbformat_minor": 2
}
