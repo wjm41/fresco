{
 "cells": [
  {
   "cell_type": "markdown",
   "metadata": {},
   "source": [
    "# Demo\n",
    "\n",
    "This notebook is a demonstration of how to use FRESCO to score molecules. It is recommended to run this notebook in a conda environment created from the `environment.yml` file in the root directory of the repo.\n",
    "\n",
    "The runtime for this demo should only be a few minutes at max. The expected outputs of the cells are shown below."
   ]
  },
  {
   "cell_type": "markdown",
   "metadata": {},
   "source": [
    "# Fit a model on a fragment screen"
   ]
  },
  {
   "cell_type": "markdown",
   "metadata": {},
   "source": [
    "## Loading fragment conformations\n",
    "\n",
    "First of all, let's get the (aligned) conformations of fragments bound to the protein. These will likely be in separate files in your use case, and for convenience let's skip that data processing and just load a pre-prepared `.sdf` file with the conformations of 23 fragments bound to SARS-CoV-2 Mpro."
   ]
  },
  {
   "cell_type": "code",
   "execution_count": 1,
   "metadata": {},
   "outputs": [
    {
     "name": "stderr",
     "output_type": "stream",
     "text": [
      "INFO:rdkit:Enabling RDKit 2022.03.2 jupyter extensions\n"
     ]
    }
   ],
   "source": [
    "import pandas as pd\n",
    "from rdkit import Chem\n",
    "from rdkit.Chem import PandasTools\n",
    "\n",
    "sdfFile = 'data/Mpro/mpro_frags.sdf'\n",
    "df_fragments = PandasTools.LoadSDF(sdfFile, idName='name', smilesName='SMILES', molColName='mol')"
   ]
  },
  {
   "cell_type": "markdown",
   "metadata": {},
   "source": [
    "## Featurisation into pharmacophores\n",
    "\n",
    "Next, we need to featurise the fragments into pharmacophores. This is done by calling a function from the `fresco` package.\n",
    "\n",
    "This returns a dataframe containing the coordinate of each pharmacophore, the type of the pharmacophore, as well as thhe SMILES of the molecule that it comes from. The `weight` column accounts for any duplication of fragments in the fragment screen (not the case for Mpro but maybe happen in other cases)."
   ]
  },
  {
   "cell_type": "code",
   "execution_count": 2,
   "metadata": {},
   "outputs": [
    {
     "name": "stderr",
     "output_type": "stream",
     "text": [
      "100%|██████████| 23/23 [00:00<00:00, 97.78it/s] \n"
     ]
    },
    {
     "data": {
      "text/html": [
       "<div>\n",
       "<style scoped>\n",
       "    .dataframe tbody tr th:only-of-type {\n",
       "        vertical-align: middle;\n",
       "    }\n",
       "\n",
       "    .dataframe tbody tr th {\n",
       "        vertical-align: top;\n",
       "    }\n",
       "\n",
       "    .dataframe thead th {\n",
       "        text-align: right;\n",
       "    }\n",
       "</style>\n",
       "<table border=\"1\" class=\"dataframe\">\n",
       "  <thead>\n",
       "    <tr style=\"text-align: right;\">\n",
       "      <th></th>\n",
       "      <th>pcore</th>\n",
       "      <th>smiles</th>\n",
       "      <th>mol_id</th>\n",
       "      <th>coord_x</th>\n",
       "      <th>coord_y</th>\n",
       "      <th>coord_z</th>\n",
       "      <th>weight</th>\n",
       "    </tr>\n",
       "  </thead>\n",
       "  <tbody>\n",
       "    <tr>\n",
       "      <th>0</th>\n",
       "      <td>Donor</td>\n",
       "      <td>COC(=O)c1ccc(S(N)(=O)=O)cc1</td>\n",
       "      <td>0</td>\n",
       "      <td>8.861200</td>\n",
       "      <td>5.12490</td>\n",
       "      <td>22.898400</td>\n",
       "      <td>1.0</td>\n",
       "    </tr>\n",
       "    <tr>\n",
       "      <th>0</th>\n",
       "      <td>Acceptor</td>\n",
       "      <td>COC(=O)c1ccc(S(N)(=O)=O)cc1</td>\n",
       "      <td>0</td>\n",
       "      <td>13.086300</td>\n",
       "      <td>-1.09560</td>\n",
       "      <td>24.527300</td>\n",
       "      <td>1.0</td>\n",
       "    </tr>\n",
       "    <tr>\n",
       "      <th>0</th>\n",
       "      <td>Acceptor</td>\n",
       "      <td>COC(=O)c1ccc(S(N)(=O)=O)cc1</td>\n",
       "      <td>0</td>\n",
       "      <td>13.990500</td>\n",
       "      <td>-0.35400</td>\n",
       "      <td>22.549900</td>\n",
       "      <td>1.0</td>\n",
       "    </tr>\n",
       "    <tr>\n",
       "      <th>0</th>\n",
       "      <td>Acceptor</td>\n",
       "      <td>COC(=O)c1ccc(S(N)(=O)=O)cc1</td>\n",
       "      <td>0</td>\n",
       "      <td>11.183500</td>\n",
       "      <td>6.27380</td>\n",
       "      <td>23.371900</td>\n",
       "      <td>1.0</td>\n",
       "    </tr>\n",
       "    <tr>\n",
       "      <th>0</th>\n",
       "      <td>Acceptor</td>\n",
       "      <td>COC(=O)c1ccc(S(N)(=O)=O)cc1</td>\n",
       "      <td>0</td>\n",
       "      <td>9.952600</td>\n",
       "      <td>5.45860</td>\n",
       "      <td>25.286300</td>\n",
       "      <td>1.0</td>\n",
       "    </tr>\n",
       "    <tr>\n",
       "      <th>...</th>\n",
       "      <td>...</td>\n",
       "      <td>...</td>\n",
       "      <td>...</td>\n",
       "      <td>...</td>\n",
       "      <td>...</td>\n",
       "      <td>...</td>\n",
       "      <td>...</td>\n",
       "    </tr>\n",
       "    <tr>\n",
       "      <th>0</th>\n",
       "      <td>Aromatic</td>\n",
       "      <td>CS(=O)(=O)NCCc1ccccc1</td>\n",
       "      <td>21</td>\n",
       "      <td>11.896383</td>\n",
       "      <td>-0.63445</td>\n",
       "      <td>23.420217</td>\n",
       "      <td>1.0</td>\n",
       "    </tr>\n",
       "    <tr>\n",
       "      <th>0</th>\n",
       "      <td>Donor</td>\n",
       "      <td>OC1CCN(Cc2ccsc2)CC1</td>\n",
       "      <td>22</td>\n",
       "      <td>9.278900</td>\n",
       "      <td>-4.20340</td>\n",
       "      <td>27.829500</td>\n",
       "      <td>1.0</td>\n",
       "    </tr>\n",
       "    <tr>\n",
       "      <th>0</th>\n",
       "      <td>Donor</td>\n",
       "      <td>OC1CCN(Cc2ccsc2)CC1</td>\n",
       "      <td>22</td>\n",
       "      <td>9.553400</td>\n",
       "      <td>-2.76170</td>\n",
       "      <td>24.573900</td>\n",
       "      <td>1.0</td>\n",
       "    </tr>\n",
       "    <tr>\n",
       "      <th>0</th>\n",
       "      <td>Acceptor</td>\n",
       "      <td>OC1CCN(Cc2ccsc2)CC1</td>\n",
       "      <td>22</td>\n",
       "      <td>9.278900</td>\n",
       "      <td>-4.20340</td>\n",
       "      <td>27.829500</td>\n",
       "      <td>1.0</td>\n",
       "    </tr>\n",
       "    <tr>\n",
       "      <th>0</th>\n",
       "      <td>Aromatic</td>\n",
       "      <td>OC1CCN(Cc2ccsc2)CC1</td>\n",
       "      <td>22</td>\n",
       "      <td>12.220680</td>\n",
       "      <td>-0.80100</td>\n",
       "      <td>23.202880</td>\n",
       "      <td>1.0</td>\n",
       "    </tr>\n",
       "  </tbody>\n",
       "</table>\n",
       "<p>107 rows × 7 columns</p>\n",
       "</div>"
      ],
      "text/plain": [
       "       pcore                       smiles  mol_id    coord_x  coord_y  \\\n",
       "0      Donor  COC(=O)c1ccc(S(N)(=O)=O)cc1       0   8.861200  5.12490   \n",
       "0   Acceptor  COC(=O)c1ccc(S(N)(=O)=O)cc1       0  13.086300 -1.09560   \n",
       "0   Acceptor  COC(=O)c1ccc(S(N)(=O)=O)cc1       0  13.990500 -0.35400   \n",
       "0   Acceptor  COC(=O)c1ccc(S(N)(=O)=O)cc1       0  11.183500  6.27380   \n",
       "0   Acceptor  COC(=O)c1ccc(S(N)(=O)=O)cc1       0   9.952600  5.45860   \n",
       "..       ...                          ...     ...        ...      ...   \n",
       "0   Aromatic        CS(=O)(=O)NCCc1ccccc1      21  11.896383 -0.63445   \n",
       "0      Donor          OC1CCN(Cc2ccsc2)CC1      22   9.278900 -4.20340   \n",
       "0      Donor          OC1CCN(Cc2ccsc2)CC1      22   9.553400 -2.76170   \n",
       "0   Acceptor          OC1CCN(Cc2ccsc2)CC1      22   9.278900 -4.20340   \n",
       "0   Aromatic          OC1CCN(Cc2ccsc2)CC1      22  12.220680 -0.80100   \n",
       "\n",
       "      coord_z  weight  \n",
       "0   22.898400     1.0  \n",
       "0   24.527300     1.0  \n",
       "0   22.549900     1.0  \n",
       "0   23.371900     1.0  \n",
       "0   25.286300     1.0  \n",
       "..        ...     ...  \n",
       "0   23.420217     1.0  \n",
       "0   27.829500     1.0  \n",
       "0   24.573900     1.0  \n",
       "0   27.829500     1.0  \n",
       "0   23.202880     1.0  \n",
       "\n",
       "[107 rows x 7 columns]"
      ]
     },
     "execution_count": 2,
     "metadata": {},
     "output_type": "execute_result"
    }
   ],
   "source": [
    "from fresco.featurise import return_pcore_dataframe_for_list_of_mols\n",
    "\n",
    "pcore_df = return_pcore_dataframe_for_list_of_mols(df_fragments['mol'].values)\n",
    "pcore_df"
   ]
  },
  {
   "cell_type": "markdown",
   "metadata": {},
   "source": [
    "## Calculate pharmacophore distance histograms\n",
    "\n",
    "Next, we need to calculate the histogram of distances between pairs of pharmacophores. This is done by looping over a list of pharmacophore pairs and calling a function from the `fresco` package. We store the results in a dictionary.\n",
    "\n",
    "We also have a dictionary of weights which again are to account for any duplication of fragments."
   ]
  },
  {
   "cell_type": "code",
   "execution_count": 54,
   "metadata": {},
   "outputs": [],
   "source": [
    "from fresco.featurise import return_default_pharmacophore_pairs, calculate_pairwise_distances_between_pharmacophores_for_fragment_ensemble\n",
    "\n",
    "interesting_pcores = return_default_pharmacophore_pairs()\n",
    "frag_pcore_histogram = {}\n",
    "frag_pcore_weight = {}\n",
    "for pcore_pair in interesting_pcores:\n",
    "    core_a,core_b = pcore_pair.split('-')\n",
    "    frag_pcore_histogram[pcore_pair], frag_pcore_weight[pcore_pair] = calculate_pairwise_distances_between_pharmacophores_for_fragment_ensemble(pcore_df, core_a, core_b)"
   ]
  },
  {
   "cell_type": "markdown",
   "metadata": {},
   "source": [
    "## Fit FRESCO model\n",
    "\n",
    "Now, lets use unsupervised learning to model the distribution of pairwise pharmacophore distances. This returns a dictionary where each pharmacophore pair has a corresponding function that can be used to calculate the probability of a given distance between the two pharmacophores."
   ]
  },
  {
   "cell_type": "code",
   "execution_count": 64,
   "metadata": {},
   "outputs": [],
   "source": [
    "from fresco.model import fit_fresco_on_pcore_histograms,save_kde_model\n",
    "\n",
    "frag_pcore_weight = {k: None for k, v in frag_pcore_histogram.items()}\n",
    "kde = fit_fresco_on_pcore_histograms(\n",
    "    frag_pcore_histogram, interesting_pcores, frag_pcore_weight)\n"
   ]
  },
  {
   "cell_type": "markdown",
   "metadata": {},
   "source": [
    "# Use FRESCO to score a molecule\n",
    "\n",
    "Now that we have a fitted FRESCO model, we can use it to score an unseen molecule!"
   ]
  },
  {
   "cell_type": "markdown",
   "metadata": {},
   "source": [
    "## Get molecule conformation\n",
    "\n",
    "First, we need the conformation of a molecule. Let's pick a random molecule and get a cheap conformation from RDKit."
   ]
  },
  {
   "cell_type": "code",
   "execution_count": 29,
   "metadata": {},
   "outputs": [
    {
     "data": {
      "text/plain": [
       "0"
      ]
     },
     "execution_count": 29,
     "metadata": {},
     "output_type": "execute_result"
    }
   ],
   "source": [
    "from fresco.featurise import return_pcore_dataframe_from_single_rdkit_molecule\n",
    "from rdkit.Chem import AllChem\n",
    "\n",
    "smiles = 'Cc1ccccc1CNc1ccccc1NC(=O)[C@@H](O)c1cccnc1'\n",
    "mol = Chem.MolFromSmiles(smiles)\n",
    "mol = Chem.AddHs(mol)\n",
    "AllChem.EmbedMolecule(mol)"
   ]
  },
  {
   "cell_type": "markdown",
   "metadata": {},
   "source": [
    "## Generate pharmacophore 2-body distribution\n",
    "\n",
    "As with the fragment screen, we need to generate the 2-body distribution (distance histogram) of pharmacophores."
   ]
  },
  {
   "cell_type": "code",
   "execution_count": 30,
   "metadata": {},
   "outputs": [],
   "source": [
    "from fresco.featurise import return_default_pharmacophore_pairs, calculate_pairwise_distances_between_pharmacophores_for_a_single_ligand\n",
    "\n",
    "mol_pcore_df = return_pcore_dataframe_from_single_rdkit_molecule(mol)\n",
    "\n",
    "pcore_pairs = return_default_pharmacophore_pairs()\n",
    "\n",
    "pair_distribution_for_this_ligand = {}\n",
    "    \n",
    "for pcore_pair in pcore_pairs:\n",
    "    core_a,core_b = pcore_pair.split('-')\n",
    "    pair_distribution_for_this_ligand[pcore_pair] = calculate_pairwise_distances_between_pharmacophores_for_a_single_ligand(\n",
    "        mol_pcore_df, core_a, core_b)"
   ]
  },
  {
   "cell_type": "markdown",
   "metadata": {},
   "source": [
    "## Score molecule\n",
    "\n",
    "Now let's score the molecule with the FRESCO model. This is done by looping over the pharmacophore pairs and calculating the probability of the distance between the two pharmacophores. We then take the mean of the log probabilities to get the score."
   ]
  },
  {
   "cell_type": "markdown",
   "metadata": {},
   "source": [
    "Score the molecule with the KDE!"
   ]
  },
  {
   "cell_type": "code",
   "execution_count": 31,
   "metadata": {},
   "outputs": [
    {
     "data": {
      "text/plain": [
       "-1.9919824388570284"
      ]
     },
     "execution_count": 31,
     "metadata": {},
     "output_type": "execute_result"
    }
   ],
   "source": [
    "from fresco.model import score_mol\n",
    "\n",
    "score_for_this_mol = score_mol(kde, pair_distribution_for_this_ligand, pcore_pairs)\n",
    "score_for_this_mol"
   ]
  },
  {
   "cell_type": "markdown",
   "metadata": {},
   "source": [
    "That's the gist of it - there are more functions in `fresco` related to filtering molecules by substructure and other things which are not covered here. Those functions are used in the screening workflow for screening EnamineREAL as described in the paper which are more directly tied to the hardware and data layout used internally and are hence not described here."
   ]
  }
 ],
 "metadata": {
  "kernelspec": {
   "display_name": "Python 3.7.13 ('csd_env')",
   "language": "python",
   "name": "python3"
  },
  "language_info": {
   "codemirror_mode": {
    "name": "ipython",
    "version": 3
   },
   "file_extension": ".py",
   "mimetype": "text/x-python",
   "name": "python",
   "nbconvert_exporter": "python",
   "pygments_lexer": "ipython3",
   "version": "3.7.13"
  },
  "vscode": {
   "interpreter": {
    "hash": "fade0864c9a24203de3ed0faf9c71c898f3ed861f9409156898a7d5373bdd391"
   }
  }
 },
 "nbformat": 4,
 "nbformat_minor": 4
}
