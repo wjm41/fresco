{
 "cells": [
  {
   "cell_type": "markdown",
   "metadata": {},
   "source": [
    "# Demo\n",
    "\n",
    "This notebook is a demonstration of how to use FRESCO to score molecules. It is recommended to run this notebook in a conda environment created from the `environment.yml` file in the root directory of the repo."
   ]
  },
  {
   "cell_type": "markdown",
   "metadata": {},
   "source": [
    "# Load fragment complexes"
   ]
  },
  {
   "cell_type": "code",
   "execution_count": 1,
   "metadata": {},
   "outputs": [
    {
     "name": "stderr",
     "output_type": "stream",
     "text": [
      "INFO:rdkit:Enabling RDKit 2022.03.1 jupyter extensions\n"
     ]
    }
   ],
   "source": [
    "import pickle\n",
    "from rdkit import Chem\n",
    "from rdkit.Chem import SaltRemover\n",
    "from os import listdir\n",
    "\n",
    "mpro_dir = '/home/wjm41/ml_physics/frag-pcore-screen/data/Mpro'\n",
    "\n",
    "frags = pickle.load(open(mpro_dir + '/frags_mpro.pickle', 'rb'))\n",
    "frag_mols = []\n",
    "for mol in frags:\n",
    "    m = Chem.RemoveHs(mol[0])\n",
    "    frag_mols.append(m)\n",
    "\n",
    "filenames = [ f for f in listdir('data/Mpro/frags/') if f[-5:]=='0.pdb']\n",
    "df = pd.read_csv('data/Mpro/frags/hits_summary.csv')\n",
    "remover = SaltRemover.SaltRemover()\n",
    "df['smiles'] = [Chem.MolToSmiles(remover.StripMol(Chem.RemoveHs(Chem.MolFromSmiles(smi)))) for smi in df['Compound SMILES']]\n",
    "\n",
    "w = Chem.SDWriter(\"mpro_frags.sdf\")\n",
    "for m in frag_mols:\n",
    "    mpro_id = df.query('smiles == @Chem.MolToSmiles(@m)')['Dataset'].values\n",
    "    m.SetProp(\"name\", mpro_id[0]) # this is a specific value which is different per conformer\n",
    "    w.write(m)\n",
    "w.close()\n"
   ]
  },
  {
   "cell_type": "code",
   "execution_count": 2,
   "metadata": {},
   "outputs": [],
   "source": [
    "import pandas as pd\n",
    "from rdkit.Chem import PandasTools\n",
    "\n",
    "sdfFile = 'mpro_frags.sdf'\n",
    "df_fragments = PandasTools.LoadSDF(sdfFile, idName='name', smilesName='SMILES', molColName='mol')\n",
    "\n",
    "#TODO - dump Mpro and Mac1 crystal info into data folders"
   ]
  },
  {
   "cell_type": "markdown",
   "metadata": {},
   "source": [
    "# Featurise into pharmacophores"
   ]
  },
  {
   "cell_type": "code",
   "execution_count": 3,
   "metadata": {},
   "outputs": [
    {
     "name": "stderr",
     "output_type": "stream",
     "text": [
      "100%|██████████| 23/23 [00:00<00:00, 180.81it/s]\n"
     ]
    }
   ],
   "source": [
    "from fresco.featurise import return_pcore_dataframe_for_list_of_mols, calculate_frequency_weights_for_duplicate_fragments\n",
    "\n",
    "pcore_df = return_pcore_dataframe_for_list_of_mols(df_fragments['mol'].values)"
   ]
  },
  {
   "cell_type": "markdown",
   "metadata": {},
   "source": [
    "Calculate pharmacophore distance histogram and weight histograms"
   ]
  },
  {
   "cell_type": "code",
   "execution_count": 4,
   "metadata": {},
   "outputs": [],
   "source": [
    "from fresco.featurise import return_default_pharmacophore_pairs, calculate_pairwise_distances_between_pharmacophores_for_fragment_ensemble\n",
    "\n",
    "interesting_pcores = return_default_pharmacophore_pairs()\n",
    "frag_pcore_histogram = {}\n",
    "frag_pcore_weight = {}\n",
    "for pcore_pair in interesting_pcores:\n",
    "    core_a,core_b = pcore_pair.split('-')\n",
    "    frag_pcore_histogram[pcore_pair], frag_pcore_weight[pcore_pair] = calculate_pairwise_distances_between_pharmacophores_for_fragment_ensemble(pcore_df, core_a, core_b)"
   ]
  },
  {
   "cell_type": "markdown",
   "metadata": {},
   "source": [
    "# Fit FRESCO model"
   ]
  },
  {
   "cell_type": "code",
   "execution_count": 7,
   "metadata": {},
   "outputs": [],
   "source": [
    "from fresco.model import fit_fresco_on_pcore_histograms\n",
    "\n",
    "kde = fit_fresco_on_pcore_histograms(\n",
    "    frag_pcore_histogram, interesting_pcores, frag_pcore_weight)\n"
   ]
  },
  {
   "cell_type": "markdown",
   "metadata": {},
   "source": [
    "# Use FRESCO to score a molecule"
   ]
  },
  {
   "cell_type": "code",
   "execution_count": 17,
   "metadata": {},
   "outputs": [],
   "source": [
    "from fresco.featurise import return_pcore_dataframe_from_single_rdkit_molecule\n",
    "from rdkit.Chem import AllChem\n",
    "\n",
    "smiles = 'Cc1ccccc1CNc1ccccc1NC(=O)[C@@H](O)c1cccnc1'\n",
    "mol = Chem.MolFromSmiles(smiles)\n",
    "mol = Chem.AddHs(mol)\n",
    "AllChem.EmbedMolecule(mol)\n",
    "\n",
    "mol_pcore_df = return_pcore_dataframe_from_single_rdkit_molecule(mol)\n",
    "#"
   ]
  },
  {
   "cell_type": "markdown",
   "metadata": {},
   "source": [
    "Generate pharmacophore 2-body distribution"
   ]
  },
  {
   "cell_type": "code",
   "execution_count": 18,
   "metadata": {},
   "outputs": [],
   "source": [
    "from fresco.featurise import return_default_pharmacophore_pairs, calculate_pairwise_distances_between_pharmacophores_for_a_single_ligand\n",
    "\n",
    "pcore_pairs = return_default_pharmacophore_pairs()\n",
    "\n",
    "pair_distribution_for_this_ligand = {}\n",
    "    \n",
    "for pcore_pair in pcore_pairs:\n",
    "    core_a,core_b = pcore_pair.split('-')\n",
    "    pair_distribution_for_this_ligand[pcore_pair] = calculate_pairwise_distances_between_pharmacophores_for_a_single_ligand(\n",
    "        mol_pcore_df, core_a, core_b)"
   ]
  },
  {
   "cell_type": "markdown",
   "metadata": {},
   "source": [
    "Load FRESCO model"
   ]
  },
  {
   "cell_type": "code",
   "execution_count": 19,
   "metadata": {},
   "outputs": [],
   "source": [
    "import dill as pickle\n",
    "from fresco.model import load_kde_model\n",
    "\n",
    "pickle_dir = '/home/wjm41/ml_physics/frag-pcore-screen/data/EnamineREAL/pickles/'\n",
    "xray_kde_mpro = 'kde_dict_spl_mpro.pickle'\n",
    "xray_kde_dict = pickle.load(open(pickle_dir+xray_kde_mpro, 'rb'))\n"
   ]
  },
  {
   "cell_type": "markdown",
   "metadata": {},
   "source": [
    "Score the molecule with the KDE!"
   ]
  },
  {
   "cell_type": "code",
   "execution_count": 20,
   "metadata": {},
   "outputs": [
    {
     "name": "stdout",
     "output_type": "stream",
     "text": [
      "-1.9061861647263292\n"
     ]
    }
   ],
   "source": [
    "import numpy as np\n",
    "import pandas as pd\n",
    "from fresco.model import score_dist\n",
    "\n",
    "\n",
    "score_df_for_this_molecule = pd.DataFrame(columns=pcore_pairs)\n",
    "\n",
    "for pcore_combination in pcore_pairs:\n",
    "    kde_for_this_combination = kde[pcore_combination]\n",
    "    pcore_dist = pair_distribution_for_this_ligand[pcore_combination].reshape(\n",
    "        -1, 1)\n",
    "    pcore_score = score_dist(kde_for_this_combination, pcore_dist)\n",
    "    score_df_for_this_molecule.at[0, pcore_combination] = pcore_score\n",
    "\n",
    "scores = score_df_for_this_molecule[pcore_pairs].to_numpy().astype(\n",
    "    float)\n",
    "processed_score_for_this_molecule = np.nanmean(scores)\n",
    "print(processed_score_for_this_molecule)\n",
    "            \n",
    "# def score_with_kde(kde_model, col_name):\n",
    "    \n",
    "#     df_docking[col_name] = -100.0\n",
    "#     for i, pair_dist in enumerate(pair_distribution_for_this_ligand):\n",
    "#         score_df_for_this_molecule = pd.DataFrame(columns=pcore_pairs)\n",
    "\n",
    "#         for pcore_combination in pcore_pairs:\n",
    "#                     kde_for_this_combination = kde[pcore_combination]\n",
    "#                     pcore_dist = pair_dist[pcore_combination].reshape(\n",
    "#                         -1, 1)\n",
    "#                     pcore_score = score_dist(kde_for_this_combination, pcore_dist)\n",
    "#                     score_df_for_this_molecule.at[0, pcore_combination] = pcore_score\n",
    "\n",
    "#                 scores = score_df_for_this_molecule[pcore_pairs].to_numpy().astype(\n",
    "#                     float)\n",
    "#                 processed_score_for_this_molecule = np.nanmean(scores)\n",
    "\n",
    "#         df_docking.at[i, col_name] = processed_score_for_this_molecule\n",
    "        \n",
    "# score_with_kde(xray_kde_dict, 'xray_fresco_score')\n",
    "\n",
    "# df_docking\n"
   ]
  }
 ],
 "metadata": {
  "kernelspec": {
   "display_name": "fresco",
   "language": "python",
   "name": "fresco"
  },
  "language_info": {
   "codemirror_mode": {
    "name": "ipython",
    "version": 3
   },
   "file_extension": ".py",
   "mimetype": "text/x-python",
   "name": "python",
   "nbconvert_exporter": "python",
   "pygments_lexer": "ipython3",
   "version": "3.7.10"
  },
  "vscode": {
   "interpreter": {
    "hash": "fade0864c9a24203de3ed0faf9c71c898f3ed861f9409156898a7d5373bdd391"
   }
  }
 },
 "nbformat": 4,
 "nbformat_minor": 4
}
