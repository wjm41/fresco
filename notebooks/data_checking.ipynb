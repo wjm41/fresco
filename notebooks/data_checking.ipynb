{
 "cells": [
  {
   "cell_type": "code",
   "execution_count": 1,
   "metadata": {},
   "outputs": [],
   "source": [
    "dir = '/rds-d2/user/wjm41/hpc-work/datasets/ZINC/real/'\n",
    "\n",
    "file = open(dir+'all_tranches.txt', 'r')\n",
    "data = file.read().splitlines()\n",
    "\n",
    "dir2 = '/rds-d7/project/rds-ZNFRY9wKoeE/EnamineREAL/'\n",
    "\n",
    "def convert_bytes(num):\n",
    "    \"\"\"\n",
    "    this function will convert bytes to MB.... GB... etc\n",
    "    \"\"\"\n",
    "    for x in ['bytes', 'KB', 'MB', 'GB', 'TB']:\n",
    "        if num < 1024.0:\n",
    "            return \"%3.1f %s\" % (num, x)\n",
    "        num /= 1024.0\n",
    "\n",
    "def file_size(file_path):\n",
    "    \"\"\"\n",
    "    this function will return the file size\n",
    "    \"\"\"\n",
    "    if os.path.isfile(file_path):\n",
    "        file_info = os.stat(file_path)\n",
    "        return convert_bytes(file_info.st_size)\n",
    "        "
   ]
  },
  {
   "cell_type": "code",
   "execution_count": 2,
   "metadata": {
    "scrolled": true
   },
   "outputs": [
    {
     "name": "stdout",
     "output_type": "stream",
     "text": [
      "46570\n",
      "46570\n",
      "100.00% Downloaded!\n"
     ]
    }
   ],
   "source": [
    "import os\n",
    "from tqdm import tqdm\n",
    "\n",
    "existing_dirs = [x for x in os.listdir(dir) if os.path.isdir(dir+x)]\n",
    "dirs1 = existing_dirs\n",
    "dirs2 = [x for x in os.listdir(dir2) if os.path.isdir(dir2+x)]\n",
    "existing_dirs = existing_dirs + dirs2\n",
    "\n",
    "\n",
    "file = open(dir+'all_tranches.txt', 'r')\n",
    "data = file.read().splitlines()\n",
    "\n",
    "folders = [line.split('/')[-1].split('.')[0] for line in data]\n",
    "\n",
    "print(len(list(set(existing_dirs))))\n",
    "print(len(data))\n",
    "print('{:.2f}% Downloaded!'.format(100*(len(list(set(existing_dirs)))/len(folders))))"
   ]
  },
  {
   "cell_type": "code",
   "execution_count": 6,
   "metadata": {},
   "outputs": [],
   "source": [
    "f = open(dir+'dirs1.txt', 'w')\n",
    "for fold in dirs1:\n",
    "    f.write(fold+'\\n')\n",
    "f.close()\n",
    "f = open(dir2+'dirs2.txt', 'w')\n",
    "for fold in dirs2:\n",
    "    f.write(fold+'\\n')\n",
    "f.close()"
   ]
  },
  {
   "cell_type": "code",
   "execution_count": 3,
   "metadata": {},
   "outputs": [
    {
     "name": "stdout",
     "output_type": "stream",
     "text": [
      "[]\n"
     ]
    }
   ],
   "source": [
    "intersect = list(set(dirs1) & set(dirs2))\n",
    "print(intersect)\n",
    "f = open(dir+'dup_dirs.txt', 'w')\n",
    "for fold in intersect:\n",
    "    f.write(fold+'\\n')\n",
    "f.close()"
   ]
  },
  {
   "cell_type": "code",
   "execution_count": 4,
   "metadata": {},
   "outputs": [
    {
     "name": "stderr",
     "output_type": "stream",
     "text": [
      "\r",
      "  0%|          | 0/46570 [00:00<?, ?it/s]"
     ]
    },
    {
     "name": "stdout",
     "output_type": "stream",
     "text": [
      "46570\n",
      "46570\n"
     ]
    },
    {
     "name": "stderr",
     "output_type": "stream",
     "text": [
      "100%|██████████| 46570/46570 [02:07<00:00, 365.00it/s]\n"
     ]
    },
    {
     "name": "stdout",
     "output_type": "stream",
     "text": [
      "0\n",
      "0\n",
      "0\n",
      "100.00% Done!\n"
     ]
    }
   ],
   "source": [
    "print(len(list(set(existing_dirs))))\n",
    "print(len(data))\n",
    "missing_dirs = []\n",
    "missing_dirs2 = []\n",
    "missing_dirs3 = []\n",
    "for i,folder in tqdm(enumerate(folders), total = len(folders)):\n",
    "    if not folder in existing_dirs:\n",
    "        missing_dirs.append(i)\n",
    "    if folder in existing_dirs:\n",
    "        try:\n",
    "            if os.path.isdir(dir+folder) and not os.path.isdir(dir2+folder): # in zinc but not in real\n",
    "                for fname in os.listdir(dir+folder):\n",
    "                    if fname.endswith('.gz'):\n",
    "                        missing_dirs2.append(i)\n",
    "                        break\n",
    "        except:\n",
    "            pass\n",
    "        try:\n",
    "            for fname in os.listdir(dir2+folder):\n",
    "                if fname.endswith('.gz'):\n",
    "                    missing_dirs3.append(i)\n",
    "                    break\n",
    "        except:\n",
    "            pass\n",
    "        \n",
    "print(len(missing_dirs))\n",
    "print(len(missing_dirs2))\n",
    "print(len(missing_dirs3))\n",
    "missing_dirs = missing_dirs + missing_dirs2 + missing_dirs3\n",
    "print('{:.2f}% Done!'.format(100*(1-len(missing_dirs)/len(folders))))\n",
    "f = open(dir2+'missing_dirs.txt', 'w')\n",
    "for index in missing_dirs:\n",
    "    f.write(data[index]+'\\n')\n",
    "f.close()"
   ]
  },
  {
   "cell_type": "markdown",
   "metadata": {},
   "source": [
    "# DIR1 = /rds-d2/"
   ]
  },
  {
   "cell_type": "code",
   "execution_count": 3,
   "metadata": {},
   "outputs": [
    {
     "name": "stderr",
     "output_type": "stream",
     "text": [
      "100%|██████████| 46570/46570 [00:05<00:00, 8761.17it/s] \n",
      "  2%|▏         | 773/46570 [00:00<00:05, 7729.88it/s]"
     ]
    },
    {
     "name": "stdout",
     "output_type": "stream",
     "text": [
      "\n",
      "Big sdf Prop: 0.00%\n",
      "Big sdf Size: 5.4 GB\n",
      "\n",
      "Med sdf Prop: 0.00%\n",
      "Med sdf Size: 0.0 bytes\n",
      "\n",
      "Small sdf Prop: 0.24%\n",
      "Small sdf Size: 140.2 MB\n",
      "1\n",
      "0\n",
      "113\n"
     ]
    },
    {
     "name": "stderr",
     "output_type": "stream",
     "text": [
      "100%|██████████| 46570/46570 [00:06<00:00, 7370.36it/s] \n",
      "100%|██████████| 46570/46570 [00:00<00:00, 148106.81it/s]"
     ]
    },
    {
     "name": "stdout",
     "output_type": "stream",
     "text": [
      "\n",
      "Big pickle Prop: 0.01%\n",
      "Big pickle Size: 2.3 GB\n",
      "\n",
      "Med pickle Prop: 0.08%\n",
      "Med pickle Size: 6.6 GB\n",
      "\n",
      "Small pickle Prop: 1.05%\n",
      "Small pickle Size: 6.8 GB\n",
      "4\n",
      "36\n",
      "488\n"
     ]
    },
    {
     "name": "stderr",
     "output_type": "stream",
     "text": [
      "\n"
     ]
    }
   ],
   "source": [
    "big_dirs = 0\n",
    "big_size = 0\n",
    "big_folds = []\n",
    "\n",
    "med_dirs = 0\n",
    "med_size = 0\n",
    "med_folds = []\n",
    "\n",
    "small_dirs = 0\n",
    "small_size = 0\n",
    "small_folds = []\n",
    "\n",
    "hundred = 104857600\n",
    "\n",
    "for folder in tqdm(folders):\n",
    "    if os.path.isfile(dir+folder+'/mols.sdf') and not os.path.isfile(dir+folder+'/mols_mpi_0.pickle'):\n",
    "        if os.stat(dir+folder+'/mols.sdf').st_size > 4*hundred:\n",
    "            big_dirs+=1\n",
    "            big_size+=os.stat(dir+folder+'/mols.sdf').st_size\n",
    "            big_folds.append(folder)\n",
    "        elif os.stat(dir+folder+'/mols.sdf').st_size > hundred:\n",
    "            med_dirs+=1\n",
    "            med_size+=os.stat(dir+folder+'/mols.sdf').st_size\n",
    "            med_folds.append(folder)\n",
    "        elif os.stat(dir+folder+'/mols.sdf').st_size!=0:\n",
    "            small_dirs+=1\n",
    "            small_size+=os.stat(dir+folder+'/mols.sdf').st_size\n",
    "            small_folds.append(folder)\n",
    "            \n",
    "print('\\nBig sdf Prop: {:.2f}%'.format(100*big_dirs/len(folders)))\n",
    "print('Big sdf Size: {}'.format(convert_bytes(big_size)))\n",
    "print('\\nMed sdf Prop: {:.2f}%'.format(100*med_dirs/len(folders)))\n",
    "print('Med sdf Size: {}'.format(convert_bytes(med_size)))\n",
    "print('\\nSmall sdf Prop: {:.2f}%'.format(100*small_dirs/len(folders)))\n",
    "print('Small sdf Size: {}'.format(convert_bytes(small_size)))\n",
    "\n",
    "print(len(big_folds))\n",
    "f = open(dir+'bigs.txt', 'w')\n",
    "for line in big_folds:\n",
    "    f.write(line+'\\n')\n",
    "print(len(med_folds))\n",
    "f = open(dir+'meds.txt', 'w')\n",
    "for line in med_folds:\n",
    "    f.write(line+'\\n')\n",
    "print(len(small_folds))\n",
    "f = open(dir+'smalls.txt', 'w')\n",
    "for line in small_folds:\n",
    "    f.write(line+'\\n')\n",
    "f.close()\n",
    "\n",
    "big_dirs = 0\n",
    "big_size = 0\n",
    "big_folds = []\n",
    "\n",
    "med_dirs = 0\n",
    "med_size = 0\n",
    "med_folds = []\n",
    "\n",
    "small_dirs = 0\n",
    "small_size = 0\n",
    "small_folds = []\n",
    "\n",
    "hundred = 104857600\n",
    "\n",
    "for folder in tqdm(folders):\n",
    "    if os.path.isfile(dir+folder+'/mols.pickle') and not os.path.isfile(dir+folder+'/mols0.pickle'):\n",
    "        if os.stat(dir+folder+'/mols.pickle').st_size > 4*hundred:\n",
    "            big_dirs+=1\n",
    "            big_size+=os.stat(dir+folder+'/mols.pickle').st_size\n",
    "            big_folds.append(folder)\n",
    "        elif os.stat(dir+folder+'/mols.pickle').st_size > hundred:\n",
    "            med_dirs+=1\n",
    "            med_size+=os.stat(dir+folder+'/mols.pickle').st_size\n",
    "            med_folds.append(folder)\n",
    "        elif os.stat(dir+folder+'/mols.pickle').st_size!=0:\n",
    "            small_dirs+=1\n",
    "            small_size+=os.stat(dir+folder+'/mols.pickle').st_size\n",
    "            small_folds.append(folder)\n",
    "for folder in tqdm(folders):\n",
    "    if os.path.isfile(dir+folder+'/mols.pickle') and not os.path.isfile(dir+folder+'/mols0.pickle'):\n",
    "        if os.stat(dir+folder+'/mols.pickle').st_size > 4*hundred:\n",
    "            big_dirs+=1\n",
    "            big_size+=os.stat(dir+folder+'/mols.pickle').st_size\n",
    "            big_folds.append(folder)\n",
    "        elif os.stat(dir+folder+'/mols.pickle').st_size > hundred:\n",
    "            med_dirs+=1\n",
    "            med_size+=os.stat(dir+folder+'/mols.pickle').st_size\n",
    "            med_folds.append(folder)\n",
    "        elif os.stat(dir+folder+'/mols.pickle').st_size!=0:\n",
    "            small_dirs+=1\n",
    "            small_size+=os.stat(dir+folder+'/mols.pickle').st_size\n",
    "            small_folds.append(folder)           \n",
    "print('\\nBig pickle Prop: {:.2f}%'.format(100*big_dirs/len(folders)))\n",
    "print('Big pickle Size: {}'.format(convert_bytes(big_size)))\n",
    "print('\\nMed pickle Prop: {:.2f}%'.format(100*med_dirs/len(folders)))\n",
    "print('Med pickle Size: {}'.format(convert_bytes(med_size)))\n",
    "print('\\nSmall pickle Prop: {:.2f}%'.format(100*small_dirs/len(folders)))\n",
    "print('Small pickle Size: {}'.format(convert_bytes(small_size)))\n",
    "\n",
    "print(len(big_folds))\n",
    "f = open(dir+'bigs.txt', 'a')\n",
    "for line in big_folds:\n",
    "    f.write(line+'\\n')\n",
    "print(len(med_folds))\n",
    "f = open(dir+'meds.txt', 'a')\n",
    "for line in med_folds:\n",
    "    f.write(line+'\\n')\n",
    "print(len(small_folds))\n",
    "f = open(dir+'smalls.txt', 'a')\n",
    "for line in small_folds:\n",
    "    f.write(line+'\\n')\n",
    "f.close()"
   ]
  },
  {
   "cell_type": "code",
   "execution_count": null,
   "metadata": {},
   "outputs": [],
   "source": [
    "big_folds = open(dir+'/meds.txt').read().splitlines()\n",
    "\n",
    "\n",
    "print(len(big_folds))\n",
    "del_folds = []\n",
    "\n",
    "for folder in tqdm(big_folds):\n",
    "    if os.path.isfile(dir+folder+'/mols.pickle'):\n",
    "        should_keep=False\n",
    "        \n",
    "        if not os.path.isfile(dir+folder+'/pairs.pickle'):\n",
    "            should_keep=True\n",
    "        else:    \n",
    "            for n in range(4):\n",
    "                if not os.path.isfile(dir+folder+'/pairs_mpi_'+str(n)+'.pickle'):\n",
    "                    should_keep=True\n",
    "                    break\n",
    "        if not should_keep:\n",
    "            del_folds.append(folder)\n",
    "            \n",
    "print(len(del_folds))\n",
    "\n",
    "f = open(dir+'to_del.txt', 'w')\n",
    "for line in del_folds:\n",
    "    f.write(line+'\\n')\n",
    "f.close()\n",
    "\n",
    "\n"
   ]
  },
  {
   "cell_type": "code",
   "execution_count": 4,
   "metadata": {},
   "outputs": [
    {
     "name": "stderr",
     "output_type": "stream",
     "text": [
      "100%|██████████| 15557/15557 [00:07<00:00, 2022.07it/s]"
     ]
    },
    {
     "name": "stdout",
     "output_type": "stream",
     "text": [
      "96.69% Scored!\n",
      "453\n",
      "62\n"
     ]
    },
    {
     "name": "stderr",
     "output_type": "stream",
     "text": [
      "\n"
     ]
    }
   ],
   "source": [
    "scored_dirs = []\n",
    "dirs_to_score = []\n",
    "mpi_dirs_to_score = []\n",
    "for i,folder in tqdm(enumerate(dirs1), total = len(dirs1)):\n",
    "\n",
    "    pairs = [file for file in os.listdir(dir+folder) if \"pairs_mpi_\" in file]\n",
    "    scores = [file for file in os.listdir(dir+folder) if \"scores\" in file and \".csv\" in file]\n",
    "    \n",
    "    not_scored = True\n",
    "    \n",
    "    if os.path.isfile(dir+folder+'/scores.csv'):\n",
    "        not_scored = False\n",
    "    elif len(pairs) == len(scores) and len(pairs)!=0:\n",
    "        not_scored = False\n",
    "    elif len(pairs) != len(scores):\n",
    "        mpi_dirs_to_score.append(folder)\n",
    "    else:\n",
    "        dirs_to_score.append(folder)\n",
    "\n",
    "    if not not_scored:\n",
    "        scored_dirs.append(folder)\n",
    "        \n",
    "print('{:.2f}% Scored!'.format(100*(len(list(set(scored_dirs)))/len(dirs1))))\n",
    "\n",
    "print(len(dirs_to_score))\n",
    "f = open(dir+'to_score.txt', 'w')\n",
    "for line in dirs_to_score:\n",
    "    f.write(line+'\\n')\n",
    "f.close()\n",
    "print(len(mpi_dirs_to_score))\n",
    "f = open(dir+'to_score_mpi.txt', 'w')\n",
    "for line in mpi_dirs_to_score:\n",
    "    f.write(line+'\\n')\n",
    "f.close()"
   ]
  },
  {
   "cell_type": "markdown",
   "metadata": {},
   "source": [
    "# DIR2 = /rds-d7/"
   ]
  },
  {
   "cell_type": "code",
   "execution_count": 27,
   "metadata": {},
   "outputs": [
    {
     "name": "stderr",
     "output_type": "stream",
     "text": [
      "100%|██████████| 70/70 [00:00<00:00, 5112.51it/s]"
     ]
    },
    {
     "name": "stdout",
     "output_type": "stream",
     "text": [
      "['CDCBCD', 'CDCCCD', 'EEBBCD', 'FDCBDD', 'FGBBDD']\n"
     ]
    },
    {
     "name": "stderr",
     "output_type": "stream",
     "text": [
      "\n"
     ]
    }
   ],
   "source": [
    "to_clean = open(dir2+'/to_clean.txt').read().splitlines()\n",
    "\n",
    "del_folds = []\n",
    "for folder in tqdm(to_clean):\n",
    "#     if os.path.isfile(dir2+folder+'/mols.sdf'):\n",
    "        \n",
    "    should_del=True\n",
    "    for n in range(11):\n",
    "        if os.stat(dir2+folder+'/mols'+str(n)+'.smi').st_size==0:\n",
    "            should_del=False\n",
    "            break\n",
    "    if not should_del:\n",
    "        del_folds.append(folder)\n",
    "print(del_folds)\n",
    "\n",
    "f = open(dir2+'to_clean.txt', 'w')\n",
    "for line in del_folds:\n",
    "    f.write(line+'\\n')\n",
    "f.close()\n",
    "\n"
   ]
  },
  {
   "cell_type": "code",
   "execution_count": 5,
   "metadata": {},
   "outputs": [
    {
     "name": "stderr",
     "output_type": "stream",
     "text": [
      "100%|██████████| 46570/46570 [00:19<00:00, 2332.57it/s]\n",
      "  1%|          | 549/46570 [00:00<00:08, 5483.12it/s]"
     ]
    },
    {
     "name": "stdout",
     "output_type": "stream",
     "text": [
      "\n",
      "Big sdf Prop: 0.05%\n",
      "Big sdf Size: 102.8 GB\n",
      "\n",
      "Med sdf Prop: 0.00%\n",
      "Med sdf Size: 0.0 bytes\n",
      "\n",
      "Small sdf Prop: 0.53%\n",
      "Small sdf Size: 451.5 MB\n",
      "22\n",
      "0\n",
      "246\n"
     ]
    },
    {
     "name": "stderr",
     "output_type": "stream",
     "text": [
      "100%|██████████| 46570/46570 [00:14<00:00, 3122.40it/s]\n",
      "100%|██████████| 46570/46570 [00:00<00:00, 141762.71it/s]"
     ]
    },
    {
     "name": "stdout",
     "output_type": "stream",
     "text": [
      "\n",
      "Big pickle Prop: 0.00%\n",
      "Big pickle Size: 0.0 bytes\n",
      "\n",
      "Med pickle Prop: 0.00%\n",
      "Med pickle Size: 0.0 bytes\n",
      "\n",
      "Small pickle Prop: 1.00%\n",
      "Small pickle Size: 2.7 KB\n",
      "0\n",
      "0\n",
      "466\n"
     ]
    },
    {
     "name": "stderr",
     "output_type": "stream",
     "text": [
      "\n"
     ]
    }
   ],
   "source": [
    "big_dirs = 0\n",
    "big_size = 0\n",
    "big_folds = []\n",
    "\n",
    "med_dirs = 0\n",
    "med_size = 0\n",
    "med_folds = []\n",
    "\n",
    "small_dirs = 0\n",
    "small_size = 0\n",
    "small_folds = []\n",
    "\n",
    "hundred = 104857600\n",
    "\n",
    "for folder in tqdm(folders):\n",
    "    if os.path.isfile(dir2+folder+'/mols.sdf') and not os.path.isfile(dir2+folder+'/mols_mpi_0.pickle'):\n",
    "        if os.stat(dir2+folder+'/mols.sdf').st_size > 4*hundred:\n",
    "            big_dirs+=1\n",
    "            big_size+=os.stat(dir2+folder+'/mols.sdf').st_size\n",
    "            big_folds.append(folder)\n",
    "        elif os.stat(dir2+folder+'/mols.sdf').st_size > hundred:\n",
    "            med_dirs+=1\n",
    "            med_size+=os.stat(dir2+folder+'/mols.sdf').st_size\n",
    "            med_folds.append(folder)\n",
    "        elif os.stat(dir2+folder+'/mols.sdf').st_size!=0:\n",
    "            small_dirs+=1\n",
    "            small_size+=os.stat(dir2+folder+'/mols.sdf').st_size\n",
    "            small_folds.append(folder)\n",
    "            \n",
    "print('\\nBig sdf Prop: {:.2f}%'.format(100*big_dirs/len(folders)))\n",
    "print('Big sdf Size: {}'.format(convert_bytes(big_size)))\n",
    "print('\\nMed sdf Prop: {:.2f}%'.format(100*med_dirs/len(folders)))\n",
    "print('Med sdf Size: {}'.format(convert_bytes(med_size)))\n",
    "print('\\nSmall sdf Prop: {:.2f}%'.format(100*small_dirs/len(folders)))\n",
    "print('Small sdf Size: {}'.format(convert_bytes(small_size)))\n",
    "\n",
    "print(len(big_folds))\n",
    "f = open(dir2+'bigs.txt', 'w')\n",
    "for line in big_folds:\n",
    "    f.write(line+'\\n')\n",
    "print(len(med_folds))\n",
    "f = open(dir2+'meds.txt', 'w')\n",
    "for line in med_folds:\n",
    "    f.write(line+'\\n')\n",
    "print(len(small_folds))\n",
    "f = open(dir2+'smalls.txt', 'w')\n",
    "for line in small_folds:\n",
    "    f.write(line+'\\n')\n",
    "f.close()\n",
    "\n",
    "big_dirs = 0\n",
    "big_size = 0\n",
    "big_folds = []\n",
    "\n",
    "med_dirs = 0\n",
    "med_size = 0\n",
    "med_folds = []\n",
    "\n",
    "small_dirs = 0\n",
    "small_size = 0\n",
    "small_folds = []\n",
    "\n",
    "hundred = 104857600\n",
    "\n",
    "for folder in tqdm(folders):\n",
    "    if os.path.isfile(dir2+folder+'/mols.pickle') and not os.path.isfile(dir2+folder+'/mols0.pickle'):\n",
    "        if os.stat(dir2+folder+'/mols.pickle').st_size > 4*hundred:\n",
    "            big_dirs+=1\n",
    "            big_size+=os.stat(dir2+folder+'/mols.pickle').st_size\n",
    "            big_folds.append(folder)\n",
    "        elif os.stat(dir2+folder+'/mols.pickle').st_size > hundred:\n",
    "            med_dirs+=1\n",
    "            med_size+=os.stat(dir2+folder+'/mols.pickle').st_size\n",
    "            med_folds.append(folder)\n",
    "        elif os.stat(dir2+folder+'/mols.pickle').st_size!=0:\n",
    "            small_dirs+=1\n",
    "            small_size+=os.stat(dir2+folder+'/mols.pickle').st_size\n",
    "            small_folds.append(folder)\n",
    "for folder in tqdm(folders):\n",
    "    if os.path.isfile(dir2+folder+'/mols.pickle') and not os.path.isfile(dir2+folder+'/mols0.pickle'):\n",
    "        if os.stat(dir2+folder+'/mols.pickle').st_size > 4*hundred:\n",
    "            big_dirs+=1\n",
    "            big_size+=os.stat(dir2+folder+'/mols.pickle').st_size\n",
    "            big_folds.append(folder)\n",
    "        elif os.stat(dir2+folder+'/mols.pickle').st_size > hundred:\n",
    "            med_dirs+=1\n",
    "            med_size+=os.stat(dir2+folder+'/mols.pickle').st_size\n",
    "            med_folds.append(folder)\n",
    "        elif os.stat(dir2+folder+'/mols.pickle').st_size!=0:\n",
    "            small_dirs+=1\n",
    "            small_size+=os.stat(dir2+folder+'/mols.pickle').st_size\n",
    "            small_folds.append(folder)           \n",
    "print('\\nBig pickle Prop: {:.2f}%'.format(100*big_dirs/len(folders)))\n",
    "print('Big pickle Size: {}'.format(convert_bytes(big_size)))\n",
    "print('\\nMed pickle Prop: {:.2f}%'.format(100*med_dirs/len(folders)))\n",
    "print('Med pickle Size: {}'.format(convert_bytes(med_size)))\n",
    "print('\\nSmall pickle Prop: {:.2f}%'.format(100*small_dirs/len(folders)))\n",
    "print('Small pickle Size: {}'.format(convert_bytes(small_size)))\n",
    "\n",
    "print(len(big_folds))\n",
    "f = open(dir2+'bigs.txt', 'a')\n",
    "for line in big_folds:\n",
    "    f.write(line+'\\n')\n",
    "print(len(med_folds))\n",
    "f = open(dir2+'meds.txt', 'a')\n",
    "for line in med_folds:\n",
    "    f.write(line+'\\n')\n",
    "print(len(small_folds))\n",
    "f = open(dir2+'smalls.txt', 'a')\n",
    "for line in small_folds:\n",
    "    f.write(line+'\\n')\n",
    "f.close()"
   ]
  },
  {
   "cell_type": "code",
   "execution_count": 5,
   "metadata": {},
   "outputs": [
    {
     "name": "stderr",
     "output_type": "stream",
     "text": [
      "100%|██████████| 31013/31013 [02:42<00:00, 191.41it/s]"
     ]
    },
    {
     "name": "stdout",
     "output_type": "stream",
     "text": [
      "98.86% Scored!\n",
      "351\n",
      "1\n"
     ]
    },
    {
     "name": "stderr",
     "output_type": "stream",
     "text": [
      "\n"
     ]
    }
   ],
   "source": [
    "scored_dirs = []\n",
    "dirs_to_score = []\n",
    "mpi_dirs_to_score = []\n",
    "for i,folder in tqdm(enumerate(dirs2), total = len(dirs2)):\n",
    "\n",
    "    pairs = [file for file in os.listdir(dir2+folder) if \"pairs_mpi_\" in file]\n",
    "    scores = [file for file in os.listdir(dir2+folder) if \"scores\" in file and \".csv\" in file]\n",
    "    \n",
    "    not_scored = True\n",
    "    \n",
    "    if os.path.isfile(dir2+folder+'/scores.csv'):\n",
    "        not_scored = False\n",
    "    elif len(pairs) == len(scores) and len(pairs)!=0:\n",
    "        not_scored = False\n",
    "    elif len(pairs) != len(scores):\n",
    "        mpi_dirs_to_score.append(folder)\n",
    "    else:\n",
    "        dirs_to_score.append(folder)\n",
    "\n",
    "    if not not_scored:\n",
    "        scored_dirs.append(folder)\n",
    "        \n",
    "print('{:.2f}% Scored!'.format(100*(len(list(set(scored_dirs)))/len(dirs2))))\n",
    "print(len(dirs_to_score))\n",
    "f = open(dir2+'to_score.txt', 'w')\n",
    "for line in dirs_to_score:\n",
    "    f.write(line+'\\n')\n",
    "f.close()\n",
    "print(len(mpi_dirs_to_score))\n",
    "f = open(dir2+'to_score_mpi.txt', 'w')\n",
    "for line in mpi_dirs_to_score:\n",
    "    f.write(line+'\\n')\n",
    "f.close()"
   ]
  },
  {
   "cell_type": "code",
   "execution_count": null,
   "metadata": {
    "scrolled": false
   },
   "outputs": [],
   "source": [
    "# # print(big_folds)\n",
    "# to_delete = []\n",
    "# to_keep = []\n",
    "# for fold in big_folds:\n",
    "# #     print(fold)\n",
    "# #     print(dir2+fold)\n",
    "#     files = sorted(os.listdir(dir2+fold))\n",
    "    \n",
    "#     keep = True\n",
    "#     for mpi_ind in range(12):\n",
    "#         if not os.path.isfile(dir2+fold+'/pairs_mpi_'+str(mpi_ind)+'.pickle'):\n",
    "#             keep = False\n",
    "#             break\n",
    "# #         print(fname)\n",
    "# #         if fname.endswith('.pickle'):\n",
    "# #             print(fname)\n",
    "#     if keep:\n",
    "#         to_keep.append(fold)\n",
    "#     else:\n",
    "#         to_delete.append(fold)\n",
    "# print(len(to_delete))\n",
    "# print(len(to_keep))\n",
    "# print(to_keep)\n",
    "# f = open(dir2+'keep.txt', 'w')\n",
    "# for line in to_keep:\n",
    "#     f.write(line+'\\n')\n",
    "# f.close()"
   ]
  },
  {
   "cell_type": "code",
   "execution_count": null,
   "metadata": {},
   "outputs": [],
   "source": [
    "pickle_dirs = []\n",
    "pickle_dirs2 = []\n",
    "pickle_mpi_dirs = []\n",
    "pickle_mpi_dirs2 = []\n",
    "no_pickledirs = []\n",
    "\n",
    "for i,folder in tqdm(enumerate(folders), total = len(folders)):\n",
    "    if folder in existing_dirs:\n",
    "        if os.path.isfile(dir+folder+'/pairs.pickle'):\n",
    "            pickle_dirs.append(folder)\n",
    "        elif os.path.isfile(dir+folder+'/pairs_mpi_0.pickle') or os.path.isfile(dir+folder+'/pairs_mpi_4.pickle'):\n",
    "            pickle_mpi_dirs.append(folder)\n",
    "        elif os.path.isfile(dir2+folder+'/pairs.pickle'): \n",
    "            pickle_dirs2.append(folder)\n",
    "        elif os.path.isfile(dir2+folder+'/pairs_mpi_0.pickle') or os.path.isfile(dir2+folder+'/pairs_mpi_4.pickle'):\n",
    "            pickle_mpi_dirs2.append(folder)\n",
    "        else:\n",
    "            no_pickledirs.append(folder)\n",
    "            \n",
    "done_dirs = pickle_dirs + pickle_dirs2 + pickle_mpi_dirs + pickle_mpi_dirs2\n",
    "print(len(done_dirs))\n",
    "\n",
    "print('{:.2f}% Pickled!'.format(100*(len(list(set(done_dirs)))/len(folders))))\n",
    "\n",
    "print('Not yet pickled:')\n",
    "print(no_pickledirs)"
   ]
  },
  {
   "cell_type": "code",
   "execution_count": 40,
   "metadata": {},
   "outputs": [
    {
     "name": "stdout",
     "output_type": "stream",
     "text": [
      "1289\n",
      "3518\n"
     ]
    }
   ],
   "source": [
    "f = open(dir+'to_check.txt', 'w')\n",
    "for line in pickle_mpi_dirs:\n",
    "    f.write(line+'\\n')\n",
    "print(len(pickle_mpi_dirs))\n",
    "f = open(dir2+'to_check.txt', 'w')\n",
    "for line in pickle_mpi_dirs2:\n",
    "    f.write(line+'\\n')\n",
    "print(len(pickle_mpi_dirs2))\n",
    "f.close()"
   ]
  },
  {
   "cell_type": "code",
   "execution_count": 35,
   "metadata": {},
   "outputs": [
    {
     "name": "stderr",
     "output_type": "stream",
     "text": [
      "100%|██████████| 46570/46570 [01:10<00:00, 664.58it/s] \n"
     ]
    },
    {
     "name": "stdout",
     "output_type": "stream",
     "text": [
      "0\n",
      "0.00% Failed pickles\n",
      "0\n",
      "0\n"
     ]
    }
   ],
   "source": [
    "# from frag_funcs import return_pcore_dataframe\n",
    "\n",
    "import pickle \n",
    "\n",
    "fail_dirs = []\n",
    "fail_dirs2 = []\n",
    "\n",
    "for i,folder in tqdm(enumerate(folders), total = len(folders)):\n",
    "    if os.path.isfile(dir+folder+'/pairs.pickle') and not os.path.isfile(dir+folder+'/scores.npy'):\n",
    "        \n",
    "        with open(dir+folder+'/pairs.pickle', 'rb') as handle:\n",
    "            try:\n",
    "                zinc_pairs = pickle.load(handle)     \n",
    "            except Exception:\n",
    "                fail_dirs.append(i)\n",
    "                \n",
    "    if os.path.isfile(dir2+folder+'/pairs.pickle') and not os.path.isfile(dir2+folder+'/scores.npy'): \n",
    "        with open(dir2+folder+'/pairs.pickle', 'rb') as handle:\n",
    "            try:\n",
    "                zinc_pairs = pickle.load(handle)     \n",
    "            except Exception:\n",
    "                fail_dirs2.append(i)\n",
    "            \n",
    "failed_dirs = fail_dirs + fail_dirs2\n",
    "print(len(failed_dirs))\n",
    "\n",
    "print('{:.2f}% Failed pickles'.format(100*(len(list(set(failed_dirs)))/len(folders))))\n",
    "\n",
    "f = open(dir+'fail_dirs.txt', 'w')\n",
    "for i in fail_dirs:\n",
    "    f.write(data[i]+'\\n')\n",
    "print(len(fail_dirs))\n",
    "\n",
    "f = open(dir2+'fail_dirs.txt', 'w')\n",
    "for i in fail_dirs2:\n",
    "    f.write(data[i]+'\\n')\n",
    "print(len(fail_dirs2))\n",
    "f.close()"
   ]
  },
  {
   "cell_type": "code",
   "execution_count": 38,
   "metadata": {},
   "outputs": [
    {
     "name": "stderr",
     "output_type": "stream",
     "text": [
      "100%|██████████| 46570/46570 [00:25<00:00, 1834.22it/s]"
     ]
    },
    {
     "name": "stdout",
     "output_type": "stream",
     "text": [
      "213\n",
      "0.46% Pickled but not Scored!\n"
     ]
    },
    {
     "name": "stderr",
     "output_type": "stream",
     "text": [
      "\n"
     ]
    }
   ],
   "source": [
    "pickle_dirs = []\n",
    "pickle_dirs2 = []\n",
    "pickle_mpi_dirs = []\n",
    "pickle_mpi_dirs2 = []\n",
    "\n",
    "for i,folder in tqdm(enumerate(folders), total = len(folders)):\n",
    "    if folder in existing_dirs and folder not in failed_dirs:\n",
    "        if os.path.isfile(dir+folder+'/pairs.pickle') and not os.path.isfile(dir+folder+'/scores.npy'):\n",
    "            pickle_dirs.append(folder)\n",
    "        elif os.path.isfile(dir+folder+'/pairs_mpi_0.pickle') and not os.path.isfile(dir+folder+'/scores0.npy'):\n",
    "            pickle_mpi_dirs.append(folder)\n",
    "        elif os.path.isfile(dir2+folder+'/pairs.pickle') and not os.path.isfile(dir2+folder+'/scores.npy'): \n",
    "            pickle_dirs2.append(folder)\n",
    "        elif os.path.isfile(dir2+folder+'/pairs_mpi_0.pickle') and not os.path.isfile(dir2+folder+'/scores0.npy'):\n",
    "            pickle_mpi_dirs2.append(folder)\n",
    "            \n",
    "scored_dirs = pickle_dirs + pickle_dirs2 + pickle_mpi_dirs + pickle_mpi_dirs2\n",
    "print(len(scored_dirs))\n",
    "\n",
    "print('{:.2f}% Pickled but not Scored!'.format(100*(len(list(set(scored_dirs)))/len(folders))))"
   ]
  },
  {
   "cell_type": "code",
   "execution_count": 48,
   "metadata": {},
   "outputs": [
    {
     "name": "stdout",
     "output_type": "stream",
     "text": [
      "4207\n",
      "1287\n",
      "3264\n",
      "3533\n"
     ]
    }
   ],
   "source": [
    "f = open(dir+'to_score.txt', 'w')\n",
    "for line in pickle_dirs:\n",
    "    f.write(line+'\\n')\n",
    "print(len(pickle_dirs))\n",
    "f = open(dir+'to_score_mpi.txt', 'w')\n",
    "for line in pickle_mpi_dirs:\n",
    "    f.write(line+'\\n')\n",
    "print(len(pickle_mpi_dirs))\n",
    "f = open(dir2+'to_score.txt', 'w')\n",
    "for line in pickle_dirs2:\n",
    "    f.write(line+'\\n')\n",
    "print(len(pickle_dirs2))\n",
    "f = open(dir2+'to_score_mpi.txt', 'w')\n",
    "for line in pickle_mpi_dirs2:\n",
    "    f.write(line+'\\n')\n",
    "print(len(pickle_mpi_dirs2))\n",
    "f.close()"
   ]
  },
  {
   "cell_type": "code",
   "execution_count": 12,
   "metadata": {},
   "outputs": [
    {
     "name": "stderr",
     "output_type": "stream",
     "text": [
      "100%|██████████| 46570/46570 [04:27<00:00, 174.35it/s]"
     ]
    },
    {
     "name": "stdout",
     "output_type": "stream",
     "text": [
      "42987\n",
      "92.31% Scored!\n"
     ]
    },
    {
     "name": "stderr",
     "output_type": "stream",
     "text": [
      "\n"
     ]
    }
   ],
   "source": [
    "scored_dirs = []\n",
    "scored_dirs2 = []\n",
    "for i,folder in tqdm(enumerate(folders), total = len(folders)):\n",
    "    if folder in existing_dirs:\n",
    "        if os.path.isfile(dir+folder+'/scores.npy'):\n",
    "            scored_dirs.append(folder)\n",
    "        elif os.path.isfile(dir2+folder+'/scores.npy'):\n",
    "            scored_dirs2.append(folder)\n",
    "        elif os.path.isfile(dir+folder+'/scores0.npy'):\n",
    "            scored_dirs.append(folder)\n",
    "        elif os.path.isfile(dir2+folder+'/scores0.npy'):\n",
    "            scored_dirs2.append(folder)\n",
    "            \n",
    "scored_dirs = scored_dirs + scored_dirs2\n",
    "print(len(scored_dirs))\n",
    "\n",
    "print('{:.2f}% Scored!'.format(100*(len(list(set(scored_dirs)))/len(folders))))"
   ]
  },
  {
   "cell_type": "code",
   "execution_count": 34,
   "metadata": {},
   "outputs": [
    {
     "name": "stderr",
     "output_type": "stream",
     "text": [
      "100%|██████████| 46570/46570 [01:15<00:00, 613.42it/s]"
     ]
    },
    {
     "name": "stdout",
     "output_type": "stream",
     "text": [
      "0\n",
      "0.00% Need Rescoring!\n"
     ]
    },
    {
     "name": "stderr",
     "output_type": "stream",
     "text": [
      "\n"
     ]
    }
   ],
   "source": [
    "import time\n",
    "\n",
    "# print(time.localtime(os.path.getmtime(dir2+folders[0]+'/scores.npy')))\n",
    "\n",
    "old_dirs = []\n",
    "old_dirs_mpi = []\n",
    "for i,folder in tqdm(enumerate(folders), total = len(folders)):\n",
    "    if folder in existing_dirs:\n",
    "        if os.path.isfile(dir+folder+'/scores.npy'):\n",
    "            if time.localtime(os.path.getmtime(dir+folder+'/scores.npy'))[2]<10:\n",
    "                if os.path.isfile(dir+folder+'/pairs.pickle'):\n",
    "                    old_dirs.append(folder)\n",
    "print(len(old_dirs))\n",
    "\n",
    "print('{:.2f}% Need Rescoring!'.format(100*(len(list(set(old_dirs)))/len(folders))))"
   ]
  },
  {
   "cell_type": "code",
   "execution_count": 8,
   "metadata": {},
   "outputs": [
    {
     "name": "stdout",
     "output_type": "stream",
     "text": [
      "1177\n"
     ]
    }
   ],
   "source": [
    "f = open(dir+'rescore.txt', 'w')\n",
    "for line in old_dirs:\n",
    "    f.write(line+'\\n')\n",
    "print(len(old_dirs))\n",
    "f.close()"
   ]
  },
  {
   "cell_type": "code",
   "execution_count": 43,
   "metadata": {},
   "outputs": [],
   "source": [
    "f.close()"
   ]
  },
  {
   "cell_type": "code",
   "execution_count": 32,
   "metadata": {},
   "outputs": [
    {
     "name": "stdout",
     "output_type": "stream",
     "text": [
      "DIR #1\n",
      "DIR #2\n",
      "Fail Size: 1.6 GB\n",
      "Fail2 Size: 1.3 GB\n",
      "26\n",
      "13\n",
      "26\n",
      "13\n"
     ]
    }
   ],
   "source": [
    "fail_size = 0\n",
    "fail_size2 = 0\n",
    "\n",
    "weird_dirs = []\n",
    "weird_dirs2 = []\n",
    "print('DIR #1')\n",
    "for fold in fail_dirs:\n",
    "    try:\n",
    "        fail_size+=os.stat(dir+fold+'/mols.pickle').st_size\n",
    "    except Exception:\n",
    "        weird_dirs.append(fold)\n",
    "\n",
    "print('DIR #2')\n",
    "for fold in fail_dirs2:\n",
    "    try:\n",
    "        fail_size2+=os.stat(dir2+fold+'/mols.pickle').st_size\n",
    "    except Exception:\n",
    "        weird_dirs2.append(fold)\n",
    "        \n",
    "print('Fail Size: {}'.format(convert_bytes(fail_size)))\n",
    "print('Fail2 Size: {}'.format(convert_bytes(fail_size2)))\n",
    "\n",
    "f = open(dir+'weird_dirs.txt', 'w')\n",
    "for line in weird_dirs:\n",
    "    f.write(line+'\\n')\n",
    "print(len(weird_dirs))\n",
    "\n",
    "f = open(dir2+'weird_dirs.txt', 'w')\n",
    "for line in weird_dirs2:\n",
    "    f.write(line+'\\n')\n",
    "print(len(weird_dirs2))\n",
    "\n"
   ]
  },
  {
   "cell_type": "code",
   "execution_count": 35,
   "metadata": {},
   "outputs": [
    {
     "name": "stderr",
     "output_type": "stream",
     "text": [
      " 56%|█████▋    | 26240/46570 [2:47:06<2:09:28,  2.62it/s]  \n"
     ]
    },
    {
     "ename": "KeyboardInterrupt",
     "evalue": "",
     "output_type": "error",
     "traceback": [
      "\u001b[0;31m---------------------------------------------------------------------------\u001b[0m",
      "\u001b[0;31mKeyboardInterrupt\u001b[0m                         Traceback (most recent call last)",
      "\u001b[0;32m<ipython-input-35-329444709d6c>\u001b[0m in \u001b[0;36m<module>\u001b[0;34m\u001b[0m\n\u001b[1;32m     18\u001b[0m                  \u001b[0;32mwith\u001b[0m \u001b[0mopen\u001b[0m\u001b[0;34m(\u001b[0m\u001b[0mdir2\u001b[0m\u001b[0;34m+\u001b[0m\u001b[0mfolder\u001b[0m\u001b[0;34m+\u001b[0m\u001b[0;34m'/pairs_mpi_'\u001b[0m\u001b[0;34m+\u001b[0m\u001b[0mstr\u001b[0m\u001b[0;34m(\u001b[0m\u001b[0mmpi_ind\u001b[0m\u001b[0;34m)\u001b[0m\u001b[0;34m+\u001b[0m\u001b[0;34m'.pickle'\u001b[0m\u001b[0;34m,\u001b[0m \u001b[0;34m'rb'\u001b[0m\u001b[0;34m)\u001b[0m \u001b[0;32mas\u001b[0m \u001b[0mhandle\u001b[0m\u001b[0;34m:\u001b[0m\u001b[0;34m\u001b[0m\u001b[0;34m\u001b[0m\u001b[0m\n\u001b[1;32m     19\u001b[0m                     \u001b[0;32mtry\u001b[0m\u001b[0;34m:\u001b[0m\u001b[0;34m\u001b[0m\u001b[0;34m\u001b[0m\u001b[0m\n\u001b[0;32m---> 20\u001b[0;31m                         \u001b[0mzinc_pairs\u001b[0m \u001b[0;34m=\u001b[0m \u001b[0mpickle\u001b[0m\u001b[0;34m.\u001b[0m\u001b[0mload\u001b[0m\u001b[0;34m(\u001b[0m\u001b[0mhandle\u001b[0m\u001b[0;34m)\u001b[0m\u001b[0;34m\u001b[0m\u001b[0;34m\u001b[0m\u001b[0m\n\u001b[0m\u001b[1;32m     21\u001b[0m                     \u001b[0;32mexcept\u001b[0m \u001b[0mException\u001b[0m\u001b[0;34m:\u001b[0m\u001b[0;34m\u001b[0m\u001b[0;34m\u001b[0m\u001b[0m\n\u001b[1;32m     22\u001b[0m                         \u001b[0mprint\u001b[0m\u001b[0;34m(\u001b[0m\u001b[0mException\u001b[0m\u001b[0;34m)\u001b[0m\u001b[0;34m\u001b[0m\u001b[0;34m\u001b[0m\u001b[0m\n",
      "\u001b[0;31mKeyboardInterrupt\u001b[0m: "
     ]
    }
   ],
   "source": [
    "fail_mpi_dirs = []\n",
    "fail_mpi_dirs2 = []\n",
    "for i,folder in tqdm(enumerate(folders), total = len(folders)):\n",
    "    if os.path.isfile(dir+folder+'/pairs_mpi_0.pickle') and not os.path.isfile(dir+folder+'/scores.npy'):\n",
    "        \n",
    "        for mpi_ind in range(12):\n",
    "            if os.path.isfile(dir+folder+'/pairs_mpi_'+str(mpi_ind)+'.pickle'):\n",
    "                with open(dir+folder+'/pairs_mpi_'+str(mpi_ind)+'.pickle', 'rb') as handle:\n",
    "                    try:\n",
    "                        zinc_pairs = pickle.load(handle)     \n",
    "                    except Exception:\n",
    "                        print(Exception)\n",
    "                        fail_mpi_dirs.append(folder)\n",
    "\n",
    "    if os.path.isfile(dir2+folder+'/pairs_mpi_0.pickle') and not os.path.isfile(dir2+folder+'/scores.npy'): \n",
    "        for mpi_ind in range(12):\n",
    "            if os.path.isfile(dir2+folder+'/pairs_mpi_'+str(mpi_ind)+'.pickle'):\n",
    "                 with open(dir2+folder+'/pairs_mpi_'+str(mpi_ind)+'.pickle', 'rb') as handle:\n",
    "                    try:\n",
    "                        zinc_pairs = pickle.load(handle)     \n",
    "                    except Exception:\n",
    "                        print(Exception)\n",
    "                        fail_mpi_dirs2.append(folder)\n"
   ]
  },
  {
   "cell_type": "code",
   "execution_count": null,
   "metadata": {},
   "outputs": [],
   "source": [
    "print('Num of Fail folders: {}'.format(len(fail_mpi_dirs)))\n",
    "print('Num of Fail2 folders: {}'.format(len(fail_mpi_dirs2)))"
   ]
  },
  {
   "cell_type": "markdown",
   "metadata": {},
   "source": [
    "# Progress Measurement"
   ]
  },
  {
   "cell_type": "code",
   "execution_count": 31,
   "metadata": {},
   "outputs": [
    {
     "name": "stderr",
     "output_type": "stream",
     "text": [
      "100%|██████████| 46570/46570 [02:51<00:00, 272.08it/s] "
     ]
    },
    {
     "name": "stdout",
     "output_type": "stream",
     "text": [
      "Download Completion: 50.94%\n",
      "\n",
      "SMI Completion: 28.55%\n",
      "SMI Size: 6.0 GB\n",
      "Estimated SMI Size: 76.3 GB\n",
      "\n",
      "SDF Completion: 7.28%\n",
      "SDF Size: 221.0 GB\n",
      "Estimated SDF Size: 3.0 TB\n",
      "\n",
      "Pickle Completion: 27.92%\n",
      "Pickle Size: 50.6 GB\n",
      "Estimated Pickle Size: 181.2 GB\n",
      "\n",
      "Score Completion: 7.90%\n",
      "Estimated Score Size: 8.0 GB\n"
     ]
    },
    {
     "name": "stderr",
     "output_type": "stream",
     "text": [
      "\n"
     ]
    }
   ],
   "source": [
    "from tqdm import tqdm\n",
    "\n",
    "def convert_bytes(num):\n",
    "    \"\"\"\n",
    "    this function will convert bytes to MB.... GB... etc\n",
    "    \"\"\"\n",
    "    for x in ['bytes', 'KB', 'MB', 'GB', 'TB']:\n",
    "        if num < 1024.0:\n",
    "            return \"%3.1f %s\" % (num, x)\n",
    "        num /= 1024.0\n",
    "\n",
    "def file_size(file_path):\n",
    "    \"\"\"\n",
    "    this function will return the file size\n",
    "    \"\"\"\n",
    "    if os.path.isfile(file_path):\n",
    "        file_info = os.stat(file_path)\n",
    "        return convert_bytes(file_info.st_size)\n",
    "        \n",
    "dirs = 0\n",
    "\n",
    "smi_dir = 0\n",
    "sdf_dir = 0\n",
    "pickle_dir = 0\n",
    "score_dir = 0\n",
    "\n",
    "smi_size = 0\n",
    "sdf_size = 0\n",
    "pickle_size = 0\n",
    "score_size = 0\n",
    "\n",
    "pickle_dirs = []\n",
    "for folder in tqdm(folders):\n",
    "    if os.path.isdir(dir+folder):\n",
    "        dirs+=1\n",
    "    if os.path.isfile(dir+folder+'/mols.smi'):\n",
    "        smi_dir+=1\n",
    "        smi_size+=os.stat(dir+folder+'/mols.smi').st_size\n",
    "    if os.path.isfile(dir+folder+'/mols.sdf'):\n",
    "        if os.stat(dir+folder+'/mols.sdf').st_size!=0:\n",
    "            sdf_dir+=1\n",
    "            sdf_size+=os.stat(dir+folder+'/mols.sdf').st_size\n",
    "    if os.path.isfile(dir+folder+'/pairs.pickle'):\n",
    "        pickle_dir+=1\n",
    "        pickle_size+=os.stat(dir+folder+'/pairs.pickle').st_size\n",
    "        pickle_dirs.append(folder)\n",
    "    if os.path.isfile(dir+folder+'/scores.npy'):\n",
    "        score_dir+=1\n",
    "        score_size+=os.stat(dir+folder+'/scores.npy').st_size\n",
    "        \n",
    "print('Download Completion: {:.2f}%'.format(100*dirs/len(folders)))\n",
    "\n",
    "print('\\nSMI Completion: {:.2f}%'.format(100*smi_dir/len(folders)))\n",
    "print('SMI Size: {}'.format(convert_bytes(smi_size)))\n",
    "print('Estimated SMI Size: {}'.format(convert_bytes(smi_size*len(folders)/score_dir)))\n",
    "\n",
    "print('\\nSDF Completion: {:.2f}%'.format(100*sdf_dir/len(folders)))\n",
    "print('SDF Size: {}'.format(convert_bytes(sdf_size)))\n",
    "print('Estimated SDF Size: {}'.format(convert_bytes(sdf_size*len(folders)/sdf_dir)))\n",
    "\n",
    "print('\\nPickle Completion: {:.2f}%'.format(100*pickle_dir/len(folders)))\n",
    "print('Pickle Size: {}'.format(convert_bytes(pickle_size)))\n",
    "print('Estimated Pickle Size: {}'.format(convert_bytes(pickle_size*len(folders)/pickle_dir)))\n",
    "\n",
    "print('\\nScore Completion: {:.2f}%'.format(100*score_dir/len(folders)))\n",
    "print('Estimated Score Size: {}'.format(convert_bytes(score_size*len(folders)/score_dir)))"
   ]
  },
  {
   "cell_type": "code",
   "execution_count": 5,
   "metadata": {},
   "outputs": [],
   "source": [
    "f = open(dir+'complete_dirs.txt', 'w')\n",
    "for fold in pickle_dirs:\n",
    "    f.write(fold+'\\n')\n",
    "f.close()"
   ]
  },
  {
   "cell_type": "code",
   "execution_count": 24,
   "metadata": {},
   "outputs": [
    {
     "name": "stderr",
     "output_type": "stream",
     "text": [
      "100%|██████████| 46570/46570 [00:00<00:00, 73589.80it/s]\n"
     ]
    }
   ],
   "source": [
    "fake_dirs = []\n",
    "for i,folder in tqdm(enumerate(folders), total = len(folders)):\n",
    "#     try:\n",
    "#         if os.path.isfile(dir+folder+'/mols.sdf') and os.stat(dir+folder+'/mols.sdf').st_size==0:\n",
    "#             fake_dirs.append(i)\n",
    "#     except:\n",
    "#         pass\n",
    "    try:\n",
    "        if os.path.isfile(dir2+folder+'/mols.sdf') and os.stat(dir2+folder+'/mols.sdf').st_size==0:\n",
    "            fake_dirs.append(i)\n",
    "    except:\n",
    "        pass\n",
    "\n",
    "# print(len(fake_dirs))\n",
    "f = open(dir2+'fake_dirs.txt', 'w')\n",
    "for index in fake_dirs:\n",
    "    f.write(data[index]+'\\n')\n",
    "f.close()"
   ]
  },
  {
   "cell_type": "code",
   "execution_count": null,
   "metadata": {},
   "outputs": [],
   "source": [
    "f = open(dir2+'bigs.txt', 'w')\n",
    "for line in big_folds:\n",
    "    f.write(line+'\\n')\n",
    "print(len(med_folds))\n",
    "f = open(dir2+'meds.txt', 'w')\n",
    "for line in med_folds:\n",
    "    f.write(line+'\\n')\n",
    "print(len(small_folds))\n",
    "f = open(dir2+'smalls.txt', 'w')\n",
    "for line in small_folds:\n",
    "    f.write(line+'\\n')\n",
    "f.close()"
   ]
  },
  {
   "cell_type": "code",
   "execution_count": 7,
   "metadata": {},
   "outputs": [
    {
     "name": "stderr",
     "output_type": "stream",
     "text": [
      "100%|██████████| 46570/46570 [02:37<00:00, 295.23it/s]"
     ]
    },
    {
     "name": "stdout",
     "output_type": "stream",
     "text": [
      "7186\n",
      "230\n",
      "59\n"
     ]
    },
    {
     "name": "stderr",
     "output_type": "stream",
     "text": [
      "\n"
     ]
    }
   ],
   "source": [
    "missing_dirs = []\n",
    "missing_dirs2 = []\n",
    "missing_dirs3 = []\n",
    "for i,folder in tqdm(enumerate(folders), total = len(folders)):\n",
    "    if not folder in existing_dirs:\n",
    "        missing_dirs.append(i)\n",
    "    if folder in existing_dirs:\n",
    "        try:\n",
    "            for fname in os.listdir(dir+folder):\n",
    "                if fname.endswith('.gz'):\n",
    "                    missing_dirs2.append(i)\n",
    "                    break\n",
    "        except:\n",
    "            pass\n",
    "        try:\n",
    "            for fname in os.listdir(dir2+folder):\n",
    "                if fname.endswith('.gz'):\n",
    "                    missing_dirs3.append(i)\n",
    "                    break\n",
    "        except:\n",
    "            pass\n",
    "print(len(missing_dirs))\n",
    "print(len(missing_dirs2))\n",
    "print(len(missing_dirs3))\n",
    "# missing_dirs = missing_dirs + missing_dirs2\n",
    "# f = open(dir+'missing_dirs.txt', 'w')\n",
    "# for index in missing_dirs:\n",
    "#     f.write(data[index]+'\\n')\n",
    "# f.close()"
   ]
  },
  {
   "cell_type": "markdown",
   "metadata": {},
   "source": [
    "# SDF"
   ]
  },
  {
   "cell_type": "code",
   "execution_count": 39,
   "metadata": {
    "scrolled": true
   },
   "outputs": [
    {
     "name": "stderr",
     "output_type": "stream",
     "text": [
      "100%|██████████| 46570/46570 [00:21<00:00, 2213.32it/s]"
     ]
    },
    {
     "name": "stdout",
     "output_type": "stream",
     "text": [
      "\n",
      "Big sdf Prop: 0.28%\n",
      "Big sdf Size: 134.4 GB\n",
      "\n",
      "Med sdf Prop: 0.49%\n",
      "Med sdf Size: 45.4 GB\n",
      "\n",
      "Small sdf Prop: 6.51%\n",
      "Small sdf Size: 41.1 GB\n"
     ]
    },
    {
     "name": "stderr",
     "output_type": "stream",
     "text": [
      "\n"
     ]
    }
   ],
   "source": [
    "big_dirs = 0\n",
    "big_size = 0\n",
    "big_folds = []\n",
    "\n",
    "med_dirs = 0\n",
    "med_size = 0\n",
    "med_folds = []\n",
    "\n",
    "small_dirs = 0\n",
    "small_size = 0\n",
    "small_folds = []\n",
    "\n",
    "hundred = 104857600\n",
    "\n",
    "for folder in tqdm(folders):\n",
    "    if os.path.isfile(dir+folder+'/mols.sdf') and not os.path.isfile(dir+folder+'/mols_mpi_0.pickle'):\n",
    "        if os.stat(dir+folder+'/mols.sdf').st_size > 4*hundred:\n",
    "            big_dirs+=1\n",
    "            big_size+=os.stat(dir+folder+'/mols.sdf').st_size\n",
    "            big_folds.append(folder)\n",
    "        elif os.stat(dir+folder+'/mols.sdf').st_size > hundred:\n",
    "            med_dirs+=1\n",
    "            med_size+=os.stat(dir+folder+'/mols.sdf').st_size\n",
    "            med_folds.append(folder)\n",
    "        elif os.stat(dir+folder+'/mols.sdf').st_size!=0:\n",
    "            small_dirs+=1\n",
    "            small_size+=os.stat(dir+folder+'/mols.sdf').st_size\n",
    "            small_folds.append(folder)\n",
    "            \n",
    "print('\\nBig sdf Prop: {:.2f}%'.format(100*big_dirs/len(folders)))\n",
    "print('Big sdf Size: {}'.format(convert_bytes(big_size)))\n",
    "print('\\nMed sdf Prop: {:.2f}%'.format(100*med_dirs/len(folders)))\n",
    "print('Med sdf Size: {}'.format(convert_bytes(med_size)))\n",
    "print('\\nSmall sdf Prop: {:.2f}%'.format(100*small_dirs/len(folders)))\n",
    "print('Small sdf Size: {}'.format(convert_bytes(small_size)))"
   ]
  },
  {
   "cell_type": "code",
   "execution_count": 40,
   "metadata": {},
   "outputs": [
    {
     "name": "stdout",
     "output_type": "stream",
     "text": [
      "132\n",
      "230\n",
      "3030\n"
     ]
    }
   ],
   "source": [
    "print(len(big_folds))\n",
    "f = open(dir+'bigs.txt', 'w')\n",
    "for line in big_folds:\n",
    "    f.write(line+'\\n')\n",
    "print(len(med_folds))\n",
    "f = open(dir+'meds.txt', 'w')\n",
    "for line in med_folds:\n",
    "    f.write(line+'\\n')\n",
    "print(len(small_folds))\n",
    "f = open(dir+'smalls.txt', 'w')\n",
    "for line in small_folds:\n",
    "    f.write(line+'\\n')\n",
    "f.close()"
   ]
  },
  {
   "cell_type": "markdown",
   "metadata": {},
   "source": [
    "### Pickle"
   ]
  },
  {
   "cell_type": "code",
   "execution_count": 41,
   "metadata": {},
   "outputs": [
    {
     "name": "stderr",
     "output_type": "stream",
     "text": [
      "100%|██████████| 46570/46570 [00:14<00:00, 3186.77it/s]"
     ]
    },
    {
     "name": "stdout",
     "output_type": "stream",
     "text": [
      "\n",
      "Big pickle Prop: 0.00%\n",
      "Big pickle Size: 1.2 GB\n",
      "\n",
      "Med pickle Prop: 0.05%\n",
      "Med pickle Size: 3.8 GB\n",
      "\n",
      "Small pickle Prop: 2.01%\n",
      "Small pickle Size: 19.5 GB\n"
     ]
    },
    {
     "name": "stderr",
     "output_type": "stream",
     "text": [
      "\n"
     ]
    }
   ],
   "source": [
    "big_dirs = 0\n",
    "big_size = 0\n",
    "big_folds = []\n",
    "\n",
    "med_dirs = 0\n",
    "med_size = 0\n",
    "med_folds = []\n",
    "\n",
    "small_dirs = 0\n",
    "small_size = 0\n",
    "small_folds = []\n",
    "\n",
    "hundred = 104857600\n",
    "\n",
    "for folder in tqdm(folders):\n",
    "    if os.path.isfile(dir+folder+'/mols.pickle') and not os.path.isfile(dir+folder+'/mols_mpi_0.pickle'):\n",
    "        if os.stat(dir+folder+'/mols.pickle').st_size > 4*hundred:\n",
    "            big_dirs+=1\n",
    "            big_size+=os.stat(dir+folder+'/mols.pickle').st_size\n",
    "            big_folds.append(folder)\n",
    "        elif os.stat(dir+folder+'/mols.pickle').st_size > hundred:\n",
    "            med_dirs+=1\n",
    "            med_size+=os.stat(dir+folder+'/mols.pickle').st_size\n",
    "            med_folds.append(folder)\n",
    "        elif os.stat(dir+folder+'/mols.pickle').st_size!=0:\n",
    "            small_dirs+=1\n",
    "            small_size+=os.stat(dir+folder+'/mols.pickle').st_size\n",
    "            small_folds.append(folder)\n",
    "            \n",
    "print('\\nBig pickle Prop: {:.2f}%'.format(100*big_dirs/len(folders)))\n",
    "print('Big pickle Size: {}'.format(convert_bytes(big_size)))\n",
    "print('\\nMed pickle Prop: {:.2f}%'.format(100*med_dirs/len(folders)))\n",
    "print('Med pickle Size: {}'.format(convert_bytes(med_size)))\n",
    "print('\\nSmall pickle Prop: {:.2f}%'.format(100*small_dirs/len(folders)))\n",
    "print('Small pickle Size: {}'.format(convert_bytes(small_size)))"
   ]
  },
  {
   "cell_type": "code",
   "execution_count": 42,
   "metadata": {},
   "outputs": [
    {
     "name": "stdout",
     "output_type": "stream",
     "text": [
      "['GDDDDF', 'FHCACD']\n"
     ]
    }
   ],
   "source": [
    "print(big_folds)"
   ]
  },
  {
   "cell_type": "code",
   "execution_count": 43,
   "metadata": {
    "scrolled": false
   },
   "outputs": [
    {
     "name": "stdout",
     "output_type": "stream",
     "text": [
      "2\n",
      "21\n",
      "934\n"
     ]
    }
   ],
   "source": [
    "print(len(big_folds))\n",
    "f = open(dir+'bigs.txt', 'a')\n",
    "for line in big_folds:\n",
    "    f.write(line+'\\n')\n",
    "print(len(med_folds))\n",
    "f = open(dir+'meds.txt', 'a')\n",
    "for line in med_folds:\n",
    "    f.write(line+'\\n')\n",
    "print(len(small_folds))\n",
    "f = open(dir+'smalls.txt', 'a')\n",
    "for line in small_folds:\n",
    "    f.write(line+'\\n')\n",
    "f.close()"
   ]
  },
  {
   "cell_type": "code",
   "execution_count": 40,
   "metadata": {},
   "outputs": [
    {
     "name": "stderr",
     "output_type": "stream",
     "text": [
      "100%|██████████| 46570/46570 [00:06<00:00, 6728.92it/s]"
     ]
    },
    {
     "name": "stdout",
     "output_type": "stream",
     "text": [
      "\n",
      "Missing SMI Prop: 16.35%\n"
     ]
    },
    {
     "name": "stderr",
     "output_type": "stream",
     "text": [
      "\n"
     ]
    }
   ],
   "source": [
    "smi_folds = []\n",
    "\n",
    "for folder in tqdm(folders):\n",
    "    if os.path.isfile(dir+folder+'/pairs.pickle') and not os.path.isfile(dir+folder+'/mols.smi'):\n",
    "        smi_folds.append(folder)\n",
    "        \n",
    "print('\\nMissing SMI Prop: {:.2f}%'.format(100*len(smi_folds)/len(folders)))"
   ]
  },
  {
   "cell_type": "code",
   "execution_count": 42,
   "metadata": {},
   "outputs": [
    {
     "name": "stdout",
     "output_type": "stream",
     "text": [
      "7613\n"
     ]
    }
   ],
   "source": [
    "print(len(smi_folds))\n",
    "f = open(dir+'missing_smi.txt', 'w')\n",
    "for line in smi_folds:\n",
    "    f.write(line+'\\n')\n",
    "f.close()"
   ]
  },
  {
   "cell_type": "code",
   "execution_count": 33,
   "metadata": {},
   "outputs": [
    {
     "name": "stdout",
     "output_type": "stream",
     "text": [
      "6317\n"
     ]
    }
   ],
   "source": [
    "import pickle\n",
    "\n",
    "\n",
    "with open(dir+'GCDDFF/pairs.pickle', 'rb') as handle:\n",
    "    zinc_pairs = pickle.load(handle)  \n",
    "print(len(zinc_pairs))\n",
    "            "
   ]
  },
  {
   "cell_type": "code",
   "execution_count": null,
   "metadata": {},
   "outputs": [],
   "source": []
  }
 ],
 "metadata": {
  "kernelspec": {
   "display_name": "Python 3",
   "language": "python",
   "name": "python3"
  },
  "language_info": {
   "codemirror_mode": {
    "name": "ipython",
    "version": 3
   },
   "file_extension": ".py",
   "mimetype": "text/x-python",
   "name": "python",
   "nbconvert_exporter": "python",
   "pygments_lexer": "ipython3",
   "version": "3.6.10"
  }
 },
 "nbformat": 4,
 "nbformat_minor": 4
}
