{
 "cells": [
  {
   "cell_type": "code",
   "execution_count": 1,
   "metadata": {},
   "outputs": [],
   "source": [
    "from os import listdir\n",
    "import pickle\n",
    "import math\n",
    "import random\n",
    "\n",
    "import pandas as pd\n",
    "import numpy as np\n",
    "from tqdm import tqdm\n",
    "from itertools import product\n",
    "\n",
    "from rdkit import Chem\n",
    "from rdkit.Chem import ChemicalFeatures, MolFromSmiles, MolToSmiles, AllChem\n",
    "from rdkit import Geometry\n",
    "from rdkit.Chem.Pharm3D import Pharmacophore, EmbedLib\n",
    "from rdkit.RDPaths import RDDataDir\n",
    "import os.path\n",
    "\n",
    "from sklearn.neighbors import KernelDensity\n",
    "from sklearn.model_selection import GridSearchCV\n",
    "from scipy.stats import entropy\n",
    "from scipy.spatial.distance import jensenshannon as jsd\n",
    "from scipy.stats import ks_2samp\n",
    "\n",
    "import seaborn as sns\n",
    "import matplotlib.pyplot as plt\n",
    "import matplotlib as mpl\n",
    "mpl.rcParams['figure.dpi'] = 200\n",
    "%matplotlib inline\n",
    "\n",
    "from ipywidgets import interact\n",
    "\n",
    "from frag_funcs import return_random_dataframe, return_pcore_dataframe, get_pair_distances, get_trip_distances\n",
    "\n",
    "fdefFile = os.path.join(RDDataDir,'BaseFeatures.fdef')\n",
    "featFactory = ChemicalFeatures.BuildFeatureFactory(fdefFile)\n",
    "\n",
    "with open('frag_pair_distance_dict.pickle', 'rb') as handle:\n",
    "    frag_pair_distance_dict = pickle.load(handle)\n",
    "    \n",
    "with open('kde_dict_opt.pickle', 'rb') as handle:\n",
    "    kde_dict = pickle.load(handle)  "
   ]
  },
  {
   "cell_type": "code",
   "execution_count": 2,
   "metadata": {},
   "outputs": [
    {
     "name": "stderr",
     "output_type": "stream",
     "text": [
      " 76%|███████▌  | 1062/1396 [00:54<00:22, 14.59it/s]RDKit ERROR: [09:46:59] UFFTYPER: Unrecognized atom type: S_6+6 (10)\n",
      " 99%|█████████▊| 1377/1396 [01:10<00:00, 29.83it/s]RDKit ERROR: [09:47:15] UFFTYPER: Unrecognized atom type: Au6 (13)\n",
      " 99%|█████████▉| 1381/1396 [01:10<00:00, 29.72it/s]RDKit ERROR: [09:47:15] UFFTYPER: Unrecognized atom type: Au6 (7)\n",
      "RDKit ERROR: [09:47:15] UFFTYPER: Unrecognized atom type: Au6 (6)\n",
      "100%|██████████| 1396/1396 [01:11<00:00, 19.60it/s]\n",
      "100%|██████████| 1396/1396 [00:54<00:00, 25.51it/s]\n",
      "100%|██████████| 1396/1396 [00:50<00:00, 27.43it/s]\n"
     ]
    }
   ],
   "source": [
    "interesting_pcores = ['Donor', 'Acceptor', 'Aromatic']\n",
    "\n",
    "df = pd.read_csv('data/activity_data-3.csv').sort_values(by='f_avg_IC50')\n",
    "# df = df[df['f_avg_IC50']>3]        \n",
    " \n",
    "hits = []\n",
    "for i,row in df.iterrows():\n",
    "    hits.append([MolFromSmiles(row['SMILES'])])    \n",
    "    \n",
    "hit_mols = [None]*len(hits)\n",
    "for i,hit in tqdm(enumerate(hits), total=len(hits)):\n",
    "    try:\n",
    "        mol = MolFromSmiles(MolToSmiles(hit[0]))\n",
    "\n",
    "        #constrained conformer generation\n",
    "        mol = Chem.AddHs(mol)\n",
    "        AllChem.EmbedMolecule(mol)\n",
    "\n",
    "        mol = Chem.RemoveHs(mol)\n",
    "\n",
    "        #calculate properties from surviving conformers\n",
    "        conf = mol.GetConformer()\n",
    "\n",
    "        mol_data = [mol]\n",
    "        for j,atom in enumerate(mol.GetAtoms()):\n",
    "            mol_data.append([atom.GetSymbol(),\n",
    "                                conf.GetPositions()[j]\n",
    "                                ])\n",
    "        hit_mols[i] = mol_data\n",
    "    except Exception as ex:\n",
    "        print(ex)\n",
    "        print(str(i)+' failed')\n",
    "        continue\n",
    "hit_df = return_pcore_dataframe(hit_mols, interesting_pcores, hit=False)\n",
    "\n",
    "hit_pairs = [None]*len(set(hit_df['mol_id']))\n",
    "for j,i in tqdm(enumerate(set(hit_df['mol_id'])), total=len(hit_pairs)):\n",
    "    hit_pair_individual = {}\n",
    "    \n",
    "    for pcore_pair in product(interesting_pcores,repeat=2):\n",
    "        core_a,core_b = pcore_pair\n",
    "        combo = core_a+'-'+core_b\n",
    "        hit_pair_individual[combo]= get_pair_distances(hit_df[hit_df['mol_id']==i], core_a, core_b, frag=False, active=None)\n",
    "    hit_pairs[j] = hit_pair_individual"
   ]
  },
  {
   "cell_type": "code",
   "execution_count": 3,
   "metadata": {},
   "outputs": [
    {
     "name": "stderr",
     "output_type": "stream",
     "text": [
      "100%|██████████| 6/6 [00:03<00:00,  1.65it/s]"
     ]
    },
    {
     "name": "stdout",
     "output_type": "stream",
     "text": [
      "                                                 SMILES                  CID  \\\n",
      "874   CC(C)C[C@H](NC(=O)OCc1ccccc1)C(=O)N[C@@H](CC1C...   JOH-MSK-46727e7b-1   \n",
      "421     C=CC(=O)N(C(=O)C1COc2ccc(Cl)cc21)c1cncc2ccccc12   MAT-POS-e69ad64a-2   \n",
      "1171                 O=C(Oc1cncc(Cl)c1)c1cccc2[nH]ccc12   ALP-POS-c59291d4-5   \n",
      "216   C#CCCCC(=O)N[C@H](C(=O)N[C@H](CC(C)C)C(=O)NN(C...   STE-KUL-d79e3d6a-2   \n",
      "217   C#CCCCC(=O)N[C@H](C(=O)N[C@H](CC(C)C)C(=O)NN(C...   STE-KUL-d79e3d6a-3   \n",
      "...                                                 ...                  ...   \n",
      "1359    Cc1ccn2c(-c3ccc4[nH]ncc4c3)c(-c3ccc(F)cc3)nc2c1  ALV-UNI-7ff1a6f9-14   \n",
      "1363                              CC1C(O)CCCN1Cc1ccccc1   MAK-UNK-6435e6c2-9   \n",
      "1372      O=C(CCl)N1CCN(Cc2cccc(Cl)c2)C[C@@H]1Cc1ccccc1  DAN-LON-a5fc619e-10   \n",
      "1379         CS(=O)(=O)N(CCc1ccccc1)CC1CCN(C(=O)CCl)CC1  DUN-NEW-f8ce3686-25   \n",
      "1381            O=C(Nc1cccnc1)N(CCN1CCOCC1)c1cccc(Cl)c1   JOR-UNI-2fc98d0b-6   \n",
      "\n",
      "      f_avg_IC50     score  \n",
      "874     0.030060 -7.103420  \n",
      "421     0.040549       NaN  \n",
      "1171    0.050000 -3.857257  \n",
      "216     0.050000       NaN  \n",
      "217     0.050000       NaN  \n",
      "...          ...       ...  \n",
      "1359         NaN -3.733054  \n",
      "1363         NaN -7.281849  \n",
      "1372         NaN -4.411979  \n",
      "1379         NaN -6.608964  \n",
      "1381         NaN -4.456501  \n",
      "\n",
      "[1396 rows x 4 columns]\n"
     ]
    },
    {
     "name": "stderr",
     "output_type": "stream",
     "text": [
      "\n"
     ]
    }
   ],
   "source": [
    "important = ['Donor-Aromatic',\n",
    "             'Donor-Acceptor',\n",
    "            'Aromatic-Aromatic']\n",
    "unimportant = ['Donor-Donor',\n",
    "               'Aromatic-Acceptor',\n",
    "               'Acceptor-Acceptor']\n",
    "\n",
    "\n",
    "# important = ['Donor-Aromatic',\n",
    "#             'Aromatic-Aromatic']\n",
    "# unimportant = ['Donor-Donor',\n",
    "#                'Donor-Acceptor',\n",
    "#                'Aromatic-Acceptor',\n",
    "#                'Acceptor-Acceptor']\n",
    "\n",
    "pairs = important+unimportant\n",
    "\n",
    "hit_imp = np.empty((len(hit_pairs), len(important)))\n",
    "hit_nonimp = np.empty((len(hit_pairs), len(unimportant)))\n",
    "\n",
    "m = 0\n",
    "p = 0 \n",
    "for combo in tqdm(pairs):\n",
    "    core_a,core_b = combo.split('-')\n",
    "    \n",
    "    num_weight = len(frag_pair_distance_dict[combo])\n",
    "    kde = kde_dict[combo]\n",
    "\n",
    "    for i in range(len(hit_pairs)):\n",
    "        try:\n",
    "            ith_score = np.abs(kde.score_samples(hit_pairs[i][combo][0].reshape(-1,1))) #absolute log-prob (smaller = higher prob)\n",
    "\n",
    "            if combo in important:\n",
    "\n",
    "                hit_imp[i,m] = np.mean(ith_score)\n",
    "\n",
    "            else:\n",
    "                hit_nonimp[i,p] = np.mean(ith_score)\n",
    "\n",
    "        except Exception as ex:\n",
    "            if combo in important:\n",
    "                hit_imp[i,m] = np.nan\n",
    "            else:\n",
    "                hit_nonimp[i,p] = np.nan\n",
    "\n",
    "    if combo in important:\n",
    "        m+=1\n",
    "    else:\n",
    "        p+=1\n",
    "        \n",
    "final_hit_imp = np.mean(hit_imp, axis=1)\n",
    "df = df[['SMILES', 'CID','f_avg_IC50', 'f_avg_pIC50']]\n",
    "\n",
    "df['score'] = -final_hit_imp\n",
    "print(df)"
   ]
  },
  {
   "cell_type": "code",
   "execution_count": 86,
   "metadata": {},
   "outputs": [
    {
     "name": "stdout",
     "output_type": "stream",
     "text": [
      "1286\n",
      "inactive    815\n",
      "active      471\n",
      "Name: label, dtype: int64\n",
      "                                                 SMILES                  CID  \\\n",
      "316   O=C(Cc1ccc(-n2cnnn2)cc1)NC(C(=O)Nc1cncc2ccccc1...  EDJ-MED-ee07cf00-15   \n",
      "436   Cn1nc(C(=O)NC(C)(C(=O)Nc2cncc3ccccc23)c2ccc(Cl...   MAT-POS-e9e99895-4   \n",
      "746   N#Cc1ccc(N(C(=O)c2ccco2)C(C(=O)NCCc2cccc(F)c2)...  ALP-POS-b0bc6a46-24   \n",
      "514   CC(C)(C)c1ccc(N(C(=O)c2cn(CCN3CCOCC3)nn2)C(C(=...  ALP-POS-305f6ec3-11   \n",
      "107         CNCC1(C(=O)Nc2cncc3ccccc23)CCOc2ccc(Cl)cc21   MAT-POS-45b13633-2   \n",
      "...                                                 ...                  ...   \n",
      "1359    Cc1ccn2c(-c3ccc4[nH]ncc4c3)c(-c3ccc(F)cc3)nc2c1  ALV-UNI-7ff1a6f9-14   \n",
      "1363                              CC1C(O)CCCN1Cc1ccccc1   MAK-UNK-6435e6c2-9   \n",
      "1372      O=C(CCl)N1CCN(Cc2cccc(Cl)c2)C[C@@H]1Cc1ccccc1  DAN-LON-a5fc619e-10   \n",
      "1379         CS(=O)(=O)N(CCc1ccccc1)CC1CCN(C(=O)CCl)CC1  DUN-NEW-f8ce3686-25   \n",
      "1381            O=C(Nc1cccnc1)N(CCN1CCOCC1)c1cccc(Cl)c1   JOR-UNI-2fc98d0b-6   \n",
      "\n",
      "      f_avg_IC50  f_avg_pIC50      score     label  \n",
      "316    10.251179          NaN -37.033632  inactive  \n",
      "436    10.344705          NaN  -3.536969  inactive  \n",
      "746    10.395178          NaN  -3.413624  inactive  \n",
      "514    10.490536          NaN  -3.750567  inactive  \n",
      "107    10.495939          NaN  -3.693832  inactive  \n",
      "...          ...          ...        ...       ...  \n",
      "1359         NaN          NaN  -3.733054  inactive  \n",
      "1363         NaN          NaN  -7.281849  inactive  \n",
      "1372         NaN          NaN  -4.411979  inactive  \n",
      "1379         NaN          NaN  -6.608964  inactive  \n",
      "1381         NaN          NaN  -4.456501  inactive  \n",
      "\n",
      "[815 rows x 6 columns]\n"
     ]
    }
   ],
   "source": [
    "df = pd.read_csv('data/activity_data-3.csv').sort_values(by='f_avg_IC50')\n",
    "df = df[['SMILES', 'CID','f_avg_IC50', 'f_avg_pIC50']]\n",
    "df['score'] = -final_hit_imp\n",
    "df = df[df['score'].notnull()]\n",
    "print(len(df))\n",
    "for i, row in df.iterrows():\n",
    "    if row['f_avg_IC50'] < 10:\n",
    "        df.loc[i, 'label'] = 'active'\n",
    "    else:\n",
    "        df.loc[i, 'label'] = 'inactive'\n",
    "print(df['label'].value_counts())\n",
    "print(df[df['label']=='inactive'])"
   ]
  },
  {
   "cell_type": "code",
   "execution_count": null,
   "metadata": {
    "scrolled": true
   },
   "outputs": [],
   "source": [
    "ax = sns.scatterplot(\"f_avg_IC50\",\"score\",data=df)\n",
    "ax.set(xscale=\"log\")\n",
    "ax.set(ylim=[-10,0]);"
   ]
  },
  {
   "cell_type": "code",
   "execution_count": 77,
   "metadata": {},
   "outputs": [
    {
     "data": {
      "application/vnd.jupyter.widget-view+json": {
       "model_id": "bb61773bf87542b49d8b7bdce77a140c",
       "version_major": 2,
       "version_minor": 0
      },
      "text/plain": [
       "interactive(children=(IntSlider(value=10, description='x', max=30, min=-10), Output()), _dom_classes=('widget-…"
      ]
     },
     "metadata": {},
     "output_type": "display_data"
    }
   ],
   "source": [
    "\n",
    "def f(x):\n",
    "    return x\n",
    "\n"
   ]
  },
  {
   "cell_type": "code",
   "execution_count": 88,
   "metadata": {},
   "outputs": [
    {
     "data": {
      "application/vnd.jupyter.widget-view+json": {
       "model_id": "9e1fa63c5036473089460f3d8a80aa88",
       "version_major": 2,
       "version_minor": 0
      },
      "text/plain": [
       "interactive(children=(FloatSlider(value=50.0, description='threshold', step=0.5), Output()), _dom_classes=('wi…"
      ]
     },
     "metadata": {},
     "output_type": "display_data"
    }
   ],
   "source": [
    "df = pd.read_csv('data/activity_data-3.csv').sort_values(by='f_avg_IC50')\n",
    "df = df[['SMILES', 'CID','f_avg_IC50', 'f_avg_pIC50']]\n",
    "df['score'] = -final_hit_imp\n",
    "df = df[df['score'].notnull()]\n",
    "\n",
    "def plot_hist(threshold):\n",
    "    for i, row in df.iterrows():\n",
    "        if row['f_avg_IC50'] < threshold:\n",
    "            df.loc[i, 'label'] = 'active'\n",
    "        else:\n",
    "            df.loc[i, 'label'] = 'inactive'\n",
    "\n",
    "    plt.style.use('default')\n",
    "    # sns.set(rc={\"figure.dpi\":100})\n",
    "    x = df[df['label']=='inactive']['score'].values\n",
    "    y = df[df['label']=='active']['score'].values\n",
    "    # sns.histplot(data = df, x=\"score\", hue='label', multiple=\"stack\", stat='density', common_norm=False)\n",
    "    # _, bins, _ = plt.hist(df[df['label']=='active']['score'].values, density=True, bins='auto', alpha=0.7, histtype='stepfilled')\n",
    "    plt.hist(x, density=True, bins=bins, alpha=0.7, histtype='stepfilled', \n",
    "             label='IC50>{}uM / inactive'.format(threshold))\n",
    "    plt.hist(y, density=True, bins=bins, alpha=0.7, histtype='stepfilled', \n",
    "             label='IC50<{}uM'.format(threshold))\n",
    "    # plt.hist([x, y], density=True, bins=bins)\n",
    "    plt.xlabel('2body_score')\n",
    "    plt.ylabel('density')\n",
    "    plt.legend(loc='upper left')\n",
    "    plt.xlim(left=-8, right=-3)\n",
    "    plt.show()\n",
    "    \n",
    "interact(plot_hist, threshold=(0.0,100.0, 0.5));"
   ]
  },
  {
   "cell_type": "code",
   "execution_count": 95,
   "metadata": {
    "scrolled": false
   },
   "outputs": [
    {
     "data": {
      "application/vnd.jupyter.widget-view+json": {
       "model_id": "041bdfcd7d2446dcaf5cb780e0d2eb08",
       "version_major": 2,
       "version_minor": 0
      },
      "text/plain": [
       "interactive(children=(FloatSlider(value=50.0, description='threshold', step=0.5), Output()), _dom_classes=('wi…"
      ]
     },
     "metadata": {},
     "output_type": "display_data"
    }
   ],
   "source": [
    "df = pd.read_csv('data/activity_data-3.csv').sort_values(by='f_avg_IC50')\n",
    "df = df[['SMILES', 'CID','f_avg_IC50', 'f_avg_pIC50']]\n",
    "df['score'] = final_hit_imp\n",
    "df = df[df['score'].notnull()]\n",
    "\n",
    "def enrichment(score_df, n=10, score='score', index='active', log=False, ascending=True):\n",
    "    \n",
    "    df = score_df[score_df[score].notna()]\n",
    "    orig_prop = len(df[df[index]])/len(df)\n",
    "    \n",
    "    if log:\n",
    "        print('orig proportion of {}: {:.3f}%'.format(index, orig_prop*100))\n",
    "    \n",
    "    sorted_df = df.sort_values(by=score, ascending=ascending).iloc[:n]\n",
    "#     print(sorted_df)\n",
    "    new_prop = len(sorted_df[sorted_df[index]])/len(sorted_df)\n",
    "    if log:\n",
    "        print('N = {}, n_hits = {}, new proportion of {}: {:.3f}%'.format(n, len(sorted_df[sorted_df[index]]),index, new_prop*100))\n",
    "    EF = new_prop/orig_prop\n",
    "    return EF\n",
    "\n",
    "def plot_EF(threshold):\n",
    "    for i, row in df.iterrows():\n",
    "        if row['f_avg_IC50'] < threshold:\n",
    "            df.loc[i, 'active'] = True\n",
    "        else:\n",
    "            df.loc[i, 'active'] = False\n",
    "    \n",
    "    n_list = np.logspace(start=np.log10(5), stop=2, num=20) # only check top 100\n",
    "    EF = [enrichment(df, n=int(n), index='active') for n in n_list]\n",
    "\n",
    "    orig_prop = len(df[df['active']])/len(df)\n",
    "\n",
    "    fig = plt.figure(dpi=300)\n",
    "    plt.plot(n_list, EF, 'b-', label='All')\n",
    "    plt.title(r'2-Body $EF(n)$ - Moonshot, RDKit confs')\n",
    "    plt.legend(prop={'size': 8})\n",
    "    plt.plot(n_list, np.ones_like(n_list), 'k:')\n",
    "    extraticks = [1]\n",
    "    plt.yticks(list(plt.yticks()[0]) + extraticks)\n",
    "    plt.ylim(bottom=0)\n",
    "    plt.xlabel('n')\n",
    "    plt.ylabel('EF \\n(base rate = {:.1f}%)'.format(orig_prop*100))\n",
    "    plt.show()\n",
    "\n",
    "interact(plot_EF, threshold=(0.0,100.0, 0.5));"
   ]
  }
 ],
 "metadata": {
  "kernelspec": {
   "display_name": "Python 3",
   "language": "python",
   "name": "python3"
  },
  "language_info": {
   "codemirror_mode": {
    "name": "ipython",
    "version": 3
   },
   "file_extension": ".py",
   "mimetype": "text/x-python",
   "name": "python",
   "nbconvert_exporter": "python",
   "pygments_lexer": "ipython3",
   "version": "3.6.10"
  }
 },
 "nbformat": 4,
 "nbformat_minor": 4
}
