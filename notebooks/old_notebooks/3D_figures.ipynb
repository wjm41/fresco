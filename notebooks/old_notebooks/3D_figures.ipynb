{
 "cells": [
  {
   "cell_type": "markdown",
   "metadata": {},
   "source": [
    "# Imports"
   ]
  },
  {
   "cell_type": "code",
   "execution_count": 1,
   "metadata": {},
   "outputs": [
    {
     "data": {
      "text/html": [
       "<style>.container { width:80% !important; }</style>"
      ],
      "text/plain": [
       "<IPython.core.display.HTML object>"
      ]
     },
     "metadata": {},
     "output_type": "display_data"
    },
    {
     "name": "stderr",
     "output_type": "stream",
     "text": [
      "INFO:rdkit:Enabling RDKit 2020.03.3 jupyter extensions\n"
     ]
    }
   ],
   "source": [
    "from ipywidgets import interact\n",
    "from os import listdir\n",
    "from copy import deepcopy\n",
    "import pickle \n",
    "import time \n",
    "\n",
    "from IPython.core.display import display, HTML\n",
    "display(HTML(\"<style>.container { width:80% !important; }</style>\"))\n",
    "\n",
    "import pandas as pd\n",
    "import numpy as np\n",
    "from tqdm import tqdm\n",
    "\n",
    "from rdkit import Chem\n",
    "from rdkit.Chem import AllChem, rdFMCS, rdMolDescriptors, MolFromSmiles, MolToSmiles, Draw, MolFromPDBFile\n",
    "from rdkit.Chem.SaltRemover import SaltRemover\n",
    "from rdkit.Chem.rdmolops import GetSymmSSSR\n",
    "from rdkit.Chem.rdmolfiles import MolFromPDBBlock\n",
    "from rdkit.Chem.Draw import IPythonConsole #Needed to show molecules\n",
    "\n",
    "from rdkit.Chem import ChemicalFeatures\n",
    "from rdkit import Geometry\n",
    "from rdkit.Chem.Pharm3D import Pharmacophore, EmbedLib\n",
    "from rdkit.RDPaths import RDDataDir\n",
    "import os.path\n",
    "\n",
    "import frag_funcs \n",
    "\n",
    "fdefFile = os.path.join(RDDataDir,'BaseFeatures.fdef')\n",
    "featFactory = ChemicalFeatures.BuildFeatureFactory(fdefFile)\n",
    "\n",
    "remover = SaltRemover()\n",
    "\n",
    "from rdkit import RDLogger\n",
    "RDLogger.DisableLog('rdApp.*') # removes annoying RDKit warnings\n",
    "\n",
    "import py3Dmol\n",
    "import mols2grid\n",
    "\n",
    "\n"
   ]
  },
  {
   "cell_type": "markdown",
   "metadata": {},
   "source": [
    "Conformer generation funcitons (Joshua Myers code)"
   ]
  },
  {
   "cell_type": "code",
   "execution_count": 2,
   "metadata": {},
   "outputs": [],
   "source": [
    "import Bio.PDB as PDB\n",
    "\n",
    "def duplicate_conformers(m: Chem.rdchem.Mol, new_conf_idx: int, rms_limit: float = 0.5) -> bool:\n",
    "    rmslist = []\n",
    "    for i in range(m.GetNumConformers()):\n",
    "        if i == new_conf_idx:\n",
    "            continue\n",
    "        rms = AllChem.GetConformerRMS(m, new_conf_idx, i, prealigned=True)\n",
    "        rmslist.append(rms)\n",
    "    return any(i < rms_limit for i in rmslist)\n",
    "\n",
    "\n",
    "def get_mcs(mol_one: Chem.rdchem.Mol, mol_two: Chem.rdchem.Mol) -> str:\n",
    "    \"\"\"Code to find the maximum common substructure between two molecules.\"\"\"\n",
    "    return Chem.MolToSmiles(\n",
    "        Chem.MolFromSmarts(\n",
    "            rdFMCS.FindMCS([mol_one,mol_two], completeRingsOnly=True, matchValences=True).smartsString\n",
    "        )\n",
    "    )\n",
    "\n",
    "\n",
    "def generate_conformers(mol, ref_mol, num_conf, ref_smi, minimum_conf_rms):\n",
    "    # if SMILES to be fixed are not given, assume to the MCS\n",
    "    if not ref_smi:\n",
    "        ref_smi = get_mcs(mol, ref_mol)\n",
    "    print('Aligning {}'.format(ref_smi))\n",
    "    # Creating core of reference ligand #\n",
    "    try:\n",
    "        core_with_wildcards = AllChem.ReplaceSidechains(ref_mol, Chem.MolFromSmiles(ref_smi))\n",
    "\n",
    "        core = AllChem.DeleteSubstructs(core_with_wildcards, Chem.MolFromSmiles('*'))\n",
    "        core.UpdatePropertyCache()\n",
    "\n",
    "        # Add Hs so that conf gen is improved\n",
    "        mol.RemoveAllConformers()\n",
    "        mol = Chem.AddHs(mol)\n",
    "\n",
    "        # Generate conformers with constrained embed\n",
    "        dup_count = 0\n",
    "        for i in range(num_conf):\n",
    "            temp_mol = AllChem.ConstrainedEmbed(deepcopy(mol), core, ignoreSmoothingFailures=True,randomseed=i)\n",
    "            conf_idx = mol.AddConformer(temp_mol.GetConformer(0), assignId=True)\n",
    "            if minimum_conf_rms is not None:\n",
    "                if duplicate_conformers(mol, conf_idx, rms_limit=minimum_conf_rms):\n",
    "                    dup_count += 1\n",
    "                    mol.RemoveConformer(conf_idx)\n",
    "        if dup_count:\n",
    "            print(f'removed {dup_count} duplicated conformations')\n",
    "        return mol\n",
    "    except Exception as ex:\n",
    "        core_with_wildcards = AllChem.ReplaceSidechains(ref_mol, Chem.MolFromSmiles(get_mcs(mol, ref_mol)))\n",
    "        core = AllChem.DeleteSubstructs(core_with_wildcards, Chem.MolFromSmiles('*'))\n",
    "        core.UpdatePropertyCache()\n",
    "\n",
    "        # Add Hs so that conf gen is improved\n",
    "        mol.RemoveAllConformers()\n",
    "        mol = Chem.AddHs(mol)\n",
    "\n",
    "        # Generate conformers with constrained embed\n",
    "        dup_count = 0\n",
    "        for i in range(num_conf):\n",
    "            temp_mol = AllChem.ConstrainedEmbed(deepcopy(mol), core, ignoreSmoothingFailures=True,useRandomCoords=True,useTethers=True,randomseed=i)\n",
    "            conf_idx = mol.AddConformer(temp_mol.GetConformer(0), assignId=True)\n",
    "            if minimum_conf_rms is not None:\n",
    "                if duplicate_conformers(mol, conf_idx, rms_limit=minimum_conf_rms):\n",
    "                    dup_count += 1\n",
    "                    mol.RemoveConformer(conf_idx)\n",
    "        if dup_count:\n",
    "            print(f'removed {dup_count} duplicated conformations')\n",
    "        return mol\n",
    "    \n",
    "class ProteinLigandClashFilter:\n",
    "    def __init__(self, protein_pdbpath: str, distance: float = 1.5):\n",
    "        parser = PDB.PDBParser(QUIET=True, PERMISSIVE=True)\n",
    "        s = parser.get_structure('protein', protein_pdbpath)\n",
    "        self.kd = PDB.NeighborSearch(list(s.get_atoms()))\n",
    "        self.radius = distance\n",
    "\n",
    "    def __call__(self, conf: Chem.rdchem.Conformer) -> bool:\n",
    "        for coord in conf.GetPositions():\n",
    "            res = self.kd.search(coord, radius=self.radius)\n",
    "            if len(res):\n",
    "                return True\n",
    "        return False"
   ]
  },
  {
   "cell_type": "markdown",
   "metadata": {},
   "source": [
    "# MPro"
   ]
  },
  {
   "cell_type": "code",
   "execution_count": 3,
   "metadata": {},
   "outputs": [
    {
     "name": "stderr",
     "output_type": "stream",
     "text": [
      "  0%|          | 0/23 [00:00<?, ?it/s]"
     ]
    },
    {
     "name": "stdout",
     "output_type": "stream",
     "text": [
      "Aligning COC(=O)c1ccc(S(N)(=O)=O)cc1\n"
     ]
    },
    {
     "name": "stderr",
     "output_type": "stream",
     "text": [
      "  4%|▍         | 1/23 [00:01<00:37,  1.70s/it]"
     ]
    },
    {
     "name": "stdout",
     "output_type": "stream",
     "text": [
      "removed 82 duplicated conformations\n",
      "Remaining conformations after removing duplicates: 18\n",
      "Aligning O=C(NCCc1ccncc1)NC1CCCCC1\n"
     ]
    },
    {
     "name": "stderr",
     "output_type": "stream",
     "text": [
      "  9%|▊         | 2/23 [00:08<01:07,  3.22s/it]"
     ]
    },
    {
     "name": "stdout",
     "output_type": "stream",
     "text": [
      "removed 60 duplicated conformations\n",
      "Remaining conformations after removing duplicates: 40\n",
      "Aligning NC(=O)[C@H]1CCC[C@H]1c1ccsc1\n"
     ]
    },
    {
     "name": "stderr",
     "output_type": "stream",
     "text": [
      " 13%|█▎        | 3/23 [00:10<00:59,  2.96s/it]"
     ]
    },
    {
     "name": "stdout",
     "output_type": "stream",
     "text": [
      "removed 92 duplicated conformations\n",
      "Remaining conformations after removing duplicates: 8\n",
      "Aligning N#Cc1ccc(N2CCCOCC2)cn1\n"
     ]
    },
    {
     "name": "stderr",
     "output_type": "stream",
     "text": [
      " 17%|█▋        | 4/23 [00:13<00:53,  2.80s/it]"
     ]
    },
    {
     "name": "stdout",
     "output_type": "stream",
     "text": [
      "removed 87 duplicated conformations\n",
      "Remaining conformations after removing duplicates: 13\n",
      "Aligning CCNc1ccc(C#N)cn1\n"
     ]
    },
    {
     "name": "stderr",
     "output_type": "stream",
     "text": [
      " 22%|██▏       | 5/23 [00:14<00:40,  2.25s/it]"
     ]
    },
    {
     "name": "stdout",
     "output_type": "stream",
     "text": [
      "removed 88 duplicated conformations\n",
      "Remaining conformations after removing duplicates: 12\n",
      "Aligning Cc1cc(CN(C)C(=O)NC2CC2)no1\n"
     ]
    },
    {
     "name": "stderr",
     "output_type": "stream",
     "text": [
      " 26%|██▌       | 6/23 [00:18<00:47,  2.80s/it]"
     ]
    },
    {
     "name": "stdout",
     "output_type": "stream",
     "text": [
      "removed 42 duplicated conformations\n",
      "Remaining conformations after removing duplicates: 58\n",
      "Aligning CCC(=N)N\n"
     ]
    },
    {
     "name": "stderr",
     "output_type": "stream",
     "text": [
      " 30%|███       | 7/23 [00:18<00:33,  2.11s/it]"
     ]
    },
    {
     "name": "stdout",
     "output_type": "stream",
     "text": [
      "removed 76 duplicated conformations\n",
      "Remaining conformations after removing duplicates: 24\n",
      "Aligning O=C(Nc1ccccc1)Nc1cccnc1\n"
     ]
    },
    {
     "name": "stderr",
     "output_type": "stream",
     "text": [
      " 35%|███▍      | 8/23 [00:21<00:33,  2.22s/it]"
     ]
    },
    {
     "name": "stdout",
     "output_type": "stream",
     "text": [
      "removed 99 duplicated conformations\n",
      "Remaining conformations after removing duplicates: 1\n",
      "Aligning CN1CCN(C(=O)Cc2c[nH]c3ncccc23)CC1\n"
     ]
    },
    {
     "name": "stderr",
     "output_type": "stream",
     "text": [
      " 39%|███▉      | 9/23 [00:26<00:43,  3.09s/it]"
     ]
    },
    {
     "name": "stdout",
     "output_type": "stream",
     "text": [
      "removed 63 duplicated conformations\n",
      "Remaining conformations after removing duplicates: 37\n",
      "Aligning N#Cc1ccc(CNC(=O)N2CCOCC2)cc1\n"
     ]
    },
    {
     "name": "stderr",
     "output_type": "stream",
     "text": [
      " 43%|████▎     | 10/23 [00:30<00:43,  3.32s/it]"
     ]
    },
    {
     "name": "stdout",
     "output_type": "stream",
     "text": [
      "removed 90 duplicated conformations\n",
      "Remaining conformations after removing duplicates: 10\n",
      "Aligning Cc1nnc(CN2CCC=C(F)C2)s1\n"
     ]
    },
    {
     "name": "stderr",
     "output_type": "stream",
     "text": [
      " 48%|████▊     | 11/23 [00:32<00:36,  3.00s/it]"
     ]
    },
    {
     "name": "stdout",
     "output_type": "stream",
     "text": [
      "removed 71 duplicated conformations\n",
      "Remaining conformations after removing duplicates: 29\n",
      "Aligning Cc1ccc(OCC(=O)N2CCN(C)CC2)cc1\n"
     ]
    },
    {
     "name": "stderr",
     "output_type": "stream",
     "text": [
      " 52%|█████▏    | 12/23 [00:37<00:39,  3.62s/it]"
     ]
    },
    {
     "name": "stdout",
     "output_type": "stream",
     "text": [
      "removed 33 duplicated conformations\n",
      "Remaining conformations after removing duplicates: 67\n",
      "Aligning Nc1cncnc1\n"
     ]
    },
    {
     "name": "stderr",
     "output_type": "stream",
     "text": [
      " 57%|█████▋    | 13/23 [00:37<00:26,  2.66s/it]"
     ]
    },
    {
     "name": "stdout",
     "output_type": "stream",
     "text": [
      "removed 98 duplicated conformations\n",
      "Remaining conformations after removing duplicates: 2\n",
      "Aligning CN1CCCc2ccc(S(N)(=O)=O)cc21\n"
     ]
    },
    {
     "name": "stderr",
     "output_type": "stream",
     "text": [
      " 61%|██████    | 14/23 [00:40<00:23,  2.65s/it]"
     ]
    },
    {
     "name": "stdout",
     "output_type": "stream",
     "text": [
      "removed 69 duplicated conformations\n",
      "Remaining conformations after removing duplicates: 31\n",
      "Aligning CC(=O)Nc1cnccc1C\n"
     ]
    },
    {
     "name": "stderr",
     "output_type": "stream",
     "text": [
      " 65%|██████▌   | 15/23 [00:42<00:18,  2.28s/it]"
     ]
    },
    {
     "name": "stdout",
     "output_type": "stream",
     "text": [
      "removed 66 duplicated conformations\n",
      "Remaining conformations after removing duplicates: 34\n",
      "Aligning CC(=O)NCCc1c[nH]c2ccc(F)cc12\n"
     ]
    },
    {
     "name": "stderr",
     "output_type": "stream",
     "text": [
      " 70%|██████▉   | 16/23 [00:45<00:18,  2.62s/it]"
     ]
    },
    {
     "name": "stdout",
     "output_type": "stream",
     "text": [
      "removed 86 duplicated conformations\n",
      "Remaining conformations after removing duplicates: 14\n",
      "Aligning O=C(NCCc1ccncc1)c1ccccc1F\n"
     ]
    },
    {
     "name": "stderr",
     "output_type": "stream",
     "text": [
      " 74%|███████▍  | 17/23 [00:49<00:17,  2.95s/it]"
     ]
    },
    {
     "name": "stdout",
     "output_type": "stream",
     "text": [
      "removed 97 duplicated conformations\n",
      "Remaining conformations after removing duplicates: 3\n",
      "Aligning CC(=O)NC(Cc1ccc(O)cc1)C(=O)NCC#CBr\n"
     ]
    },
    {
     "name": "stderr",
     "output_type": "stream",
     "text": [
      " 78%|███████▊  | 18/23 [00:54<00:18,  3.61s/it]"
     ]
    },
    {
     "name": "stdout",
     "output_type": "stream",
     "text": [
      "removed 73 duplicated conformations\n",
      "Remaining conformations after removing duplicates: 27\n",
      "Aligning CS(=O)(=O)c1ccc(N2CCNCC2)cc1\n"
     ]
    },
    {
     "name": "stderr",
     "output_type": "stream",
     "text": [
      " 83%|████████▎ | 19/23 [00:57<00:14,  3.54s/it]"
     ]
    },
    {
     "name": "stdout",
     "output_type": "stream",
     "text": [
      "removed 68 duplicated conformations\n",
      "Remaining conformations after removing duplicates: 32\n",
      "Aligning NS(=O)(=O)c1ccc(Br)cc1\n"
     ]
    },
    {
     "name": "stderr",
     "output_type": "stream",
     "text": [
      " 87%|████████▋ | 20/23 [00:58<00:08,  2.71s/it]"
     ]
    },
    {
     "name": "stdout",
     "output_type": "stream",
     "text": [
      "removed 97 duplicated conformations\n",
      "Remaining conformations after removing duplicates: 3\n",
      "Aligning O=C(CC1CCCCC1)Nc1cccnc1\n"
     ]
    },
    {
     "name": "stderr",
     "output_type": "stream",
     "text": [
      " 91%|█████████▏| 21/23 [01:01<00:05,  2.94s/it]"
     ]
    },
    {
     "name": "stdout",
     "output_type": "stream",
     "text": [
      "removed 65 duplicated conformations\n",
      "Remaining conformations after removing duplicates: 35\n",
      "Aligning CS(=O)(=O)NCCc1ccccc1\n"
     ]
    },
    {
     "name": "stderr",
     "output_type": "stream",
     "text": [
      " 96%|█████████▌| 22/23 [01:04<00:02,  2.70s/it]"
     ]
    },
    {
     "name": "stdout",
     "output_type": "stream",
     "text": [
      "removed 81 duplicated conformations\n",
      "Remaining conformations after removing duplicates: 19\n",
      "Aligning OC1CCN(Cc2ccsc2)CC1\n"
     ]
    },
    {
     "name": "stderr",
     "output_type": "stream",
     "text": [
      "100%|██████████| 23/23 [01:06<00:00,  2.87s/it]"
     ]
    },
    {
     "name": "stdout",
     "output_type": "stream",
     "text": [
      "removed 75 duplicated conformations\n",
      "Remaining conformations after removing duplicates: 25\n",
      "Number of smiles: 23\n",
      "Number of unique smiles: 23\n"
     ]
    },
    {
     "name": "stderr",
     "output_type": "stream",
     "text": [
      "\n"
     ]
    }
   ],
   "source": [
    "data_dir = '/home/wjm41/ml_physics/frag-pcore-screen/data/Mpro'\n",
    "\n",
    "filenames = [ f for f in listdir(data_dir + '/frags/') if f[-5:]=='0.pdb']\n",
    "df = pd.read_csv(data_dir + '/frags/hits_summary.csv')\n",
    "df = df.set_index('Dataset')\n",
    "\n",
    "frags = []\n",
    "smiles_list = []\n",
    "for f in tqdm(filenames):\n",
    "    try:\n",
    "        #read SMILES from .csv\n",
    "        dataname = f[:-6]\n",
    "        smiles = df.loc[dataname]['Compound SMILES']\n",
    "        mol = AllChem.MolFromSmiles(smiles)\n",
    "        mol = remover.StripMol(mol)\n",
    "        smiles = MolToSmiles(mol)\n",
    "\n",
    "        #read coords from PDB\n",
    "        file = open(data_dir + '/frags/'+f, 'r')\n",
    "        data = file.read().splitlines()\n",
    "        ligand = [line+'\\n' for line in data if 'LIG' in line and 'HETATM' in line]\n",
    "        pdbblock = ''.join(ligand)\n",
    "        read_mol = MolFromPDBBlock(pdbblock)\n",
    "        ref_mol = AllChem.AssignBondOrdersFromTemplate(mol, read_mol)\n",
    "\n",
    "        #constrained conformer generation\n",
    "        mol = Chem.AddHs(mol)\n",
    "        mol = generate_conformers(mol, ref_mol, 100, ref_smi = smiles, minimum_conf_rms=0.5)\n",
    "        print('Remaining conformations after removing duplicates: {}'.format(mol.GetNumConformers()))\n",
    "\n",
    "#         #check for protein clashes\n",
    "#         pdb_path = 'data/cov_and_noncov/'+dataname+'_0_new.pdb'\n",
    "#         clash_filter = ProteinLigandClashFilter(pdb_path, distance=0.5)\n",
    "#         for conf in mol.GetConformers():\n",
    "#             if clash_filter(conf):\n",
    "#                 confid = conf.GetId()\n",
    "#                 print(f'removing conformer id: {confid}')\n",
    "#                 mol.RemoveConformer(confid)\n",
    "#         print('Remaining conformations after removing clashes: {}'.format(mol.GetNumConformers()))\n",
    "\n",
    "        conf = mol.GetConformer()\n",
    "\n",
    "        ligand_data = [mol]\n",
    "        for j,atom in enumerate(mol.GetAtoms()):\n",
    "            ligand_data.append([atom.GetSymbol(),\n",
    "                                conf.GetPositions()[j]])\n",
    "\n",
    "        frags.append(ligand_data)\n",
    "        smiles_list.append(MolToSmiles(MolFromSmiles(smiles)))\n",
    "#     hit_data.append(mol_row['Fluorescence avg IC50 (uM)'].values[0])\n",
    "\n",
    "#     hits.append(hit_data)\n",
    "    except Exception as ex:\n",
    "        print(\"Couldn't generate conformers for {}\".format(smiles))\n",
    "        print(ex)\n",
    "print('Number of smiles: {}'.format(len(smiles_list)))\n",
    "print('Number of unique smiles: {}'.format(len(set(smiles_list))))"
   ]
  },
  {
   "cell_type": "code",
   "execution_count": null,
   "metadata": {},
   "outputs": [],
   "source": [
    "### NEW DATA READING 11/05/2021 (file_dir change 2/9/2021)\n",
    "data_dir = '/home/wjm41/ml_physics/frag-pcore-screen/data/Mpro'\n",
    "\n",
    "df_activity = pd.read_csv(data_dir + '/activity_data-2.csv')\n",
    "\n",
    "df_activity['acrylamide'] = df_activity['acrylamide'].fillna(False)\n",
    "df_activity['chloroacetamide'] = df_activity['chloroacetamide'].fillna(False)\n",
    "\n",
    "print('Length of raw df_activity :{}'.format(len(df_activity)))\n",
    "\n",
    "df_activity = df_activity[(~df_activity['acrylamide']) & (~df_activity['chloroacetamide'])]\n",
    "\n",
    "print('Length of non-covalent df_activity :{}'.format(len(df_activity)))\n",
    "\n",
    "df_compounds = pd.read_csv(data_dir + '/Mpro_compound_tracker_csv.csv').rename(columns={'Compound ID': 'CID'})\n",
    "df_compounds = df_compounds[df_compounds['Status']=='Completed']\n",
    "df_compounds = df_compounds[df_compounds['Dataset'].notna()]\n",
    "\n",
    "print('Length of df_compounds :{}'.format(len(df_compounds)))\n",
    "\n",
    "df_activity = pd.merge(df_activity, df_compounds, on='CID')\n",
    "df_activity = df_activity.drop_duplicates(subset='CID')\n",
    "\n",
    "print('Length of merged df_activity :{}'.format(len(df_activity)))\n",
    "\n",
    "print('Number of actives :{}'.format(len(df_activity[df_activity['f_avg_IC50']<5])))\n",
    "\n",
    "hits = []\n",
    "ids = []\n",
    "\n",
    "bad_ids = []\n",
    "\n",
    "for i,row in tqdm(df_activity.iterrows(), total=len(df_activity)):\n",
    "    \n",
    "    try:\n",
    "        mol_path = data_dir + '/aligned/'+row['Dataset']+'_0A/'+row['Dataset']+'_0A.pdb'\n",
    "        mol_pdb = Chem.MolFromPDBFile(mol_path)\n",
    "\n",
    "        mol = MolFromSmiles(row['SMILES_x'])\n",
    "        ref_mol = AllChem.AssignBondOrdersFromTemplate(mol, mol_pdb)\n",
    "\n",
    "        #constrained conformer generation\n",
    "        mol = Chem.AddHs(mol)\n",
    "        mol = generate_conformers(mol, ref_mol, 100, ref_smi = row['SMILES_x'], minimum_conf_rms=0.5)\n",
    "        print('Remaining conformations after removing duplicates: {}'.format(mol.GetNumConformers()))\n",
    "\n",
    "        #calculate properties from surviving conformers\n",
    "        conf = mol.GetConformer()\n",
    "\n",
    "        hit_data = [mol]\n",
    "        for j,atom in enumerate(mol.GetAtoms()):\n",
    "            hit_data.append([atom.GetSymbol(),\n",
    "                                conf.GetPositions()[j]\n",
    "                                ])\n",
    "        hit_data.append(row['f_avg_IC50'])\n",
    "\n",
    "        hits.append(hit_data)\n",
    "        ids.append(row['CID'])\n",
    "        \n",
    "    except Exception as ex:\n",
    "        print(\"Couldn't generate conformers for {}\".format(row['SMILES_x']))\n",
    "        print(ex)\n",
    "        \n",
    "        bad_ids.append(row['CID'])\n",
    "        \n",
    "df_activity = df_activity[~df_activity['CID'].isin(bad_ids)]\n",
    "\n",
    "print('Number of bad mols :{}'.format(len(bad_ids)))\n",
    "\n",
    "print('{} hits left'.format(len(hits)))\n",
    "print('{} hits left'.format(len(df_activity)))\n",
    "\n",
    "print('Number of actives left:{}'.format(len(df_activity[df_activity['f_avg_IC50']<5])))\n",
    "\n",
    "# with open('hits_may.list', 'wb') as pickle_file:\n",
    "#     pickle.dump(hits, pickle_file)"
   ]
  },
  {
   "cell_type": "code",
   "execution_count": 4,
   "metadata": {},
   "outputs": [
    {
     "name": "stdout",
     "output_type": "stream",
     "text": [
      "23\n"
     ]
    }
   ],
   "source": [
    "# with open('hits_new.list', 'wb') as pickle_file:\n",
    "#     pickle.dump(hits, pickle_file)\n",
    "data_dir = '/home/wjm41/ml_physics/plot_frags/'\n",
    "\n",
    "with open(data_dir + 'all_ligands.list', 'rb') as pickle_file:\n",
    "    frags = pickle.load(pickle_file)\n",
    "# with open('hits.list', 'rb') as pickle_file:\n",
    "#     hits = pickle.load(pickle_file)\n",
    "with open(data_dir + 'hits_new.list', 'rb') as pickle_file:\n",
    "    hits = pickle.load(pickle_file)\n",
    "print(len(frags))"
   ]
  },
  {
   "cell_type": "code",
   "execution_count": null,
   "metadata": {
    "scrolled": false
   },
   "outputs": [],
   "source": [
    "filenames = [ f for f in listdir('data/frags/') if f[-5:]=='0.pdb']\n",
    "df = pd.read_csv('data/frags/Mpro_hits_summary.csv')\n",
    "df = df.set_index('Dataset')\n",
    "\n",
    "mols = []\n",
    "hit_mols = []\n",
    "smiles_list = []\n",
    "name_list = []\n",
    "\n",
    "for f in filenames:\n",
    "    dataname = f[:-6]\n",
    "\n",
    "    smiles = df.loc[dataname]['Compound SMILES']\n",
    "    mol = AllChem.MolFromSmiles(smiles)\n",
    "    mols.append(mol)\n",
    "    smiles_list.append(MolToSmiles(mol))\n",
    "    name_list.append(dataname)\n",
    "\n",
    "print('Number of noncovalent binding frags: {}'.format(len(mols)))\n",
    "\n",
    "mol_df = pd.DataFrame({\"mol\": mols,\n",
    "                   \"name\": name_list})\n",
    "mols2grid.display(mol_df, mol_col='mol', subset=['img', 'name'], selection=True, n_cols =4)"
   ]
  },
  {
   "cell_type": "code",
   "execution_count": null,
   "metadata": {
    "scrolled": false
   },
   "outputs": [],
   "source": [
    "for hit in hits:\n",
    "    tmp = hit[0]\n",
    "    tmp = Chem.RemoveHs(tmp)\n",
    "    AllChem.Compute2DCoords(tmp)\n",
    "    hit_mols.append(tmp)\n",
    "print('Number of hits: {}'.format(len(hits)))\n",
    "# Draw.MolsToGridImage(hit_mols, molsPerRow=6, subImgSize=(275,275), legends=ids)\n",
    "Draw.MolsToGridImage(hit_mols, molsPerRow=6, subImgSize=(275,275))"
   ]
  },
  {
   "cell_type": "code",
   "execution_count": 5,
   "metadata": {
    "scrolled": false
   },
   "outputs": [
    {
     "name": "stdout",
     "output_type": "stream",
     "text": [
      "SingleAtomDonor\n",
      "(0,)\n",
      "SingleAtomDonor\n",
      "(7,)\n",
      "SingleAtomDonor\n",
      "(14,)\n",
      "SingleAtomAcceptor\n",
      "(2,)\n",
      "SingleAtomAcceptor\n",
      "(9,)\n",
      "SingleAtomAcceptor\n",
      "(17,)\n"
     ]
    },
    {
     "data": {
      "image/png": "[encoded data removed]",
      "text/plain": [
       "<PIL.PngImagePlugin.PngImageFile image mode=RGB size=1200x800 at 0x2AD0448BAE48>"
      ]
     },
     "execution_count": 5,
     "metadata": {},
     "output_type": "execute_result"
    }
   ],
   "source": [
    "interesting_pcores = ['Donor', 'Acceptor', 'Aromatic']\n",
    "\n",
    "def drawp4core(mol, draw=False):\n",
    "    atoms_list = {}\n",
    "    feats = featFactory.GetFeaturesForMol(mol)\n",
    "    for feat in feats:\n",
    "        feat_type = feat.GetType()\n",
    "        feat_fam = feat.GetFamily()\n",
    "        if feat_fam in interesting_pcores:\n",
    "            atom_ids = feat.GetAtomIds()\n",
    "\n",
    "            print(feat_type)\n",
    "            print(atom_ids)\n",
    "            if feat_type in atoms_list:\n",
    "    #             if feat_type=='Aromatic':\n",
    "    #                 atoms_list[feat_type] += atom_ids\n",
    "    #             else:\n",
    "                    atoms_list[feat_type] += atom_ids\n",
    "            else:\n",
    "    #             if feat_type=='Aromatic':\n",
    "    #                 atoms_list[feat_type] = atom_ids\n",
    "    #             else:\n",
    "                    atoms_list[feat_type] = atom_ids\n",
    "            if feat_fam in atoms_list:\n",
    "    #             if feat_type=='Aromatic':\n",
    "    #                 atoms_list[feat_type] += atom_ids\n",
    "    #             else:\n",
    "                    atoms_list[feat_fam] += atom_ids\n",
    "            else:\n",
    "    #             if feat_type=='Aromatic':\n",
    "    #                 atoms_list[feat_type] = atom_ids\n",
    "    #             else:\n",
    "                    atoms_list[feat_fam] = atom_ids\n",
    "\n",
    "    if draw:\n",
    "        AllChem.Compute2DCoords(mol)\n",
    "        return Draw.MolsToGridImage([mol]*len(atoms_list), subImgSize=(400,400),legends=list(atoms_list.keys()), highlightAtomLists=list(atoms_list.values()))\n",
    "    else:\n",
    "        return atoms_list\n",
    "test = Chem.MolFromSmiles('[H]N([H])C(=O)[C@@H]1CCCN1C(=O)C[C@H]1SC(N([H])[H])=NC1=O')\n",
    "    \n",
    "i=1\n",
    "# im = drawp4core(hits[15][0], draw=True)\n",
    "im = drawp4core(test, draw=True)\n",
    "im"
   ]
  },
  {
   "cell_type": "code",
   "execution_count": null,
   "metadata": {
    "scrolled": true
   },
   "outputs": [],
   "source": [
    "p4core_list = drawp4core(hits[0][0])\n",
    "print(p4core_list)\n",
    "frag_p4core_ids = []\n",
    "hit_p4core_ids = []\n",
    "for frag in frags:\n",
    "    frag_p4core_ids.append(drawp4core(frag[0]))\n",
    "for hit in hits:\n",
    "    hit_p4core_ids.append(drawp4core(hit[0]))"
   ]
  },
  {
   "cell_type": "markdown",
   "metadata": {},
   "source": [
    "# Sanity check plotting"
   ]
  },
  {
   "cell_type": "code",
   "execution_count": 2,
   "metadata": {},
   "outputs": [
    {
     "name": "stderr",
     "output_type": "stream",
     "text": [
      "100%|██████████| 23/23 [00:01<00:00, 15.79it/s]\n"
     ]
    }
   ],
   "source": [
    "interesting_pcores = ['Donor', 'Acceptor', 'Aromatic']\n",
    "\n",
    "colors = {'Donor': 'O', 'Acceptor': 'N', 'Aromatic': 'Cl'}\n",
    "\n",
    "mpro_dir = '/home/wjm41/ml_physics/frag-pcore-screen/data/Mpro'\n",
    "\n",
    "frags = pickle.load(open(mpro_dir + '/frags_mpro.pickle', 'rb'))\n",
    "\n",
    "frag_df = frag_funcs.return_pcore_dataframe(frags, interesting_pcores)\n",
    "frag_df = frag_df[['pcore', 'coord_x', 'coord_y', 'coord_z']]\n",
    "frag_df['pcore'] = [colors[x] for x in frag_df['pcore']]\n",
    "frag_df['coord_x'] = frag_df['coord_x'].astype(str)\n",
    "frag_df['coord_y'] = frag_df['coord_y'].astype(str)\n",
    "frag_df['coord_z'] = frag_df['coord_z'].astype(str)\n"
   ]
  },
  {
   "cell_type": "code",
   "execution_count": 33,
   "metadata": {},
   "outputs": [],
   "source": [
    "def MolTo3DView(mol, size=(1000, 1000), style=\"stick\", surface=False, opacity=0.5):\n",
    "    \"\"\"Draw molecule in 3D\n",
    "    \n",
    "    Args:\n",
    "    ----\n",
    "        mol: rdMol, molecule to show\n",
    "        size: tuple(int, int), canvas size\n",
    "        style: str, type of drawing molecule\n",
    "               style can be 'line', 'stick', 'sphere', 'carton'\n",
    "        surface, bool, display SAS\n",
    "        opacity, float, opacity of surface, range 0.0-1.0\n",
    "    Return:\n",
    "    ----\n",
    "        viewer: py3Dmol.view, a class for constructing embedded 3Dmol.js views in ipython notebooks.\n",
    "    \"\"\"\n",
    "    assert style in ('line', 'stick', 'sphere', 'carton')\n",
    "    mblock = Chem.MolToMolBlock(mol)\n",
    "    viewer = py3Dmol.view(width=size[0], height=size[1])\n",
    "    viewer.addModel(mblock, 'mol')\n",
    "    viewer.setStyle({style:{}})\n",
    "    if surface:\n",
    "        viewer.addSurface(py3Dmol.SAS, {'opacity': opacity})\n",
    "    viewer.zoomTo()\n",
    "    \n",
    "    return viewer\n"
   ]
  },
  {
   "cell_type": "code",
   "execution_count": 41,
   "metadata": {},
   "outputs": [],
   "source": [
    "from rdkit import Chem\n",
    "from rdkit.Chem import AllChem\n",
    "\n",
    "\n",
    "def smi2conf(smiles):\n",
    "    '''Convert SMILES to rdkit.Mol with 3D coordinates'''\n",
    "    mol = Chem.MolFromSmiles(smiles)\n",
    "    if mol is not None:\n",
    "        mol = Chem.AddHs(mol)\n",
    "        AllChem.EmbedMolecule(mol)\n",
    "        AllChem.MMFFOptimizeMolecule(mol, maxIters=200)\n",
    "        return mol\n",
    "    else:\n",
    "        return None\n",
    "\n",
    "smi = 'O=C(NC1CCOCC1)C(c1cncnc1)N(C(=O)c1csnn1)C1CCN(c2ccccc2F)C1'\n",
    "mol = smi2conf(smi)\n",
    "\n",
    "def get_xyz_from_mol(mol):\n",
    "  \"\"\"Extracts a numpy array of coordinates from a molecules.\n",
    "  Returns a `(N, 3)` numpy array of 3d coords of given rdkit molecule\n",
    "  Parameters\n",
    "  ----------\n",
    "  mol: rdkit Molecule\n",
    "    Molecule to extract coordinates for\n",
    "  Returns\n",
    "  -------\n",
    "  Numpy ndarray of shape `(N, 3)` where `N = mol.GetNumAtoms()`.\n",
    "  \"\"\"\n",
    "  xyz = np.zeros((mol.GetNumAtoms(), 3))\n",
    "  conf = mol.GetConformer()\n",
    "  for i in range(conf.GetNumAtoms()):\n",
    "    position = conf.GetAtomPosition(i)\n",
    "    xyz[i, 0] = position.x\n",
    "    xyz[i, 1] = position.y\n",
    "    xyz[i, 2] = position.z\n",
    "  return (xyz)\n",
    "\n",
    "centroid = np.mean(get_xyz_from_mol(frags[2][0]), axis=0)\n",
    "\n",
    "from rdkit.Geometry import Point3D\n",
    "conf = mol.GetConformer()\n",
    "for i in range(mol.GetNumAtoms()):\n",
    "    position = conf.GetAtomPosition(i)\n",
    "    x,y,z = position.x+centroid[0], position.y+centroid[1], position.z+centroid[2]\n",
    "    conf.SetAtomPosition(i,Point3D(x,y,z))\n",
    "\n"
   ]
  },
  {
   "cell_type": "code",
   "execution_count": 44,
   "metadata": {},
   "outputs": [
    {
     "data": {
      "application/3dmoljs_load.v0": "<div id=\"3dmolviewer_16414905015538743\"  style=\"position: relative; width: 1000px; height: 1000px\">\n        <p id=\"3dmolwarning_16414905015538743\" style=\"background-color:#ffcccc;color:black\">You appear to be running in JupyterLab (or JavaScript failed to load for some other reason).  You need to install the 3dmol extension: <br>\n        <tt>jupyter labextension install jupyterlab_3dmol</tt></p>\n        </div>\n<script>\n\nvar loadScriptAsync = function(uri){\n  return new Promise((resolve, reject) => {\n    var tag = document.createElement('script');\n    tag.src = uri;\n    tag.async = true;\n    tag.onload = () => {\n      resolve();\n    };\n  var firstScriptTag = document.getElementsByTagName('script')[0];\n  firstScriptTag.parentNode.insertBefore(tag, firstScriptTag);\n});\n};\n\nif(typeof $3Dmolpromise === 'undefined') {\n$3Dmolpromise = null;\n  $3Dmolpromise = loadScriptAsync('https://3dmol.org/build/3Dmol.js');\n}\n\nvar viewer_16414905015538743 = null;\nvar warn = document.getElementById(\"3dmolwarning_16414905015538743\");\nif(warn) {\n    warn.parentNode.removeChild(warn);\n}\n$3Dmolpromise.then(function() {\nviewer_16414905015538743 = $3Dmol.createViewer($(\"#3dmolviewer_16414905015538743\"),{backgroundColor:\"white\"});\n\tviewer_16414905015538743.addModel(\"\\n     RDKit          3D\\n\\n 62 66  0  0  0  0  0  0  0  0999 V2000\\n   11.3179   -1.3519   23.9383 O   0  0  0  0  0  0  0  0  0  0  0  0\\n   11.4103   -0.4586   23.0973 C   0  0  0  0  0  0  0  0  0  0  0  0\\n   12.6230    0.0693   22.6920 N   0  0  0  0  0  0  0  0  0  0  0  0\\n   13.8838   -0.3555   23.2925 C   0  0  0  0  0  0  0  0  0  0  0  0\\n   15.0177    0.5872   22.8615 C   0  0  0  0  0  0  0  0  0  0  0  0\\n   16.3731   -0.1087   22.8526 C   0  0  0  0  0  0  0  0  0  0  0  0\\n   16.4190   -1.0956   23.8768 O   0  0  0  0  0  0  0  0  0  0  0  0\\n   15.5505   -2.2015   23.6140 C   0  0  0  0  0  0  0  0  0  0  0  0\\n   14.2455   -1.7970   22.9323 C   0  0  0  0  0  0  0  0  0  0  0  0\\n   10.1442    0.2209   22.4949 C   0  0  0  0  0  0  0  0  0  0  0  0\\n   10.2359    0.5443   21.0206 C   0  0  0  0  0  0  0  0  0  0  0  0\\n   10.6961   -0.3938   20.1105 C   0  0  0  0  0  0  0  0  0  0  0  0\\n   10.7623   -0.1931   18.7793 N   0  0  0  0  0  0  0  0  0  0  0  0\\n   10.3390    1.0022   18.3491 C   0  0  0  0  0  0  0  0  0  0  0  0\\n    9.8563    1.9858   19.1211 N   0  0  0  0  0  0  0  0  0  0  0  0\\n    9.8168    1.7280   20.4447 C   0  0  0  0  0  0  0  0  0  0  0  0\\n    9.6691    1.3130   23.3825 N   0  0  0  0  0  0  0  0  0  0  0  0\\n   10.5599    2.3677   23.6521 C   0  0  0  0  0  0  0  0  0  0  0  0\\n   11.5665    2.5177   22.9543 O   0  0  0  0  0  0  0  0  0  0  0  0\\n   10.3122    3.2944   24.7602 C   0  0  0  0  0  0  0  0  0  0  0  0\\n   10.8962    4.5526   24.8348 C   0  0  0  0  0  0  0  0  0  0  0  0\\n   10.3930    5.2786   26.3018 S   0  0  0  0  0  0  0  0  0  0  0  0\\n    9.4879    3.9500   26.7545 N   0  0  0  0  0  0  0  0  0  0  0  0\\n    9.5454    2.9656   25.8754 N   0  0  0  0  0  0  0  0  0  0  0  0\\n    8.3027    1.2237   23.9393 C   0  0  0  0  0  0  0  0  0  0  0  0\\n    8.1494    0.1661   25.0295 C   0  0  0  0  0  0  0  0  0  0  0  0\\n    6.6332    0.0356   25.1590 C   0  0  0  0  0  0  0  0  0  0  0  0\\n    6.1392    0.2555   23.7981 N   0  0  0  0  0  0  0  0  0  0  0  0\\n    4.8145    0.1133   23.4348 C   0  0  0  0  0  0  0  0  0  0  0  0\\n    4.4015    0.3144   22.1051 C   0  0  0  0  0  0  0  0  0  0  0  0\\n    3.0648    0.1726   21.7065 C   0  0  0  0  0  0  0  0  0  0  0  0\\n    2.0916   -0.1833   22.6326 C   0  0  0  0  0  0  0  0  0  0  0  0\\n    2.4601   -0.3985   23.9530 C   0  0  0  0  0  0  0  0  0  0  0  0\\n    3.7953   -0.2527   24.3390 C   0  0  0  0  0  0  0  0  0  0  0  0\\n    4.0719   -0.4623   25.6371 F   0  0  0  0  0  0  0  0  0  0  0  0\\n    7.1591    0.8713   22.9527 C   0  0  0  0  0  0  0  0  0  0  0  0\\n   12.5626    1.0550   22.4353 H   0  0  0  0  0  0  0  0  0  0  0  0\\n   13.7571   -0.2860   24.3818 H   0  0  0  0  0  0  0  0  0  0  0  0\\n   14.8374    1.0225   21.8704 H   0  0  0  0  0  0  0  0  0  0  0  0\\n   15.0427    1.4322   23.5618 H   0  0  0  0  0  0  0  0  0  0  0  0\\n   16.5749   -0.5776   21.8797 H   0  0  0  0  0  0  0  0  0  0  0  0\\n   17.1719    0.6209   23.0323 H   0  0  0  0  0  0  0  0  0  0  0  0\\n   16.0872   -2.9403   23.0083 H   0  0  0  0  0  0  0  0  0  0  0  0\\n   15.3368   -2.6695   24.5815 H   0  0  0  0  0  0  0  0  0  0  0  0\\n   13.4587   -2.5100   23.1994 H   0  0  0  0  0  0  0  0  0  0  0  0\\n   14.3609   -1.8800   21.8425 H   0  0  0  0  0  0  0  0  0  0  0  0\\n    9.3957   -0.5809   22.5496 H   0  0  0  0  0  0  0  0  0  0  0  0\\n   11.0353   -1.3782   20.4275 H   0  0  0  0  0  0  0  0  0  0  0  0\\n   10.3873    1.1883   17.2817 H   0  0  0  0  0  0  0  0  0  0  0  0\\n    9.4141    2.5456   21.0353 H   0  0  0  0  0  0  0  0  0  0  0  0\\n   11.5591    5.0416   24.1356 H   0  0  0  0  0  0  0  0  0  0  0  0\\n    8.0223    2.1986   24.3486 H   0  0  0  0  0  0  0  0  0  0  0  0\\n    8.6231    0.4460   25.9752 H   0  0  0  0  0  0  0  0  0  0  0  0\\n    8.5783   -0.7933   24.7174 H   0  0  0  0  0  0  0  0  0  0  0  0\\n    6.3757   -0.9569   25.5429 H   0  0  0  0  0  0  0  0  0  0  0  0\\n    6.2430    0.8057   25.8345 H   0  0  0  0  0  0  0  0  0  0  0  0\\n    5.1214    0.5808   21.3364 H   0  0  0  0  0  0  0  0  0  0  0  0\\n    2.7907    0.3410   20.6684 H   0  0  0  0  0  0  0  0  0  0  0  0\\n    1.0554   -0.2926   22.3278 H   0  0  0  0  0  0  0  0  0  0  0  0\\n    1.7195   -0.6752   24.6972 H   0  0  0  0  0  0  0  0  0  0  0  0\\n    6.8061    1.7880   22.4679 H   0  0  0  0  0  0  0  0  0  0  0  0\\n    7.4572    0.1637   22.1767 H   0  0  0  0  0  0  0  0  0  0  0  0\\n  1  2  2  0\\n  2  3  1  0\\n  3  4  1  0\\n  4  5  1  0\\n  5  6  1  0\\n  6  7  1  0\\n  7  8  1  0\\n  8  9  1  0\\n  2 10  1  0\\n 10 11  1  0\\n 11 12  2  0\\n 12 13  1  0\\n 13 14  2  0\\n 14 15  1  0\\n 15 16  2  0\\n 10 17  1  0\\n 17 18  1  0\\n 18 19  2  0\\n 18 20  1  0\\n 20 21  2  0\\n 21 22  1  0\\n 22 23  1  0\\n 23 24  2  0\\n 17 25  1  0\\n 25 26  1  0\\n 26 27  1  0\\n 27 28  1  0\\n 28 29  1  0\\n 29 30  2  0\\n 30 31  1  0\\n 31 32  2  0\\n 32 33  1  0\\n 33 34  2  0\\n 34 35  1  0\\n 28 36  1  0\\n  9  4  1  0\\n 16 11  1  0\\n 24 20  1  0\\n 36 25  1  0\\n 34 29  1  0\\n  3 37  1  0\\n  4 38  1  0\\n  5 39  1  0\\n  5 40  1  0\\n  6 41  1  0\\n  6 42  1  0\\n  8 43  1  0\\n  8 44  1  0\\n  9 45  1  0\\n  9 46  1  0\\n 10 47  1  0\\n 12 48  1  0\\n 14 49  1  0\\n 16 50  1  0\\n 21 51  1  0\\n 25 52  1  0\\n 26 53  1  0\\n 26 54  1  0\\n 27 55  1  0\\n 27 56  1  0\\n 30 57  1  0\\n 31 58  1  0\\n 32 59  1  0\\n 33 60  1  0\\n 36 61  1  0\\n 36 62  1  0\\nM  END\\n\",\"mol\");\n\tviewer_16414905015538743.setStyle({\"sphere\": {}});\n\tviewer_16414905015538743.zoomTo();\nviewer_16414905015538743.zoomTo();\nviewer_16414905015538743.render();\n});\n</script>",
      "text/html": [
       "<div id=\"3dmolviewer_16414905015538743\"  style=\"position: relative; width: 1000px; height: 1000px\">\n",
       "        <p id=\"3dmolwarning_16414905015538743\" style=\"background-color:#ffcccc;color:black\">You appear to be running in JupyterLab (or JavaScript failed to load for some other reason).  You need to install the 3dmol extension: <br>\n",
       "        <tt>jupyter labextension install jupyterlab_3dmol</tt></p>\n",
       "        </div>\n",
       "<script>\n",
       "\n",
       "var loadScriptAsync = function(uri){\n",
       "  return new Promise((resolve, reject) => {\n",
       "    var tag = document.createElement('script');\n",
       "    tag.src = uri;\n",
       "    tag.async = true;\n",
       "    tag.onload = () => {\n",
       "      resolve();\n",
       "    };\n",
       "  var firstScriptTag = document.getElementsByTagName('script')[0];\n",
       "  firstScriptTag.parentNode.insertBefore(tag, firstScriptTag);\n",
       "});\n",
       "};\n",
       "\n",
       "if(typeof $3Dmolpromise === 'undefined') {\n",
       "$3Dmolpromise = null;\n",
       "  $3Dmolpromise = loadScriptAsync('https://3dmol.org/build/3Dmol.js');\n",
       "}\n",
       "\n",
       "var viewer_16414905015538743 = null;\n",
       "var warn = document.getElementById(\"3dmolwarning_16414905015538743\");\n",
       "if(warn) {\n",
       "    warn.parentNode.removeChild(warn);\n",
       "}\n",
       "$3Dmolpromise.then(function() {\n",
       "viewer_16414905015538743 = $3Dmol.createViewer($(\"#3dmolviewer_16414905015538743\"),{backgroundColor:\"white\"});\n",
       "\tviewer_16414905015538743.addModel(\"\\n     RDKit          3D\\n\\n 62 66  0  0  0  0  0  0  0  0999 V2000\\n   11.3179   -1.3519   23.9383 O   0  0  0  0  0  0  0  0  0  0  0  0\\n   11.4103   -0.4586   23.0973 C   0  0  0  0  0  0  0  0  0  0  0  0\\n   12.6230    0.0693   22.6920 N   0  0  0  0  0  0  0  0  0  0  0  0\\n   13.8838   -0.3555   23.2925 C   0  0  0  0  0  0  0  0  0  0  0  0\\n   15.0177    0.5872   22.8615 C   0  0  0  0  0  0  0  0  0  0  0  0\\n   16.3731   -0.1087   22.8526 C   0  0  0  0  0  0  0  0  0  0  0  0\\n   16.4190   -1.0956   23.8768 O   0  0  0  0  0  0  0  0  0  0  0  0\\n   15.5505   -2.2015   23.6140 C   0  0  0  0  0  0  0  0  0  0  0  0\\n   14.2455   -1.7970   22.9323 C   0  0  0  0  0  0  0  0  0  0  0  0\\n   10.1442    0.2209   22.4949 C   0  0  0  0  0  0  0  0  0  0  0  0\\n   10.2359    0.5443   21.0206 C   0  0  0  0  0  0  0  0  0  0  0  0\\n   10.6961   -0.3938   20.1105 C   0  0  0  0  0  0  0  0  0  0  0  0\\n   10.7623   -0.1931   18.7793 N   0  0  0  0  0  0  0  0  0  0  0  0\\n   10.3390    1.0022   18.3491 C   0  0  0  0  0  0  0  0  0  0  0  0\\n    9.8563    1.9858   19.1211 N   0  0  0  0  0  0  0  0  0  0  0  0\\n    9.8168    1.7280   20.4447 C   0  0  0  0  0  0  0  0  0  0  0  0\\n    9.6691    1.3130   23.3825 N   0  0  0  0  0  0  0  0  0  0  0  0\\n   10.5599    2.3677   23.6521 C   0  0  0  0  0  0  0  0  0  0  0  0\\n   11.5665    2.5177   22.9543 O   0  0  0  0  0  0  0  0  0  0  0  0\\n   10.3122    3.2944   24.7602 C   0  0  0  0  0  0  0  0  0  0  0  0\\n   10.8962    4.5526   24.8348 C   0  0  0  0  0  0  0  0  0  0  0  0\\n   10.3930    5.2786   26.3018 S   0  0  0  0  0  0  0  0  0  0  0  0\\n    9.4879    3.9500   26.7545 N   0  0  0  0  0  0  0  0  0  0  0  0\\n    9.5454    2.9656   25.8754 N   0  0  0  0  0  0  0  0  0  0  0  0\\n    8.3027    1.2237   23.9393 C   0  0  0  0  0  0  0  0  0  0  0  0\\n    8.1494    0.1661   25.0295 C   0  0  0  0  0  0  0  0  0  0  0  0\\n    6.6332    0.0356   25.1590 C   0  0  0  0  0  0  0  0  0  0  0  0\\n    6.1392    0.2555   23.7981 N   0  0  0  0  0  0  0  0  0  0  0  0\\n    4.8145    0.1133   23.4348 C   0  0  0  0  0  0  0  0  0  0  0  0\\n    4.4015    0.3144   22.1051 C   0  0  0  0  0  0  0  0  0  0  0  0\\n    3.0648    0.1726   21.7065 C   0  0  0  0  0  0  0  0  0  0  0  0\\n    2.0916   -0.1833   22.6326 C   0  0  0  0  0  0  0  0  0  0  0  0\\n    2.4601   -0.3985   23.9530 C   0  0  0  0  0  0  0  0  0  0  0  0\\n    3.7953   -0.2527   24.3390 C   0  0  0  0  0  0  0  0  0  0  0  0\\n    4.0719   -0.4623   25.6371 F   0  0  0  0  0  0  0  0  0  0  0  0\\n    7.1591    0.8713   22.9527 C   0  0  0  0  0  0  0  0  0  0  0  0\\n   12.5626    1.0550   22.4353 H   0  0  0  0  0  0  0  0  0  0  0  0\\n   13.7571   -0.2860   24.3818 H   0  0  0  0  0  0  0  0  0  0  0  0\\n   14.8374    1.0225   21.8704 H   0  0  0  0  0  0  0  0  0  0  0  0\\n   15.0427    1.4322   23.5618 H   0  0  0  0  0  0  0  0  0  0  0  0\\n   16.5749   -0.5776   21.8797 H   0  0  0  0  0  0  0  0  0  0  0  0\\n   17.1719    0.6209   23.0323 H   0  0  0  0  0  0  0  0  0  0  0  0\\n   16.0872   -2.9403   23.0083 H   0  0  0  0  0  0  0  0  0  0  0  0\\n   15.3368   -2.6695   24.5815 H   0  0  0  0  0  0  0  0  0  0  0  0\\n   13.4587   -2.5100   23.1994 H   0  0  0  0  0  0  0  0  0  0  0  0\\n   14.3609   -1.8800   21.8425 H   0  0  0  0  0  0  0  0  0  0  0  0\\n    9.3957   -0.5809   22.5496 H   0  0  0  0  0  0  0  0  0  0  0  0\\n   11.0353   -1.3782   20.4275 H   0  0  0  0  0  0  0  0  0  0  0  0\\n   10.3873    1.1883   17.2817 H   0  0  0  0  0  0  0  0  0  0  0  0\\n    9.4141    2.5456   21.0353 H   0  0  0  0  0  0  0  0  0  0  0  0\\n   11.5591    5.0416   24.1356 H   0  0  0  0  0  0  0  0  0  0  0  0\\n    8.0223    2.1986   24.3486 H   0  0  0  0  0  0  0  0  0  0  0  0\\n    8.6231    0.4460   25.9752 H   0  0  0  0  0  0  0  0  0  0  0  0\\n    8.5783   -0.7933   24.7174 H   0  0  0  0  0  0  0  0  0  0  0  0\\n    6.3757   -0.9569   25.5429 H   0  0  0  0  0  0  0  0  0  0  0  0\\n    6.2430    0.8057   25.8345 H   0  0  0  0  0  0  0  0  0  0  0  0\\n    5.1214    0.5808   21.3364 H   0  0  0  0  0  0  0  0  0  0  0  0\\n    2.7907    0.3410   20.6684 H   0  0  0  0  0  0  0  0  0  0  0  0\\n    1.0554   -0.2926   22.3278 H   0  0  0  0  0  0  0  0  0  0  0  0\\n    1.7195   -0.6752   24.6972 H   0  0  0  0  0  0  0  0  0  0  0  0\\n    6.8061    1.7880   22.4679 H   0  0  0  0  0  0  0  0  0  0  0  0\\n    7.4572    0.1637   22.1767 H   0  0  0  0  0  0  0  0  0  0  0  0\\n  1  2  2  0\\n  2  3  1  0\\n  3  4  1  0\\n  4  5  1  0\\n  5  6  1  0\\n  6  7  1  0\\n  7  8  1  0\\n  8  9  1  0\\n  2 10  1  0\\n 10 11  1  0\\n 11 12  2  0\\n 12 13  1  0\\n 13 14  2  0\\n 14 15  1  0\\n 15 16  2  0\\n 10 17  1  0\\n 17 18  1  0\\n 18 19  2  0\\n 18 20  1  0\\n 20 21  2  0\\n 21 22  1  0\\n 22 23  1  0\\n 23 24  2  0\\n 17 25  1  0\\n 25 26  1  0\\n 26 27  1  0\\n 27 28  1  0\\n 28 29  1  0\\n 29 30  2  0\\n 30 31  1  0\\n 31 32  2  0\\n 32 33  1  0\\n 33 34  2  0\\n 34 35  1  0\\n 28 36  1  0\\n  9  4  1  0\\n 16 11  1  0\\n 24 20  1  0\\n 36 25  1  0\\n 34 29  1  0\\n  3 37  1  0\\n  4 38  1  0\\n  5 39  1  0\\n  5 40  1  0\\n  6 41  1  0\\n  6 42  1  0\\n  8 43  1  0\\n  8 44  1  0\\n  9 45  1  0\\n  9 46  1  0\\n 10 47  1  0\\n 12 48  1  0\\n 14 49  1  0\\n 16 50  1  0\\n 21 51  1  0\\n 25 52  1  0\\n 26 53  1  0\\n 26 54  1  0\\n 27 55  1  0\\n 27 56  1  0\\n 30 57  1  0\\n 31 58  1  0\\n 32 59  1  0\\n 33 60  1  0\\n 36 61  1  0\\n 36 62  1  0\\nM  END\\n\",\"mol\");\n",
       "\tviewer_16414905015538743.setStyle({\"sphere\": {}});\n",
       "\tviewer_16414905015538743.zoomTo();\n",
       "viewer_16414905015538743.zoomTo();\n",
       "viewer_16414905015538743.render();\n",
       "});\n",
       "</script>"
      ]
     },
     "metadata": {},
     "output_type": "display_data"
    }
   ],
   "source": [
    "viewer = MolTo3DView(mol, size=(1000, 1000), style='sphere')\n",
    "file = open(mpro_dir+'/6YB7_model.pdb', 'r')\n",
    "protein = file.read()\n",
    "# viewer.addModel(protein, 'pdb')\n",
    "# viewer.setStyle({'model': 1}, {'cartoon': {'color': 'grey', 'opacity': 0.5}})\n",
    "# viewer.addSurface(py3Dmol.VDW,{'opacity':0.7,'color':'white'})\n",
    "# viewer.setBackgroundColor('white')\n",
    "viewer.show()\n",
    "# viewer.svg()\n"
   ]
  },
  {
   "cell_type": "code",
   "execution_count": 23,
   "metadata": {
    "scrolled": false
   },
   "outputs": [
    {
     "data": {
      "application/3dmoljs_load.v0": "<div id=\"3dmolviewer_1641489441892841\"  style=\"position: relative; width: 1000px; height: 1000px\">\n        <p id=\"3dmolwarning_1641489441892841\" style=\"background-color:#ffcccc;color:black\">You appear to be running in JupyterLab (or JavaScript failed to load for some other reason).  You need to install the 3dmol extension: <br>\n        <tt>jupyter labextension install jupyterlab_3dmol</tt></p>\n        </div>\n<script>\n\nvar loadScriptAsync = function(uri){\n  return new Promise((resolve, reject) => {\n    var tag = document.createElement('script');\n    tag.src = uri;\n    tag.async = true;\n    tag.onload = () => {\n      resolve();\n    };\n  var firstScriptTag = document.getElementsByTagName('script')[0];\n  firstScriptTag.parentNode.insertBefore(tag, firstScriptTag);\n});\n};\n\nif(typeof $3Dmolpromise === 'undefined') {\n$3Dmolpromise = null;\n  $3Dmolpromise = loadScriptAsync('https://3dmol.org/build/3Dmol.js');\n}\n\nvar viewer_1641489441892841 = null;\nvar warn = document.getElementById(\"3dmolwarning_1641489441892841\");\nif(warn) {\n    warn.parentNode.removeChild(warn);\n}\n$3Dmolpromise.then(function() {\nviewer_1641489441892841 = $3Dmol.createViewer($(\"#3dmolviewer_1641489441892841\"),{backgroundColor:\"white\"});\n\tviewer_1641489441892841.addModel(\"\\n     RDKit          3D\\n\\n 14 14  0  0  0  0  0  0  0  0999 V2000\\n   13.6262   -2.4029   24.3774 C   0  0  0  0  0  0  0  0  0  0  0  0\\n   13.0863   -1.0956   24.5273 O   0  0  0  0  0  0  0  0  0  0  0  0\\n   13.2345   -0.1289   23.5307 C   0  0  0  0  0  0  0  0  0  0  0  0\\n   13.9905   -0.3540   22.5499 O   0  0  0  0  0  0  0  0  0  0  0  0\\n   12.5092    1.1547   23.6131 C   0  0  0  0  0  0  0  0  0  0  0  0\\n   11.2799    1.2436   24.2850 C   0  0  0  0  0  0  0  0  0  0  0  0\\n   10.5972    2.4650   24.3488 C   0  0  0  0  0  0  0  0  0  0  0  0\\n   11.1416    3.6121   23.7522 C   0  0  0  0  0  0  0  0  0  0  0  0\\n   12.3652    3.5207   23.0780 C   0  0  0  0  0  0  0  0  0  0  0  0\\n   13.0411    2.3020   23.0044 C   0  0  0  0  0  0  0  0  0  0  0  0\\n   10.2988    5.1639   23.8578 S   0  0  0  0  0  6  0  0  0  0  0  0\\n   11.1835    6.2738   23.3719 O   0  0  0  0  0  0  0  0  0  0  0  0\\n    9.9526    5.4586   25.2863 O   0  0  0  0  0  0  0  0  0  0  0  0\\n    8.8612    5.1249   22.8984 N   0  0  0  0  0  0  0  0  0  0  0  0\\n  1  2  1  0\\n  2  3  1  0\\n  3  4  2  0\\n  3  5  1  0\\n  5  6  2  0\\n  6  7  1  0\\n  7  8  2  0\\n  8  9  1  0\\n  9 10  2  0\\n  8 11  1  0\\n 11 12  2  0\\n 11 13  2  0\\n 11 14  1  0\\n  5 10  1  0\\nM  END\\n\",\"sdf\");\n\tviewer_1641489441892841.addModel(\"\\n     RDKit          3D\\n\\n 18 19  0  0  0  0  0  0  0  0999 V2000\\n    2.8798    1.4596   24.2081 O   0  0  0  0  0  0  0  0  0  0  0  0\\n    2.9401    2.3455   23.3138 C   0  0  0  0  0  0  0  0  0  0  0  0\\n    4.1043    2.4700   22.4876 N   0  0  0  0  0  0  0  0  0  0  0  0\\n    5.2115    1.5253   22.5403 C   0  0  0  0  0  0  0  0  0  0  0  0\\n    4.8764    0.2779   21.7155 C   0  0  0  0  0  0  0  0  0  0  0  0\\n    5.3118    0.4069   20.2751 C   0  0  0  0  0  0  0  0  0  0  0  0\\n    6.3967   -0.3471   19.8048 C   0  0  0  0  0  0  0  0  0  0  0  0\\n    6.7819   -0.2447   18.4684 C   0  0  0  0  0  0  0  0  0  0  0  0\\n    6.1130    0.5848   17.6289 N   0  0  0  0  0  0  0  0  0  0  0  0\\n    5.0605    1.3308   18.0549 C   0  0  0  0  0  0  0  0  0  0  0  0\\n    4.6374    1.2576   19.3854 C   0  0  0  0  0  0  0  0  0  0  0  0\\n    1.8538    3.2494   23.1056 N   0  0  0  0  0  0  0  0  0  0  0  0\\n    0.6535    3.3145   23.9337 C   0  0  0  0  0  0  0  0  0  0  0  0\\n    0.5269    4.7530   24.4644 C   0  0  0  0  0  0  0  0  0  0  0  0\\n   -0.8053    4.9838   25.1739 C   0  0  0  0  0  0  0  0  0  0  0  0\\n   -1.9724    4.6602   24.2396 C   0  0  0  0  0  0  0  0  0  0  0  0\\n   -1.8942    3.2066   23.7634 C   0  0  0  0  0  0  0  0  0  0  0  0\\n   -0.5587    2.9158   23.0704 C   0  0  0  0  0  0  0  0  0  0  0  0\\n  1  2  2  0\\n  2  3  1  0\\n  3  4  1  0\\n  4  5  1  0\\n  5  6  1  0\\n  6  7  2  0\\n  7  8  1  0\\n  8  9  2  0\\n  9 10  1  0\\n 10 11  2  0\\n  2 12  1  0\\n 12 13  1  0\\n 13 14  1  0\\n 14 15  1  0\\n 15 16  1  0\\n 16 17  1  0\\n 17 18  1  0\\n  6 11  1  0\\n 18 13  1  0\\nM  END\\n\",\"sdf\");\n\tviewer_1641489441892841.addModel(\"\\n     RDKit          3D\\n\\n 13 14  0  0  0  0  0  0  0  0999 V2000\\n    9.0641    1.4080   21.1666 O   0  0  0  0  0  0  0  0  0  0  0  0\\n    9.4333    1.9239   22.2552 C   0  0  0  0  0  0  0  0  0  0  0  0\\n    9.1093    1.2445   23.5772 C   0  0  2  0  0  0  0  0  0  0  0  0\\n    9.6585   -0.1991   23.6739 C   0  0  2  0  0  0  0  0  0  0  0  0\\n   11.0507   -0.3500   23.0994 C   0  0  0  0  0  0  0  0  0  0  0  0\\n   11.4588   -1.3392   22.1986 C   0  0  0  0  0  0  0  0  0  0  0  0\\n   13.0810   -1.0594   21.8367 S   0  0  0  0  0  0  0  0  0  0  0  0\\n   13.2878    0.2875   22.8249 C   0  0  0  0  0  0  0  0  0  0  0  0\\n   12.0818    0.5359   23.4598 C   0  0  0  0  0  0  0  0  0  0  0  0\\n    8.5960   -1.0553   23.0173 C   0  0  0  0  0  0  0  0  0  0  0  0\\n    7.2783   -0.3498   23.3346 C   0  0  0  0  0  0  0  0  0  0  0  0\\n    7.6105    1.0918   23.7447 C   0  0  0  0  0  0  0  0  0  0  0  0\\n   10.1789    3.1433   22.2333 N   0  0  0  0  0  0  0  0  0  0  0  0\\n  1  2  2  0\\n  3  2  1  6\\n  3  4  1  0\\n  4  5  1  6\\n  5  6  2  0\\n  6  7  1  0\\n  7  8  1  0\\n  8  9  2  0\\n  4 10  1  0\\n 10 11  1  0\\n 11 12  1  0\\n  2 13  1  0\\n 12  3  1  0\\n  9  5  1  0\\nM  END\\n\",\"sdf\");\n\tviewer_1641489441892841.addModel(\"\\n     RDKit          3D\\n\\n 15 16  0  0  0  0  0  0  0  0999 V2000\\n    9.8805    1.5600   21.3060 N   0  0  0  0  0  0  0  0  0  0  0  0\\n    9.7422    0.6112   21.9498 C   0  0  0  0  0  0  0  0  0  0  0  0\\n    9.5848   -0.5545   22.7566 C   0  0  0  0  0  0  0  0  0  0  0  0\\n    8.8732   -0.4922   23.9542 C   0  0  0  0  0  0  0  0  0  0  0  0\\n    8.8126   -1.6197   24.7741 C   0  0  0  0  0  0  0  0  0  0  0  0\\n    9.4809   -2.8089   24.4027 C   0  0  0  0  0  0  0  0  0  0  0  0\\n   10.1617   -2.8064   23.1618 C   0  0  0  0  0  0  0  0  0  0  0  0\\n   10.1972   -1.7006   22.3831 N   0  0  0  0  0  0  0  0  0  0  0  0\\n    9.4766   -4.0050   25.2394 N   0  0  0  0  0  0  0  0  0  0  0  0\\n    9.9125   -5.3021   24.6863 C   0  0  0  0  0  0  0  0  0  0  0  0\\n    8.9014   -5.8296   23.6531 C   0  0  0  0  0  0  0  0  0  0  0  0\\n    7.4468   -5.5767   24.0789 C   0  0  0  0  0  0  0  0  0  0  0  0\\n    7.2812   -5.8193   25.4694 O   0  0  0  0  0  0  0  0  0  0  0  0\\n    7.2834   -4.6169   26.2282 C   0  0  0  0  0  0  0  0  0  0  0  0\\n    8.7080   -4.0953   26.4935 C   0  0  0  0  0  0  0  0  0  0  0  0\\n  1  2  3  0\\n  2  3  1  0\\n  3  4  2  0\\n  4  5  1  0\\n  5  6  2  0\\n  6  7  1  0\\n  7  8  2  0\\n  6  9  1  0\\n  9 10  1  0\\n 10 11  1  0\\n 11 12  1  0\\n 12 13  1  0\\n 13 14  1  0\\n 14 15  1  0\\n  3  8  1  0\\n 15  9  1  0\\nM  END\\n\",\"sdf\");\n\tviewer_1641489441892841.addModel(\"\\n     RDKit          3D\\n\\n 11 11  0  0  0  0  0  0  0  0999 V2000\\n    8.3810    0.0457   27.4534 C   0  0  0  0  0  0  0  0  0  0  0  0\\n    8.9446   -0.5315   26.1681 C   0  0  0  0  0  0  0  0  0  0  0  0\\n   10.0957    0.2434   25.7073 N   0  0  0  0  0  0  0  0  0  0  0  0\\n   10.9040   -0.1909   24.6078 C   0  0  0  0  0  0  0  0  0  0  0  0\\n   10.5687   -1.3343   23.8624 C   0  0  0  0  0  0  0  0  0  0  0  0\\n   11.3839   -1.7335   22.8089 C   0  0  0  0  0  0  0  0  0  0  0  0\\n   12.5254   -0.9955   22.4967 C   0  0  0  0  0  0  0  0  0  0  0  0\\n   13.3783   -1.4052   21.4041 C   0  0  0  0  0  0  0  0  0  0  0  0\\n   14.0616   -1.7332   20.5287 N   0  0  0  0  0  0  0  0  0  0  0  0\\n   12.8286    0.1414   23.2571 C   0  0  0  0  0  0  0  0  0  0  0  0\\n   12.0202    0.5136   24.2844 N   0  0  0  0  0  0  0  0  0  0  0  0\\n  1  2  1  0\\n  2  3  1  0\\n  3  4  1  0\\n  4  5  2  0\\n  5  6  1  0\\n  6  7  2  0\\n  7  8  1  0\\n  8  9  3  0\\n  7 10  1  0\\n 10 11  2  0\\n  4 11  1  0\\nM  END\\n\",\"sdf\");\n\tviewer_1641489441892841.addModel(\"\\n     RDKit          3D\\n\\n 15 16  0  0  0  0  0  0  0  0999 V2000\\n    8.3019   -1.3857   20.8353 C   0  0  0  0  0  0  0  0  0  0  0  0\\n    7.3444   -2.0438   19.9430 N   0  0  0  0  0  0  0  0  0  0  0  0\\n    7.2564   -1.5930   18.5376 C   0  0  0  0  0  0  0  0  0  0  0  0\\n    6.4185   -0.3428   18.4454 C   0  0  0  0  0  0  0  0  0  0  0  0\\n    5.4353    0.0305   19.3397 C   0  0  0  0  0  0  0  0  0  0  0  0\\n    4.9680    1.2240   18.8492 C   0  0  0  0  0  0  0  0  0  0  0  0\\n    3.8984    2.0627   19.4768 C   0  0  0  0  0  0  0  0  0  0  0  0\\n    5.6239    1.5108   17.7454 O   0  0  0  0  0  0  0  0  0  0  0  0\\n    6.5053    0.5857   17.4681 N   0  0  0  0  0  0  0  0  0  0  0  0\\n    6.4150   -3.0333   20.4591 C   0  0  0  0  0  0  0  0  0  0  0  0\\n    5.6709   -3.6540   19.6615 O   0  0  0  0  0  0  0  0  0  0  0  0\\n    6.3036   -3.3414   21.8607 N   0  0  0  0  0  0  0  0  0  0  0  0\\n    6.6569   -4.6829   22.2666 C   0  0  0  0  0  0  0  0  0  0  0  0\\n    6.0410   -5.3612   23.4374 C   0  0  0  0  0  0  0  0  0  0  0  0\\n    5.7105   -5.8116   22.0033 C   0  0  0  0  0  0  0  0  0  0  0  0\\n  1  2  1  0\\n  2  3  1  0\\n  3  4  1  0\\n  4  5  1  0\\n  5  6  2  0\\n  6  7  1  0\\n  6  8  1  0\\n  8  9  1  0\\n  2 10  1  0\\n 10 11  2  0\\n 10 12  1  0\\n 12 13  1  0\\n 13 14  1  0\\n 14 15  1  0\\n  4  9  2  0\\n 15 13  1  0\\nM  END\\n\",\"sdf\");\n\tviewer_1641489441892841.addModel(\"\\n     RDKit          3D\\n\\n  5  4  0  0  0  0  0  0  0  0999 V2000\\n    8.6774   -3.4418   23.3648 C   0  0  0  0  0  0  0  0  0  0  0  0\\n    8.1249   -4.7178   23.9905 C   0  0  0  0  0  0  0  0  0  0  0  0\\n    8.9431   -5.1314   25.1868 C   0  0  0  0  0  0  0  0  0  0  0  0\\n   10.1112   -5.6761   25.0476 N   0  0  0  0  0  0  0  0  0  0  0  0\\n    8.4354   -4.9039   26.4973 N   0  0  0  0  0  0  0  0  0  0  0  0\\n  1  2  1  0\\n  2  3  1  0\\n  3  4  2  0\\n  3  5  1  0\\nM  END\\n\",\"sdf\");\n\tviewer_1641489441892841.addModel(\"\\n     RDKit          3D\\n\\n 16 17  0  0  0  0  0  0  0  0999 V2000\\n    9.1526    0.7309   20.7821 O   0  0  0  0  0  0  0  0  0  0  0  0\\n    8.5835   -0.2455   21.3400 C   0  0  0  0  0  0  0  0  0  0  0  0\\n    9.2374   -0.9356   22.4017 N   0  0  0  0  0  0  0  0  0  0  0  0\\n   10.5048   -0.4734   22.8491 C   0  0  0  0  0  0  0  0  0  0  0  0\\n   10.5689    0.3720   23.9579 C   0  0  0  0  0  0  0  0  0  0  0  0\\n   11.7939    0.9029   24.3555 C   0  0  0  0  0  0  0  0  0  0  0  0\\n   12.9553    0.5879   23.6448 C   0  0  0  0  0  0  0  0  0  0  0  0\\n   12.8912   -0.2521   22.5293 C   0  0  0  0  0  0  0  0  0  0  0  0\\n   11.6633   -0.7759   22.1226 C   0  0  0  0  0  0  0  0  0  0  0  0\\n    7.2691   -0.6341   20.9432 N   0  0  0  0  0  0  0  0  0  0  0  0\\n    6.5982    0.0317   19.8762 C   0  0  0  0  0  0  0  0  0  0  0  0\\n    5.3781    0.6663   20.1128 C   0  0  0  0  0  0  0  0  0  0  0  0\\n    4.7388    1.3335   19.0714 C   0  0  0  0  0  0  0  0  0  0  0  0\\n    5.3221    1.3377   17.8023 C   0  0  0  0  0  0  0  0  0  0  0  0\\n    6.5087    0.7125   17.5913 N   0  0  0  0  0  0  0  0  0  0  0  0\\n    7.1568    0.0681   18.5926 C   0  0  0  0  0  0  0  0  0  0  0  0\\n  1  2  2  0\\n  2  3  1  0\\n  3  4  1  0\\n  4  5  2  0\\n  5  6  1  0\\n  6  7  2  0\\n  7  8  1  0\\n  8  9  2  0\\n  2 10  1  0\\n 10 11  1  0\\n 11 12  2  0\\n 12 13  1  0\\n 13 14  2  0\\n 14 15  1  0\\n 15 16  2  0\\n  4  9  1  0\\n 11 16  1  0\\nM  END\\n\",\"sdf\");\n\tviewer_1641489441892841.addModel(\"\\n     RDKit          3D\\n\\n 19 21  0  0  0  0  0  0  0  0999 V2000\\n   13.7505   -1.2707   23.6082 C   0  0  0  0  0  0  0  0  0  0  0  0\\n   12.3371   -0.8902   23.7325 N   0  0  0  0  0  0  0  0  0  0  0  0\\n   11.4940   -1.8571   23.0030 C   0  0  0  0  0  0  0  0  0  0  0  0\\n   10.0262   -1.4883   23.1689 C   0  0  0  0  0  0  0  0  0  0  0  0\\n    9.8374   -0.1119   22.7018 N   0  0  0  0  0  0  0  0  0  0  0  0\\n   10.6729    0.8948   23.3571 C   0  0  0  0  0  0  0  0  0  0  0  0\\n   12.1374    0.4809   23.2177 C   0  0  0  0  0  0  0  0  0  0  0  0\\n    9.0420    0.2103   21.5520 C   0  0  0  0  0  0  0  0  0  0  0  0\\n    9.0034    1.3990   21.1295 O   0  0  0  0  0  0  0  0  0  0  0  0\\n    8.2601   -0.8619   20.8483 C   0  0  0  0  0  0  0  0  0  0  0  0\\n    7.3777   -0.2916   19.7961 C   0  0  0  0  0  0  0  0  0  0  0  0\\n    7.6131   -0.3126   18.4281 C   0  0  0  0  0  0  0  0  0  0  0  0\\n    6.6303    0.3508   17.7772 N   0  0  0  0  0  0  0  0  0  0  0  0\\n    5.7916    0.7949   18.7275 C   0  0  0  0  0  0  0  0  0  0  0  0\\n    4.6650    1.5207   18.5217 N   0  0  0  0  0  0  0  0  0  0  0  0\\n    3.9248    1.9055   19.6030 C   0  0  0  0  0  0  0  0  0  0  0  0\\n    4.3271    1.5633   20.9138 C   0  0  0  0  0  0  0  0  0  0  0  0\\n    5.4993    0.8145   21.1125 C   0  0  0  0  0  0  0  0  0  0  0  0\\n    6.2134    0.4347   19.9770 C   0  0  0  0  0  0  0  0  0  0  0  0\\n  1  2  1  0\\n  2  3  1  0\\n  3  4  1  0\\n  4  5  1  0\\n  5  6  1  0\\n  6  7  1  0\\n  5  8  1  0\\n  8  9  2  0\\n  8 10  1  0\\n 10 11  1  0\\n 11 12  2  0\\n 12 13  1  0\\n 13 14  1  0\\n 14 15  2  0\\n 15 16  1  0\\n 16 17  2  0\\n 17 18  1  0\\n 18 19  2  0\\n  7  2  1  0\\n 19 11  1  0\\n 19 14  1  0\\nM  END\\n\",\"sdf\");\n\tviewer_1641489441892841.addModel(\"\\n     RDKit          3D\\n\\n 18 19  0  0  0  0  0  0  0  0999 V2000\\n    8.1677    2.4244   23.4204 O   0  0  0  0  0  0  0  0  0  0  0  0\\n    7.6646    1.4450   24.0411 C   0  0  0  0  0  0  0  0  0  0  0  0\\n    8.4550    0.7191   24.9865 N   0  0  0  0  0  0  0  0  0  0  0  0\\n    9.8460    1.0492   25.2674 C   0  0  0  0  0  0  0  0  0  0  0  0\\n   10.7453    0.4333   24.2369 C   0  0  0  0  0  0  0  0  0  0  0  0\\n   11.9192    1.0954   23.8504 C   0  0  0  0  0  0  0  0  0  0  0  0\\n   12.7694    0.5182   22.9068 C   0  0  0  0  0  0  0  0  0  0  0  0\\n   12.4516   -0.7242   22.3472 C   0  0  0  0  0  0  0  0  0  0  0  0\\n   13.3099   -1.3013   21.3581 C   0  0  0  0  0  0  0  0  0  0  0  0\\n   14.0048   -1.7613   20.5576 N   0  0  0  0  0  0  0  0  0  0  0  0\\n   11.2961   -1.4008   22.7440 C   0  0  0  0  0  0  0  0  0  0  0  0\\n   10.4535   -0.8324   23.6953 C   0  0  0  0  0  0  0  0  0  0  0  0\\n    6.2817    1.0918   23.8419 N   0  0  0  0  0  0  0  0  0  0  0  0\\n    5.4605    0.8585   25.0417 C   0  0  0  0  0  0  0  0  0  0  0  0\\n    4.0722    0.3191   24.6781 C   0  0  0  0  0  0  0  0  0  0  0  0\\n    3.4695    1.0942   23.6614 O   0  0  0  0  0  0  0  0  0  0  0  0\\n    4.2301    1.0007   22.4737 C   0  0  0  0  0  0  0  0  0  0  0  0\\n    5.6068    1.6412   22.6616 C   0  0  0  0  0  0  0  0  0  0  0  0\\n  1  2  2  0\\n  2  3  1  0\\n  3  4  1  0\\n  4  5  1  0\\n  5  6  2  0\\n  6  7  1  0\\n  7  8  2  0\\n  8  9  1  0\\n  9 10  3  0\\n  8 11  1  0\\n 11 12  2  0\\n  2 13  1  0\\n 13 14  1  0\\n 14 15  1  0\\n 15 16  1  0\\n 16 17  1  0\\n 17 18  1  0\\n  5 12  1  0\\n 18 13  1  0\\nM  END\\n\",\"sdf\");\n\tviewer_1641489441892841.addModel(\"\\n     RDKit          3D\\n\\n 14 15  0  0  0  0  0  0  0  0999 V2000\\n    9.2923   -5.2963   26.3075 C   0  0  0  0  0  0  0  0  0  0  0  0\\n    9.0903   -3.9693   25.6443 C   0  0  0  0  0  0  0  0  0  0  0  0\\n    8.5430   -2.8755   26.2315 N   0  0  0  0  0  0  0  0  0  0  0  0\\n    8.4511   -1.8194   25.4097 N   0  0  0  0  0  0  0  0  0  0  0  0\\n    8.9173   -2.0709   24.1613 C   0  0  0  0  0  0  0  0  0  0  0  0\\n    8.8866   -1.0951   23.0113 C   0  0  0  0  0  0  0  0  0  0  0  0\\n   10.1770   -0.4459   22.7552 N   0  0  0  0  0  0  0  0  0  0  0  0\\n   10.5738    0.4284   23.8586 C   0  0  0  0  0  0  0  0  0  0  0  0\\n   11.7687    1.2817   23.4171 C   0  0  0  0  0  0  0  0  0  0  0  0\\n   12.8383    0.4479   22.7728 C   0  0  0  0  0  0  0  0  0  0  0  0\\n   12.5495   -0.7228   22.1673 C   0  0  0  0  0  0  0  0  0  0  0  0\\n   13.5307   -1.4339   21.5531 F   0  0  0  0  0  0  0  0  0  0  0  0\\n   11.2462   -1.4102   22.4162 C   0  0  0  0  0  0  0  0  0  0  0  0\\n    9.4522   -3.6587   24.0421 S   0  0  0  0  0  0  0  0  0  0  0  0\\n  1  2  1  0\\n  2  3  2  0\\n  3  4  1  0\\n  4  5  2  0\\n  5  6  1  0\\n  6  7  1  0\\n  7  8  1  0\\n  8  9  1  0\\n  9 10  1  0\\n 10 11  2  0\\n 11 12  1  0\\n 11 13  1  0\\n  5 14  1  0\\n 14  2  1  0\\n 13  7  1  0\\nM  END\\n\",\"sdf\");\n\tviewer_1641489441892841.addModel(\"\\n     RDKit          3D\\n\\n 18 19  0  0  0  0  0  0  0  0999 V2000\\n   13.2354   -1.0641   22.5275 C   0  0  0  0  0  0  0  0  0  0  0  0\\n   12.4544   -1.3254   23.7432 N   0  0  0  0  0  0  0  0  0  0  0  0\\n   11.7790   -0.0914   24.1595 C   0  0  0  0  0  0  0  0  0  0  0  0\\n   11.0622   -0.3304   25.4669 C   0  0  0  0  0  0  0  0  0  0  0  0\\n   10.1299   -1.4629   25.3218 N   0  0  0  0  0  0  0  0  0  0  0  0\\n   10.6768   -2.7034   24.7737 C   0  0  0  0  0  0  0  0  0  0  0  0\\n   11.4613   -2.3905   23.4962 C   0  0  0  0  0  0  0  0  0  0  0  0\\n    8.7974   -1.3975   25.8517 C   0  0  0  0  0  0  0  0  0  0  0  0\\n    7.9537   -2.3026   25.6126 O   0  0  0  0  0  0  0  0  0  0  0  0\\n    8.4181   -0.2022   26.6383 C   0  0  0  0  0  0  0  0  0  0  0  0\\n    7.3847   -0.4336   27.5634 O   0  0  0  0  0  0  0  0  0  0  0  0\\n    6.9807    0.6046   28.4033 C   0  0  0  0  0  0  0  0  0  0  0  0\\n    7.7391    1.7901   28.5535 C   0  0  0  0  0  0  0  0  0  0  0  0\\n    7.2750    2.8225   29.3554 C   0  0  0  0  0  0  0  0  0  0  0  0\\n    6.0459    2.7040   30.0061 C   0  0  0  0  0  0  0  0  0  0  0  0\\n    5.5538    3.8161   30.8781 C   0  0  0  0  0  0  0  0  0  0  0  0\\n    5.3064    1.5198   29.8781 C   0  0  0  0  0  0  0  0  0  0  0  0\\n    5.7751    0.4749   29.0828 C   0  0  0  0  0  0  0  0  0  0  0  0\\n  1  2  1  0\\n  2  3  1  0\\n  3  4  1  0\\n  4  5  1  0\\n  5  6  1  0\\n  6  7  1  0\\n  5  8  1  0\\n  8  9  2  0\\n  8 10  1  0\\n 10 11  1  0\\n 11 12  1  0\\n 12 13  2  0\\n 13 14  1  0\\n 14 15  2  0\\n 15 16  1  0\\n 15 17  1  0\\n 17 18  2  0\\n  7  2  1  0\\n 12 18  1  0\\nM  END\\n\",\"sdf\");\n\tviewer_1641489441892841.addModel(\"\\n     RDKit          3D\\n\\n  7  7  0  0  0  0  0  0  0  0999 V2000\\n    3.6736    2.1628   19.5683 N   0  0  0  0  0  0  0  0  0  0  0  0\\n    4.6893    1.2650   19.1311 C   0  0  0  0  0  0  0  0  0  0  0  0\\n    5.1089    0.2084   19.9451 C   0  0  0  0  0  0  0  0  0  0  0  0\\n    6.0573   -0.6523   19.4986 N   0  0  0  0  0  0  0  0  0  0  0  0\\n    6.6115   -0.4948   18.2667 C   0  0  0  0  0  0  0  0  0  0  0  0\\n    6.2256    0.5305   17.4624 N   0  0  0  0  0  0  0  0  0  0  0  0\\n    5.2778    1.4103   17.8709 C   0  0  0  0  0  0  0  0  0  0  0  0\\n  1  2  1  0\\n  2  3  2  0\\n  3  4  1  0\\n  4  5  2  0\\n  5  6  1  0\\n  6  7  2  0\\n  2  7  1  0\\nM  END\\n\",\"sdf\");\n\tviewer_1641489441892841.addModel(\"\\n     RDKit          3D\\n\\n 15 16  0  0  0  0  0  0  0  0999 V2000\\n    9.8935   -0.3868   24.9189 C   0  0  0  0  0  0  0  0  0  0  0  0\\n   11.0538   -0.3193   24.0266 N   0  0  0  0  0  0  0  0  0  0  0  0\\n   11.7271   -1.5837   23.6951 C   0  0  0  0  0  0  0  0  0  0  0  0\\n   12.7177   -1.4293   22.5424 C   0  0  0  0  0  0  0  0  0  0  0  0\\n   13.6628   -0.2574   22.8020 C   0  0  0  0  0  0  0  0  0  0  0  0\\n   12.8808    1.0147   23.0163 C   0  0  0  0  0  0  0  0  0  0  0  0\\n   13.4240    2.2536   22.6355 C   0  0  0  0  0  0  0  0  0  0  0  0\\n   12.7035    3.4346   22.8376 C   0  0  0  0  0  0  0  0  0  0  0  0\\n   11.4352    3.3906   23.4357 C   0  0  0  0  0  0  0  0  0  0  0  0\\n   10.9004    2.1605   23.8305 C   0  0  0  0  0  0  0  0  0  0  0  0\\n   11.6136    0.9614   23.6336 C   0  0  0  0  0  0  0  0  0  0  0  0\\n   10.4984    4.8582   23.7433 S   0  0  0  0  0  6  0  0  0  0  0  0\\n   10.0357    4.8384   25.1684 O   0  0  0  0  0  0  0  0  0  0  0  0\\n    9.2803    4.9000   22.8692 O   0  0  0  0  0  0  0  0  0  0  0  0\\n   11.4512    6.2766   23.4730 N   0  0  0  0  0  0  0  0  0  0  0  0\\n  1  2  1  0\\n  2  3  1  0\\n  3  4  1  0\\n  4  5  1  0\\n  5  6  1  0\\n  6  7  2  0\\n  7  8  1  0\\n  8  9  2  0\\n  9 10  1  0\\n 10 11  2  0\\n  9 12  1  0\\n 12 13  2  0\\n 12 14  2  0\\n 12 15  1  0\\n 11  2  1  0\\n  6 11  1  0\\nM  END\\n\",\"sdf\");\n\tviewer_1641489441892841.addModel(\"\\n     RDKit          3D\\n\\n 11 11  0  0  0  0  0  0  0  0999 V2000\\n    9.9959   -0.6362   22.5372 C   0  0  0  0  0  0  0  0  0  0  0  0\\n    9.1328   -0.0360   21.4728 C   0  0  0  0  0  0  0  0  0  0  0  0\\n    9.4854    1.0420   20.9299 O   0  0  0  0  0  0  0  0  0  0  0  0\\n    7.8832   -0.6432   21.1181 N   0  0  0  0  0  0  0  0  0  0  0  0\\n    7.0465   -0.0854   20.0952 C   0  0  0  0  0  0  0  0  0  0  0  0\\n    7.4416   -0.1580   18.7533 C   0  0  0  0  0  0  0  0  0  0  0  0\\n    6.6599    0.3704   17.7781 N   0  0  0  0  0  0  0  0  0  0  0  0\\n    5.4864    0.9868   18.0657 C   0  0  0  0  0  0  0  0  0  0  0  0\\n    5.0519    1.0903   19.3884 C   0  0  0  0  0  0  0  0  0  0  0  0\\n    5.8336    0.5494   20.4199 C   0  0  0  0  0  0  0  0  0  0  0  0\\n    5.3858    0.6620   21.8522 C   0  0  0  0  0  0  0  0  0  0  0  0\\n  1  2  1  0\\n  2  3  2  0\\n  2  4  1  0\\n  4  5  1  0\\n  5  6  2  0\\n  6  7  1  0\\n  7  8  2  0\\n  8  9  1  0\\n  9 10  2  0\\n 10 11  1  0\\n  5 10  1  0\\nM  END\\n\",\"sdf\");\n\tviewer_1641489441892841.addModel(\"\\n     RDKit          3D\\n\\n 16 17  0  0  0  0  0  0  0  0999 V2000\\n    9.0038    6.2374   22.6055 C   0  0  0  0  0  0  0  0  0  0  0  0\\n   10.2704    5.9501   23.3468 C   0  0  0  0  0  0  0  0  0  0  0  0\\n   10.3135    6.1676   24.5849 O   0  0  0  0  0  0  0  0  0  0  0  0\\n   11.4156    5.4214   22.6602 N   0  0  0  0  0  0  0  0  0  0  0  0\\n   12.6558    5.0471   23.3415 C   0  0  0  0  0  0  0  0  0  0  0  0\\n   13.0625    3.6123   22.9681 C   0  0  0  0  0  0  0  0  0  0  0  0\\n   12.0776    2.5491   23.4053 C   0  0  0  0  0  0  0  0  0  0  0  0\\n   10.9544    2.7018   24.2203 C   0  0  0  0  0  0  0  0  0  0  0  0\\n   10.3329    1.5160   24.3956 N   0  0  0  0  0  0  0  0  0  0  0  0\\n   11.0537    0.6024   23.7218 C   0  0  0  0  0  0  0  0  0  0  0  0\\n   10.8088   -0.7718   23.6269 C   0  0  0  0  0  0  0  0  0  0  0  0\\n   11.7039   -1.5562   22.8768 C   0  0  0  0  0  0  0  0  0  0  0  0\\n   12.8162   -0.9597   22.2461 C   0  0  0  0  0  0  0  0  0  0  0  0\\n   13.6736   -1.7275   21.5261 F   0  0  0  0  0  0  0  0  0  0  0  0\\n   13.0396    0.4290   22.3613 C   0  0  0  0  0  0  0  0  0  0  0  0\\n   12.1308    1.1888   23.1089 C   0  0  0  0  0  0  0  0  0  0  0  0\\n  1  2  1  0\\n  2  3  2  0\\n  2  4  1  0\\n  4  5  1  0\\n  5  6  1  0\\n  6  7  1  0\\n  7  8  2  0\\n  8  9  1  0\\n  9 10  1  0\\n 10 11  2  0\\n 11 12  1  0\\n 12 13  2  0\\n 13 14  1  0\\n 13 15  1  0\\n 15 16  2  0\\n 16  7  1  0\\n 10 16  1  0\\nM  END\\n\",\"sdf\");\n\tviewer_1641489441892841.addModel(\"\\n     RDKit          3D\\n\\n 18 19  0  0  0  0  0  0  0  0999 V2000\\n    2.7213    4.3257   25.2134 F   0  0  0  0  0  0  0  0  0  0  0  0\\n    1.4539    3.8424   25.1879 C   0  0  0  0  0  0  0  0  0  0  0  0\\n    0.4507    4.5549   25.8543 C   0  0  0  0  0  0  0  0  0  0  0  0\\n   -0.8589    4.0729   25.8830 C   0  0  0  0  0  0  0  0  0  0  0  0\\n   -1.1716    2.8710   25.2487 C   0  0  0  0  0  0  0  0  0  0  0  0\\n   -0.1752    2.1517   24.5822 C   0  0  0  0  0  0  0  0  0  0  0  0\\n    1.1490    2.6312   24.5352 C   0  0  0  0  0  0  0  0  0  0  0  0\\n    2.1916    1.8439   23.8220 C   0  0  0  0  0  0  0  0  0  0  0  0\\n    2.0632    0.5942   23.7473 O   0  0  0  0  0  0  0  0  0  0  0  0\\n    3.3239    2.4794   23.1975 N   0  0  0  0  0  0  0  0  0  0  0  0\\n    4.3139    1.7429   22.4079 C   0  0  0  0  0  0  0  0  0  0  0  0\\n    3.7972    1.5949   20.9718 C   0  0  0  0  0  0  0  0  0  0  0  0\\n    4.8336    1.1881   19.9457 C   0  0  0  0  0  0  0  0  0  0  0  0\\n    5.8374    0.2426   20.2159 C   0  0  0  0  0  0  0  0  0  0  0  0\\n    6.7093   -0.1485   19.1933 C   0  0  0  0  0  0  0  0  0  0  0  0\\n    6.5731    0.3623   17.9427 N   0  0  0  0  0  0  0  0  0  0  0  0\\n    5.5996    1.2587   17.6487 C   0  0  0  0  0  0  0  0  0  0  0  0\\n    4.7131    1.6815   18.6386 C   0  0  0  0  0  0  0  0  0  0  0  0\\n  1  2  1  0\\n  2  3  2  0\\n  3  4  1  0\\n  4  5  2  0\\n  5  6  1  0\\n  6  7  2  0\\n  7  8  1  0\\n  8  9  2  0\\n  8 10  1  0\\n 10 11  1  0\\n 11 12  1  0\\n 12 13  1  0\\n 13 14  2  0\\n 14 15  1  0\\n 15 16  2  0\\n 16 17  1  0\\n 17 18  2  0\\n  2  7  1  0\\n 13 18  1  0\\nM  END\\n\",\"sdf\");\n\tviewer_1641489441892841.addModel(\"\\n     RDKit          3D\\n\\n 20 20  0  0  0  0  0  0  0  0999 V2000\\n    7.5872    4.9594   22.5507 C   0  0  0  0  0  0  0  0  0  0  0  0\\n    7.1566    3.6087   23.0111 C   0  0  0  0  0  0  0  0  0  0  0  0\\n    6.0738    3.4549   23.6201 O   0  0  0  0  0  0  0  0  0  0  0  0\\n    8.0789    2.5486   22.9967 N   0  0  0  0  0  0  0  0  0  0  0  0\\n    7.8524    1.2938   22.3503 C   0  0  0  0  0  0  0  0  0  0  0  0\\n    6.4732    0.5970   22.4223 C   0  0  0  0  0  0  0  0  0  0  0  0\\n    6.0483    0.4733   20.9834 C   0  0  0  0  0  0  0  0  0  0  0  0\\n    5.2458    1.4767   20.4257 C   0  0  0  0  0  0  0  0  0  0  0  0\\n    5.1051    1.5754   19.0426 C   0  0  0  0  0  0  0  0  0  0  0  0\\n    5.8145    0.7108   18.2020 C   0  0  0  0  0  0  0  0  0  0  0  0\\n    6.6743   -0.2414   18.7449 C   0  0  0  0  0  0  0  0  0  0  0  0\\n    6.7854   -0.3674   20.1257 C   0  0  0  0  0  0  0  0  0  0  0  0\\n    5.6714    0.7885   16.8238 O   0  0  0  0  0  0  0  0  0  0  0  0\\n    9.0541    0.4436   22.2899 C   0  0  0  0  0  0  0  0  0  0  0  0\\n   10.0450    0.9364   21.6957 O   0  0  0  0  0  0  0  0  0  0  0  0\\n    9.0607   -0.9345   22.6406 N   0  0  0  0  0  0  0  0  0  0  0  0\\n    9.9297   -1.8396   21.9056 C   0  0  0  0  0  0  0  0  0  0  0  0\\n   11.3109   -1.6800   22.3612 C   0  0  0  0  0  0  0  0  0  0  0  0\\n   12.4343   -1.6655   22.7942 C   0  0  0  0  0  0  0  0  0  0  0  0\\n   14.1343   -1.8497   23.5887 Br  0  0  0  0  0  0  0  0  0  0  0  0\\n  1  2  1  0\\n  2  3  2  0\\n  2  4  1  0\\n  4  5  1  0\\n  5  6  1  0\\n  6  7  1  0\\n  7  8  2  0\\n  8  9  1  0\\n  9 10  2  0\\n 10 11  1  0\\n 11 12  2  0\\n 10 13  1  0\\n  5 14  1  0\\n 14 15  2  0\\n 14 16  1  0\\n 16 17  1  0\\n 17 18  1  0\\n 18 19  3  0\\n 19 20  1  0\\n 12  7  1  0\\nM  END\\n\",\"sdf\");\n\tviewer_1641489441892841.addModel(\"\\n     RDKit          3D\\n\\n 16 17  0  0  0  0  0  0  0  0999 V2000\\n   10.8548    2.7503   23.5861 C   0  0  0  0  0  0  0  0  0  0  0  0\\n    9.7196    1.8104   22.6045 S   0  0  0  0  0  6  0  0  0  0  0  0\\n   10.2021    1.7833   21.1849 O   0  0  0  0  0  0  0  0  0  0  0  0\\n    8.3488    2.4134   22.6841 O   0  0  0  0  0  0  0  0  0  0  0  0\\n    9.6563    0.1920   23.2356 C   0  0  0  0  0  0  0  0  0  0  0  0\\n    9.7719   -0.9076   22.3865 C   0  0  0  0  0  0  0  0  0  0  0  0\\n    9.6076   -2.1904   22.8920 C   0  0  0  0  0  0  0  0  0  0  0  0\\n    9.3752   -2.3947   24.2682 C   0  0  0  0  0  0  0  0  0  0  0  0\\n    9.3045   -1.2690   25.1121 C   0  0  0  0  0  0  0  0  0  0  0  0\\n    9.4244    0.0091   24.5953 C   0  0  0  0  0  0  0  0  0  0  0  0\\n    9.2092   -3.7234   24.8057 N   0  0  0  0  0  0  0  0  0  0  0  0\\n    9.9595   -4.8458   24.2269 C   0  0  0  0  0  0  0  0  0  0  0  0\\n    9.1720   -6.1301   24.4165 C   0  0  0  0  0  0  0  0  0  0  0  0\\n    8.9174   -6.3390   25.8439 N   0  0  0  0  0  0  0  0  0  0  0  0\\n    8.0857   -5.2582   26.3826 C   0  0  0  0  0  0  0  0  0  0  0  0\\n    8.7600   -3.9024   26.1971 C   0  0  0  0  0  0  0  0  0  0  0  0\\n  1  2  1  0\\n  2  3  2  0\\n  2  4  2  0\\n  2  5  1  0\\n  5  6  2  0\\n  6  7  1  0\\n  7  8  2  0\\n  8  9  1  0\\n  9 10  2  0\\n  8 11  1  0\\n 11 12  1  0\\n 12 13  1  0\\n 13 14  1  0\\n 14 15  1  0\\n 15 16  1  0\\n 10  5  1  0\\n 16 11  1  0\\nM  END\\n\",\"sdf\");\n\tviewer_1641489441892841.addModel(\"\\n     RDKit          3D\\n\\n 11 11  0  0  0  0  0  0  0  0999 V2000\\n   13.2392   -0.6049   22.7043 Br  0  0  0  0  0  0  0  0  0  0  0  0\\n   12.4774    1.1021   23.1186 C   0  0  0  0  0  0  0  0  0  0  0  0\\n   11.2357    1.1930   23.7599 C   0  0  0  0  0  0  0  0  0  0  0  0\\n   10.6812    2.4475   24.0271 C   0  0  0  0  0  0  0  0  0  0  0  0\\n   11.3691    3.6095   23.6554 C   0  0  0  0  0  0  0  0  0  0  0  0\\n   10.6259    5.1605   23.8972 S   0  0  0  0  0  6  0  0  0  0  0  0\\n    9.2400    5.2319   22.8891 N   0  0  0  0  0  0  0  0  0  0  0  0\\n   10.2125    5.3024   25.3295 O   0  0  0  0  0  0  0  0  0  0  0  0\\n   11.5714    6.2585   23.5107 O   0  0  0  0  0  0  0  0  0  0  0  0\\n   12.6104    3.5160   23.0193 C   0  0  0  0  0  0  0  0  0  0  0  0\\n   13.1642    2.2645   22.7559 C   0  0  0  0  0  0  0  0  0  0  0  0\\n  1  2  1  0\\n  2  3  2  0\\n  3  4  1  0\\n  4  5  2  0\\n  5  6  1  0\\n  6  7  1  0\\n  6  8  2  0\\n  6  9  2  0\\n  5 10  1  0\\n 10 11  2  0\\n 11  2  1  0\\nM  END\\n\",\"sdf\");\n\tviewer_1641489441892841.addModel(\"\\n     RDKit          3D\\n\\n 16 17  0  0  0  0  0  0  0  0999 V2000\\n    9.4470    1.1192   21.0060 O   0  0  0  0  0  0  0  0  0  0  0  0\\n    8.8561    0.2654   21.7221 C   0  0  0  0  0  0  0  0  0  0  0  0\\n    9.3893   -0.1228   23.0548 C   0  0  0  0  0  0  0  0  0  0  0  0\\n   10.9135   -0.0752   23.1249 C   0  0  0  0  0  0  0  0  0  0  0  0\\n   11.5772   -1.0473   22.1108 C   0  0  0  0  0  0  0  0  0  0  0  0\\n   12.8290   -1.7452   22.6680 C   0  0  0  0  0  0  0  0  0  0  0  0\\n   13.6506   -0.8259   23.5820 C   0  0  0  0  0  0  0  0  0  0  0  0\\n   12.8320   -0.2011   24.7307 C   0  0  0  0  0  0  0  0  0  0  0  0\\n   11.3262   -0.3842   24.5665 C   0  0  0  0  0  0  0  0  0  0  0  0\\n    7.6010   -0.2715   21.3234 N   0  0  0  0  0  0  0  0  0  0  0  0\\n    6.9744    0.1657   20.1313 C   0  0  0  0  0  0  0  0  0  0  0  0\\n    5.7196    0.7649   20.2057 C   0  0  0  0  0  0  0  0  0  0  0  0\\n    5.1113    1.2180   19.0421 C   0  0  0  0  0  0  0  0  0  0  0  0\\n    5.7683    1.0533   17.8205 C   0  0  0  0  0  0  0  0  0  0  0  0\\n    6.9930    0.4662   17.7710 N   0  0  0  0  0  0  0  0  0  0  0  0\\n    7.6104    0.0253   18.8932 C   0  0  0  0  0  0  0  0  0  0  0  0\\n  1  2  2  0\\n  2  3  1  0\\n  3  4  1  0\\n  4  5  1  0\\n  5  6  1  0\\n  6  7  1  0\\n  7  8  1  0\\n  8  9  1  0\\n  2 10  1  0\\n 10 11  1  0\\n 11 12  2  0\\n 12 13  1  0\\n 13 14  2  0\\n 14 15  1  0\\n 15 16  2  0\\n  9  4  1  0\\n 11 16  1  0\\nM  END\\n\",\"sdf\");\n\tviewer_1641489441892841.addModel(\"\\n     RDKit          3D\\n\\n 13 13  0  0  0  0  0  0  0  0999 V2000\\n    6.4713   -4.9573   26.5864 C   0  0  0  0  0  0  0  0  0  0  0  0\\n    8.0992   -4.3621   26.1682 S   0  0  0  0  0  6  0  0  0  0  0  0\\n    9.0635   -5.5080   26.0888 O   0  0  0  0  0  0  0  0  0  0  0  0\\n    8.5861   -3.4339   27.2393 O   0  0  0  0  0  0  0  0  0  0  0  0\\n    8.0119   -3.5186   24.6480 N   0  0  0  0  0  0  0  0  0  0  0  0\\n    9.3377   -3.0615   24.2340 C   0  0  0  0  0  0  0  0  0  0  0  0\\n    9.2320   -1.7838   23.3971 C   0  0  0  0  0  0  0  0  0  0  0  0\\n   10.5874   -1.1365   23.3602 C   0  0  0  0  0  0  0  0  0  0  0  0\\n   10.9034   -0.0890   24.2413 C   0  0  0  0  0  0  0  0  0  0  0  0\\n   12.2035    0.4200   24.2851 C   0  0  0  0  0  0  0  0  0  0  0  0\\n   13.1973   -0.1282   23.4705 C   0  0  0  0  0  0  0  0  0  0  0  0\\n   12.8929   -1.1842   22.6090 C   0  0  0  0  0  0  0  0  0  0  0  0\\n   11.5938   -1.6888   22.5552 C   0  0  0  0  0  0  0  0  0  0  0  0\\n  1  2  1  0\\n  2  3  2  0\\n  2  4  2  0\\n  2  5  1  0\\n  5  6  1  0\\n  6  7  1  0\\n  7  8  1  0\\n  8  9  2  0\\n  9 10  1  0\\n 10 11  2  0\\n 11 12  1  0\\n 12 13  2  0\\n  8 13  1  0\\nM  END\\n\",\"sdf\");\n\tviewer_1641489441892841.addModel(\"\\n     RDKit          3D\\n\\n 13 14  0  0  0  0  0  0  0  0999 V2000\\n    9.2789   -4.2034   27.8295 O   0  0  0  0  0  0  0  0  0  0  0  0\\n    9.1747   -4.8621   26.5936 C   0  0  0  0  0  0  0  0  0  0  0  0\\n   10.4688   -4.7135   25.8044 C   0  0  0  0  0  0  0  0  0  0  0  0\\n   10.6893   -3.2651   25.3768 C   0  0  0  0  0  0  0  0  0  0  0  0\\n    9.5534   -2.7617   24.5739 N   0  0  0  0  0  0  0  0  0  0  0  0\\n    9.7504   -1.3535   24.1987 C   0  0  0  0  0  0  0  0  0  0  0  0\\n   11.1174   -1.0734   23.6290 C   0  0  0  0  0  0  0  0  0  0  0  0\\n   11.9682   -0.0699   24.1384 C   0  0  0  0  0  0  0  0  0  0  0  0\\n   13.1745    0.0301   23.4560 C   0  0  0  0  0  0  0  0  0  0  0  0\\n   13.1809   -1.1255   22.2411 S   0  0  0  0  0  0  0  0  0  0  0  0\\n   11.6624   -1.7663   22.5499 C   0  0  0  0  0  0  0  0  0  0  0  0\\n    8.2986   -2.8507   25.3501 C   0  0  0  0  0  0  0  0  0  0  0  0\\n    8.0145   -4.2879   25.7864 C   0  0  0  0  0  0  0  0  0  0  0  0\\n  1  2  1  0\\n  2  3  1  0\\n  3  4  1  0\\n  4  5  1  0\\n  5  6  1  0\\n  6  7  1  0\\n  7  8  1  0\\n  8  9  2  0\\n  9 10  1  0\\n 10 11  1  0\\n  5 12  1  0\\n 12 13  1  0\\n 13  2  1  0\\n  7 11  2  0\\nM  END\\n\",\"sdf\");\n\tviewer_1641489441892841.setStyle({\"stick\": {}});\n\tviewer_1641489441892841.setBackgroundColor(\"white\");\n\tviewer_1641489441892841.zoomTo();\nviewer_1641489441892841.zoomTo();\nviewer_1641489441892841.render();\n});\n</script>",
      "text/html": [
       "<div id=\"3dmolviewer_1641489441892841\"  style=\"position: relative; width: 1000px; height: 1000px\">\n",
       "        <p id=\"3dmolwarning_1641489441892841\" style=\"background-color:#ffcccc;color:black\">You appear to be running in JupyterLab (or JavaScript failed to load for some other reason).  You need to install the 3dmol extension: <br>\n",
       "        <tt>jupyter labextension install jupyterlab_3dmol</tt></p>\n",
       "        </div>\n",
       "<script>\n",
       "\n",
       "var loadScriptAsync = function(uri){\n",
       "  return new Promise((resolve, reject) => {\n",
       "    var tag = document.createElement('script');\n",
       "    tag.src = uri;\n",
       "    tag.async = true;\n",
       "    tag.onload = () => {\n",
       "      resolve();\n",
       "    };\n",
       "  var firstScriptTag = document.getElementsByTagName('script')[0];\n",
       "  firstScriptTag.parentNode.insertBefore(tag, firstScriptTag);\n",
       "});\n",
       "};\n",
       "\n",
       "if(typeof $3Dmolpromise === 'undefined') {\n",
       "$3Dmolpromise = null;\n",
       "  $3Dmolpromise = loadScriptAsync('https://3dmol.org/build/3Dmol.js');\n",
       "}\n",
       "\n",
       "var viewer_1641489441892841 = null;\n",
       "var warn = document.getElementById(\"3dmolwarning_1641489441892841\");\n",
       "if(warn) {\n",
       "    warn.parentNode.removeChild(warn);\n",
       "}\n",
       "$3Dmolpromise.then(function() {\n",
       "viewer_1641489441892841 = $3Dmol.createViewer($(\"#3dmolviewer_1641489441892841\"),{backgroundColor:\"white\"});\n",
       "\tviewer_1641489441892841.addModel(\"\\n     RDKit          3D\\n\\n 14 14  0  0  0  0  0  0  0  0999 V2000\\n   13.6262   -2.4029   24.3774 C   0  0  0  0  0  0  0  0  0  0  0  0\\n   13.0863   -1.0956   24.5273 O   0  0  0  0  0  0  0  0  0  0  0  0\\n   13.2345   -0.1289   23.5307 C   0  0  0  0  0  0  0  0  0  0  0  0\\n   13.9905   -0.3540   22.5499 O   0  0  0  0  0  0  0  0  0  0  0  0\\n   12.5092    1.1547   23.6131 C   0  0  0  0  0  0  0  0  0  0  0  0\\n   11.2799    1.2436   24.2850 C   0  0  0  0  0  0  0  0  0  0  0  0\\n   10.5972    2.4650   24.3488 C   0  0  0  0  0  0  0  0  0  0  0  0\\n   11.1416    3.6121   23.7522 C   0  0  0  0  0  0  0  0  0  0  0  0\\n   12.3652    3.5207   23.0780 C   0  0  0  0  0  0  0  0  0  0  0  0\\n   13.0411    2.3020   23.0044 C   0  0  0  0  0  0  0  0  0  0  0  0\\n   10.2988    5.1639   23.8578 S   0  0  0  0  0  6  0  0  0  0  0  0\\n   11.1835    6.2738   23.3719 O   0  0  0  0  0  0  0  0  0  0  0  0\\n    9.9526    5.4586   25.2863 O   0  0  0  0  0  0  0  0  0  0  0  0\\n    8.8612    5.1249   22.8984 N   0  0  0  0  0  0  0  0  0  0  0  0\\n  1  2  1  0\\n  2  3  1  0\\n  3  4  2  0\\n  3  5  1  0\\n  5  6  2  0\\n  6  7  1  0\\n  7  8  2  0\\n  8  9  1  0\\n  9 10  2  0\\n  8 11  1  0\\n 11 12  2  0\\n 11 13  2  0\\n 11 14  1  0\\n  5 10  1  0\\nM  END\\n\",\"sdf\");\n",
       "\tviewer_1641489441892841.addModel(\"\\n     RDKit          3D\\n\\n 18 19  0  0  0  0  0  0  0  0999 V2000\\n    2.8798    1.4596   24.2081 O   0  0  0  0  0  0  0  0  0  0  0  0\\n    2.9401    2.3455   23.3138 C   0  0  0  0  0  0  0  0  0  0  0  0\\n    4.1043    2.4700   22.4876 N   0  0  0  0  0  0  0  0  0  0  0  0\\n    5.2115    1.5253   22.5403 C   0  0  0  0  0  0  0  0  0  0  0  0\\n    4.8764    0.2779   21.7155 C   0  0  0  0  0  0  0  0  0  0  0  0\\n    5.3118    0.4069   20.2751 C   0  0  0  0  0  0  0  0  0  0  0  0\\n    6.3967   -0.3471   19.8048 C   0  0  0  0  0  0  0  0  0  0  0  0\\n    6.7819   -0.2447   18.4684 C   0  0  0  0  0  0  0  0  0  0  0  0\\n    6.1130    0.5848   17.6289 N   0  0  0  0  0  0  0  0  0  0  0  0\\n    5.0605    1.3308   18.0549 C   0  0  0  0  0  0  0  0  0  0  0  0\\n    4.6374    1.2576   19.3854 C   0  0  0  0  0  0  0  0  0  0  0  0\\n    1.8538    3.2494   23.1056 N   0  0  0  0  0  0  0  0  0  0  0  0\\n    0.6535    3.3145   23.9337 C   0  0  0  0  0  0  0  0  0  0  0  0\\n    0.5269    4.7530   24.4644 C   0  0  0  0  0  0  0  0  0  0  0  0\\n   -0.8053    4.9838   25.1739 C   0  0  0  0  0  0  0  0  0  0  0  0\\n   -1.9724    4.6602   24.2396 C   0  0  0  0  0  0  0  0  0  0  0  0\\n   -1.8942    3.2066   23.7634 C   0  0  0  0  0  0  0  0  0  0  0  0\\n   -0.5587    2.9158   23.0704 C   0  0  0  0  0  0  0  0  0  0  0  0\\n  1  2  2  0\\n  2  3  1  0\\n  3  4  1  0\\n  4  5  1  0\\n  5  6  1  0\\n  6  7  2  0\\n  7  8  1  0\\n  8  9  2  0\\n  9 10  1  0\\n 10 11  2  0\\n  2 12  1  0\\n 12 13  1  0\\n 13 14  1  0\\n 14 15  1  0\\n 15 16  1  0\\n 16 17  1  0\\n 17 18  1  0\\n  6 11  1  0\\n 18 13  1  0\\nM  END\\n\",\"sdf\");\n",
       "\tviewer_1641489441892841.addModel(\"\\n     RDKit          3D\\n\\n 13 14  0  0  0  0  0  0  0  0999 V2000\\n    9.0641    1.4080   21.1666 O   0  0  0  0  0  0  0  0  0  0  0  0\\n    9.4333    1.9239   22.2552 C   0  0  0  0  0  0  0  0  0  0  0  0\\n    9.1093    1.2445   23.5772 C   0  0  2  0  0  0  0  0  0  0  0  0\\n    9.6585   -0.1991   23.6739 C   0  0  2  0  0  0  0  0  0  0  0  0\\n   11.0507   -0.3500   23.0994 C   0  0  0  0  0  0  0  0  0  0  0  0\\n   11.4588   -1.3392   22.1986 C   0  0  0  0  0  0  0  0  0  0  0  0\\n   13.0810   -1.0594   21.8367 S   0  0  0  0  0  0  0  0  0  0  0  0\\n   13.2878    0.2875   22.8249 C   0  0  0  0  0  0  0  0  0  0  0  0\\n   12.0818    0.5359   23.4598 C   0  0  0  0  0  0  0  0  0  0  0  0\\n    8.5960   -1.0553   23.0173 C   0  0  0  0  0  0  0  0  0  0  0  0\\n    7.2783   -0.3498   23.3346 C   0  0  0  0  0  0  0  0  0  0  0  0\\n    7.6105    1.0918   23.7447 C   0  0  0  0  0  0  0  0  0  0  0  0\\n   10.1789    3.1433   22.2333 N   0  0  0  0  0  0  0  0  0  0  0  0\\n  1  2  2  0\\n  3  2  1  6\\n  3  4  1  0\\n  4  5  1  6\\n  5  6  2  0\\n  6  7  1  0\\n  7  8  1  0\\n  8  9  2  0\\n  4 10  1  0\\n 10 11  1  0\\n 11 12  1  0\\n  2 13  1  0\\n 12  3  1  0\\n  9  5  1  0\\nM  END\\n\",\"sdf\");\n",
       "\tviewer_1641489441892841.addModel(\"\\n     RDKit          3D\\n\\n 15 16  0  0  0  0  0  0  0  0999 V2000\\n    9.8805    1.5600   21.3060 N   0  0  0  0  0  0  0  0  0  0  0  0\\n    9.7422    0.6112   21.9498 C   0  0  0  0  0  0  0  0  0  0  0  0\\n    9.5848   -0.5545   22.7566 C   0  0  0  0  0  0  0  0  0  0  0  0\\n    8.8732   -0.4922   23.9542 C   0  0  0  0  0  0  0  0  0  0  0  0\\n    8.8126   -1.6197   24.7741 C   0  0  0  0  0  0  0  0  0  0  0  0\\n    9.4809   -2.8089   24.4027 C   0  0  0  0  0  0  0  0  0  0  0  0\\n   10.1617   -2.8064   23.1618 C   0  0  0  0  0  0  0  0  0  0  0  0\\n   10.1972   -1.7006   22.3831 N   0  0  0  0  0  0  0  0  0  0  0  0\\n    9.4766   -4.0050   25.2394 N   0  0  0  0  0  0  0  0  0  0  0  0\\n    9.9125   -5.3021   24.6863 C   0  0  0  0  0  0  0  0  0  0  0  0\\n    8.9014   -5.8296   23.6531 C   0  0  0  0  0  0  0  0  0  0  0  0\\n    7.4468   -5.5767   24.0789 C   0  0  0  0  0  0  0  0  0  0  0  0\\n    7.2812   -5.8193   25.4694 O   0  0  0  0  0  0  0  0  0  0  0  0\\n    7.2834   -4.6169   26.2282 C   0  0  0  0  0  0  0  0  0  0  0  0\\n    8.7080   -4.0953   26.4935 C   0  0  0  0  0  0  0  0  0  0  0  0\\n  1  2  3  0\\n  2  3  1  0\\n  3  4  2  0\\n  4  5  1  0\\n  5  6  2  0\\n  6  7  1  0\\n  7  8  2  0\\n  6  9  1  0\\n  9 10  1  0\\n 10 11  1  0\\n 11 12  1  0\\n 12 13  1  0\\n 13 14  1  0\\n 14 15  1  0\\n  3  8  1  0\\n 15  9  1  0\\nM  END\\n\",\"sdf\");\n",
       "\tviewer_1641489441892841.addModel(\"\\n     RDKit          3D\\n\\n 11 11  0  0  0  0  0  0  0  0999 V2000\\n    8.3810    0.0457   27.4534 C   0  0  0  0  0  0  0  0  0  0  0  0\\n    8.9446   -0.5315   26.1681 C   0  0  0  0  0  0  0  0  0  0  0  0\\n   10.0957    0.2434   25.7073 N   0  0  0  0  0  0  0  0  0  0  0  0\\n   10.9040   -0.1909   24.6078 C   0  0  0  0  0  0  0  0  0  0  0  0\\n   10.5687   -1.3343   23.8624 C   0  0  0  0  0  0  0  0  0  0  0  0\\n   11.3839   -1.7335   22.8089 C   0  0  0  0  0  0  0  0  0  0  0  0\\n   12.5254   -0.9955   22.4967 C   0  0  0  0  0  0  0  0  0  0  0  0\\n   13.3783   -1.4052   21.4041 C   0  0  0  0  0  0  0  0  0  0  0  0\\n   14.0616   -1.7332   20.5287 N   0  0  0  0  0  0  0  0  0  0  0  0\\n   12.8286    0.1414   23.2571 C   0  0  0  0  0  0  0  0  0  0  0  0\\n   12.0202    0.5136   24.2844 N   0  0  0  0  0  0  0  0  0  0  0  0\\n  1  2  1  0\\n  2  3  1  0\\n  3  4  1  0\\n  4  5  2  0\\n  5  6  1  0\\n  6  7  2  0\\n  7  8  1  0\\n  8  9  3  0\\n  7 10  1  0\\n 10 11  2  0\\n  4 11  1  0\\nM  END\\n\",\"sdf\");\n",
       "\tviewer_1641489441892841.addModel(\"\\n     RDKit          3D\\n\\n 15 16  0  0  0  0  0  0  0  0999 V2000\\n    8.3019   -1.3857   20.8353 C   0  0  0  0  0  0  0  0  0  0  0  0\\n    7.3444   -2.0438   19.9430 N   0  0  0  0  0  0  0  0  0  0  0  0\\n    7.2564   -1.5930   18.5376 C   0  0  0  0  0  0  0  0  0  0  0  0\\n    6.4185   -0.3428   18.4454 C   0  0  0  0  0  0  0  0  0  0  0  0\\n    5.4353    0.0305   19.3397 C   0  0  0  0  0  0  0  0  0  0  0  0\\n    4.9680    1.2240   18.8492 C   0  0  0  0  0  0  0  0  0  0  0  0\\n    3.8984    2.0627   19.4768 C   0  0  0  0  0  0  0  0  0  0  0  0\\n    5.6239    1.5108   17.7454 O   0  0  0  0  0  0  0  0  0  0  0  0\\n    6.5053    0.5857   17.4681 N   0  0  0  0  0  0  0  0  0  0  0  0\\n    6.4150   -3.0333   20.4591 C   0  0  0  0  0  0  0  0  0  0  0  0\\n    5.6709   -3.6540   19.6615 O   0  0  0  0  0  0  0  0  0  0  0  0\\n    6.3036   -3.3414   21.8607 N   0  0  0  0  0  0  0  0  0  0  0  0\\n    6.6569   -4.6829   22.2666 C   0  0  0  0  0  0  0  0  0  0  0  0\\n    6.0410   -5.3612   23.4374 C   0  0  0  0  0  0  0  0  0  0  0  0\\n    5.7105   -5.8116   22.0033 C   0  0  0  0  0  0  0  0  0  0  0  0\\n  1  2  1  0\\n  2  3  1  0\\n  3  4  1  0\\n  4  5  1  0\\n  5  6  2  0\\n  6  7  1  0\\n  6  8  1  0\\n  8  9  1  0\\n  2 10  1  0\\n 10 11  2  0\\n 10 12  1  0\\n 12 13  1  0\\n 13 14  1  0\\n 14 15  1  0\\n  4  9  2  0\\n 15 13  1  0\\nM  END\\n\",\"sdf\");\n",
       "\tviewer_1641489441892841.addModel(\"\\n     RDKit          3D\\n\\n  5  4  0  0  0  0  0  0  0  0999 V2000\\n    8.6774   -3.4418   23.3648 C   0  0  0  0  0  0  0  0  0  0  0  0\\n    8.1249   -4.7178   23.9905 C   0  0  0  0  0  0  0  0  0  0  0  0\\n    8.9431   -5.1314   25.1868 C   0  0  0  0  0  0  0  0  0  0  0  0\\n   10.1112   -5.6761   25.0476 N   0  0  0  0  0  0  0  0  0  0  0  0\\n    8.4354   -4.9039   26.4973 N   0  0  0  0  0  0  0  0  0  0  0  0\\n  1  2  1  0\\n  2  3  1  0\\n  3  4  2  0\\n  3  5  1  0\\nM  END\\n\",\"sdf\");\n",
       "\tviewer_1641489441892841.addModel(\"\\n     RDKit          3D\\n\\n 16 17  0  0  0  0  0  0  0  0999 V2000\\n    9.1526    0.7309   20.7821 O   0  0  0  0  0  0  0  0  0  0  0  0\\n    8.5835   -0.2455   21.3400 C   0  0  0  0  0  0  0  0  0  0  0  0\\n    9.2374   -0.9356   22.4017 N   0  0  0  0  0  0  0  0  0  0  0  0\\n   10.5048   -0.4734   22.8491 C   0  0  0  0  0  0  0  0  0  0  0  0\\n   10.5689    0.3720   23.9579 C   0  0  0  0  0  0  0  0  0  0  0  0\\n   11.7939    0.9029   24.3555 C   0  0  0  0  0  0  0  0  0  0  0  0\\n   12.9553    0.5879   23.6448 C   0  0  0  0  0  0  0  0  0  0  0  0\\n   12.8912   -0.2521   22.5293 C   0  0  0  0  0  0  0  0  0  0  0  0\\n   11.6633   -0.7759   22.1226 C   0  0  0  0  0  0  0  0  0  0  0  0\\n    7.2691   -0.6341   20.9432 N   0  0  0  0  0  0  0  0  0  0  0  0\\n    6.5982    0.0317   19.8762 C   0  0  0  0  0  0  0  0  0  0  0  0\\n    5.3781    0.6663   20.1128 C   0  0  0  0  0  0  0  0  0  0  0  0\\n    4.7388    1.3335   19.0714 C   0  0  0  0  0  0  0  0  0  0  0  0\\n    5.3221    1.3377   17.8023 C   0  0  0  0  0  0  0  0  0  0  0  0\\n    6.5087    0.7125   17.5913 N   0  0  0  0  0  0  0  0  0  0  0  0\\n    7.1568    0.0681   18.5926 C   0  0  0  0  0  0  0  0  0  0  0  0\\n  1  2  2  0\\n  2  3  1  0\\n  3  4  1  0\\n  4  5  2  0\\n  5  6  1  0\\n  6  7  2  0\\n  7  8  1  0\\n  8  9  2  0\\n  2 10  1  0\\n 10 11  1  0\\n 11 12  2  0\\n 12 13  1  0\\n 13 14  2  0\\n 14 15  1  0\\n 15 16  2  0\\n  4  9  1  0\\n 11 16  1  0\\nM  END\\n\",\"sdf\");\n",
       "\tviewer_1641489441892841.addModel(\"\\n     RDKit          3D\\n\\n 19 21  0  0  0  0  0  0  0  0999 V2000\\n   13.7505   -1.2707   23.6082 C   0  0  0  0  0  0  0  0  0  0  0  0\\n   12.3371   -0.8902   23.7325 N   0  0  0  0  0  0  0  0  0  0  0  0\\n   11.4940   -1.8571   23.0030 C   0  0  0  0  0  0  0  0  0  0  0  0\\n   10.0262   -1.4883   23.1689 C   0  0  0  0  0  0  0  0  0  0  0  0\\n    9.8374   -0.1119   22.7018 N   0  0  0  0  0  0  0  0  0  0  0  0\\n   10.6729    0.8948   23.3571 C   0  0  0  0  0  0  0  0  0  0  0  0\\n   12.1374    0.4809   23.2177 C   0  0  0  0  0  0  0  0  0  0  0  0\\n    9.0420    0.2103   21.5520 C   0  0  0  0  0  0  0  0  0  0  0  0\\n    9.0034    1.3990   21.1295 O   0  0  0  0  0  0  0  0  0  0  0  0\\n    8.2601   -0.8619   20.8483 C   0  0  0  0  0  0  0  0  0  0  0  0\\n    7.3777   -0.2916   19.7961 C   0  0  0  0  0  0  0  0  0  0  0  0\\n    7.6131   -0.3126   18.4281 C   0  0  0  0  0  0  0  0  0  0  0  0\\n    6.6303    0.3508   17.7772 N   0  0  0  0  0  0  0  0  0  0  0  0\\n    5.7916    0.7949   18.7275 C   0  0  0  0  0  0  0  0  0  0  0  0\\n    4.6650    1.5207   18.5217 N   0  0  0  0  0  0  0  0  0  0  0  0\\n    3.9248    1.9055   19.6030 C   0  0  0  0  0  0  0  0  0  0  0  0\\n    4.3271    1.5633   20.9138 C   0  0  0  0  0  0  0  0  0  0  0  0\\n    5.4993    0.8145   21.1125 C   0  0  0  0  0  0  0  0  0  0  0  0\\n    6.2134    0.4347   19.9770 C   0  0  0  0  0  0  0  0  0  0  0  0\\n  1  2  1  0\\n  2  3  1  0\\n  3  4  1  0\\n  4  5  1  0\\n  5  6  1  0\\n  6  7  1  0\\n  5  8  1  0\\n  8  9  2  0\\n  8 10  1  0\\n 10 11  1  0\\n 11 12  2  0\\n 12 13  1  0\\n 13 14  1  0\\n 14 15  2  0\\n 15 16  1  0\\n 16 17  2  0\\n 17 18  1  0\\n 18 19  2  0\\n  7  2  1  0\\n 19 11  1  0\\n 19 14  1  0\\nM  END\\n\",\"sdf\");\n",
       "\tviewer_1641489441892841.addModel(\"\\n     RDKit          3D\\n\\n 18 19  0  0  0  0  0  0  0  0999 V2000\\n    8.1677    2.4244   23.4204 O   0  0  0  0  0  0  0  0  0  0  0  0\\n    7.6646    1.4450   24.0411 C   0  0  0  0  0  0  0  0  0  0  0  0\\n    8.4550    0.7191   24.9865 N   0  0  0  0  0  0  0  0  0  0  0  0\\n    9.8460    1.0492   25.2674 C   0  0  0  0  0  0  0  0  0  0  0  0\\n   10.7453    0.4333   24.2369 C   0  0  0  0  0  0  0  0  0  0  0  0\\n   11.9192    1.0954   23.8504 C   0  0  0  0  0  0  0  0  0  0  0  0\\n   12.7694    0.5182   22.9068 C   0  0  0  0  0  0  0  0  0  0  0  0\\n   12.4516   -0.7242   22.3472 C   0  0  0  0  0  0  0  0  0  0  0  0\\n   13.3099   -1.3013   21.3581 C   0  0  0  0  0  0  0  0  0  0  0  0\\n   14.0048   -1.7613   20.5576 N   0  0  0  0  0  0  0  0  0  0  0  0\\n   11.2961   -1.4008   22.7440 C   0  0  0  0  0  0  0  0  0  0  0  0\\n   10.4535   -0.8324   23.6953 C   0  0  0  0  0  0  0  0  0  0  0  0\\n    6.2817    1.0918   23.8419 N   0  0  0  0  0  0  0  0  0  0  0  0\\n    5.4605    0.8585   25.0417 C   0  0  0  0  0  0  0  0  0  0  0  0\\n    4.0722    0.3191   24.6781 C   0  0  0  0  0  0  0  0  0  0  0  0\\n    3.4695    1.0942   23.6614 O   0  0  0  0  0  0  0  0  0  0  0  0\\n    4.2301    1.0007   22.4737 C   0  0  0  0  0  0  0  0  0  0  0  0\\n    5.6068    1.6412   22.6616 C   0  0  0  0  0  0  0  0  0  0  0  0\\n  1  2  2  0\\n  2  3  1  0\\n  3  4  1  0\\n  4  5  1  0\\n  5  6  2  0\\n  6  7  1  0\\n  7  8  2  0\\n  8  9  1  0\\n  9 10  3  0\\n  8 11  1  0\\n 11 12  2  0\\n  2 13  1  0\\n 13 14  1  0\\n 14 15  1  0\\n 15 16  1  0\\n 16 17  1  0\\n 17 18  1  0\\n  5 12  1  0\\n 18 13  1  0\\nM  END\\n\",\"sdf\");\n",
       "\tviewer_1641489441892841.addModel(\"\\n     RDKit          3D\\n\\n 14 15  0  0  0  0  0  0  0  0999 V2000\\n    9.2923   -5.2963   26.3075 C   0  0  0  0  0  0  0  0  0  0  0  0\\n    9.0903   -3.9693   25.6443 C   0  0  0  0  0  0  0  0  0  0  0  0\\n    8.5430   -2.8755   26.2315 N   0  0  0  0  0  0  0  0  0  0  0  0\\n    8.4511   -1.8194   25.4097 N   0  0  0  0  0  0  0  0  0  0  0  0\\n    8.9173   -2.0709   24.1613 C   0  0  0  0  0  0  0  0  0  0  0  0\\n    8.8866   -1.0951   23.0113 C   0  0  0  0  0  0  0  0  0  0  0  0\\n   10.1770   -0.4459   22.7552 N   0  0  0  0  0  0  0  0  0  0  0  0\\n   10.5738    0.4284   23.8586 C   0  0  0  0  0  0  0  0  0  0  0  0\\n   11.7687    1.2817   23.4171 C   0  0  0  0  0  0  0  0  0  0  0  0\\n   12.8383    0.4479   22.7728 C   0  0  0  0  0  0  0  0  0  0  0  0\\n   12.5495   -0.7228   22.1673 C   0  0  0  0  0  0  0  0  0  0  0  0\\n   13.5307   -1.4339   21.5531 F   0  0  0  0  0  0  0  0  0  0  0  0\\n   11.2462   -1.4102   22.4162 C   0  0  0  0  0  0  0  0  0  0  0  0\\n    9.4522   -3.6587   24.0421 S   0  0  0  0  0  0  0  0  0  0  0  0\\n  1  2  1  0\\n  2  3  2  0\\n  3  4  1  0\\n  4  5  2  0\\n  5  6  1  0\\n  6  7  1  0\\n  7  8  1  0\\n  8  9  1  0\\n  9 10  1  0\\n 10 11  2  0\\n 11 12  1  0\\n 11 13  1  0\\n  5 14  1  0\\n 14  2  1  0\\n 13  7  1  0\\nM  END\\n\",\"sdf\");\n",
       "\tviewer_1641489441892841.addModel(\"\\n     RDKit          3D\\n\\n 18 19  0  0  0  0  0  0  0  0999 V2000\\n   13.2354   -1.0641   22.5275 C   0  0  0  0  0  0  0  0  0  0  0  0\\n   12.4544   -1.3254   23.7432 N   0  0  0  0  0  0  0  0  0  0  0  0\\n   11.7790   -0.0914   24.1595 C   0  0  0  0  0  0  0  0  0  0  0  0\\n   11.0622   -0.3304   25.4669 C   0  0  0  0  0  0  0  0  0  0  0  0\\n   10.1299   -1.4629   25.3218 N   0  0  0  0  0  0  0  0  0  0  0  0\\n   10.6768   -2.7034   24.7737 C   0  0  0  0  0  0  0  0  0  0  0  0\\n   11.4613   -2.3905   23.4962 C   0  0  0  0  0  0  0  0  0  0  0  0\\n    8.7974   -1.3975   25.8517 C   0  0  0  0  0  0  0  0  0  0  0  0\\n    7.9537   -2.3026   25.6126 O   0  0  0  0  0  0  0  0  0  0  0  0\\n    8.4181   -0.2022   26.6383 C   0  0  0  0  0  0  0  0  0  0  0  0\\n    7.3847   -0.4336   27.5634 O   0  0  0  0  0  0  0  0  0  0  0  0\\n    6.9807    0.6046   28.4033 C   0  0  0  0  0  0  0  0  0  0  0  0\\n    7.7391    1.7901   28.5535 C   0  0  0  0  0  0  0  0  0  0  0  0\\n    7.2750    2.8225   29.3554 C   0  0  0  0  0  0  0  0  0  0  0  0\\n    6.0459    2.7040   30.0061 C   0  0  0  0  0  0  0  0  0  0  0  0\\n    5.5538    3.8161   30.8781 C   0  0  0  0  0  0  0  0  0  0  0  0\\n    5.3064    1.5198   29.8781 C   0  0  0  0  0  0  0  0  0  0  0  0\\n    5.7751    0.4749   29.0828 C   0  0  0  0  0  0  0  0  0  0  0  0\\n  1  2  1  0\\n  2  3  1  0\\n  3  4  1  0\\n  4  5  1  0\\n  5  6  1  0\\n  6  7  1  0\\n  5  8  1  0\\n  8  9  2  0\\n  8 10  1  0\\n 10 11  1  0\\n 11 12  1  0\\n 12 13  2  0\\n 13 14  1  0\\n 14 15  2  0\\n 15 16  1  0\\n 15 17  1  0\\n 17 18  2  0\\n  7  2  1  0\\n 12 18  1  0\\nM  END\\n\",\"sdf\");\n",
       "\tviewer_1641489441892841.addModel(\"\\n     RDKit          3D\\n\\n  7  7  0  0  0  0  0  0  0  0999 V2000\\n    3.6736    2.1628   19.5683 N   0  0  0  0  0  0  0  0  0  0  0  0\\n    4.6893    1.2650   19.1311 C   0  0  0  0  0  0  0  0  0  0  0  0\\n    5.1089    0.2084   19.9451 C   0  0  0  0  0  0  0  0  0  0  0  0\\n    6.0573   -0.6523   19.4986 N   0  0  0  0  0  0  0  0  0  0  0  0\\n    6.6115   -0.4948   18.2667 C   0  0  0  0  0  0  0  0  0  0  0  0\\n    6.2256    0.5305   17.4624 N   0  0  0  0  0  0  0  0  0  0  0  0\\n    5.2778    1.4103   17.8709 C   0  0  0  0  0  0  0  0  0  0  0  0\\n  1  2  1  0\\n  2  3  2  0\\n  3  4  1  0\\n  4  5  2  0\\n  5  6  1  0\\n  6  7  2  0\\n  2  7  1  0\\nM  END\\n\",\"sdf\");\n",
       "\tviewer_1641489441892841.addModel(\"\\n     RDKit          3D\\n\\n 15 16  0  0  0  0  0  0  0  0999 V2000\\n    9.8935   -0.3868   24.9189 C   0  0  0  0  0  0  0  0  0  0  0  0\\n   11.0538   -0.3193   24.0266 N   0  0  0  0  0  0  0  0  0  0  0  0\\n   11.7271   -1.5837   23.6951 C   0  0  0  0  0  0  0  0  0  0  0  0\\n   12.7177   -1.4293   22.5424 C   0  0  0  0  0  0  0  0  0  0  0  0\\n   13.6628   -0.2574   22.8020 C   0  0  0  0  0  0  0  0  0  0  0  0\\n   12.8808    1.0147   23.0163 C   0  0  0  0  0  0  0  0  0  0  0  0\\n   13.4240    2.2536   22.6355 C   0  0  0  0  0  0  0  0  0  0  0  0\\n   12.7035    3.4346   22.8376 C   0  0  0  0  0  0  0  0  0  0  0  0\\n   11.4352    3.3906   23.4357 C   0  0  0  0  0  0  0  0  0  0  0  0\\n   10.9004    2.1605   23.8305 C   0  0  0  0  0  0  0  0  0  0  0  0\\n   11.6136    0.9614   23.6336 C   0  0  0  0  0  0  0  0  0  0  0  0\\n   10.4984    4.8582   23.7433 S   0  0  0  0  0  6  0  0  0  0  0  0\\n   10.0357    4.8384   25.1684 O   0  0  0  0  0  0  0  0  0  0  0  0\\n    9.2803    4.9000   22.8692 O   0  0  0  0  0  0  0  0  0  0  0  0\\n   11.4512    6.2766   23.4730 N   0  0  0  0  0  0  0  0  0  0  0  0\\n  1  2  1  0\\n  2  3  1  0\\n  3  4  1  0\\n  4  5  1  0\\n  5  6  1  0\\n  6  7  2  0\\n  7  8  1  0\\n  8  9  2  0\\n  9 10  1  0\\n 10 11  2  0\\n  9 12  1  0\\n 12 13  2  0\\n 12 14  2  0\\n 12 15  1  0\\n 11  2  1  0\\n  6 11  1  0\\nM  END\\n\",\"sdf\");\n",
       "\tviewer_1641489441892841.addModel(\"\\n     RDKit          3D\\n\\n 11 11  0  0  0  0  0  0  0  0999 V2000\\n    9.9959   -0.6362   22.5372 C   0  0  0  0  0  0  0  0  0  0  0  0\\n    9.1328   -0.0360   21.4728 C   0  0  0  0  0  0  0  0  0  0  0  0\\n    9.4854    1.0420   20.9299 O   0  0  0  0  0  0  0  0  0  0  0  0\\n    7.8832   -0.6432   21.1181 N   0  0  0  0  0  0  0  0  0  0  0  0\\n    7.0465   -0.0854   20.0952 C   0  0  0  0  0  0  0  0  0  0  0  0\\n    7.4416   -0.1580   18.7533 C   0  0  0  0  0  0  0  0  0  0  0  0\\n    6.6599    0.3704   17.7781 N   0  0  0  0  0  0  0  0  0  0  0  0\\n    5.4864    0.9868   18.0657 C   0  0  0  0  0  0  0  0  0  0  0  0\\n    5.0519    1.0903   19.3884 C   0  0  0  0  0  0  0  0  0  0  0  0\\n    5.8336    0.5494   20.4199 C   0  0  0  0  0  0  0  0  0  0  0  0\\n    5.3858    0.6620   21.8522 C   0  0  0  0  0  0  0  0  0  0  0  0\\n  1  2  1  0\\n  2  3  2  0\\n  2  4  1  0\\n  4  5  1  0\\n  5  6  2  0\\n  6  7  1  0\\n  7  8  2  0\\n  8  9  1  0\\n  9 10  2  0\\n 10 11  1  0\\n  5 10  1  0\\nM  END\\n\",\"sdf\");\n",
       "\tviewer_1641489441892841.addModel(\"\\n     RDKit          3D\\n\\n 16 17  0  0  0  0  0  0  0  0999 V2000\\n    9.0038    6.2374   22.6055 C   0  0  0  0  0  0  0  0  0  0  0  0\\n   10.2704    5.9501   23.3468 C   0  0  0  0  0  0  0  0  0  0  0  0\\n   10.3135    6.1676   24.5849 O   0  0  0  0  0  0  0  0  0  0  0  0\\n   11.4156    5.4214   22.6602 N   0  0  0  0  0  0  0  0  0  0  0  0\\n   12.6558    5.0471   23.3415 C   0  0  0  0  0  0  0  0  0  0  0  0\\n   13.0625    3.6123   22.9681 C   0  0  0  0  0  0  0  0  0  0  0  0\\n   12.0776    2.5491   23.4053 C   0  0  0  0  0  0  0  0  0  0  0  0\\n   10.9544    2.7018   24.2203 C   0  0  0  0  0  0  0  0  0  0  0  0\\n   10.3329    1.5160   24.3956 N   0  0  0  0  0  0  0  0  0  0  0  0\\n   11.0537    0.6024   23.7218 C   0  0  0  0  0  0  0  0  0  0  0  0\\n   10.8088   -0.7718   23.6269 C   0  0  0  0  0  0  0  0  0  0  0  0\\n   11.7039   -1.5562   22.8768 C   0  0  0  0  0  0  0  0  0  0  0  0\\n   12.8162   -0.9597   22.2461 C   0  0  0  0  0  0  0  0  0  0  0  0\\n   13.6736   -1.7275   21.5261 F   0  0  0  0  0  0  0  0  0  0  0  0\\n   13.0396    0.4290   22.3613 C   0  0  0  0  0  0  0  0  0  0  0  0\\n   12.1308    1.1888   23.1089 C   0  0  0  0  0  0  0  0  0  0  0  0\\n  1  2  1  0\\n  2  3  2  0\\n  2  4  1  0\\n  4  5  1  0\\n  5  6  1  0\\n  6  7  1  0\\n  7  8  2  0\\n  8  9  1  0\\n  9 10  1  0\\n 10 11  2  0\\n 11 12  1  0\\n 12 13  2  0\\n 13 14  1  0\\n 13 15  1  0\\n 15 16  2  0\\n 16  7  1  0\\n 10 16  1  0\\nM  END\\n\",\"sdf\");\n",
       "\tviewer_1641489441892841.addModel(\"\\n     RDKit          3D\\n\\n 18 19  0  0  0  0  0  0  0  0999 V2000\\n    2.7213    4.3257   25.2134 F   0  0  0  0  0  0  0  0  0  0  0  0\\n    1.4539    3.8424   25.1879 C   0  0  0  0  0  0  0  0  0  0  0  0\\n    0.4507    4.5549   25.8543 C   0  0  0  0  0  0  0  0  0  0  0  0\\n   -0.8589    4.0729   25.8830 C   0  0  0  0  0  0  0  0  0  0  0  0\\n   -1.1716    2.8710   25.2487 C   0  0  0  0  0  0  0  0  0  0  0  0\\n   -0.1752    2.1517   24.5822 C   0  0  0  0  0  0  0  0  0  0  0  0\\n    1.1490    2.6312   24.5352 C   0  0  0  0  0  0  0  0  0  0  0  0\\n    2.1916    1.8439   23.8220 C   0  0  0  0  0  0  0  0  0  0  0  0\\n    2.0632    0.5942   23.7473 O   0  0  0  0  0  0  0  0  0  0  0  0\\n    3.3239    2.4794   23.1975 N   0  0  0  0  0  0  0  0  0  0  0  0\\n    4.3139    1.7429   22.4079 C   0  0  0  0  0  0  0  0  0  0  0  0\\n    3.7972    1.5949   20.9718 C   0  0  0  0  0  0  0  0  0  0  0  0\\n    4.8336    1.1881   19.9457 C   0  0  0  0  0  0  0  0  0  0  0  0\\n    5.8374    0.2426   20.2159 C   0  0  0  0  0  0  0  0  0  0  0  0\\n    6.7093   -0.1485   19.1933 C   0  0  0  0  0  0  0  0  0  0  0  0\\n    6.5731    0.3623   17.9427 N   0  0  0  0  0  0  0  0  0  0  0  0\\n    5.5996    1.2587   17.6487 C   0  0  0  0  0  0  0  0  0  0  0  0\\n    4.7131    1.6815   18.6386 C   0  0  0  0  0  0  0  0  0  0  0  0\\n  1  2  1  0\\n  2  3  2  0\\n  3  4  1  0\\n  4  5  2  0\\n  5  6  1  0\\n  6  7  2  0\\n  7  8  1  0\\n  8  9  2  0\\n  8 10  1  0\\n 10 11  1  0\\n 11 12  1  0\\n 12 13  1  0\\n 13 14  2  0\\n 14 15  1  0\\n 15 16  2  0\\n 16 17  1  0\\n 17 18  2  0\\n  2  7  1  0\\n 13 18  1  0\\nM  END\\n\",\"sdf\");\n",
       "\tviewer_1641489441892841.addModel(\"\\n     RDKit          3D\\n\\n 20 20  0  0  0  0  0  0  0  0999 V2000\\n    7.5872    4.9594   22.5507 C   0  0  0  0  0  0  0  0  0  0  0  0\\n    7.1566    3.6087   23.0111 C   0  0  0  0  0  0  0  0  0  0  0  0\\n    6.0738    3.4549   23.6201 O   0  0  0  0  0  0  0  0  0  0  0  0\\n    8.0789    2.5486   22.9967 N   0  0  0  0  0  0  0  0  0  0  0  0\\n    7.8524    1.2938   22.3503 C   0  0  0  0  0  0  0  0  0  0  0  0\\n    6.4732    0.5970   22.4223 C   0  0  0  0  0  0  0  0  0  0  0  0\\n    6.0483    0.4733   20.9834 C   0  0  0  0  0  0  0  0  0  0  0  0\\n    5.2458    1.4767   20.4257 C   0  0  0  0  0  0  0  0  0  0  0  0\\n    5.1051    1.5754   19.0426 C   0  0  0  0  0  0  0  0  0  0  0  0\\n    5.8145    0.7108   18.2020 C   0  0  0  0  0  0  0  0  0  0  0  0\\n    6.6743   -0.2414   18.7449 C   0  0  0  0  0  0  0  0  0  0  0  0\\n    6.7854   -0.3674   20.1257 C   0  0  0  0  0  0  0  0  0  0  0  0\\n    5.6714    0.7885   16.8238 O   0  0  0  0  0  0  0  0  0  0  0  0\\n    9.0541    0.4436   22.2899 C   0  0  0  0  0  0  0  0  0  0  0  0\\n   10.0450    0.9364   21.6957 O   0  0  0  0  0  0  0  0  0  0  0  0\\n    9.0607   -0.9345   22.6406 N   0  0  0  0  0  0  0  0  0  0  0  0\\n    9.9297   -1.8396   21.9056 C   0  0  0  0  0  0  0  0  0  0  0  0\\n   11.3109   -1.6800   22.3612 C   0  0  0  0  0  0  0  0  0  0  0  0\\n   12.4343   -1.6655   22.7942 C   0  0  0  0  0  0  0  0  0  0  0  0\\n   14.1343   -1.8497   23.5887 Br  0  0  0  0  0  0  0  0  0  0  0  0\\n  1  2  1  0\\n  2  3  2  0\\n  2  4  1  0\\n  4  5  1  0\\n  5  6  1  0\\n  6  7  1  0\\n  7  8  2  0\\n  8  9  1  0\\n  9 10  2  0\\n 10 11  1  0\\n 11 12  2  0\\n 10 13  1  0\\n  5 14  1  0\\n 14 15  2  0\\n 14 16  1  0\\n 16 17  1  0\\n 17 18  1  0\\n 18 19  3  0\\n 19 20  1  0\\n 12  7  1  0\\nM  END\\n\",\"sdf\");\n",
       "\tviewer_1641489441892841.addModel(\"\\n     RDKit          3D\\n\\n 16 17  0  0  0  0  0  0  0  0999 V2000\\n   10.8548    2.7503   23.5861 C   0  0  0  0  0  0  0  0  0  0  0  0\\n    9.7196    1.8104   22.6045 S   0  0  0  0  0  6  0  0  0  0  0  0\\n   10.2021    1.7833   21.1849 O   0  0  0  0  0  0  0  0  0  0  0  0\\n    8.3488    2.4134   22.6841 O   0  0  0  0  0  0  0  0  0  0  0  0\\n    9.6563    0.1920   23.2356 C   0  0  0  0  0  0  0  0  0  0  0  0\\n    9.7719   -0.9076   22.3865 C   0  0  0  0  0  0  0  0  0  0  0  0\\n    9.6076   -2.1904   22.8920 C   0  0  0  0  0  0  0  0  0  0  0  0\\n    9.3752   -2.3947   24.2682 C   0  0  0  0  0  0  0  0  0  0  0  0\\n    9.3045   -1.2690   25.1121 C   0  0  0  0  0  0  0  0  0  0  0  0\\n    9.4244    0.0091   24.5953 C   0  0  0  0  0  0  0  0  0  0  0  0\\n    9.2092   -3.7234   24.8057 N   0  0  0  0  0  0  0  0  0  0  0  0\\n    9.9595   -4.8458   24.2269 C   0  0  0  0  0  0  0  0  0  0  0  0\\n    9.1720   -6.1301   24.4165 C   0  0  0  0  0  0  0  0  0  0  0  0\\n    8.9174   -6.3390   25.8439 N   0  0  0  0  0  0  0  0  0  0  0  0\\n    8.0857   -5.2582   26.3826 C   0  0  0  0  0  0  0  0  0  0  0  0\\n    8.7600   -3.9024   26.1971 C   0  0  0  0  0  0  0  0  0  0  0  0\\n  1  2  1  0\\n  2  3  2  0\\n  2  4  2  0\\n  2  5  1  0\\n  5  6  2  0\\n  6  7  1  0\\n  7  8  2  0\\n  8  9  1  0\\n  9 10  2  0\\n  8 11  1  0\\n 11 12  1  0\\n 12 13  1  0\\n 13 14  1  0\\n 14 15  1  0\\n 15 16  1  0\\n 10  5  1  0\\n 16 11  1  0\\nM  END\\n\",\"sdf\");\n",
       "\tviewer_1641489441892841.addModel(\"\\n     RDKit          3D\\n\\n 11 11  0  0  0  0  0  0  0  0999 V2000\\n   13.2392   -0.6049   22.7043 Br  0  0  0  0  0  0  0  0  0  0  0  0\\n   12.4774    1.1021   23.1186 C   0  0  0  0  0  0  0  0  0  0  0  0\\n   11.2357    1.1930   23.7599 C   0  0  0  0  0  0  0  0  0  0  0  0\\n   10.6812    2.4475   24.0271 C   0  0  0  0  0  0  0  0  0  0  0  0\\n   11.3691    3.6095   23.6554 C   0  0  0  0  0  0  0  0  0  0  0  0\\n   10.6259    5.1605   23.8972 S   0  0  0  0  0  6  0  0  0  0  0  0\\n    9.2400    5.2319   22.8891 N   0  0  0  0  0  0  0  0  0  0  0  0\\n   10.2125    5.3024   25.3295 O   0  0  0  0  0  0  0  0  0  0  0  0\\n   11.5714    6.2585   23.5107 O   0  0  0  0  0  0  0  0  0  0  0  0\\n   12.6104    3.5160   23.0193 C   0  0  0  0  0  0  0  0  0  0  0  0\\n   13.1642    2.2645   22.7559 C   0  0  0  0  0  0  0  0  0  0  0  0\\n  1  2  1  0\\n  2  3  2  0\\n  3  4  1  0\\n  4  5  2  0\\n  5  6  1  0\\n  6  7  1  0\\n  6  8  2  0\\n  6  9  2  0\\n  5 10  1  0\\n 10 11  2  0\\n 11  2  1  0\\nM  END\\n\",\"sdf\");\n",
       "\tviewer_1641489441892841.addModel(\"\\n     RDKit          3D\\n\\n 16 17  0  0  0  0  0  0  0  0999 V2000\\n    9.4470    1.1192   21.0060 O   0  0  0  0  0  0  0  0  0  0  0  0\\n    8.8561    0.2654   21.7221 C   0  0  0  0  0  0  0  0  0  0  0  0\\n    9.3893   -0.1228   23.0548 C   0  0  0  0  0  0  0  0  0  0  0  0\\n   10.9135   -0.0752   23.1249 C   0  0  0  0  0  0  0  0  0  0  0  0\\n   11.5772   -1.0473   22.1108 C   0  0  0  0  0  0  0  0  0  0  0  0\\n   12.8290   -1.7452   22.6680 C   0  0  0  0  0  0  0  0  0  0  0  0\\n   13.6506   -0.8259   23.5820 C   0  0  0  0  0  0  0  0  0  0  0  0\\n   12.8320   -0.2011   24.7307 C   0  0  0  0  0  0  0  0  0  0  0  0\\n   11.3262   -0.3842   24.5665 C   0  0  0  0  0  0  0  0  0  0  0  0\\n    7.6010   -0.2715   21.3234 N   0  0  0  0  0  0  0  0  0  0  0  0\\n    6.9744    0.1657   20.1313 C   0  0  0  0  0  0  0  0  0  0  0  0\\n    5.7196    0.7649   20.2057 C   0  0  0  0  0  0  0  0  0  0  0  0\\n    5.1113    1.2180   19.0421 C   0  0  0  0  0  0  0  0  0  0  0  0\\n    5.7683    1.0533   17.8205 C   0  0  0  0  0  0  0  0  0  0  0  0\\n    6.9930    0.4662   17.7710 N   0  0  0  0  0  0  0  0  0  0  0  0\\n    7.6104    0.0253   18.8932 C   0  0  0  0  0  0  0  0  0  0  0  0\\n  1  2  2  0\\n  2  3  1  0\\n  3  4  1  0\\n  4  5  1  0\\n  5  6  1  0\\n  6  7  1  0\\n  7  8  1  0\\n  8  9  1  0\\n  2 10  1  0\\n 10 11  1  0\\n 11 12  2  0\\n 12 13  1  0\\n 13 14  2  0\\n 14 15  1  0\\n 15 16  2  0\\n  9  4  1  0\\n 11 16  1  0\\nM  END\\n\",\"sdf\");\n",
       "\tviewer_1641489441892841.addModel(\"\\n     RDKit          3D\\n\\n 13 13  0  0  0  0  0  0  0  0999 V2000\\n    6.4713   -4.9573   26.5864 C   0  0  0  0  0  0  0  0  0  0  0  0\\n    8.0992   -4.3621   26.1682 S   0  0  0  0  0  6  0  0  0  0  0  0\\n    9.0635   -5.5080   26.0888 O   0  0  0  0  0  0  0  0  0  0  0  0\\n    8.5861   -3.4339   27.2393 O   0  0  0  0  0  0  0  0  0  0  0  0\\n    8.0119   -3.5186   24.6480 N   0  0  0  0  0  0  0  0  0  0  0  0\\n    9.3377   -3.0615   24.2340 C   0  0  0  0  0  0  0  0  0  0  0  0\\n    9.2320   -1.7838   23.3971 C   0  0  0  0  0  0  0  0  0  0  0  0\\n   10.5874   -1.1365   23.3602 C   0  0  0  0  0  0  0  0  0  0  0  0\\n   10.9034   -0.0890   24.2413 C   0  0  0  0  0  0  0  0  0  0  0  0\\n   12.2035    0.4200   24.2851 C   0  0  0  0  0  0  0  0  0  0  0  0\\n   13.1973   -0.1282   23.4705 C   0  0  0  0  0  0  0  0  0  0  0  0\\n   12.8929   -1.1842   22.6090 C   0  0  0  0  0  0  0  0  0  0  0  0\\n   11.5938   -1.6888   22.5552 C   0  0  0  0  0  0  0  0  0  0  0  0\\n  1  2  1  0\\n  2  3  2  0\\n  2  4  2  0\\n  2  5  1  0\\n  5  6  1  0\\n  6  7  1  0\\n  7  8  1  0\\n  8  9  2  0\\n  9 10  1  0\\n 10 11  2  0\\n 11 12  1  0\\n 12 13  2  0\\n  8 13  1  0\\nM  END\\n\",\"sdf\");\n",
       "\tviewer_1641489441892841.addModel(\"\\n     RDKit          3D\\n\\n 13 14  0  0  0  0  0  0  0  0999 V2000\\n    9.2789   -4.2034   27.8295 O   0  0  0  0  0  0  0  0  0  0  0  0\\n    9.1747   -4.8621   26.5936 C   0  0  0  0  0  0  0  0  0  0  0  0\\n   10.4688   -4.7135   25.8044 C   0  0  0  0  0  0  0  0  0  0  0  0\\n   10.6893   -3.2651   25.3768 C   0  0  0  0  0  0  0  0  0  0  0  0\\n    9.5534   -2.7617   24.5739 N   0  0  0  0  0  0  0  0  0  0  0  0\\n    9.7504   -1.3535   24.1987 C   0  0  0  0  0  0  0  0  0  0  0  0\\n   11.1174   -1.0734   23.6290 C   0  0  0  0  0  0  0  0  0  0  0  0\\n   11.9682   -0.0699   24.1384 C   0  0  0  0  0  0  0  0  0  0  0  0\\n   13.1745    0.0301   23.4560 C   0  0  0  0  0  0  0  0  0  0  0  0\\n   13.1809   -1.1255   22.2411 S   0  0  0  0  0  0  0  0  0  0  0  0\\n   11.6624   -1.7663   22.5499 C   0  0  0  0  0  0  0  0  0  0  0  0\\n    8.2986   -2.8507   25.3501 C   0  0  0  0  0  0  0  0  0  0  0  0\\n    8.0145   -4.2879   25.7864 C   0  0  0  0  0  0  0  0  0  0  0  0\\n  1  2  1  0\\n  2  3  1  0\\n  3  4  1  0\\n  4  5  1  0\\n  5  6  1  0\\n  6  7  1  0\\n  7  8  1  0\\n  8  9  2  0\\n  9 10  1  0\\n 10 11  1  0\\n  5 12  1  0\\n 12 13  1  0\\n 13  2  1  0\\n  7 11  2  0\\nM  END\\n\",\"sdf\");\n",
       "\tviewer_1641489441892841.setStyle({\"stick\": {}});\n",
       "\tviewer_1641489441892841.setBackgroundColor(\"white\");\n",
       "\tviewer_1641489441892841.zoomTo();\n",
       "viewer_1641489441892841.zoomTo();\n",
       "viewer_1641489441892841.render();\n",
       "});\n",
       "</script>"
      ]
     },
     "metadata": {},
     "output_type": "display_data"
    },
    {
     "data": {
      "application/3dmoljs_load.v0": "<div id=\"3dmolviewer_16414894418971977\"  style=\"position: relative; width: 1000px; height: 1000px\">\n        <p id=\"3dmolwarning_16414894418971977\" style=\"background-color:#ffcccc;color:black\">You appear to be running in JupyterLab (or JavaScript failed to load for some other reason).  You need to install the 3dmol extension: <br>\n        <tt>jupyter labextension install jupyterlab_3dmol</tt></p>\n        </div>\n<script>\n\nvar loadScriptAsync = function(uri){\n  return new Promise((resolve, reject) => {\n    var tag = document.createElement('script');\n    tag.src = uri;\n    tag.async = true;\n    tag.onload = () => {\n      resolve();\n    };\n  var firstScriptTag = document.getElementsByTagName('script')[0];\n  firstScriptTag.parentNode.insertBefore(tag, firstScriptTag);\n});\n};\n\nif(typeof $3Dmolpromise === 'undefined') {\n$3Dmolpromise = null;\n  $3Dmolpromise = loadScriptAsync('https://3dmol.org/build/3Dmol.js');\n}\n\nvar viewer_16414894418971977 = null;\nvar warn = document.getElementById(\"3dmolwarning_16414894418971977\");\nif(warn) {\n    warn.parentNode.removeChild(warn);\n}\n$3Dmolpromise.then(function() {\nviewer_16414894418971977 = $3Dmol.createViewer($(\"#3dmolviewer_16414894418971977\"),{backgroundColor:\"white\"});\n\tviewer_16414894418971977.addModel(\"\\n     RDKit          3D\\n\\n 14 14  0  0  0  0  0  0  0  0999 V2000\\n   13.6262   -2.4029   24.3774 C   0  0  0  0  0  0  0  0  0  0  0  0\\n   13.0863   -1.0956   24.5273 O   0  0  0  0  0  0  0  0  0  0  0  0\\n   13.2345   -0.1289   23.5307 C   0  0  0  0  0  0  0  0  0  0  0  0\\n   13.9905   -0.3540   22.5499 O   0  0  0  0  0  0  0  0  0  0  0  0\\n   12.5092    1.1547   23.6131 C   0  0  0  0  0  0  0  0  0  0  0  0\\n   11.2799    1.2436   24.2850 C   0  0  0  0  0  0  0  0  0  0  0  0\\n   10.5972    2.4650   24.3488 C   0  0  0  0  0  0  0  0  0  0  0  0\\n   11.1416    3.6121   23.7522 C   0  0  0  0  0  0  0  0  0  0  0  0\\n   12.3652    3.5207   23.0780 C   0  0  0  0  0  0  0  0  0  0  0  0\\n   13.0411    2.3020   23.0044 C   0  0  0  0  0  0  0  0  0  0  0  0\\n   10.2988    5.1639   23.8578 S   0  0  0  0  0  6  0  0  0  0  0  0\\n   11.1835    6.2738   23.3719 O   0  0  0  0  0  0  0  0  0  0  0  0\\n    9.9526    5.4586   25.2863 O   0  0  0  0  0  0  0  0  0  0  0  0\\n    8.8612    5.1249   22.8984 N   0  0  0  0  0  0  0  0  0  0  0  0\\n  1  2  1  0\\n  2  3  1  0\\n  3  4  2  0\\n  3  5  1  0\\n  5  6  2  0\\n  6  7  1  0\\n  7  8  2  0\\n  8  9  1  0\\n  9 10  2  0\\n  8 11  1  0\\n 11 12  2  0\\n 11 13  2  0\\n 11 14  1  0\\n  5 10  1  0\\nM  END\\n\",\"sdf\");\n\tviewer_16414894418971977.addModel(\"\\n     RDKit          3D\\n\\n 18 19  0  0  0  0  0  0  0  0999 V2000\\n    2.8798    1.4596   24.2081 O   0  0  0  0  0  0  0  0  0  0  0  0\\n    2.9401    2.3455   23.3138 C   0  0  0  0  0  0  0  0  0  0  0  0\\n    4.1043    2.4700   22.4876 N   0  0  0  0  0  0  0  0  0  0  0  0\\n    5.2115    1.5253   22.5403 C   0  0  0  0  0  0  0  0  0  0  0  0\\n    4.8764    0.2779   21.7155 C   0  0  0  0  0  0  0  0  0  0  0  0\\n    5.3118    0.4069   20.2751 C   0  0  0  0  0  0  0  0  0  0  0  0\\n    6.3967   -0.3471   19.8048 C   0  0  0  0  0  0  0  0  0  0  0  0\\n    6.7819   -0.2447   18.4684 C   0  0  0  0  0  0  0  0  0  0  0  0\\n    6.1130    0.5848   17.6289 N   0  0  0  0  0  0  0  0  0  0  0  0\\n    5.0605    1.3308   18.0549 C   0  0  0  0  0  0  0  0  0  0  0  0\\n    4.6374    1.2576   19.3854 C   0  0  0  0  0  0  0  0  0  0  0  0\\n    1.8538    3.2494   23.1056 N   0  0  0  0  0  0  0  0  0  0  0  0\\n    0.6535    3.3145   23.9337 C   0  0  0  0  0  0  0  0  0  0  0  0\\n    0.5269    4.7530   24.4644 C   0  0  0  0  0  0  0  0  0  0  0  0\\n   -0.8053    4.9838   25.1739 C   0  0  0  0  0  0  0  0  0  0  0  0\\n   -1.9724    4.6602   24.2396 C   0  0  0  0  0  0  0  0  0  0  0  0\\n   -1.8942    3.2066   23.7634 C   0  0  0  0  0  0  0  0  0  0  0  0\\n   -0.5587    2.9158   23.0704 C   0  0  0  0  0  0  0  0  0  0  0  0\\n  1  2  2  0\\n  2  3  1  0\\n  3  4  1  0\\n  4  5  1  0\\n  5  6  1  0\\n  6  7  2  0\\n  7  8  1  0\\n  8  9  2  0\\n  9 10  1  0\\n 10 11  2  0\\n  2 12  1  0\\n 12 13  1  0\\n 13 14  1  0\\n 14 15  1  0\\n 15 16  1  0\\n 16 17  1  0\\n 17 18  1  0\\n  6 11  1  0\\n 18 13  1  0\\nM  END\\n\",\"sdf\");\n\tviewer_16414894418971977.addModel(\"\\n     RDKit          3D\\n\\n 13 14  0  0  0  0  0  0  0  0999 V2000\\n    9.0641    1.4080   21.1666 O   0  0  0  0  0  0  0  0  0  0  0  0\\n    9.4333    1.9239   22.2552 C   0  0  0  0  0  0  0  0  0  0  0  0\\n    9.1093    1.2445   23.5772 C   0  0  2  0  0  0  0  0  0  0  0  0\\n    9.6585   -0.1991   23.6739 C   0  0  2  0  0  0  0  0  0  0  0  0\\n   11.0507   -0.3500   23.0994 C   0  0  0  0  0  0  0  0  0  0  0  0\\n   11.4588   -1.3392   22.1986 C   0  0  0  0  0  0  0  0  0  0  0  0\\n   13.0810   -1.0594   21.8367 S   0  0  0  0  0  0  0  0  0  0  0  0\\n   13.2878    0.2875   22.8249 C   0  0  0  0  0  0  0  0  0  0  0  0\\n   12.0818    0.5359   23.4598 C   0  0  0  0  0  0  0  0  0  0  0  0\\n    8.5960   -1.0553   23.0173 C   0  0  0  0  0  0  0  0  0  0  0  0\\n    7.2783   -0.3498   23.3346 C   0  0  0  0  0  0  0  0  0  0  0  0\\n    7.6105    1.0918   23.7447 C   0  0  0  0  0  0  0  0  0  0  0  0\\n   10.1789    3.1433   22.2333 N   0  0  0  0  0  0  0  0  0  0  0  0\\n  1  2  2  0\\n  3  2  1  6\\n  3  4  1  0\\n  4  5  1  6\\n  5  6  2  0\\n  6  7  1  0\\n  7  8  1  0\\n  8  9  2  0\\n  4 10  1  0\\n 10 11  1  0\\n 11 12  1  0\\n  2 13  1  0\\n 12  3  1  0\\n  9  5  1  0\\nM  END\\n\",\"sdf\");\n\tviewer_16414894418971977.addModel(\"\\n     RDKit          3D\\n\\n 15 16  0  0  0  0  0  0  0  0999 V2000\\n    9.8805    1.5600   21.3060 N   0  0  0  0  0  0  0  0  0  0  0  0\\n    9.7422    0.6112   21.9498 C   0  0  0  0  0  0  0  0  0  0  0  0\\n    9.5848   -0.5545   22.7566 C   0  0  0  0  0  0  0  0  0  0  0  0\\n    8.8732   -0.4922   23.9542 C   0  0  0  0  0  0  0  0  0  0  0  0\\n    8.8126   -1.6197   24.7741 C   0  0  0  0  0  0  0  0  0  0  0  0\\n    9.4809   -2.8089   24.4027 C   0  0  0  0  0  0  0  0  0  0  0  0\\n   10.1617   -2.8064   23.1618 C   0  0  0  0  0  0  0  0  0  0  0  0\\n   10.1972   -1.7006   22.3831 N   0  0  0  0  0  0  0  0  0  0  0  0\\n    9.4766   -4.0050   25.2394 N   0  0  0  0  0  0  0  0  0  0  0  0\\n    9.9125   -5.3021   24.6863 C   0  0  0  0  0  0  0  0  0  0  0  0\\n    8.9014   -5.8296   23.6531 C   0  0  0  0  0  0  0  0  0  0  0  0\\n    7.4468   -5.5767   24.0789 C   0  0  0  0  0  0  0  0  0  0  0  0\\n    7.2812   -5.8193   25.4694 O   0  0  0  0  0  0  0  0  0  0  0  0\\n    7.2834   -4.6169   26.2282 C   0  0  0  0  0  0  0  0  0  0  0  0\\n    8.7080   -4.0953   26.4935 C   0  0  0  0  0  0  0  0  0  0  0  0\\n  1  2  3  0\\n  2  3  1  0\\n  3  4  2  0\\n  4  5  1  0\\n  5  6  2  0\\n  6  7  1  0\\n  7  8  2  0\\n  6  9  1  0\\n  9 10  1  0\\n 10 11  1  0\\n 11 12  1  0\\n 12 13  1  0\\n 13 14  1  0\\n 14 15  1  0\\n  3  8  1  0\\n 15  9  1  0\\nM  END\\n\",\"sdf\");\n\tviewer_16414894418971977.addModel(\"\\n     RDKit          3D\\n\\n 11 11  0  0  0  0  0  0  0  0999 V2000\\n    8.3810    0.0457   27.4534 C   0  0  0  0  0  0  0  0  0  0  0  0\\n    8.9446   -0.5315   26.1681 C   0  0  0  0  0  0  0  0  0  0  0  0\\n   10.0957    0.2434   25.7073 N   0  0  0  0  0  0  0  0  0  0  0  0\\n   10.9040   -0.1909   24.6078 C   0  0  0  0  0  0  0  0  0  0  0  0\\n   10.5687   -1.3343   23.8624 C   0  0  0  0  0  0  0  0  0  0  0  0\\n   11.3839   -1.7335   22.8089 C   0  0  0  0  0  0  0  0  0  0  0  0\\n   12.5254   -0.9955   22.4967 C   0  0  0  0  0  0  0  0  0  0  0  0\\n   13.3783   -1.4052   21.4041 C   0  0  0  0  0  0  0  0  0  0  0  0\\n   14.0616   -1.7332   20.5287 N   0  0  0  0  0  0  0  0  0  0  0  0\\n   12.8286    0.1414   23.2571 C   0  0  0  0  0  0  0  0  0  0  0  0\\n   12.0202    0.5136   24.2844 N   0  0  0  0  0  0  0  0  0  0  0  0\\n  1  2  1  0\\n  2  3  1  0\\n  3  4  1  0\\n  4  5  2  0\\n  5  6  1  0\\n  6  7  2  0\\n  7  8  1  0\\n  8  9  3  0\\n  7 10  1  0\\n 10 11  2  0\\n  4 11  1  0\\nM  END\\n\",\"sdf\");\n\tviewer_16414894418971977.addModel(\"\\n     RDKit          3D\\n\\n 15 16  0  0  0  0  0  0  0  0999 V2000\\n    8.3019   -1.3857   20.8353 C   0  0  0  0  0  0  0  0  0  0  0  0\\n    7.3444   -2.0438   19.9430 N   0  0  0  0  0  0  0  0  0  0  0  0\\n    7.2564   -1.5930   18.5376 C   0  0  0  0  0  0  0  0  0  0  0  0\\n    6.4185   -0.3428   18.4454 C   0  0  0  0  0  0  0  0  0  0  0  0\\n    5.4353    0.0305   19.3397 C   0  0  0  0  0  0  0  0  0  0  0  0\\n    4.9680    1.2240   18.8492 C   0  0  0  0  0  0  0  0  0  0  0  0\\n    3.8984    2.0627   19.4768 C   0  0  0  0  0  0  0  0  0  0  0  0\\n    5.6239    1.5108   17.7454 O   0  0  0  0  0  0  0  0  0  0  0  0\\n    6.5053    0.5857   17.4681 N   0  0  0  0  0  0  0  0  0  0  0  0\\n    6.4150   -3.0333   20.4591 C   0  0  0  0  0  0  0  0  0  0  0  0\\n    5.6709   -3.6540   19.6615 O   0  0  0  0  0  0  0  0  0  0  0  0\\n    6.3036   -3.3414   21.8607 N   0  0  0  0  0  0  0  0  0  0  0  0\\n    6.6569   -4.6829   22.2666 C   0  0  0  0  0  0  0  0  0  0  0  0\\n    6.0410   -5.3612   23.4374 C   0  0  0  0  0  0  0  0  0  0  0  0\\n    5.7105   -5.8116   22.0033 C   0  0  0  0  0  0  0  0  0  0  0  0\\n  1  2  1  0\\n  2  3  1  0\\n  3  4  1  0\\n  4  5  1  0\\n  5  6  2  0\\n  6  7  1  0\\n  6  8  1  0\\n  8  9  1  0\\n  2 10  1  0\\n 10 11  2  0\\n 10 12  1  0\\n 12 13  1  0\\n 13 14  1  0\\n 14 15  1  0\\n  4  9  2  0\\n 15 13  1  0\\nM  END\\n\",\"sdf\");\n\tviewer_16414894418971977.addModel(\"\\n     RDKit          3D\\n\\n  5  4  0  0  0  0  0  0  0  0999 V2000\\n    8.6774   -3.4418   23.3648 C   0  0  0  0  0  0  0  0  0  0  0  0\\n    8.1249   -4.7178   23.9905 C   0  0  0  0  0  0  0  0  0  0  0  0\\n    8.9431   -5.1314   25.1868 C   0  0  0  0  0  0  0  0  0  0  0  0\\n   10.1112   -5.6761   25.0476 N   0  0  0  0  0  0  0  0  0  0  0  0\\n    8.4354   -4.9039   26.4973 N   0  0  0  0  0  0  0  0  0  0  0  0\\n  1  2  1  0\\n  2  3  1  0\\n  3  4  2  0\\n  3  5  1  0\\nM  END\\n\",\"sdf\");\n\tviewer_16414894418971977.addModel(\"\\n     RDKit          3D\\n\\n 16 17  0  0  0  0  0  0  0  0999 V2000\\n    9.1526    0.7309   20.7821 O   0  0  0  0  0  0  0  0  0  0  0  0\\n    8.5835   -0.2455   21.3400 C   0  0  0  0  0  0  0  0  0  0  0  0\\n    9.2374   -0.9356   22.4017 N   0  0  0  0  0  0  0  0  0  0  0  0\\n   10.5048   -0.4734   22.8491 C   0  0  0  0  0  0  0  0  0  0  0  0\\n   10.5689    0.3720   23.9579 C   0  0  0  0  0  0  0  0  0  0  0  0\\n   11.7939    0.9029   24.3555 C   0  0  0  0  0  0  0  0  0  0  0  0\\n   12.9553    0.5879   23.6448 C   0  0  0  0  0  0  0  0  0  0  0  0\\n   12.8912   -0.2521   22.5293 C   0  0  0  0  0  0  0  0  0  0  0  0\\n   11.6633   -0.7759   22.1226 C   0  0  0  0  0  0  0  0  0  0  0  0\\n    7.2691   -0.6341   20.9432 N   0  0  0  0  0  0  0  0  0  0  0  0\\n    6.5982    0.0317   19.8762 C   0  0  0  0  0  0  0  0  0  0  0  0\\n    5.3781    0.6663   20.1128 C   0  0  0  0  0  0  0  0  0  0  0  0\\n    4.7388    1.3335   19.0714 C   0  0  0  0  0  0  0  0  0  0  0  0\\n    5.3221    1.3377   17.8023 C   0  0  0  0  0  0  0  0  0  0  0  0\\n    6.5087    0.7125   17.5913 N   0  0  0  0  0  0  0  0  0  0  0  0\\n    7.1568    0.0681   18.5926 C   0  0  0  0  0  0  0  0  0  0  0  0\\n  1  2  2  0\\n  2  3  1  0\\n  3  4  1  0\\n  4  5  2  0\\n  5  6  1  0\\n  6  7  2  0\\n  7  8  1  0\\n  8  9  2  0\\n  2 10  1  0\\n 10 11  1  0\\n 11 12  2  0\\n 12 13  1  0\\n 13 14  2  0\\n 14 15  1  0\\n 15 16  2  0\\n  4  9  1  0\\n 11 16  1  0\\nM  END\\n\",\"sdf\");\n\tviewer_16414894418971977.addModel(\"\\n     RDKit          3D\\n\\n 19 21  0  0  0  0  0  0  0  0999 V2000\\n   13.7505   -1.2707   23.6082 C   0  0  0  0  0  0  0  0  0  0  0  0\\n   12.3371   -0.8902   23.7325 N   0  0  0  0  0  0  0  0  0  0  0  0\\n   11.4940   -1.8571   23.0030 C   0  0  0  0  0  0  0  0  0  0  0  0\\n   10.0262   -1.4883   23.1689 C   0  0  0  0  0  0  0  0  0  0  0  0\\n    9.8374   -0.1119   22.7018 N   0  0  0  0  0  0  0  0  0  0  0  0\\n   10.6729    0.8948   23.3571 C   0  0  0  0  0  0  0  0  0  0  0  0\\n   12.1374    0.4809   23.2177 C   0  0  0  0  0  0  0  0  0  0  0  0\\n    9.0420    0.2103   21.5520 C   0  0  0  0  0  0  0  0  0  0  0  0\\n    9.0034    1.3990   21.1295 O   0  0  0  0  0  0  0  0  0  0  0  0\\n    8.2601   -0.8619   20.8483 C   0  0  0  0  0  0  0  0  0  0  0  0\\n    7.3777   -0.2916   19.7961 C   0  0  0  0  0  0  0  0  0  0  0  0\\n    7.6131   -0.3126   18.4281 C   0  0  0  0  0  0  0  0  0  0  0  0\\n    6.6303    0.3508   17.7772 N   0  0  0  0  0  0  0  0  0  0  0  0\\n    5.7916    0.7949   18.7275 C   0  0  0  0  0  0  0  0  0  0  0  0\\n    4.6650    1.5207   18.5217 N   0  0  0  0  0  0  0  0  0  0  0  0\\n    3.9248    1.9055   19.6030 C   0  0  0  0  0  0  0  0  0  0  0  0\\n    4.3271    1.5633   20.9138 C   0  0  0  0  0  0  0  0  0  0  0  0\\n    5.4993    0.8145   21.1125 C   0  0  0  0  0  0  0  0  0  0  0  0\\n    6.2134    0.4347   19.9770 C   0  0  0  0  0  0  0  0  0  0  0  0\\n  1  2  1  0\\n  2  3  1  0\\n  3  4  1  0\\n  4  5  1  0\\n  5  6  1  0\\n  6  7  1  0\\n  5  8  1  0\\n  8  9  2  0\\n  8 10  1  0\\n 10 11  1  0\\n 11 12  2  0\\n 12 13  1  0\\n 13 14  1  0\\n 14 15  2  0\\n 15 16  1  0\\n 16 17  2  0\\n 17 18  1  0\\n 18 19  2  0\\n  7  2  1  0\\n 19 11  1  0\\n 19 14  1  0\\nM  END\\n\",\"sdf\");\n\tviewer_16414894418971977.addModel(\"\\n     RDKit          3D\\n\\n 18 19  0  0  0  0  0  0  0  0999 V2000\\n    8.1677    2.4244   23.4204 O   0  0  0  0  0  0  0  0  0  0  0  0\\n    7.6646    1.4450   24.0411 C   0  0  0  0  0  0  0  0  0  0  0  0\\n    8.4550    0.7191   24.9865 N   0  0  0  0  0  0  0  0  0  0  0  0\\n    9.8460    1.0492   25.2674 C   0  0  0  0  0  0  0  0  0  0  0  0\\n   10.7453    0.4333   24.2369 C   0  0  0  0  0  0  0  0  0  0  0  0\\n   11.9192    1.0954   23.8504 C   0  0  0  0  0  0  0  0  0  0  0  0\\n   12.7694    0.5182   22.9068 C   0  0  0  0  0  0  0  0  0  0  0  0\\n   12.4516   -0.7242   22.3472 C   0  0  0  0  0  0  0  0  0  0  0  0\\n   13.3099   -1.3013   21.3581 C   0  0  0  0  0  0  0  0  0  0  0  0\\n   14.0048   -1.7613   20.5576 N   0  0  0  0  0  0  0  0  0  0  0  0\\n   11.2961   -1.4008   22.7440 C   0  0  0  0  0  0  0  0  0  0  0  0\\n   10.4535   -0.8324   23.6953 C   0  0  0  0  0  0  0  0  0  0  0  0\\n    6.2817    1.0918   23.8419 N   0  0  0  0  0  0  0  0  0  0  0  0\\n    5.4605    0.8585   25.0417 C   0  0  0  0  0  0  0  0  0  0  0  0\\n    4.0722    0.3191   24.6781 C   0  0  0  0  0  0  0  0  0  0  0  0\\n    3.4695    1.0942   23.6614 O   0  0  0  0  0  0  0  0  0  0  0  0\\n    4.2301    1.0007   22.4737 C   0  0  0  0  0  0  0  0  0  0  0  0\\n    5.6068    1.6412   22.6616 C   0  0  0  0  0  0  0  0  0  0  0  0\\n  1  2  2  0\\n  2  3  1  0\\n  3  4  1  0\\n  4  5  1  0\\n  5  6  2  0\\n  6  7  1  0\\n  7  8  2  0\\n  8  9  1  0\\n  9 10  3  0\\n  8 11  1  0\\n 11 12  2  0\\n  2 13  1  0\\n 13 14  1  0\\n 14 15  1  0\\n 15 16  1  0\\n 16 17  1  0\\n 17 18  1  0\\n  5 12  1  0\\n 18 13  1  0\\nM  END\\n\",\"sdf\");\n\tviewer_16414894418971977.addModel(\"\\n     RDKit          3D\\n\\n 14 15  0  0  0  0  0  0  0  0999 V2000\\n    9.2923   -5.2963   26.3075 C   0  0  0  0  0  0  0  0  0  0  0  0\\n    9.0903   -3.9693   25.6443 C   0  0  0  0  0  0  0  0  0  0  0  0\\n    8.5430   -2.8755   26.2315 N   0  0  0  0  0  0  0  0  0  0  0  0\\n    8.4511   -1.8194   25.4097 N   0  0  0  0  0  0  0  0  0  0  0  0\\n    8.9173   -2.0709   24.1613 C   0  0  0  0  0  0  0  0  0  0  0  0\\n    8.8866   -1.0951   23.0113 C   0  0  0  0  0  0  0  0  0  0  0  0\\n   10.1770   -0.4459   22.7552 N   0  0  0  0  0  0  0  0  0  0  0  0\\n   10.5738    0.4284   23.8586 C   0  0  0  0  0  0  0  0  0  0  0  0\\n   11.7687    1.2817   23.4171 C   0  0  0  0  0  0  0  0  0  0  0  0\\n   12.8383    0.4479   22.7728 C   0  0  0  0  0  0  0  0  0  0  0  0\\n   12.5495   -0.7228   22.1673 C   0  0  0  0  0  0  0  0  0  0  0  0\\n   13.5307   -1.4339   21.5531 F   0  0  0  0  0  0  0  0  0  0  0  0\\n   11.2462   -1.4102   22.4162 C   0  0  0  0  0  0  0  0  0  0  0  0\\n    9.4522   -3.6587   24.0421 S   0  0  0  0  0  0  0  0  0  0  0  0\\n  1  2  1  0\\n  2  3  2  0\\n  3  4  1  0\\n  4  5  2  0\\n  5  6  1  0\\n  6  7  1  0\\n  7  8  1  0\\n  8  9  1  0\\n  9 10  1  0\\n 10 11  2  0\\n 11 12  1  0\\n 11 13  1  0\\n  5 14  1  0\\n 14  2  1  0\\n 13  7  1  0\\nM  END\\n\",\"sdf\");\n\tviewer_16414894418971977.addModel(\"\\n     RDKit          3D\\n\\n 18 19  0  0  0  0  0  0  0  0999 V2000\\n   13.2354   -1.0641   22.5275 C   0  0  0  0  0  0  0  0  0  0  0  0\\n   12.4544   -1.3254   23.7432 N   0  0  0  0  0  0  0  0  0  0  0  0\\n   11.7790   -0.0914   24.1595 C   0  0  0  0  0  0  0  0  0  0  0  0\\n   11.0622   -0.3304   25.4669 C   0  0  0  0  0  0  0  0  0  0  0  0\\n   10.1299   -1.4629   25.3218 N   0  0  0  0  0  0  0  0  0  0  0  0\\n   10.6768   -2.7034   24.7737 C   0  0  0  0  0  0  0  0  0  0  0  0\\n   11.4613   -2.3905   23.4962 C   0  0  0  0  0  0  0  0  0  0  0  0\\n    8.7974   -1.3975   25.8517 C   0  0  0  0  0  0  0  0  0  0  0  0\\n    7.9537   -2.3026   25.6126 O   0  0  0  0  0  0  0  0  0  0  0  0\\n    8.4181   -0.2022   26.6383 C   0  0  0  0  0  0  0  0  0  0  0  0\\n    7.3847   -0.4336   27.5634 O   0  0  0  0  0  0  0  0  0  0  0  0\\n    6.9807    0.6046   28.4033 C   0  0  0  0  0  0  0  0  0  0  0  0\\n    7.7391    1.7901   28.5535 C   0  0  0  0  0  0  0  0  0  0  0  0\\n    7.2750    2.8225   29.3554 C   0  0  0  0  0  0  0  0  0  0  0  0\\n    6.0459    2.7040   30.0061 C   0  0  0  0  0  0  0  0  0  0  0  0\\n    5.5538    3.8161   30.8781 C   0  0  0  0  0  0  0  0  0  0  0  0\\n    5.3064    1.5198   29.8781 C   0  0  0  0  0  0  0  0  0  0  0  0\\n    5.7751    0.4749   29.0828 C   0  0  0  0  0  0  0  0  0  0  0  0\\n  1  2  1  0\\n  2  3  1  0\\n  3  4  1  0\\n  4  5  1  0\\n  5  6  1  0\\n  6  7  1  0\\n  5  8  1  0\\n  8  9  2  0\\n  8 10  1  0\\n 10 11  1  0\\n 11 12  1  0\\n 12 13  2  0\\n 13 14  1  0\\n 14 15  2  0\\n 15 16  1  0\\n 15 17  1  0\\n 17 18  2  0\\n  7  2  1  0\\n 12 18  1  0\\nM  END\\n\",\"sdf\");\n\tviewer_16414894418971977.addModel(\"\\n     RDKit          3D\\n\\n  7  7  0  0  0  0  0  0  0  0999 V2000\\n    3.6736    2.1628   19.5683 N   0  0  0  0  0  0  0  0  0  0  0  0\\n    4.6893    1.2650   19.1311 C   0  0  0  0  0  0  0  0  0  0  0  0\\n    5.1089    0.2084   19.9451 C   0  0  0  0  0  0  0  0  0  0  0  0\\n    6.0573   -0.6523   19.4986 N   0  0  0  0  0  0  0  0  0  0  0  0\\n    6.6115   -0.4948   18.2667 C   0  0  0  0  0  0  0  0  0  0  0  0\\n    6.2256    0.5305   17.4624 N   0  0  0  0  0  0  0  0  0  0  0  0\\n    5.2778    1.4103   17.8709 C   0  0  0  0  0  0  0  0  0  0  0  0\\n  1  2  1  0\\n  2  3  2  0\\n  3  4  1  0\\n  4  5  2  0\\n  5  6  1  0\\n  6  7  2  0\\n  2  7  1  0\\nM  END\\n\",\"sdf\");\n\tviewer_16414894418971977.addModel(\"\\n     RDKit          3D\\n\\n 15 16  0  0  0  0  0  0  0  0999 V2000\\n    9.8935   -0.3868   24.9189 C   0  0  0  0  0  0  0  0  0  0  0  0\\n   11.0538   -0.3193   24.0266 N   0  0  0  0  0  0  0  0  0  0  0  0\\n   11.7271   -1.5837   23.6951 C   0  0  0  0  0  0  0  0  0  0  0  0\\n   12.7177   -1.4293   22.5424 C   0  0  0  0  0  0  0  0  0  0  0  0\\n   13.6628   -0.2574   22.8020 C   0  0  0  0  0  0  0  0  0  0  0  0\\n   12.8808    1.0147   23.0163 C   0  0  0  0  0  0  0  0  0  0  0  0\\n   13.4240    2.2536   22.6355 C   0  0  0  0  0  0  0  0  0  0  0  0\\n   12.7035    3.4346   22.8376 C   0  0  0  0  0  0  0  0  0  0  0  0\\n   11.4352    3.3906   23.4357 C   0  0  0  0  0  0  0  0  0  0  0  0\\n   10.9004    2.1605   23.8305 C   0  0  0  0  0  0  0  0  0  0  0  0\\n   11.6136    0.9614   23.6336 C   0  0  0  0  0  0  0  0  0  0  0  0\\n   10.4984    4.8582   23.7433 S   0  0  0  0  0  6  0  0  0  0  0  0\\n   10.0357    4.8384   25.1684 O   0  0  0  0  0  0  0  0  0  0  0  0\\n    9.2803    4.9000   22.8692 O   0  0  0  0  0  0  0  0  0  0  0  0\\n   11.4512    6.2766   23.4730 N   0  0  0  0  0  0  0  0  0  0  0  0\\n  1  2  1  0\\n  2  3  1  0\\n  3  4  1  0\\n  4  5  1  0\\n  5  6  1  0\\n  6  7  2  0\\n  7  8  1  0\\n  8  9  2  0\\n  9 10  1  0\\n 10 11  2  0\\n  9 12  1  0\\n 12 13  2  0\\n 12 14  2  0\\n 12 15  1  0\\n 11  2  1  0\\n  6 11  1  0\\nM  END\\n\",\"sdf\");\n\tviewer_16414894418971977.addModel(\"\\n     RDKit          3D\\n\\n 11 11  0  0  0  0  0  0  0  0999 V2000\\n    9.9959   -0.6362   22.5372 C   0  0  0  0  0  0  0  0  0  0  0  0\\n    9.1328   -0.0360   21.4728 C   0  0  0  0  0  0  0  0  0  0  0  0\\n    9.4854    1.0420   20.9299 O   0  0  0  0  0  0  0  0  0  0  0  0\\n    7.8832   -0.6432   21.1181 N   0  0  0  0  0  0  0  0  0  0  0  0\\n    7.0465   -0.0854   20.0952 C   0  0  0  0  0  0  0  0  0  0  0  0\\n    7.4416   -0.1580   18.7533 C   0  0  0  0  0  0  0  0  0  0  0  0\\n    6.6599    0.3704   17.7781 N   0  0  0  0  0  0  0  0  0  0  0  0\\n    5.4864    0.9868   18.0657 C   0  0  0  0  0  0  0  0  0  0  0  0\\n    5.0519    1.0903   19.3884 C   0  0  0  0  0  0  0  0  0  0  0  0\\n    5.8336    0.5494   20.4199 C   0  0  0  0  0  0  0  0  0  0  0  0\\n    5.3858    0.6620   21.8522 C   0  0  0  0  0  0  0  0  0  0  0  0\\n  1  2  1  0\\n  2  3  2  0\\n  2  4  1  0\\n  4  5  1  0\\n  5  6  2  0\\n  6  7  1  0\\n  7  8  2  0\\n  8  9  1  0\\n  9 10  2  0\\n 10 11  1  0\\n  5 10  1  0\\nM  END\\n\",\"sdf\");\n\tviewer_16414894418971977.addModel(\"\\n     RDKit          3D\\n\\n 16 17  0  0  0  0  0  0  0  0999 V2000\\n    9.0038    6.2374   22.6055 C   0  0  0  0  0  0  0  0  0  0  0  0\\n   10.2704    5.9501   23.3468 C   0  0  0  0  0  0  0  0  0  0  0  0\\n   10.3135    6.1676   24.5849 O   0  0  0  0  0  0  0  0  0  0  0  0\\n   11.4156    5.4214   22.6602 N   0  0  0  0  0  0  0  0  0  0  0  0\\n   12.6558    5.0471   23.3415 C   0  0  0  0  0  0  0  0  0  0  0  0\\n   13.0625    3.6123   22.9681 C   0  0  0  0  0  0  0  0  0  0  0  0\\n   12.0776    2.5491   23.4053 C   0  0  0  0  0  0  0  0  0  0  0  0\\n   10.9544    2.7018   24.2203 C   0  0  0  0  0  0  0  0  0  0  0  0\\n   10.3329    1.5160   24.3956 N   0  0  0  0  0  0  0  0  0  0  0  0\\n   11.0537    0.6024   23.7218 C   0  0  0  0  0  0  0  0  0  0  0  0\\n   10.8088   -0.7718   23.6269 C   0  0  0  0  0  0  0  0  0  0  0  0\\n   11.7039   -1.5562   22.8768 C   0  0  0  0  0  0  0  0  0  0  0  0\\n   12.8162   -0.9597   22.2461 C   0  0  0  0  0  0  0  0  0  0  0  0\\n   13.6736   -1.7275   21.5261 F   0  0  0  0  0  0  0  0  0  0  0  0\\n   13.0396    0.4290   22.3613 C   0  0  0  0  0  0  0  0  0  0  0  0\\n   12.1308    1.1888   23.1089 C   0  0  0  0  0  0  0  0  0  0  0  0\\n  1  2  1  0\\n  2  3  2  0\\n  2  4  1  0\\n  4  5  1  0\\n  5  6  1  0\\n  6  7  1  0\\n  7  8  2  0\\n  8  9  1  0\\n  9 10  1  0\\n 10 11  2  0\\n 11 12  1  0\\n 12 13  2  0\\n 13 14  1  0\\n 13 15  1  0\\n 15 16  2  0\\n 16  7  1  0\\n 10 16  1  0\\nM  END\\n\",\"sdf\");\n\tviewer_16414894418971977.addModel(\"\\n     RDKit          3D\\n\\n 18 19  0  0  0  0  0  0  0  0999 V2000\\n    2.7213    4.3257   25.2134 F   0  0  0  0  0  0  0  0  0  0  0  0\\n    1.4539    3.8424   25.1879 C   0  0  0  0  0  0  0  0  0  0  0  0\\n    0.4507    4.5549   25.8543 C   0  0  0  0  0  0  0  0  0  0  0  0\\n   -0.8589    4.0729   25.8830 C   0  0  0  0  0  0  0  0  0  0  0  0\\n   -1.1716    2.8710   25.2487 C   0  0  0  0  0  0  0  0  0  0  0  0\\n   -0.1752    2.1517   24.5822 C   0  0  0  0  0  0  0  0  0  0  0  0\\n    1.1490    2.6312   24.5352 C   0  0  0  0  0  0  0  0  0  0  0  0\\n    2.1916    1.8439   23.8220 C   0  0  0  0  0  0  0  0  0  0  0  0\\n    2.0632    0.5942   23.7473 O   0  0  0  0  0  0  0  0  0  0  0  0\\n    3.3239    2.4794   23.1975 N   0  0  0  0  0  0  0  0  0  0  0  0\\n    4.3139    1.7429   22.4079 C   0  0  0  0  0  0  0  0  0  0  0  0\\n    3.7972    1.5949   20.9718 C   0  0  0  0  0  0  0  0  0  0  0  0\\n    4.8336    1.1881   19.9457 C   0  0  0  0  0  0  0  0  0  0  0  0\\n    5.8374    0.2426   20.2159 C   0  0  0  0  0  0  0  0  0  0  0  0\\n    6.7093   -0.1485   19.1933 C   0  0  0  0  0  0  0  0  0  0  0  0\\n    6.5731    0.3623   17.9427 N   0  0  0  0  0  0  0  0  0  0  0  0\\n    5.5996    1.2587   17.6487 C   0  0  0  0  0  0  0  0  0  0  0  0\\n    4.7131    1.6815   18.6386 C   0  0  0  0  0  0  0  0  0  0  0  0\\n  1  2  1  0\\n  2  3  2  0\\n  3  4  1  0\\n  4  5  2  0\\n  5  6  1  0\\n  6  7  2  0\\n  7  8  1  0\\n  8  9  2  0\\n  8 10  1  0\\n 10 11  1  0\\n 11 12  1  0\\n 12 13  1  0\\n 13 14  2  0\\n 14 15  1  0\\n 15 16  2  0\\n 16 17  1  0\\n 17 18  2  0\\n  2  7  1  0\\n 13 18  1  0\\nM  END\\n\",\"sdf\");\n\tviewer_16414894418971977.addModel(\"\\n     RDKit          3D\\n\\n 20 20  0  0  0  0  0  0  0  0999 V2000\\n    7.5872    4.9594   22.5507 C   0  0  0  0  0  0  0  0  0  0  0  0\\n    7.1566    3.6087   23.0111 C   0  0  0  0  0  0  0  0  0  0  0  0\\n    6.0738    3.4549   23.6201 O   0  0  0  0  0  0  0  0  0  0  0  0\\n    8.0789    2.5486   22.9967 N   0  0  0  0  0  0  0  0  0  0  0  0\\n    7.8524    1.2938   22.3503 C   0  0  0  0  0  0  0  0  0  0  0  0\\n    6.4732    0.5970   22.4223 C   0  0  0  0  0  0  0  0  0  0  0  0\\n    6.0483    0.4733   20.9834 C   0  0  0  0  0  0  0  0  0  0  0  0\\n    5.2458    1.4767   20.4257 C   0  0  0  0  0  0  0  0  0  0  0  0\\n    5.1051    1.5754   19.0426 C   0  0  0  0  0  0  0  0  0  0  0  0\\n    5.8145    0.7108   18.2020 C   0  0  0  0  0  0  0  0  0  0  0  0\\n    6.6743   -0.2414   18.7449 C   0  0  0  0  0  0  0  0  0  0  0  0\\n    6.7854   -0.3674   20.1257 C   0  0  0  0  0  0  0  0  0  0  0  0\\n    5.6714    0.7885   16.8238 O   0  0  0  0  0  0  0  0  0  0  0  0\\n    9.0541    0.4436   22.2899 C   0  0  0  0  0  0  0  0  0  0  0  0\\n   10.0450    0.9364   21.6957 O   0  0  0  0  0  0  0  0  0  0  0  0\\n    9.0607   -0.9345   22.6406 N   0  0  0  0  0  0  0  0  0  0  0  0\\n    9.9297   -1.8396   21.9056 C   0  0  0  0  0  0  0  0  0  0  0  0\\n   11.3109   -1.6800   22.3612 C   0  0  0  0  0  0  0  0  0  0  0  0\\n   12.4343   -1.6655   22.7942 C   0  0  0  0  0  0  0  0  0  0  0  0\\n   14.1343   -1.8497   23.5887 Br  0  0  0  0  0  0  0  0  0  0  0  0\\n  1  2  1  0\\n  2  3  2  0\\n  2  4  1  0\\n  4  5  1  0\\n  5  6  1  0\\n  6  7  1  0\\n  7  8  2  0\\n  8  9  1  0\\n  9 10  2  0\\n 10 11  1  0\\n 11 12  2  0\\n 10 13  1  0\\n  5 14  1  0\\n 14 15  2  0\\n 14 16  1  0\\n 16 17  1  0\\n 17 18  1  0\\n 18 19  3  0\\n 19 20  1  0\\n 12  7  1  0\\nM  END\\n\",\"sdf\");\n\tviewer_16414894418971977.addModel(\"\\n     RDKit          3D\\n\\n 16 17  0  0  0  0  0  0  0  0999 V2000\\n   10.8548    2.7503   23.5861 C   0  0  0  0  0  0  0  0  0  0  0  0\\n    9.7196    1.8104   22.6045 S   0  0  0  0  0  6  0  0  0  0  0  0\\n   10.2021    1.7833   21.1849 O   0  0  0  0  0  0  0  0  0  0  0  0\\n    8.3488    2.4134   22.6841 O   0  0  0  0  0  0  0  0  0  0  0  0\\n    9.6563    0.1920   23.2356 C   0  0  0  0  0  0  0  0  0  0  0  0\\n    9.7719   -0.9076   22.3865 C   0  0  0  0  0  0  0  0  0  0  0  0\\n    9.6076   -2.1904   22.8920 C   0  0  0  0  0  0  0  0  0  0  0  0\\n    9.3752   -2.3947   24.2682 C   0  0  0  0  0  0  0  0  0  0  0  0\\n    9.3045   -1.2690   25.1121 C   0  0  0  0  0  0  0  0  0  0  0  0\\n    9.4244    0.0091   24.5953 C   0  0  0  0  0  0  0  0  0  0  0  0\\n    9.2092   -3.7234   24.8057 N   0  0  0  0  0  0  0  0  0  0  0  0\\n    9.9595   -4.8458   24.2269 C   0  0  0  0  0  0  0  0  0  0  0  0\\n    9.1720   -6.1301   24.4165 C   0  0  0  0  0  0  0  0  0  0  0  0\\n    8.9174   -6.3390   25.8439 N   0  0  0  0  0  0  0  0  0  0  0  0\\n    8.0857   -5.2582   26.3826 C   0  0  0  0  0  0  0  0  0  0  0  0\\n    8.7600   -3.9024   26.1971 C   0  0  0  0  0  0  0  0  0  0  0  0\\n  1  2  1  0\\n  2  3  2  0\\n  2  4  2  0\\n  2  5  1  0\\n  5  6  2  0\\n  6  7  1  0\\n  7  8  2  0\\n  8  9  1  0\\n  9 10  2  0\\n  8 11  1  0\\n 11 12  1  0\\n 12 13  1  0\\n 13 14  1  0\\n 14 15  1  0\\n 15 16  1  0\\n 10  5  1  0\\n 16 11  1  0\\nM  END\\n\",\"sdf\");\n\tviewer_16414894418971977.addModel(\"\\n     RDKit          3D\\n\\n 11 11  0  0  0  0  0  0  0  0999 V2000\\n   13.2392   -0.6049   22.7043 Br  0  0  0  0  0  0  0  0  0  0  0  0\\n   12.4774    1.1021   23.1186 C   0  0  0  0  0  0  0  0  0  0  0  0\\n   11.2357    1.1930   23.7599 C   0  0  0  0  0  0  0  0  0  0  0  0\\n   10.6812    2.4475   24.0271 C   0  0  0  0  0  0  0  0  0  0  0  0\\n   11.3691    3.6095   23.6554 C   0  0  0  0  0  0  0  0  0  0  0  0\\n   10.6259    5.1605   23.8972 S   0  0  0  0  0  6  0  0  0  0  0  0\\n    9.2400    5.2319   22.8891 N   0  0  0  0  0  0  0  0  0  0  0  0\\n   10.2125    5.3024   25.3295 O   0  0  0  0  0  0  0  0  0  0  0  0\\n   11.5714    6.2585   23.5107 O   0  0  0  0  0  0  0  0  0  0  0  0\\n   12.6104    3.5160   23.0193 C   0  0  0  0  0  0  0  0  0  0  0  0\\n   13.1642    2.2645   22.7559 C   0  0  0  0  0  0  0  0  0  0  0  0\\n  1  2  1  0\\n  2  3  2  0\\n  3  4  1  0\\n  4  5  2  0\\n  5  6  1  0\\n  6  7  1  0\\n  6  8  2  0\\n  6  9  2  0\\n  5 10  1  0\\n 10 11  2  0\\n 11  2  1  0\\nM  END\\n\",\"sdf\");\n\tviewer_16414894418971977.addModel(\"\\n     RDKit          3D\\n\\n 16 17  0  0  0  0  0  0  0  0999 V2000\\n    9.4470    1.1192   21.0060 O   0  0  0  0  0  0  0  0  0  0  0  0\\n    8.8561    0.2654   21.7221 C   0  0  0  0  0  0  0  0  0  0  0  0\\n    9.3893   -0.1228   23.0548 C   0  0  0  0  0  0  0  0  0  0  0  0\\n   10.9135   -0.0752   23.1249 C   0  0  0  0  0  0  0  0  0  0  0  0\\n   11.5772   -1.0473   22.1108 C   0  0  0  0  0  0  0  0  0  0  0  0\\n   12.8290   -1.7452   22.6680 C   0  0  0  0  0  0  0  0  0  0  0  0\\n   13.6506   -0.8259   23.5820 C   0  0  0  0  0  0  0  0  0  0  0  0\\n   12.8320   -0.2011   24.7307 C   0  0  0  0  0  0  0  0  0  0  0  0\\n   11.3262   -0.3842   24.5665 C   0  0  0  0  0  0  0  0  0  0  0  0\\n    7.6010   -0.2715   21.3234 N   0  0  0  0  0  0  0  0  0  0  0  0\\n    6.9744    0.1657   20.1313 C   0  0  0  0  0  0  0  0  0  0  0  0\\n    5.7196    0.7649   20.2057 C   0  0  0  0  0  0  0  0  0  0  0  0\\n    5.1113    1.2180   19.0421 C   0  0  0  0  0  0  0  0  0  0  0  0\\n    5.7683    1.0533   17.8205 C   0  0  0  0  0  0  0  0  0  0  0  0\\n    6.9930    0.4662   17.7710 N   0  0  0  0  0  0  0  0  0  0  0  0\\n    7.6104    0.0253   18.8932 C   0  0  0  0  0  0  0  0  0  0  0  0\\n  1  2  2  0\\n  2  3  1  0\\n  3  4  1  0\\n  4  5  1  0\\n  5  6  1  0\\n  6  7  1  0\\n  7  8  1  0\\n  8  9  1  0\\n  2 10  1  0\\n 10 11  1  0\\n 11 12  2  0\\n 12 13  1  0\\n 13 14  2  0\\n 14 15  1  0\\n 15 16  2  0\\n  9  4  1  0\\n 11 16  1  0\\nM  END\\n\",\"sdf\");\n\tviewer_16414894418971977.addModel(\"\\n     RDKit          3D\\n\\n 13 13  0  0  0  0  0  0  0  0999 V2000\\n    6.4713   -4.9573   26.5864 C   0  0  0  0  0  0  0  0  0  0  0  0\\n    8.0992   -4.3621   26.1682 S   0  0  0  0  0  6  0  0  0  0  0  0\\n    9.0635   -5.5080   26.0888 O   0  0  0  0  0  0  0  0  0  0  0  0\\n    8.5861   -3.4339   27.2393 O   0  0  0  0  0  0  0  0  0  0  0  0\\n    8.0119   -3.5186   24.6480 N   0  0  0  0  0  0  0  0  0  0  0  0\\n    9.3377   -3.0615   24.2340 C   0  0  0  0  0  0  0  0  0  0  0  0\\n    9.2320   -1.7838   23.3971 C   0  0  0  0  0  0  0  0  0  0  0  0\\n   10.5874   -1.1365   23.3602 C   0  0  0  0  0  0  0  0  0  0  0  0\\n   10.9034   -0.0890   24.2413 C   0  0  0  0  0  0  0  0  0  0  0  0\\n   12.2035    0.4200   24.2851 C   0  0  0  0  0  0  0  0  0  0  0  0\\n   13.1973   -0.1282   23.4705 C   0  0  0  0  0  0  0  0  0  0  0  0\\n   12.8929   -1.1842   22.6090 C   0  0  0  0  0  0  0  0  0  0  0  0\\n   11.5938   -1.6888   22.5552 C   0  0  0  0  0  0  0  0  0  0  0  0\\n  1  2  1  0\\n  2  3  2  0\\n  2  4  2  0\\n  2  5  1  0\\n  5  6  1  0\\n  6  7  1  0\\n  7  8  1  0\\n  8  9  2  0\\n  9 10  1  0\\n 10 11  2  0\\n 11 12  1  0\\n 12 13  2  0\\n  8 13  1  0\\nM  END\\n\",\"sdf\");\n\tviewer_16414894418971977.addModel(\"\\n     RDKit          3D\\n\\n 13 14  0  0  0  0  0  0  0  0999 V2000\\n    9.2789   -4.2034   27.8295 O   0  0  0  0  0  0  0  0  0  0  0  0\\n    9.1747   -4.8621   26.5936 C   0  0  0  0  0  0  0  0  0  0  0  0\\n   10.4688   -4.7135   25.8044 C   0  0  0  0  0  0  0  0  0  0  0  0\\n   10.6893   -3.2651   25.3768 C   0  0  0  0  0  0  0  0  0  0  0  0\\n    9.5534   -2.7617   24.5739 N   0  0  0  0  0  0  0  0  0  0  0  0\\n    9.7504   -1.3535   24.1987 C   0  0  0  0  0  0  0  0  0  0  0  0\\n   11.1174   -1.0734   23.6290 C   0  0  0  0  0  0  0  0  0  0  0  0\\n   11.9682   -0.0699   24.1384 C   0  0  0  0  0  0  0  0  0  0  0  0\\n   13.1745    0.0301   23.4560 C   0  0  0  0  0  0  0  0  0  0  0  0\\n   13.1809   -1.1255   22.2411 S   0  0  0  0  0  0  0  0  0  0  0  0\\n   11.6624   -1.7663   22.5499 C   0  0  0  0  0  0  0  0  0  0  0  0\\n    8.2986   -2.8507   25.3501 C   0  0  0  0  0  0  0  0  0  0  0  0\\n    8.0145   -4.2879   25.7864 C   0  0  0  0  0  0  0  0  0  0  0  0\\n  1  2  1  0\\n  2  3  1  0\\n  3  4  1  0\\n  4  5  1  0\\n  5  6  1  0\\n  6  7  1  0\\n  7  8  1  0\\n  8  9  2  0\\n  9 10  1  0\\n 10 11  1  0\\n  5 12  1  0\\n 12 13  1  0\\n 13  2  1  0\\n  7 11  2  0\\nM  END\\n\",\"sdf\");\n\tviewer_16414894418971977.setStyle({\"stick\": {}});\n\tviewer_16414894418971977.setBackgroundColor(\"white\");\n\tviewer_16414894418971977.zoomTo();\n\tviewer_16414894418971977.svg();\nviewer_16414894418971977.zoomTo();\nviewer_16414894418971977.render();\n});\n</script>",
      "text/html": [
       "<div id=\"3dmolviewer_16414894418971977\"  style=\"position: relative; width: 1000px; height: 1000px\">\n",
       "        <p id=\"3dmolwarning_16414894418971977\" style=\"background-color:#ffcccc;color:black\">You appear to be running in JupyterLab (or JavaScript failed to load for some other reason).  You need to install the 3dmol extension: <br>\n",
       "        <tt>jupyter labextension install jupyterlab_3dmol</tt></p>\n",
       "        </div>\n",
       "<script>\n",
       "\n",
       "var loadScriptAsync = function(uri){\n",
       "  return new Promise((resolve, reject) => {\n",
       "    var tag = document.createElement('script');\n",
       "    tag.src = uri;\n",
       "    tag.async = true;\n",
       "    tag.onload = () => {\n",
       "      resolve();\n",
       "    };\n",
       "  var firstScriptTag = document.getElementsByTagName('script')[0];\n",
       "  firstScriptTag.parentNode.insertBefore(tag, firstScriptTag);\n",
       "});\n",
       "};\n",
       "\n",
       "if(typeof $3Dmolpromise === 'undefined') {\n",
       "$3Dmolpromise = null;\n",
       "  $3Dmolpromise = loadScriptAsync('https://3dmol.org/build/3Dmol.js');\n",
       "}\n",
       "\n",
       "var viewer_16414894418971977 = null;\n",
       "var warn = document.getElementById(\"3dmolwarning_16414894418971977\");\n",
       "if(warn) {\n",
       "    warn.parentNode.removeChild(warn);\n",
       "}\n",
       "$3Dmolpromise.then(function() {\n",
       "viewer_16414894418971977 = $3Dmol.createViewer($(\"#3dmolviewer_16414894418971977\"),{backgroundColor:\"white\"});\n",
       "\tviewer_16414894418971977.addModel(\"\\n     RDKit          3D\\n\\n 14 14  0  0  0  0  0  0  0  0999 V2000\\n   13.6262   -2.4029   24.3774 C   0  0  0  0  0  0  0  0  0  0  0  0\\n   13.0863   -1.0956   24.5273 O   0  0  0  0  0  0  0  0  0  0  0  0\\n   13.2345   -0.1289   23.5307 C   0  0  0  0  0  0  0  0  0  0  0  0\\n   13.9905   -0.3540   22.5499 O   0  0  0  0  0  0  0  0  0  0  0  0\\n   12.5092    1.1547   23.6131 C   0  0  0  0  0  0  0  0  0  0  0  0\\n   11.2799    1.2436   24.2850 C   0  0  0  0  0  0  0  0  0  0  0  0\\n   10.5972    2.4650   24.3488 C   0  0  0  0  0  0  0  0  0  0  0  0\\n   11.1416    3.6121   23.7522 C   0  0  0  0  0  0  0  0  0  0  0  0\\n   12.3652    3.5207   23.0780 C   0  0  0  0  0  0  0  0  0  0  0  0\\n   13.0411    2.3020   23.0044 C   0  0  0  0  0  0  0  0  0  0  0  0\\n   10.2988    5.1639   23.8578 S   0  0  0  0  0  6  0  0  0  0  0  0\\n   11.1835    6.2738   23.3719 O   0  0  0  0  0  0  0  0  0  0  0  0\\n    9.9526    5.4586   25.2863 O   0  0  0  0  0  0  0  0  0  0  0  0\\n    8.8612    5.1249   22.8984 N   0  0  0  0  0  0  0  0  0  0  0  0\\n  1  2  1  0\\n  2  3  1  0\\n  3  4  2  0\\n  3  5  1  0\\n  5  6  2  0\\n  6  7  1  0\\n  7  8  2  0\\n  8  9  1  0\\n  9 10  2  0\\n  8 11  1  0\\n 11 12  2  0\\n 11 13  2  0\\n 11 14  1  0\\n  5 10  1  0\\nM  END\\n\",\"sdf\");\n",
       "\tviewer_16414894418971977.addModel(\"\\n     RDKit          3D\\n\\n 18 19  0  0  0  0  0  0  0  0999 V2000\\n    2.8798    1.4596   24.2081 O   0  0  0  0  0  0  0  0  0  0  0  0\\n    2.9401    2.3455   23.3138 C   0  0  0  0  0  0  0  0  0  0  0  0\\n    4.1043    2.4700   22.4876 N   0  0  0  0  0  0  0  0  0  0  0  0\\n    5.2115    1.5253   22.5403 C   0  0  0  0  0  0  0  0  0  0  0  0\\n    4.8764    0.2779   21.7155 C   0  0  0  0  0  0  0  0  0  0  0  0\\n    5.3118    0.4069   20.2751 C   0  0  0  0  0  0  0  0  0  0  0  0\\n    6.3967   -0.3471   19.8048 C   0  0  0  0  0  0  0  0  0  0  0  0\\n    6.7819   -0.2447   18.4684 C   0  0  0  0  0  0  0  0  0  0  0  0\\n    6.1130    0.5848   17.6289 N   0  0  0  0  0  0  0  0  0  0  0  0\\n    5.0605    1.3308   18.0549 C   0  0  0  0  0  0  0  0  0  0  0  0\\n    4.6374    1.2576   19.3854 C   0  0  0  0  0  0  0  0  0  0  0  0\\n    1.8538    3.2494   23.1056 N   0  0  0  0  0  0  0  0  0  0  0  0\\n    0.6535    3.3145   23.9337 C   0  0  0  0  0  0  0  0  0  0  0  0\\n    0.5269    4.7530   24.4644 C   0  0  0  0  0  0  0  0  0  0  0  0\\n   -0.8053    4.9838   25.1739 C   0  0  0  0  0  0  0  0  0  0  0  0\\n   -1.9724    4.6602   24.2396 C   0  0  0  0  0  0  0  0  0  0  0  0\\n   -1.8942    3.2066   23.7634 C   0  0  0  0  0  0  0  0  0  0  0  0\\n   -0.5587    2.9158   23.0704 C   0  0  0  0  0  0  0  0  0  0  0  0\\n  1  2  2  0\\n  2  3  1  0\\n  3  4  1  0\\n  4  5  1  0\\n  5  6  1  0\\n  6  7  2  0\\n  7  8  1  0\\n  8  9  2  0\\n  9 10  1  0\\n 10 11  2  0\\n  2 12  1  0\\n 12 13  1  0\\n 13 14  1  0\\n 14 15  1  0\\n 15 16  1  0\\n 16 17  1  0\\n 17 18  1  0\\n  6 11  1  0\\n 18 13  1  0\\nM  END\\n\",\"sdf\");\n",
       "\tviewer_16414894418971977.addModel(\"\\n     RDKit          3D\\n\\n 13 14  0  0  0  0  0  0  0  0999 V2000\\n    9.0641    1.4080   21.1666 O   0  0  0  0  0  0  0  0  0  0  0  0\\n    9.4333    1.9239   22.2552 C   0  0  0  0  0  0  0  0  0  0  0  0\\n    9.1093    1.2445   23.5772 C   0  0  2  0  0  0  0  0  0  0  0  0\\n    9.6585   -0.1991   23.6739 C   0  0  2  0  0  0  0  0  0  0  0  0\\n   11.0507   -0.3500   23.0994 C   0  0  0  0  0  0  0  0  0  0  0  0\\n   11.4588   -1.3392   22.1986 C   0  0  0  0  0  0  0  0  0  0  0  0\\n   13.0810   -1.0594   21.8367 S   0  0  0  0  0  0  0  0  0  0  0  0\\n   13.2878    0.2875   22.8249 C   0  0  0  0  0  0  0  0  0  0  0  0\\n   12.0818    0.5359   23.4598 C   0  0  0  0  0  0  0  0  0  0  0  0\\n    8.5960   -1.0553   23.0173 C   0  0  0  0  0  0  0  0  0  0  0  0\\n    7.2783   -0.3498   23.3346 C   0  0  0  0  0  0  0  0  0  0  0  0\\n    7.6105    1.0918   23.7447 C   0  0  0  0  0  0  0  0  0  0  0  0\\n   10.1789    3.1433   22.2333 N   0  0  0  0  0  0  0  0  0  0  0  0\\n  1  2  2  0\\n  3  2  1  6\\n  3  4  1  0\\n  4  5  1  6\\n  5  6  2  0\\n  6  7  1  0\\n  7  8  1  0\\n  8  9  2  0\\n  4 10  1  0\\n 10 11  1  0\\n 11 12  1  0\\n  2 13  1  0\\n 12  3  1  0\\n  9  5  1  0\\nM  END\\n\",\"sdf\");\n",
       "\tviewer_16414894418971977.addModel(\"\\n     RDKit          3D\\n\\n 15 16  0  0  0  0  0  0  0  0999 V2000\\n    9.8805    1.5600   21.3060 N   0  0  0  0  0  0  0  0  0  0  0  0\\n    9.7422    0.6112   21.9498 C   0  0  0  0  0  0  0  0  0  0  0  0\\n    9.5848   -0.5545   22.7566 C   0  0  0  0  0  0  0  0  0  0  0  0\\n    8.8732   -0.4922   23.9542 C   0  0  0  0  0  0  0  0  0  0  0  0\\n    8.8126   -1.6197   24.7741 C   0  0  0  0  0  0  0  0  0  0  0  0\\n    9.4809   -2.8089   24.4027 C   0  0  0  0  0  0  0  0  0  0  0  0\\n   10.1617   -2.8064   23.1618 C   0  0  0  0  0  0  0  0  0  0  0  0\\n   10.1972   -1.7006   22.3831 N   0  0  0  0  0  0  0  0  0  0  0  0\\n    9.4766   -4.0050   25.2394 N   0  0  0  0  0  0  0  0  0  0  0  0\\n    9.9125   -5.3021   24.6863 C   0  0  0  0  0  0  0  0  0  0  0  0\\n    8.9014   -5.8296   23.6531 C   0  0  0  0  0  0  0  0  0  0  0  0\\n    7.4468   -5.5767   24.0789 C   0  0  0  0  0  0  0  0  0  0  0  0\\n    7.2812   -5.8193   25.4694 O   0  0  0  0  0  0  0  0  0  0  0  0\\n    7.2834   -4.6169   26.2282 C   0  0  0  0  0  0  0  0  0  0  0  0\\n    8.7080   -4.0953   26.4935 C   0  0  0  0  0  0  0  0  0  0  0  0\\n  1  2  3  0\\n  2  3  1  0\\n  3  4  2  0\\n  4  5  1  0\\n  5  6  2  0\\n  6  7  1  0\\n  7  8  2  0\\n  6  9  1  0\\n  9 10  1  0\\n 10 11  1  0\\n 11 12  1  0\\n 12 13  1  0\\n 13 14  1  0\\n 14 15  1  0\\n  3  8  1  0\\n 15  9  1  0\\nM  END\\n\",\"sdf\");\n",
       "\tviewer_16414894418971977.addModel(\"\\n     RDKit          3D\\n\\n 11 11  0  0  0  0  0  0  0  0999 V2000\\n    8.3810    0.0457   27.4534 C   0  0  0  0  0  0  0  0  0  0  0  0\\n    8.9446   -0.5315   26.1681 C   0  0  0  0  0  0  0  0  0  0  0  0\\n   10.0957    0.2434   25.7073 N   0  0  0  0  0  0  0  0  0  0  0  0\\n   10.9040   -0.1909   24.6078 C   0  0  0  0  0  0  0  0  0  0  0  0\\n   10.5687   -1.3343   23.8624 C   0  0  0  0  0  0  0  0  0  0  0  0\\n   11.3839   -1.7335   22.8089 C   0  0  0  0  0  0  0  0  0  0  0  0\\n   12.5254   -0.9955   22.4967 C   0  0  0  0  0  0  0  0  0  0  0  0\\n   13.3783   -1.4052   21.4041 C   0  0  0  0  0  0  0  0  0  0  0  0\\n   14.0616   -1.7332   20.5287 N   0  0  0  0  0  0  0  0  0  0  0  0\\n   12.8286    0.1414   23.2571 C   0  0  0  0  0  0  0  0  0  0  0  0\\n   12.0202    0.5136   24.2844 N   0  0  0  0  0  0  0  0  0  0  0  0\\n  1  2  1  0\\n  2  3  1  0\\n  3  4  1  0\\n  4  5  2  0\\n  5  6  1  0\\n  6  7  2  0\\n  7  8  1  0\\n  8  9  3  0\\n  7 10  1  0\\n 10 11  2  0\\n  4 11  1  0\\nM  END\\n\",\"sdf\");\n",
       "\tviewer_16414894418971977.addModel(\"\\n     RDKit          3D\\n\\n 15 16  0  0  0  0  0  0  0  0999 V2000\\n    8.3019   -1.3857   20.8353 C   0  0  0  0  0  0  0  0  0  0  0  0\\n    7.3444   -2.0438   19.9430 N   0  0  0  0  0  0  0  0  0  0  0  0\\n    7.2564   -1.5930   18.5376 C   0  0  0  0  0  0  0  0  0  0  0  0\\n    6.4185   -0.3428   18.4454 C   0  0  0  0  0  0  0  0  0  0  0  0\\n    5.4353    0.0305   19.3397 C   0  0  0  0  0  0  0  0  0  0  0  0\\n    4.9680    1.2240   18.8492 C   0  0  0  0  0  0  0  0  0  0  0  0\\n    3.8984    2.0627   19.4768 C   0  0  0  0  0  0  0  0  0  0  0  0\\n    5.6239    1.5108   17.7454 O   0  0  0  0  0  0  0  0  0  0  0  0\\n    6.5053    0.5857   17.4681 N   0  0  0  0  0  0  0  0  0  0  0  0\\n    6.4150   -3.0333   20.4591 C   0  0  0  0  0  0  0  0  0  0  0  0\\n    5.6709   -3.6540   19.6615 O   0  0  0  0  0  0  0  0  0  0  0  0\\n    6.3036   -3.3414   21.8607 N   0  0  0  0  0  0  0  0  0  0  0  0\\n    6.6569   -4.6829   22.2666 C   0  0  0  0  0  0  0  0  0  0  0  0\\n    6.0410   -5.3612   23.4374 C   0  0  0  0  0  0  0  0  0  0  0  0\\n    5.7105   -5.8116   22.0033 C   0  0  0  0  0  0  0  0  0  0  0  0\\n  1  2  1  0\\n  2  3  1  0\\n  3  4  1  0\\n  4  5  1  0\\n  5  6  2  0\\n  6  7  1  0\\n  6  8  1  0\\n  8  9  1  0\\n  2 10  1  0\\n 10 11  2  0\\n 10 12  1  0\\n 12 13  1  0\\n 13 14  1  0\\n 14 15  1  0\\n  4  9  2  0\\n 15 13  1  0\\nM  END\\n\",\"sdf\");\n",
       "\tviewer_16414894418971977.addModel(\"\\n     RDKit          3D\\n\\n  5  4  0  0  0  0  0  0  0  0999 V2000\\n    8.6774   -3.4418   23.3648 C   0  0  0  0  0  0  0  0  0  0  0  0\\n    8.1249   -4.7178   23.9905 C   0  0  0  0  0  0  0  0  0  0  0  0\\n    8.9431   -5.1314   25.1868 C   0  0  0  0  0  0  0  0  0  0  0  0\\n   10.1112   -5.6761   25.0476 N   0  0  0  0  0  0  0  0  0  0  0  0\\n    8.4354   -4.9039   26.4973 N   0  0  0  0  0  0  0  0  0  0  0  0\\n  1  2  1  0\\n  2  3  1  0\\n  3  4  2  0\\n  3  5  1  0\\nM  END\\n\",\"sdf\");\n",
       "\tviewer_16414894418971977.addModel(\"\\n     RDKit          3D\\n\\n 16 17  0  0  0  0  0  0  0  0999 V2000\\n    9.1526    0.7309   20.7821 O   0  0  0  0  0  0  0  0  0  0  0  0\\n    8.5835   -0.2455   21.3400 C   0  0  0  0  0  0  0  0  0  0  0  0\\n    9.2374   -0.9356   22.4017 N   0  0  0  0  0  0  0  0  0  0  0  0\\n   10.5048   -0.4734   22.8491 C   0  0  0  0  0  0  0  0  0  0  0  0\\n   10.5689    0.3720   23.9579 C   0  0  0  0  0  0  0  0  0  0  0  0\\n   11.7939    0.9029   24.3555 C   0  0  0  0  0  0  0  0  0  0  0  0\\n   12.9553    0.5879   23.6448 C   0  0  0  0  0  0  0  0  0  0  0  0\\n   12.8912   -0.2521   22.5293 C   0  0  0  0  0  0  0  0  0  0  0  0\\n   11.6633   -0.7759   22.1226 C   0  0  0  0  0  0  0  0  0  0  0  0\\n    7.2691   -0.6341   20.9432 N   0  0  0  0  0  0  0  0  0  0  0  0\\n    6.5982    0.0317   19.8762 C   0  0  0  0  0  0  0  0  0  0  0  0\\n    5.3781    0.6663   20.1128 C   0  0  0  0  0  0  0  0  0  0  0  0\\n    4.7388    1.3335   19.0714 C   0  0  0  0  0  0  0  0  0  0  0  0\\n    5.3221    1.3377   17.8023 C   0  0  0  0  0  0  0  0  0  0  0  0\\n    6.5087    0.7125   17.5913 N   0  0  0  0  0  0  0  0  0  0  0  0\\n    7.1568    0.0681   18.5926 C   0  0  0  0  0  0  0  0  0  0  0  0\\n  1  2  2  0\\n  2  3  1  0\\n  3  4  1  0\\n  4  5  2  0\\n  5  6  1  0\\n  6  7  2  0\\n  7  8  1  0\\n  8  9  2  0\\n  2 10  1  0\\n 10 11  1  0\\n 11 12  2  0\\n 12 13  1  0\\n 13 14  2  0\\n 14 15  1  0\\n 15 16  2  0\\n  4  9  1  0\\n 11 16  1  0\\nM  END\\n\",\"sdf\");\n",
       "\tviewer_16414894418971977.addModel(\"\\n     RDKit          3D\\n\\n 19 21  0  0  0  0  0  0  0  0999 V2000\\n   13.7505   -1.2707   23.6082 C   0  0  0  0  0  0  0  0  0  0  0  0\\n   12.3371   -0.8902   23.7325 N   0  0  0  0  0  0  0  0  0  0  0  0\\n   11.4940   -1.8571   23.0030 C   0  0  0  0  0  0  0  0  0  0  0  0\\n   10.0262   -1.4883   23.1689 C   0  0  0  0  0  0  0  0  0  0  0  0\\n    9.8374   -0.1119   22.7018 N   0  0  0  0  0  0  0  0  0  0  0  0\\n   10.6729    0.8948   23.3571 C   0  0  0  0  0  0  0  0  0  0  0  0\\n   12.1374    0.4809   23.2177 C   0  0  0  0  0  0  0  0  0  0  0  0\\n    9.0420    0.2103   21.5520 C   0  0  0  0  0  0  0  0  0  0  0  0\\n    9.0034    1.3990   21.1295 O   0  0  0  0  0  0  0  0  0  0  0  0\\n    8.2601   -0.8619   20.8483 C   0  0  0  0  0  0  0  0  0  0  0  0\\n    7.3777   -0.2916   19.7961 C   0  0  0  0  0  0  0  0  0  0  0  0\\n    7.6131   -0.3126   18.4281 C   0  0  0  0  0  0  0  0  0  0  0  0\\n    6.6303    0.3508   17.7772 N   0  0  0  0  0  0  0  0  0  0  0  0\\n    5.7916    0.7949   18.7275 C   0  0  0  0  0  0  0  0  0  0  0  0\\n    4.6650    1.5207   18.5217 N   0  0  0  0  0  0  0  0  0  0  0  0\\n    3.9248    1.9055   19.6030 C   0  0  0  0  0  0  0  0  0  0  0  0\\n    4.3271    1.5633   20.9138 C   0  0  0  0  0  0  0  0  0  0  0  0\\n    5.4993    0.8145   21.1125 C   0  0  0  0  0  0  0  0  0  0  0  0\\n    6.2134    0.4347   19.9770 C   0  0  0  0  0  0  0  0  0  0  0  0\\n  1  2  1  0\\n  2  3  1  0\\n  3  4  1  0\\n  4  5  1  0\\n  5  6  1  0\\n  6  7  1  0\\n  5  8  1  0\\n  8  9  2  0\\n  8 10  1  0\\n 10 11  1  0\\n 11 12  2  0\\n 12 13  1  0\\n 13 14  1  0\\n 14 15  2  0\\n 15 16  1  0\\n 16 17  2  0\\n 17 18  1  0\\n 18 19  2  0\\n  7  2  1  0\\n 19 11  1  0\\n 19 14  1  0\\nM  END\\n\",\"sdf\");\n",
       "\tviewer_16414894418971977.addModel(\"\\n     RDKit          3D\\n\\n 18 19  0  0  0  0  0  0  0  0999 V2000\\n    8.1677    2.4244   23.4204 O   0  0  0  0  0  0  0  0  0  0  0  0\\n    7.6646    1.4450   24.0411 C   0  0  0  0  0  0  0  0  0  0  0  0\\n    8.4550    0.7191   24.9865 N   0  0  0  0  0  0  0  0  0  0  0  0\\n    9.8460    1.0492   25.2674 C   0  0  0  0  0  0  0  0  0  0  0  0\\n   10.7453    0.4333   24.2369 C   0  0  0  0  0  0  0  0  0  0  0  0\\n   11.9192    1.0954   23.8504 C   0  0  0  0  0  0  0  0  0  0  0  0\\n   12.7694    0.5182   22.9068 C   0  0  0  0  0  0  0  0  0  0  0  0\\n   12.4516   -0.7242   22.3472 C   0  0  0  0  0  0  0  0  0  0  0  0\\n   13.3099   -1.3013   21.3581 C   0  0  0  0  0  0  0  0  0  0  0  0\\n   14.0048   -1.7613   20.5576 N   0  0  0  0  0  0  0  0  0  0  0  0\\n   11.2961   -1.4008   22.7440 C   0  0  0  0  0  0  0  0  0  0  0  0\\n   10.4535   -0.8324   23.6953 C   0  0  0  0  0  0  0  0  0  0  0  0\\n    6.2817    1.0918   23.8419 N   0  0  0  0  0  0  0  0  0  0  0  0\\n    5.4605    0.8585   25.0417 C   0  0  0  0  0  0  0  0  0  0  0  0\\n    4.0722    0.3191   24.6781 C   0  0  0  0  0  0  0  0  0  0  0  0\\n    3.4695    1.0942   23.6614 O   0  0  0  0  0  0  0  0  0  0  0  0\\n    4.2301    1.0007   22.4737 C   0  0  0  0  0  0  0  0  0  0  0  0\\n    5.6068    1.6412   22.6616 C   0  0  0  0  0  0  0  0  0  0  0  0\\n  1  2  2  0\\n  2  3  1  0\\n  3  4  1  0\\n  4  5  1  0\\n  5  6  2  0\\n  6  7  1  0\\n  7  8  2  0\\n  8  9  1  0\\n  9 10  3  0\\n  8 11  1  0\\n 11 12  2  0\\n  2 13  1  0\\n 13 14  1  0\\n 14 15  1  0\\n 15 16  1  0\\n 16 17  1  0\\n 17 18  1  0\\n  5 12  1  0\\n 18 13  1  0\\nM  END\\n\",\"sdf\");\n",
       "\tviewer_16414894418971977.addModel(\"\\n     RDKit          3D\\n\\n 14 15  0  0  0  0  0  0  0  0999 V2000\\n    9.2923   -5.2963   26.3075 C   0  0  0  0  0  0  0  0  0  0  0  0\\n    9.0903   -3.9693   25.6443 C   0  0  0  0  0  0  0  0  0  0  0  0\\n    8.5430   -2.8755   26.2315 N   0  0  0  0  0  0  0  0  0  0  0  0\\n    8.4511   -1.8194   25.4097 N   0  0  0  0  0  0  0  0  0  0  0  0\\n    8.9173   -2.0709   24.1613 C   0  0  0  0  0  0  0  0  0  0  0  0\\n    8.8866   -1.0951   23.0113 C   0  0  0  0  0  0  0  0  0  0  0  0\\n   10.1770   -0.4459   22.7552 N   0  0  0  0  0  0  0  0  0  0  0  0\\n   10.5738    0.4284   23.8586 C   0  0  0  0  0  0  0  0  0  0  0  0\\n   11.7687    1.2817   23.4171 C   0  0  0  0  0  0  0  0  0  0  0  0\\n   12.8383    0.4479   22.7728 C   0  0  0  0  0  0  0  0  0  0  0  0\\n   12.5495   -0.7228   22.1673 C   0  0  0  0  0  0  0  0  0  0  0  0\\n   13.5307   -1.4339   21.5531 F   0  0  0  0  0  0  0  0  0  0  0  0\\n   11.2462   -1.4102   22.4162 C   0  0  0  0  0  0  0  0  0  0  0  0\\n    9.4522   -3.6587   24.0421 S   0  0  0  0  0  0  0  0  0  0  0  0\\n  1  2  1  0\\n  2  3  2  0\\n  3  4  1  0\\n  4  5  2  0\\n  5  6  1  0\\n  6  7  1  0\\n  7  8  1  0\\n  8  9  1  0\\n  9 10  1  0\\n 10 11  2  0\\n 11 12  1  0\\n 11 13  1  0\\n  5 14  1  0\\n 14  2  1  0\\n 13  7  1  0\\nM  END\\n\",\"sdf\");\n",
       "\tviewer_16414894418971977.addModel(\"\\n     RDKit          3D\\n\\n 18 19  0  0  0  0  0  0  0  0999 V2000\\n   13.2354   -1.0641   22.5275 C   0  0  0  0  0  0  0  0  0  0  0  0\\n   12.4544   -1.3254   23.7432 N   0  0  0  0  0  0  0  0  0  0  0  0\\n   11.7790   -0.0914   24.1595 C   0  0  0  0  0  0  0  0  0  0  0  0\\n   11.0622   -0.3304   25.4669 C   0  0  0  0  0  0  0  0  0  0  0  0\\n   10.1299   -1.4629   25.3218 N   0  0  0  0  0  0  0  0  0  0  0  0\\n   10.6768   -2.7034   24.7737 C   0  0  0  0  0  0  0  0  0  0  0  0\\n   11.4613   -2.3905   23.4962 C   0  0  0  0  0  0  0  0  0  0  0  0\\n    8.7974   -1.3975   25.8517 C   0  0  0  0  0  0  0  0  0  0  0  0\\n    7.9537   -2.3026   25.6126 O   0  0  0  0  0  0  0  0  0  0  0  0\\n    8.4181   -0.2022   26.6383 C   0  0  0  0  0  0  0  0  0  0  0  0\\n    7.3847   -0.4336   27.5634 O   0  0  0  0  0  0  0  0  0  0  0  0\\n    6.9807    0.6046   28.4033 C   0  0  0  0  0  0  0  0  0  0  0  0\\n    7.7391    1.7901   28.5535 C   0  0  0  0  0  0  0  0  0  0  0  0\\n    7.2750    2.8225   29.3554 C   0  0  0  0  0  0  0  0  0  0  0  0\\n    6.0459    2.7040   30.0061 C   0  0  0  0  0  0  0  0  0  0  0  0\\n    5.5538    3.8161   30.8781 C   0  0  0  0  0  0  0  0  0  0  0  0\\n    5.3064    1.5198   29.8781 C   0  0  0  0  0  0  0  0  0  0  0  0\\n    5.7751    0.4749   29.0828 C   0  0  0  0  0  0  0  0  0  0  0  0\\n  1  2  1  0\\n  2  3  1  0\\n  3  4  1  0\\n  4  5  1  0\\n  5  6  1  0\\n  6  7  1  0\\n  5  8  1  0\\n  8  9  2  0\\n  8 10  1  0\\n 10 11  1  0\\n 11 12  1  0\\n 12 13  2  0\\n 13 14  1  0\\n 14 15  2  0\\n 15 16  1  0\\n 15 17  1  0\\n 17 18  2  0\\n  7  2  1  0\\n 12 18  1  0\\nM  END\\n\",\"sdf\");\n",
       "\tviewer_16414894418971977.addModel(\"\\n     RDKit          3D\\n\\n  7  7  0  0  0  0  0  0  0  0999 V2000\\n    3.6736    2.1628   19.5683 N   0  0  0  0  0  0  0  0  0  0  0  0\\n    4.6893    1.2650   19.1311 C   0  0  0  0  0  0  0  0  0  0  0  0\\n    5.1089    0.2084   19.9451 C   0  0  0  0  0  0  0  0  0  0  0  0\\n    6.0573   -0.6523   19.4986 N   0  0  0  0  0  0  0  0  0  0  0  0\\n    6.6115   -0.4948   18.2667 C   0  0  0  0  0  0  0  0  0  0  0  0\\n    6.2256    0.5305   17.4624 N   0  0  0  0  0  0  0  0  0  0  0  0\\n    5.2778    1.4103   17.8709 C   0  0  0  0  0  0  0  0  0  0  0  0\\n  1  2  1  0\\n  2  3  2  0\\n  3  4  1  0\\n  4  5  2  0\\n  5  6  1  0\\n  6  7  2  0\\n  2  7  1  0\\nM  END\\n\",\"sdf\");\n",
       "\tviewer_16414894418971977.addModel(\"\\n     RDKit          3D\\n\\n 15 16  0  0  0  0  0  0  0  0999 V2000\\n    9.8935   -0.3868   24.9189 C   0  0  0  0  0  0  0  0  0  0  0  0\\n   11.0538   -0.3193   24.0266 N   0  0  0  0  0  0  0  0  0  0  0  0\\n   11.7271   -1.5837   23.6951 C   0  0  0  0  0  0  0  0  0  0  0  0\\n   12.7177   -1.4293   22.5424 C   0  0  0  0  0  0  0  0  0  0  0  0\\n   13.6628   -0.2574   22.8020 C   0  0  0  0  0  0  0  0  0  0  0  0\\n   12.8808    1.0147   23.0163 C   0  0  0  0  0  0  0  0  0  0  0  0\\n   13.4240    2.2536   22.6355 C   0  0  0  0  0  0  0  0  0  0  0  0\\n   12.7035    3.4346   22.8376 C   0  0  0  0  0  0  0  0  0  0  0  0\\n   11.4352    3.3906   23.4357 C   0  0  0  0  0  0  0  0  0  0  0  0\\n   10.9004    2.1605   23.8305 C   0  0  0  0  0  0  0  0  0  0  0  0\\n   11.6136    0.9614   23.6336 C   0  0  0  0  0  0  0  0  0  0  0  0\\n   10.4984    4.8582   23.7433 S   0  0  0  0  0  6  0  0  0  0  0  0\\n   10.0357    4.8384   25.1684 O   0  0  0  0  0  0  0  0  0  0  0  0\\n    9.2803    4.9000   22.8692 O   0  0  0  0  0  0  0  0  0  0  0  0\\n   11.4512    6.2766   23.4730 N   0  0  0  0  0  0  0  0  0  0  0  0\\n  1  2  1  0\\n  2  3  1  0\\n  3  4  1  0\\n  4  5  1  0\\n  5  6  1  0\\n  6  7  2  0\\n  7  8  1  0\\n  8  9  2  0\\n  9 10  1  0\\n 10 11  2  0\\n  9 12  1  0\\n 12 13  2  0\\n 12 14  2  0\\n 12 15  1  0\\n 11  2  1  0\\n  6 11  1  0\\nM  END\\n\",\"sdf\");\n",
       "\tviewer_16414894418971977.addModel(\"\\n     RDKit          3D\\n\\n 11 11  0  0  0  0  0  0  0  0999 V2000\\n    9.9959   -0.6362   22.5372 C   0  0  0  0  0  0  0  0  0  0  0  0\\n    9.1328   -0.0360   21.4728 C   0  0  0  0  0  0  0  0  0  0  0  0\\n    9.4854    1.0420   20.9299 O   0  0  0  0  0  0  0  0  0  0  0  0\\n    7.8832   -0.6432   21.1181 N   0  0  0  0  0  0  0  0  0  0  0  0\\n    7.0465   -0.0854   20.0952 C   0  0  0  0  0  0  0  0  0  0  0  0\\n    7.4416   -0.1580   18.7533 C   0  0  0  0  0  0  0  0  0  0  0  0\\n    6.6599    0.3704   17.7781 N   0  0  0  0  0  0  0  0  0  0  0  0\\n    5.4864    0.9868   18.0657 C   0  0  0  0  0  0  0  0  0  0  0  0\\n    5.0519    1.0903   19.3884 C   0  0  0  0  0  0  0  0  0  0  0  0\\n    5.8336    0.5494   20.4199 C   0  0  0  0  0  0  0  0  0  0  0  0\\n    5.3858    0.6620   21.8522 C   0  0  0  0  0  0  0  0  0  0  0  0\\n  1  2  1  0\\n  2  3  2  0\\n  2  4  1  0\\n  4  5  1  0\\n  5  6  2  0\\n  6  7  1  0\\n  7  8  2  0\\n  8  9  1  0\\n  9 10  2  0\\n 10 11  1  0\\n  5 10  1  0\\nM  END\\n\",\"sdf\");\n",
       "\tviewer_16414894418971977.addModel(\"\\n     RDKit          3D\\n\\n 16 17  0  0  0  0  0  0  0  0999 V2000\\n    9.0038    6.2374   22.6055 C   0  0  0  0  0  0  0  0  0  0  0  0\\n   10.2704    5.9501   23.3468 C   0  0  0  0  0  0  0  0  0  0  0  0\\n   10.3135    6.1676   24.5849 O   0  0  0  0  0  0  0  0  0  0  0  0\\n   11.4156    5.4214   22.6602 N   0  0  0  0  0  0  0  0  0  0  0  0\\n   12.6558    5.0471   23.3415 C   0  0  0  0  0  0  0  0  0  0  0  0\\n   13.0625    3.6123   22.9681 C   0  0  0  0  0  0  0  0  0  0  0  0\\n   12.0776    2.5491   23.4053 C   0  0  0  0  0  0  0  0  0  0  0  0\\n   10.9544    2.7018   24.2203 C   0  0  0  0  0  0  0  0  0  0  0  0\\n   10.3329    1.5160   24.3956 N   0  0  0  0  0  0  0  0  0  0  0  0\\n   11.0537    0.6024   23.7218 C   0  0  0  0  0  0  0  0  0  0  0  0\\n   10.8088   -0.7718   23.6269 C   0  0  0  0  0  0  0  0  0  0  0  0\\n   11.7039   -1.5562   22.8768 C   0  0  0  0  0  0  0  0  0  0  0  0\\n   12.8162   -0.9597   22.2461 C   0  0  0  0  0  0  0  0  0  0  0  0\\n   13.6736   -1.7275   21.5261 F   0  0  0  0  0  0  0  0  0  0  0  0\\n   13.0396    0.4290   22.3613 C   0  0  0  0  0  0  0  0  0  0  0  0\\n   12.1308    1.1888   23.1089 C   0  0  0  0  0  0  0  0  0  0  0  0\\n  1  2  1  0\\n  2  3  2  0\\n  2  4  1  0\\n  4  5  1  0\\n  5  6  1  0\\n  6  7  1  0\\n  7  8  2  0\\n  8  9  1  0\\n  9 10  1  0\\n 10 11  2  0\\n 11 12  1  0\\n 12 13  2  0\\n 13 14  1  0\\n 13 15  1  0\\n 15 16  2  0\\n 16  7  1  0\\n 10 16  1  0\\nM  END\\n\",\"sdf\");\n",
       "\tviewer_16414894418971977.addModel(\"\\n     RDKit          3D\\n\\n 18 19  0  0  0  0  0  0  0  0999 V2000\\n    2.7213    4.3257   25.2134 F   0  0  0  0  0  0  0  0  0  0  0  0\\n    1.4539    3.8424   25.1879 C   0  0  0  0  0  0  0  0  0  0  0  0\\n    0.4507    4.5549   25.8543 C   0  0  0  0  0  0  0  0  0  0  0  0\\n   -0.8589    4.0729   25.8830 C   0  0  0  0  0  0  0  0  0  0  0  0\\n   -1.1716    2.8710   25.2487 C   0  0  0  0  0  0  0  0  0  0  0  0\\n   -0.1752    2.1517   24.5822 C   0  0  0  0  0  0  0  0  0  0  0  0\\n    1.1490    2.6312   24.5352 C   0  0  0  0  0  0  0  0  0  0  0  0\\n    2.1916    1.8439   23.8220 C   0  0  0  0  0  0  0  0  0  0  0  0\\n    2.0632    0.5942   23.7473 O   0  0  0  0  0  0  0  0  0  0  0  0\\n    3.3239    2.4794   23.1975 N   0  0  0  0  0  0  0  0  0  0  0  0\\n    4.3139    1.7429   22.4079 C   0  0  0  0  0  0  0  0  0  0  0  0\\n    3.7972    1.5949   20.9718 C   0  0  0  0  0  0  0  0  0  0  0  0\\n    4.8336    1.1881   19.9457 C   0  0  0  0  0  0  0  0  0  0  0  0\\n    5.8374    0.2426   20.2159 C   0  0  0  0  0  0  0  0  0  0  0  0\\n    6.7093   -0.1485   19.1933 C   0  0  0  0  0  0  0  0  0  0  0  0\\n    6.5731    0.3623   17.9427 N   0  0  0  0  0  0  0  0  0  0  0  0\\n    5.5996    1.2587   17.6487 C   0  0  0  0  0  0  0  0  0  0  0  0\\n    4.7131    1.6815   18.6386 C   0  0  0  0  0  0  0  0  0  0  0  0\\n  1  2  1  0\\n  2  3  2  0\\n  3  4  1  0\\n  4  5  2  0\\n  5  6  1  0\\n  6  7  2  0\\n  7  8  1  0\\n  8  9  2  0\\n  8 10  1  0\\n 10 11  1  0\\n 11 12  1  0\\n 12 13  1  0\\n 13 14  2  0\\n 14 15  1  0\\n 15 16  2  0\\n 16 17  1  0\\n 17 18  2  0\\n  2  7  1  0\\n 13 18  1  0\\nM  END\\n\",\"sdf\");\n",
       "\tviewer_16414894418971977.addModel(\"\\n     RDKit          3D\\n\\n 20 20  0  0  0  0  0  0  0  0999 V2000\\n    7.5872    4.9594   22.5507 C   0  0  0  0  0  0  0  0  0  0  0  0\\n    7.1566    3.6087   23.0111 C   0  0  0  0  0  0  0  0  0  0  0  0\\n    6.0738    3.4549   23.6201 O   0  0  0  0  0  0  0  0  0  0  0  0\\n    8.0789    2.5486   22.9967 N   0  0  0  0  0  0  0  0  0  0  0  0\\n    7.8524    1.2938   22.3503 C   0  0  0  0  0  0  0  0  0  0  0  0\\n    6.4732    0.5970   22.4223 C   0  0  0  0  0  0  0  0  0  0  0  0\\n    6.0483    0.4733   20.9834 C   0  0  0  0  0  0  0  0  0  0  0  0\\n    5.2458    1.4767   20.4257 C   0  0  0  0  0  0  0  0  0  0  0  0\\n    5.1051    1.5754   19.0426 C   0  0  0  0  0  0  0  0  0  0  0  0\\n    5.8145    0.7108   18.2020 C   0  0  0  0  0  0  0  0  0  0  0  0\\n    6.6743   -0.2414   18.7449 C   0  0  0  0  0  0  0  0  0  0  0  0\\n    6.7854   -0.3674   20.1257 C   0  0  0  0  0  0  0  0  0  0  0  0\\n    5.6714    0.7885   16.8238 O   0  0  0  0  0  0  0  0  0  0  0  0\\n    9.0541    0.4436   22.2899 C   0  0  0  0  0  0  0  0  0  0  0  0\\n   10.0450    0.9364   21.6957 O   0  0  0  0  0  0  0  0  0  0  0  0\\n    9.0607   -0.9345   22.6406 N   0  0  0  0  0  0  0  0  0  0  0  0\\n    9.9297   -1.8396   21.9056 C   0  0  0  0  0  0  0  0  0  0  0  0\\n   11.3109   -1.6800   22.3612 C   0  0  0  0  0  0  0  0  0  0  0  0\\n   12.4343   -1.6655   22.7942 C   0  0  0  0  0  0  0  0  0  0  0  0\\n   14.1343   -1.8497   23.5887 Br  0  0  0  0  0  0  0  0  0  0  0  0\\n  1  2  1  0\\n  2  3  2  0\\n  2  4  1  0\\n  4  5  1  0\\n  5  6  1  0\\n  6  7  1  0\\n  7  8  2  0\\n  8  9  1  0\\n  9 10  2  0\\n 10 11  1  0\\n 11 12  2  0\\n 10 13  1  0\\n  5 14  1  0\\n 14 15  2  0\\n 14 16  1  0\\n 16 17  1  0\\n 17 18  1  0\\n 18 19  3  0\\n 19 20  1  0\\n 12  7  1  0\\nM  END\\n\",\"sdf\");\n",
       "\tviewer_16414894418971977.addModel(\"\\n     RDKit          3D\\n\\n 16 17  0  0  0  0  0  0  0  0999 V2000\\n   10.8548    2.7503   23.5861 C   0  0  0  0  0  0  0  0  0  0  0  0\\n    9.7196    1.8104   22.6045 S   0  0  0  0  0  6  0  0  0  0  0  0\\n   10.2021    1.7833   21.1849 O   0  0  0  0  0  0  0  0  0  0  0  0\\n    8.3488    2.4134   22.6841 O   0  0  0  0  0  0  0  0  0  0  0  0\\n    9.6563    0.1920   23.2356 C   0  0  0  0  0  0  0  0  0  0  0  0\\n    9.7719   -0.9076   22.3865 C   0  0  0  0  0  0  0  0  0  0  0  0\\n    9.6076   -2.1904   22.8920 C   0  0  0  0  0  0  0  0  0  0  0  0\\n    9.3752   -2.3947   24.2682 C   0  0  0  0  0  0  0  0  0  0  0  0\\n    9.3045   -1.2690   25.1121 C   0  0  0  0  0  0  0  0  0  0  0  0\\n    9.4244    0.0091   24.5953 C   0  0  0  0  0  0  0  0  0  0  0  0\\n    9.2092   -3.7234   24.8057 N   0  0  0  0  0  0  0  0  0  0  0  0\\n    9.9595   -4.8458   24.2269 C   0  0  0  0  0  0  0  0  0  0  0  0\\n    9.1720   -6.1301   24.4165 C   0  0  0  0  0  0  0  0  0  0  0  0\\n    8.9174   -6.3390   25.8439 N   0  0  0  0  0  0  0  0  0  0  0  0\\n    8.0857   -5.2582   26.3826 C   0  0  0  0  0  0  0  0  0  0  0  0\\n    8.7600   -3.9024   26.1971 C   0  0  0  0  0  0  0  0  0  0  0  0\\n  1  2  1  0\\n  2  3  2  0\\n  2  4  2  0\\n  2  5  1  0\\n  5  6  2  0\\n  6  7  1  0\\n  7  8  2  0\\n  8  9  1  0\\n  9 10  2  0\\n  8 11  1  0\\n 11 12  1  0\\n 12 13  1  0\\n 13 14  1  0\\n 14 15  1  0\\n 15 16  1  0\\n 10  5  1  0\\n 16 11  1  0\\nM  END\\n\",\"sdf\");\n",
       "\tviewer_16414894418971977.addModel(\"\\n     RDKit          3D\\n\\n 11 11  0  0  0  0  0  0  0  0999 V2000\\n   13.2392   -0.6049   22.7043 Br  0  0  0  0  0  0  0  0  0  0  0  0\\n   12.4774    1.1021   23.1186 C   0  0  0  0  0  0  0  0  0  0  0  0\\n   11.2357    1.1930   23.7599 C   0  0  0  0  0  0  0  0  0  0  0  0\\n   10.6812    2.4475   24.0271 C   0  0  0  0  0  0  0  0  0  0  0  0\\n   11.3691    3.6095   23.6554 C   0  0  0  0  0  0  0  0  0  0  0  0\\n   10.6259    5.1605   23.8972 S   0  0  0  0  0  6  0  0  0  0  0  0\\n    9.2400    5.2319   22.8891 N   0  0  0  0  0  0  0  0  0  0  0  0\\n   10.2125    5.3024   25.3295 O   0  0  0  0  0  0  0  0  0  0  0  0\\n   11.5714    6.2585   23.5107 O   0  0  0  0  0  0  0  0  0  0  0  0\\n   12.6104    3.5160   23.0193 C   0  0  0  0  0  0  0  0  0  0  0  0\\n   13.1642    2.2645   22.7559 C   0  0  0  0  0  0  0  0  0  0  0  0\\n  1  2  1  0\\n  2  3  2  0\\n  3  4  1  0\\n  4  5  2  0\\n  5  6  1  0\\n  6  7  1  0\\n  6  8  2  0\\n  6  9  2  0\\n  5 10  1  0\\n 10 11  2  0\\n 11  2  1  0\\nM  END\\n\",\"sdf\");\n",
       "\tviewer_16414894418971977.addModel(\"\\n     RDKit          3D\\n\\n 16 17  0  0  0  0  0  0  0  0999 V2000\\n    9.4470    1.1192   21.0060 O   0  0  0  0  0  0  0  0  0  0  0  0\\n    8.8561    0.2654   21.7221 C   0  0  0  0  0  0  0  0  0  0  0  0\\n    9.3893   -0.1228   23.0548 C   0  0  0  0  0  0  0  0  0  0  0  0\\n   10.9135   -0.0752   23.1249 C   0  0  0  0  0  0  0  0  0  0  0  0\\n   11.5772   -1.0473   22.1108 C   0  0  0  0  0  0  0  0  0  0  0  0\\n   12.8290   -1.7452   22.6680 C   0  0  0  0  0  0  0  0  0  0  0  0\\n   13.6506   -0.8259   23.5820 C   0  0  0  0  0  0  0  0  0  0  0  0\\n   12.8320   -0.2011   24.7307 C   0  0  0  0  0  0  0  0  0  0  0  0\\n   11.3262   -0.3842   24.5665 C   0  0  0  0  0  0  0  0  0  0  0  0\\n    7.6010   -0.2715   21.3234 N   0  0  0  0  0  0  0  0  0  0  0  0\\n    6.9744    0.1657   20.1313 C   0  0  0  0  0  0  0  0  0  0  0  0\\n    5.7196    0.7649   20.2057 C   0  0  0  0  0  0  0  0  0  0  0  0\\n    5.1113    1.2180   19.0421 C   0  0  0  0  0  0  0  0  0  0  0  0\\n    5.7683    1.0533   17.8205 C   0  0  0  0  0  0  0  0  0  0  0  0\\n    6.9930    0.4662   17.7710 N   0  0  0  0  0  0  0  0  0  0  0  0\\n    7.6104    0.0253   18.8932 C   0  0  0  0  0  0  0  0  0  0  0  0\\n  1  2  2  0\\n  2  3  1  0\\n  3  4  1  0\\n  4  5  1  0\\n  5  6  1  0\\n  6  7  1  0\\n  7  8  1  0\\n  8  9  1  0\\n  2 10  1  0\\n 10 11  1  0\\n 11 12  2  0\\n 12 13  1  0\\n 13 14  2  0\\n 14 15  1  0\\n 15 16  2  0\\n  9  4  1  0\\n 11 16  1  0\\nM  END\\n\",\"sdf\");\n",
       "\tviewer_16414894418971977.addModel(\"\\n     RDKit          3D\\n\\n 13 13  0  0  0  0  0  0  0  0999 V2000\\n    6.4713   -4.9573   26.5864 C   0  0  0  0  0  0  0  0  0  0  0  0\\n    8.0992   -4.3621   26.1682 S   0  0  0  0  0  6  0  0  0  0  0  0\\n    9.0635   -5.5080   26.0888 O   0  0  0  0  0  0  0  0  0  0  0  0\\n    8.5861   -3.4339   27.2393 O   0  0  0  0  0  0  0  0  0  0  0  0\\n    8.0119   -3.5186   24.6480 N   0  0  0  0  0  0  0  0  0  0  0  0\\n    9.3377   -3.0615   24.2340 C   0  0  0  0  0  0  0  0  0  0  0  0\\n    9.2320   -1.7838   23.3971 C   0  0  0  0  0  0  0  0  0  0  0  0\\n   10.5874   -1.1365   23.3602 C   0  0  0  0  0  0  0  0  0  0  0  0\\n   10.9034   -0.0890   24.2413 C   0  0  0  0  0  0  0  0  0  0  0  0\\n   12.2035    0.4200   24.2851 C   0  0  0  0  0  0  0  0  0  0  0  0\\n   13.1973   -0.1282   23.4705 C   0  0  0  0  0  0  0  0  0  0  0  0\\n   12.8929   -1.1842   22.6090 C   0  0  0  0  0  0  0  0  0  0  0  0\\n   11.5938   -1.6888   22.5552 C   0  0  0  0  0  0  0  0  0  0  0  0\\n  1  2  1  0\\n  2  3  2  0\\n  2  4  2  0\\n  2  5  1  0\\n  5  6  1  0\\n  6  7  1  0\\n  7  8  1  0\\n  8  9  2  0\\n  9 10  1  0\\n 10 11  2  0\\n 11 12  1  0\\n 12 13  2  0\\n  8 13  1  0\\nM  END\\n\",\"sdf\");\n",
       "\tviewer_16414894418971977.addModel(\"\\n     RDKit          3D\\n\\n 13 14  0  0  0  0  0  0  0  0999 V2000\\n    9.2789   -4.2034   27.8295 O   0  0  0  0  0  0  0  0  0  0  0  0\\n    9.1747   -4.8621   26.5936 C   0  0  0  0  0  0  0  0  0  0  0  0\\n   10.4688   -4.7135   25.8044 C   0  0  0  0  0  0  0  0  0  0  0  0\\n   10.6893   -3.2651   25.3768 C   0  0  0  0  0  0  0  0  0  0  0  0\\n    9.5534   -2.7617   24.5739 N   0  0  0  0  0  0  0  0  0  0  0  0\\n    9.7504   -1.3535   24.1987 C   0  0  0  0  0  0  0  0  0  0  0  0\\n   11.1174   -1.0734   23.6290 C   0  0  0  0  0  0  0  0  0  0  0  0\\n   11.9682   -0.0699   24.1384 C   0  0  0  0  0  0  0  0  0  0  0  0\\n   13.1745    0.0301   23.4560 C   0  0  0  0  0  0  0  0  0  0  0  0\\n   13.1809   -1.1255   22.2411 S   0  0  0  0  0  0  0  0  0  0  0  0\\n   11.6624   -1.7663   22.5499 C   0  0  0  0  0  0  0  0  0  0  0  0\\n    8.2986   -2.8507   25.3501 C   0  0  0  0  0  0  0  0  0  0  0  0\\n    8.0145   -4.2879   25.7864 C   0  0  0  0  0  0  0  0  0  0  0  0\\n  1  2  1  0\\n  2  3  1  0\\n  3  4  1  0\\n  4  5  1  0\\n  5  6  1  0\\n  6  7  1  0\\n  7  8  1  0\\n  8  9  2  0\\n  9 10  1  0\\n 10 11  1  0\\n  5 12  1  0\\n 12 13  1  0\\n 13  2  1  0\\n  7 11  2  0\\nM  END\\n\",\"sdf\");\n",
       "\tviewer_16414894418971977.setStyle({\"stick\": {}});\n",
       "\tviewer_16414894418971977.setBackgroundColor(\"white\");\n",
       "\tviewer_16414894418971977.zoomTo();\n",
       "\tviewer_16414894418971977.svg();\n",
       "viewer_16414894418971977.zoomTo();\n",
       "viewer_16414894418971977.render();\n",
       "});\n",
       "</script>"
      ]
     },
     "metadata": {},
     "output_type": "display_data"
    },
    {
     "data": {
      "text/plain": [
       "<py3Dmol.view at 0x2b83e0cf71d0>"
      ]
     },
     "execution_count": 23,
     "metadata": {},
     "output_type": "execute_result"
    }
   ],
   "source": [
    "view = py3Dmol.view(width=1000, height=1000)\n",
    "\n",
    "data_dir = '/home/wjm41/ml_physics/frag-pcore-screen/data'\n",
    "file = open(mpro_dir+'/6YB7_model.pdb', 'r')\n",
    "protein = file.read()\n",
    "# view.addModel(protein, 'pdb')\n",
    "\n",
    "for mol in frags:\n",
    "    mb = Chem.MolToMolBlock(Chem.RemoveHs(mol[0]), confId=-1)\n",
    "    view.addModel(mb, 'sdf')\n",
    "view.setStyle({'stick': {}})\n",
    "# view.setStyle({'model': 0}, {'cartoon': {'color': 'grey', 'opacity': 0.5}})\n",
    "# view.addSurface(py3Dmol.VDW,{'opacity':0.7,'color':'white'})\n",
    "view.setBackgroundColor('white')\n",
    "view.zoomTo()\n",
    "view.show()\n",
    "# time.sleep(10)\n",
    "view.svg()\n"
   ]
  },
  {
   "cell_type": "markdown",
   "metadata": {},
   "source": [
    "# 3D Pharmacophore Plotting"
   ]
  },
  {
   "cell_type": "markdown",
   "metadata": {},
   "source": [
    "### Legend"
   ]
  },
  {
   "cell_type": "code",
   "execution_count": 9,
   "metadata": {},
   "outputs": [
    {
     "data": {
      "application/vnd.jupyter.widget-view+json": {
       "model_id": "2b13ad58e1744259b6341ab765bc7f93",
       "version_major": 2,
       "version_minor": 0
      },
      "text/plain": [
       "interactive(children=(FloatSlider(value=0.5, description='r', max=1.0, min=0.1), Output()), _dom_classes=('wid…"
      ]
     },
     "metadata": {},
     "output_type": "display_data"
    },
    {
     "data": {
      "text/plain": [
       "<function __main__.plot_legend(r)>"
      ]
     },
     "execution_count": 9,
     "metadata": {},
     "output_type": "execute_result"
    }
   ],
   "source": [
    "colors = {'Donor': 'O', 'Acceptor': 'N', 'Aromatic': 'Cl'}\n",
    "\n",
    "def plot_legend(r):\n",
    "    view = py3Dmol.view()\n",
    "    \n",
    "    for n in range(3):\n",
    "        \n",
    "        legend = str(1)+'\\n\\n'\n",
    "        legend = legend + \\\n",
    "            colors[list(colors)[n]]+' 0 ' + ' 0 '\\\n",
    "            +str(n)+'\\n'\n",
    "        view.addModel(legend, 'xyz')\n",
    "        view.setStyle({'model': -1}, {'sphere': {'radius': r, 'opacity': 0.95}})\n",
    "    view.setBackgroundColor('0xffffff')\n",
    "    view.zoomTo()\n",
    "    view.show()\n",
    "    return None\n",
    "\n",
    "interact(plot_legend, r=(0.1, 1.0, 0.1))  # (min, max, step)\n",
    "# plot_legend(r=0.1)\n"
   ]
  },
  {
   "cell_type": "code",
   "execution_count": 11,
   "metadata": {},
   "outputs": [
    {
     "data": {
      "application/vnd.jupyter.widget-view+json": {
       "model_id": "83278d0017ba430c9efd2237c583e1d1",
       "version_major": 2,
       "version_minor": 0
      },
      "text/plain": [
       "interactive(children=(FloatSlider(value=0.5, description='r', max=1.0, min=0.1), Checkbox(value=True, descript…"
      ]
     },
     "metadata": {},
     "output_type": "display_data"
    },
    {
     "data": {
      "text/plain": [
       "<function __main__.plot_3d(r, protein=False)>"
      ]
     },
     "execution_count": 11,
     "metadata": {},
     "output_type": "execute_result"
    }
   ],
   "source": [
    "\n",
    "def plot_3d(r, protein=False):\n",
    "    view = py3Dmol.view()\n",
    "    if protein:\n",
    "        file = open(mpro_dir+'/6YB7_model.pdb', 'r')\n",
    "        mpro = file.read()\n",
    "        view.addModel(mpro, 'pdb')\n",
    "        view.setStyle({'model': -1}, {'cartoon': {'color': 'yellow', 'opacity': 0.5}})\n",
    "\n",
    "    frag_pcores = str(len(frag_df))+'\\n\\n'\n",
    "    vol_data = []\n",
    "    for i, row in frag_df.iterrows():\n",
    "        vol_data.append(row['pcore']+' '+row['coord_x'] +\n",
    "                        ' '+row['coord_y']+' '+row['coord_z'])\n",
    "        frag_pcores = frag_pcores + \\\n",
    "            row['pcore']+' '+row['coord_x']+' ' + \\\n",
    "            row['coord_y']+' '+row['coord_z']+'\\n'\n",
    "    view.addModel(frag_pcores, 'xyz')\n",
    "    view.setStyle({'model': -1}, {'sphere': {'radius': r, 'opacity': 0.95}})\n",
    "    view.setBackgroundColor('0xffffff')\n",
    "#     view.addSurface(py3Dmol.MS, {'opacity': 1.0})\n",
    "    view.zoomTo()\n",
    "    view.show()\n",
    "    return None\n",
    "\n",
    "\n",
    "interact(plot_3d, r=(0.1, 1.0, 0.1), protein=True)  # (min, max, step)\n"
   ]
  },
  {
   "cell_type": "code",
   "execution_count": 6,
   "metadata": {},
   "outputs": [
    {
     "data": {
      "application/vnd.jupyter.widget-view+json": {
       "model_id": "f5ea57e43b644d74af679c691a5916f2",
       "version_major": 2,
       "version_minor": 0
      },
      "text/plain": [
       "interactive(children=(FloatSlider(value=0.5, description='r', max=1.0, min=0.1), IntSlider(value=53, descripti…"
      ]
     },
     "metadata": {},
     "output_type": "display_data"
    },
    {
     "data": {
      "text/plain": [
       "<function __main__.plot_3d(r, n, protein=False)>"
      ]
     },
     "execution_count": 6,
     "metadata": {},
     "output_type": "execute_result"
    }
   ],
   "source": [
    "\n",
    "def plot_3d(r, n, protein=False):\n",
    "    view = py3Dmol.view()\n",
    "    if protein:\n",
    "        file = open(mpro_dir+'/6YB7_model.pdb', 'r')\n",
    "        mpro = file.read()\n",
    "        view.addModel(mpro, 'pdb')\n",
    "        view.setStyle(\n",
    "            {'model': -1}, {'cartoon': {'color': 'yellow', 'opacity': 0.5}})\n",
    "\n",
    "    for i, row in frag_df.iterrows():\n",
    "        frag_pcores = str(1)+'\\n\\n' + \\\n",
    "            row['pcore']+' '+row['coord_x']+' ' + \\\n",
    "            row['coord_y']+' '+row['coord_z']+'\\n'\n",
    "        view.addModel(frag_pcores, 'xyz')\n",
    "        if i==0:\n",
    "            view.setStyle(\n",
    "                {'model': -1}, {'sphere': {'radius': r, 'color':'red', 'opacity': 1.0}})\n",
    "        elif i==n:\n",
    "            view.setStyle(\n",
    "                {'model': -1}, {'sphere': {'radius': r, 'color': 'blue', 'opacity': 1.0}})\n",
    "        else:\n",
    "            view.setStyle(\n",
    "                {'model': -1}, {'sphere': {'radius': r, 'color': 'grey', 'opacity': 0.75}})\n",
    "    view.setBackgroundColor('0xffffff')\n",
    "#     view.addSurface(py3Dmol.MS, {'opacity': 1.0})\n",
    "    view.zoomTo({'model':n})\n",
    "    view.show()\n",
    "    return None\n",
    "\n",
    "\n",
    "interact(plot_3d, r=(0.1, 1.0, 0.1), n=(\n",
    "    0, len(frag_df)-1, 1), protein=False)  # (min, max, step)\n"
   ]
  },
  {
   "cell_type": "code",
   "execution_count": 13,
   "metadata": {},
   "outputs": [],
   "source": [
    "frag_p4cores = []\n",
    "for a in frag_p4core_ids:\n",
    "    for p4core_i in a:\n",
    "        if p4core_i not in frag_p4cores:\n",
    "            frag_p4cores.append(p4core_i)\n",
    "        \n",
    "possible_pairs = []\n",
    "for i, p4core_i in enumerate(frag_p4cores):\n",
    "    for p4core_j in frag_p4cores[i:]:\n",
    "        possible_pairs.append([p4core_i, p4core_j])\n",
    "        \n",
    "possible_trips = []\n",
    "for i, p4core_i in enumerate(frag_p4cores):\n",
    "    for j, p4core_j in enumerate(frag_p4cores[i:]):\n",
    "        for k, p4core_k in enumerate(frag_p4cores[i+j:]):\n",
    "            possible_trips.append([p4core_i, p4core_j, p4core_k])"
   ]
  }
 ],
 "metadata": {
  "interpreter": {
   "hash": "8b09d7c221980357d8f26c1325f29a0c217782a36e96a133a3258ff922138085"
  },
  "kernelspec": {
   "display_name": "fresco",
   "language": "python",
   "name": "python3"
  },
  "language_info": {
   "codemirror_mode": {
    "name": "ipython",
    "version": 3
   },
   "file_extension": ".py",
   "mimetype": "text/x-python",
   "name": "python",
   "nbconvert_exporter": "python",
   "pygments_lexer": "ipython3",
   "version": "3.6.10"
  }
 },
 "nbformat": 4,
 "nbformat_minor": 4
}
