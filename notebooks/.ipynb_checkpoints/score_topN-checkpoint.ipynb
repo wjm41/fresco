{
 "cells": [
  {
   "cell_type": "code",
   "execution_count": 22,
   "metadata": {},
   "outputs": [],
   "source": [
    "from rdkit.Chem import Descriptors, MolFromSmiles, MolToSmiles\n",
    "from rdkit import Chem"
   ]
  },
  {
   "cell_type": "code",
   "execution_count": 2,
   "metadata": {},
   "outputs": [],
   "source": [
    "import os\n",
    "\n",
    "import numpy as np\n",
    "import pandas as pd\n",
    "from tqdm import tqdm\n",
    "\n",
    "from rdkit.Chem import Descriptors, MolFromSmiles\n",
    "\n",
    "from rdkit import RDLogger\n",
    "RDLogger.DisableLog('rdApp.*')\n",
    "\n",
    "dir1 = '/rds-d2/user/wjm41/hpc-work/datasets/ZINC/real/'\n",
    "\n",
    "dir2 = '/rds-d7/project/rds-ZNFRY9wKoeE/EnamineREAL/'\n",
    "\n",
    "scored_dirs1 = open(dir1+'scored_dirs.txt', 'r').read().splitlines()\n",
    "scored_dirs2 = open(dir2+'scored_dirs.txt', 'r').read().splitlines()\n",
    "\n",
    "# dirs1 = [x for x in os.listdir(dir1) if os.path.isdir(dir1+x)]\n",
    "# \n",
    "# dirs2 = [x for x in os.listdir(dir2) if os.path.isdir(dir2+x)]\n",
    "\n",
    "def proc_df(path, N=1000):\n",
    "    df = pd.read_csv(path)\n",
    "    df = df[df['2body_score'].notnull()]\n",
    "    if len(df)!=0:\n",
    "        df = df.apply(filter_small, axis=1)\n",
    "        df = df[df['keep']]\n",
    "        df = df.sort_values(by='2body_score')\n",
    "        df = df.iloc[:min(N,len(df))]\n",
    "    return df"
   ]
  },
  {
   "cell_type": "code",
   "execution_count": null,
   "metadata": {},
   "outputs": [
    {
     "name": "stderr",
     "output_type": "stream",
     "text": [
      "  1%|          | 118/13970 [00:05<09:47, 23.58it/s]"
     ]
    }
   ],
   "source": [
    "# Find Top-N\n",
    "\n",
    "N=10000\n",
    "\n",
    "df_all = []\n",
    "for i,folder in tqdm(enumerate(scored_dirs1), total = len(scored_dirs1)):\n",
    "        if os.path.isfile(dir1+folder+'/topN_mac.csv'):\n",
    "            df = pd.read_csv(dir1+folder+'/topN_mac.csv')\n",
    "            df_all.append(df)\n",
    "        \n",
    "df_all = pd.concat(df_all).sort_values(by='2body_score').drop_duplicates(subset=['smiles'], keep='first')\n",
    "\n",
    "df_all_2 = []\n",
    "for i,folder in tqdm(enumerate(scored_dirs2), total = len(scored_dirs2)):\n",
    "        if os.path.isfile(dir2+folder+'/topN_mac.csv'):\n",
    "            df = pd.read_csv(dir2+folder+'/topN_mac.csv')\n",
    "            df_all_2.append(df)\n",
    "        \n",
    "df_all_2 = pd.concat(df_all_2).sort_values(by='2body_score').drop_duplicates(subset=['smiles'], keep='first')\n",
    "\n",
    "df_tot = pd.concat([df_all, df_all_2]).sort_values(by='2body_score').drop_duplicates(subset=['smiles'], keep='first')\n",
    "df_tot.iloc[:min(N, len(df_all_2))].to_csv(dir2+'topN_final_mac.csv', index=False)\n",
    "print(len(df_tot))\n",
    "\n",
    "df_all.iloc[:min(N, len(df_all))].to_csv(dir1+'topN_mac.csv', index=False)\n",
    "\n",
    "df_all_2.iloc[:min(N, len(df_all_2))].to_csv(dir2+'topN_mac.csv', index=False)"
   ]
  },
  {
   "cell_type": "code",
   "execution_count": null,
   "metadata": {},
   "outputs": [],
   "source": [
    "print(len(df_tot.drop_duplicates(subset=['smiles'], keep='first')))"
   ]
  },
  {
   "cell_type": "code",
   "execution_count": null,
   "metadata": {},
   "outputs": [],
   "source": [
    "import mols2grid\n",
    "\n",
    "# df1 = df1.rename(columns={'smiles':'SMILES'})\n",
    "# df2 = df2.rename(columns={'smiles':'SMILES'})\n",
    "\n",
    "mols2grid.display(df_tot.rename(columns={'smiles':'SMILES'}), template=\"pages\", n_rows=10, n_cols=5, subset=[\"img\"], tooltip=['SMILES', '2body_score'])\n",
    "# mols2grid.display(df2, template=\"pages\", n_rows=10, n_cols=5, subset=[\"img\"], tooltip=['SMILES'])"
   ]
  },
  {
   "cell_type": "code",
   "execution_count": 2,
   "metadata": {},
   "outputs": [
    {
     "name": "stdout",
     "output_type": "stream",
     "text": [
      "False\n",
      "3252\n",
      "3243\n",
      "9970\n",
      "3243\n",
      "12\n"
     ]
    }
   ],
   "source": [
    "df1 = pd.read_csv(dir2+'topN_final_acc_true.csv')\n",
    "df2 = pd.read_csv('~/topN_final_acc.csv')\n",
    "# print(len(df1.drop_duplicates(subset=['smiles'], keep='first')))\n",
    "print(df1.equals(df2))\n",
    "smiles_x = df1['smiles'].values\n",
    "smiles_y = df2['smiles'].values\n",
    "\n",
    "def intersection(lst1, lst2):\n",
    "    return list(set(lst1) & set(lst2))\n",
    "\n",
    "print(len(intersection(smiles_x, smiles_y)))\n",
    "print(len(df1[df1['dir'].str.contains('rds-d2')]))\n",
    "print(len(df2[df2['dir'].str.contains('rds-d2')]))\n",
    "\n",
    "df_overlap = df1.merge(df2, how='inner', on='smiles')\n",
    "# print(len(df_overlap[df_overlap.duplicated(subset='smiles')]))\n",
    "# print(len(df_overlap))\n",
    "print(len(df_overlap[df_overlap['dir_x'].str.contains('rds-d2')]))\n",
    "print(len(df_overlap[df_overlap['dir_x'].str.contains('rds-d7')]))"
   ]
  },
  {
   "cell_type": "code",
   "execution_count": 48,
   "metadata": {},
   "outputs": [
    {
     "name": "stdout",
     "output_type": "stream",
     "text": [
      "                                                smiles  2body_score  keep  \\\n",
      "0          [H]N(Cc1cnn2ccccc12)c1ccc2nnc(-c3ccsc3)n2n1     3.174497  True   \n",
      "1              Clc1csc(CN2CCC[C@H](c3nnc4ccccn34)C2)n1     3.180210  True   \n",
      "2      [H]N(CCc1cn2ccccc2n1)[C@@H](C)c1cnc2cc(C)nn2c1C     3.197042  True   \n",
      "3          [H]N(Cc1cn2ccccc2n1)c1ccc2nnc(-c3ccsc3)n2n1     3.201553  True   \n",
      "4       [H]N(Cc1ccc2cncn2c1)[C@@H](C)c1cnc2cc(C)nn2c1C     3.213606  True   \n",
      "...                                                ...          ...   ...   \n",
      "9995    [H]OC(=O)c1sc2ncnc(N([H])CCc3nnc4ccccn34)c2c1C     3.487719  True   \n",
      "9996          [H]Sc1nnc(Cc2cccc3ccccc23)n1/N=C/c1csnn1     3.487729  True   \n",
      "9997       [H]N(Cc1ncnn1C(C)C)c1ccc2nnc(-c3ccccc3)n2n1     3.487737  True   \n",
      "9998         [H]N(Cc1c(C)nc2sc(C)nn12)c1nncn1Cc1ccccc1     3.487755  True   \n",
      "9999  [H]N(C(=O)c1nnn(-c2ccn(C)n2)c1C)c1ccc2sc(C)nc2c1     3.487781  True   \n",
      "\n",
      "                                                    dir  ind  \n",
      "0     /rds-d7/project/rds-ZNFRY9wKoeE/EnamineREAL/EG...    0  \n",
      "1     /rds-d2/user/wjm41/hpc-work/datasets/ZINC/real...    0  \n",
      "2     /rds-d2/user/wjm41/hpc-work/datasets/ZINC/real...    0  \n",
      "3     /rds-d7/project/rds-ZNFRY9wKoeE/EnamineREAL/EG...    1  \n",
      "4     /rds-d7/project/rds-ZNFRY9wKoeE/EnamineREAL/DF...    0  \n",
      "...                                                 ...  ...  \n",
      "9995  /rds-d7/project/rds-ZNFRY9wKoeE/EnamineREAL/FE...   10  \n",
      "9996  /rds-d7/project/rds-ZNFRY9wKoeE/EnamineREAL/FG...   50  \n",
      "9997  /rds-d2/user/wjm41/hpc-work/datasets/ZINC/real...   79  \n",
      "9998  /rds-d2/user/wjm41/hpc-work/datasets/ZINC/real...   45  \n",
      "9999  /rds-d7/project/rds-ZNFRY9wKoeE/EnamineREAL/FE...   71  \n",
      "\n",
      "[9997 rows x 5 columns]\n"
     ]
    }
   ],
   "source": [
    "print(df1.drop_duplicates(subset=['smiles'], keep='first'))\n",
    "df1[['smiles','2body_score']].to_csv('~/topN_mpro.csv', index=False)"
   ]
  },
  {
   "cell_type": "code",
   "execution_count": 35,
   "metadata": {},
   "outputs": [],
   "source": [
    "submitted_mols = [\n",
    "    'Cc1ccc(NCc2nnc3n(C)c(=O)c4ccccc4n23)cc1C',\n",
    "    'O=C(Nc1ccc2c(=O)cc[nH]c2c1)c1ccc2ccncc2c1',\n",
    "    'Cc1cn2ccc(C(=O)Nc3nc(-c4cnn(C)c4)cs3)cc2n1',\n",
    "    'O=C(Cc1c[nH]c2cc(Cl)ccc12)Nc1cccc2[nH]c(=O)[nH]c12',\n",
    "    'Cc1nnc(CNc2ccc3nnc(-c4ccccc4)n3n2)o1',\n",
    "    'CCn1c(CNc2nnc(-c3nccn3C)o2)nc2ccccc21',\n",
    "    'CN(Cc1nnc2ccccn12)C(=O)c1ccnc2ccccc12',\n",
    "    'Cc1cc(N2CCC(C)N(Cc3ccccc3)CC2)n2ncnc2n1',\n",
    "    'O=C(Nc1nn2cnnc2s1)c1csc(-c2ccccc2)n1',\n",
    "    'Cc1cn2c(CNC(=O)c3cnn4ccccc34)c(C)nc2s1',\n",
    "    'N#CCc1cccc(NC(=O)c2cnn3cc(Br)cnc23)n1',\n",
    "    'Cc1ccc(Br)nc1C(=O)NC(C)c1nnc2c(=O)[nH]ccn12',\n",
    "    'O=C(NNc1nc(Br)cn2ccnc12)c1nccn2ccnc12',\n",
    "    'O=C(NNc1cc(O)nc2ncccc12)c1ccc2[nH]ccc2c1',\n",
    "    'Cc1cc(C(=O)Nc2cnc3nccn3c2)nn1-c1ccc(F)cc1',\n",
    "    'Cn1ccn2c(CNC(=O)c3ccc4ncsc4c3)nnc2c1=O',\n",
    "    'Cn1c(NC(=O)Cc2csc3nccn23)nc2ccc(F)cc21',\n",
    "    'O=C(N/N=c1\\cc[nH]c2ccccc12)c1ccc2ncccc2c1',\n",
    "    'Cc1cc(O)c2cc(NC(=O)c3cnn4ccc(C)nc34)ccc2n1',\n",
    "    'Cc1cccc2ncnc(NC(C)c3ccc4[nH]c(=O)[nH]c4c3)c12',\n",
    "    'Cc1[nH]c2ccccc2c1C(=O)NNc1nc2cccnc2s1',\n",
    "    'O=C(Nc1cnc2nccn2c1)c1cn2c(Br)cnc2s1',\n",
    "    'O=C(Nc1cccc2nccnc12)c1c[nH]c2cc([N+](=O)[O-])ccc12',\n",
    "    'Cc1ccc(C(=O)Nc2c(-c3cnn(C)c3)nc3ccccn23)cn1',\n",
    "    'c1ccc2oc(C3CCCN(Cc4cnc5cnccn45)C3)nc2c1',\n",
    "    'Cn1cnnc1-c1cccc(NS(=O)(=O)c2c(Cl)nc3sccn23)c1',\n",
    "    'Cn1c(=O)oc2cc(S(=O)(=O)Nc3ccc4ncccc4c3)ccc21',\n",
    "    'CC(NC(=O)c1c(Cl)nc2ccccn12)c1nnc2ccccn12',\n",
    "    'CC(NC(=O)c1nccc2cccnc12)c1ccc2[nH]c(=O)oc2c1',\n",
    "    'Cc1noc2ncc(CNc3ccc(-c4nnnn4C)cc3)cc12',\n",
    "    'CC(NC(=O)c1cnc2sccn2c1=O)c1nc2ccccc2n1C',\n",
    "    'c1cc(CN2CCCC(c3nnc4ccccn34)C2)n2ccnc2c1',\n",
    "    'Cc1nc2sccn2c1CN(C)C(=O)c1cn2ccccc2n1',\n",
    "    'CN(Cc1nc2ccccc2s1)C(=O)c1ccc2c(c1)nnn2C',\n",
    "    'CC(Cc1nc2ccccc2s1)Nc1ccc2nnnn2n1',\n",
    "    'Cc1csc2ncc(C(=O)Nc3cccc4ncccc34)c(=O)n12',\n",
    "    'O=C(NNc1nc2ccccc2[nH]1)c1cc(O)nc2ccccc12',\n",
    "    'O=C(Nc1cccc2cc[nH]c12)c1cccc2[nH]c(=O)oc12',\n",
    "    'Cn1c(NC(=O)c2cccnc2-n2cccn2)nc2cc(F)ccc21',\n",
    "    'Cc1nn2c(CNc3ccc(Cn4cncn4)cc3)c(C)nc2s1',\n",
    "    'CC(CNC(=O)c1cnc2ccccn12)Nc1nc2ccccc2o1',\n",
    "    'Cc1nc2cc(C(=O)NNc3nc4ccncc4s3)ccc2o1',\n",
    "    'Cc1nn(C)c2nc(Cl)cc(NNC(=O)c3ccnc4[nH]nnc34)c12',\n",
    "    'COc1ccc(CNCCc2cn3ccsc3n2)cc1OC(F)F',\n",
    "    'CC(NC(=O)c1ccc2oc(=S)[nH]c2c1)c1nnc2ccccn12',\n",
    "]\n",
    "\n",
    "def return_canon(smi):\n",
    "    mol = MolFromSmiles(smi)\n",
    "    Chem.RemoveStereochemistry(mol)\n",
    "    return MolToSmiles(mol)\n",
    "\n",
    "submitted_mols = [return_canon(smi) for smi in submitted_mols]\n",
    "df_sub = pd.DataFrame(submitted_mols, columns=['smiles'])\n",
    "df2['cansmiles'] = [return_canon(smi) for smi in df2['smiles']]\n",
    "df_sub = df2[df2['cansmiles'].isin(submitted_mols)].drop_duplicates(subset=['cansmiles'], keep='first')\n",
    "\n",
    "# print(df_sub[~df_sub['smiles'].isin(df2['cansmiles'])].drop_duplicates(subset=['smiles'], keep='first'))\n",
    "# print(len(df2[df2['cansmiles'].isin(submitted_mols)].drop_duplicates(subset=['cansmiles'], keep='first')))"
   ]
  },
  {
   "cell_type": "code",
   "execution_count": 37,
   "metadata": {},
   "outputs": [
    {
     "name": "stdout",
     "output_type": "stream",
     "text": [
      "                                                 smiles  2body_score  keep  \\\n",
      "4          c1cc(CN2CCC[C@@H](c3nnc4ccccn34)C2)n2ccnc2c1     3.225796  True   \n",
      "20          c1ccc2oc([C@H]3CCCN(Cc4cnc5cnccn45)C3)nc2c1     3.268856  True   \n",
      "208           [H]N(c1ccc2nnnn2n1)[C@H](C)Cc1nc2ccccc2s1     3.351559  True   \n",
      "289     [H]N(C(=O)c1nccn2ccnc12)N([H])c1nc(Br)cn2ccnc12     3.360187  True   \n",
      "342   [H]N(C(=O)c1nc(Br)ccc1C)[C@H](C)c1nnc2c(=O)n([...     3.367107  True   \n",
      "654         [H]N(Cc1c(C)nc2sc(C)cn12)C(=O)c1cnn2ccccc12     3.394191  True   \n",
      "773   [H]N(C(=O)c1c(Cl)nc2ccccn12)[C@H](C)c1nnc2ccccn12     3.401400  True   \n",
      "967          [H]N(C(=O)c1cnn2cc(Br)cnc12)c1cccc(CC#N)n1     3.411343  True   \n",
      "1305  [H]N(C(=O)c1nccc2cccnc12)[C@@H](C)c1ccc2c(c1)o...     3.426904  True   \n",
      "1387  [H]N(C(=O)c1ccc2oc(=S)n([H])c2c1)[C@H](C)c1nnc...     3.430678  True   \n",
      "1624        Cc1cc(N2CC[C@H](C)N(Cc3ccccc3)CC2)n2ncnc2n1     3.439667  True   \n",
      "1700              CN(Cc1nnc2ccccn12)C(=O)c1ccnc2ccccc12     3.442119  True   \n",
      "2028     [H]N(C(=O)c1ccc2oc(C)nc2c1)N([H])c1nc2ccncc2s1     3.453259  True   \n",
      "2083      [H]N(Cc1nnc2c(=O)n(C)ccn12)C(=O)c1ccc2ncsc2c1     3.454874  True   \n",
      "2440         [H]N(Cc1cnc2onc(C)c2c1)c1ccc(-c2nnnn2C)cc1     3.465878  True   \n",
      "2584        [H]N(Cc1c(C)nc2sc(C)nn12)c1ccc(Cn2cncn2)cc1     3.470030  True   \n",
      "2802  [H]Oc1cc(C)nc2ccc(N([H])C(=O)c3cnn4ccc(C)nc34)...     3.475651  True   \n",
      "2882    [H]N(C(=O)c1ccn2cc(C)nc2c1)c1nc(-c2cnn(C)c2)cs1     3.477879  True   \n",
      "3133  [H]N(c1cccc(-c2nncn2C)c1)S(=O)(=O)c1c(Cl)nc2sc...     3.484438  True   \n",
      "3166        [H]N(C(=O)c1cnc2scc(C)n2c1=O)c1cccc2ncccc12     3.485398  True   \n",
      "3175   [H]N(C(=O)c1cc(C)n(-c2ccc(F)cc2)n1)c1cnc2nccn2c1     3.485550  True   \n",
      "3353           [H]N(C(=O)c1cn2c(Br)cnc2s1)c1cnc2nccn2c1     3.489852  True   \n",
      "3737       [H]N(C(=O)c1cccnc1-n1cccn1)c1nc2cc(F)ccc2n1C     3.497673  True   \n",
      "4894               Cc1nc2sccn2c1CN(C)C(=O)c1cn2ccccc2n1     3.521082  True   \n",
      "5158          [H]N(CCc1cn2ccsc2n1)Cc1ccc(OC)c(OC(F)F)c1     3.525996  True   \n",
      "5279   [H]N(/N=c1\\ccn([H])c2ccccc12)C(=O)c1ccc2ncccc2c1     3.527763  True   \n",
      "5382  [H]N(c1ccc2ncccc2c1)S(=O)(=O)c1ccc2c(c1)oc(=O)n2C     3.529414  True   \n",
      "5708   [H]N(C(=O)c1ccc(C)nc1)c1c(-c2cnn(C)c2)nc2ccccn12     3.535465  True   \n",
      "5732          [H]N(C(=O)c1csc(-c2ccccc2)n1)c1nn2cnnc2s1     3.535805  True   \n",
      "5752  [H]N(c1ncnc2cccc(C)c12)[C@H](C)c1ccc2c(c1)n([H...     3.536100  True   \n",
      "5868    [H]N(Cc1nnc2n(C)c(=O)c3ccccc3n12)c1ccc(C)c(C)c1     3.538115  True   \n",
      "5891  [H]Oc1cc(N([H])N([H])C(=O)c2ccc3c(ccn3[H])c2)c...     3.538520  True   \n",
      "6077  [H]N(C[C@@H](C)N([H])c1nc2ccccc2o1)C(=O)c1cnc2...     3.541659  True   \n",
      "6664   [H]N(C(=O)c1cnc2sccn2c1=O)[C@H](C)c1nc2ccccc2n1C     3.550906  True   \n",
      "6858  [H]N(C(=O)c1cccc2c1oc(=O)n2[H])c1cccc2ccn([H])c12     3.553795  True   \n",
      "7017  [H]N(C(=O)c1cn([H])c2cc([N+](=O)[O-])ccc12)c1c...     3.556028  True   \n",
      "7200          [H]N(Cc1nnc(C)o1)c1ccc2nnc(-c3ccccc3)n2n1     3.558437  True   \n",
      "7770   [H]N(C(=O)c1ccc2ccncc2c1)c1ccc2c(=O)ccn([H])c2c1     3.566229  True   \n",
      "7832  [H]N(C(=O)Cc1cn([H])c2cc(Cl)ccc12)c1cccc2c1n([...     3.567110  True   \n",
      "8012          [H]N(C(=O)Cc1csc2nccn12)c1nc2ccc(F)cc2n1C     3.569429  True   \n",
      "8095            CN(Cc1nc2ccccc2s1)C(=O)c1ccc2c(c1)nnn2C     3.570472  True   \n",
      "8360  [H]N(C(=O)c1ccnc2c1nnn2[H])N([H])c1cc(Cl)nc2c1...     3.573444  True   \n",
      "9026           [H]N(Cc1nc2ccccc2n1CC)c1nnc(-c2nccn2C)o1     3.581518  True   \n",
      "\n",
      "                                                    dir   ind  \\\n",
      "4     /rds-d2/user/wjm41/hpc-work/datasets/ZINC/real...     0   \n",
      "20    /rds-d2/user/wjm41/hpc-work/datasets/ZINC/real...     3   \n",
      "208   /rds-d2/user/wjm41/hpc-work/datasets/ZINC/real...     8   \n",
      "289   /rds-d2/user/wjm41/hpc-work/datasets/ZINC/real...    11   \n",
      "342   /rds-d2/user/wjm41/hpc-work/datasets/ZINC/real...     2   \n",
      "654   /rds-d2/user/wjm41/hpc-work/datasets/ZINC/real...   121   \n",
      "773   /rds-d2/user/wjm41/hpc-work/datasets/ZINC/real...   146   \n",
      "967   /rds-d2/user/wjm41/hpc-work/datasets/ZINC/real...    56   \n",
      "1305  /rds-d2/user/wjm41/hpc-work/datasets/ZINC/real...     4   \n",
      "1387  /rds-d2/user/wjm41/hpc-work/datasets/ZINC/real...    95   \n",
      "1624  /rds-d2/user/wjm41/hpc-work/datasets/ZINC/real...    63   \n",
      "1700  /rds-d2/user/wjm41/hpc-work/datasets/ZINC/real...    14   \n",
      "2028  /rds-d2/user/wjm41/hpc-work/datasets/ZINC/real...   137   \n",
      "2083  /rds-d2/user/wjm41/hpc-work/datasets/ZINC/real...    37   \n",
      "2440  /rds-d2/user/wjm41/hpc-work/datasets/ZINC/real...    63   \n",
      "2584  /rds-d2/user/wjm41/hpc-work/datasets/ZINC/real...    42   \n",
      "2802  /rds-d2/user/wjm41/hpc-work/datasets/ZINC/real...   203   \n",
      "2882  /rds-d2/user/wjm41/hpc-work/datasets/ZINC/real...   599   \n",
      "3133  /rds-d2/user/wjm41/hpc-work/datasets/ZINC/real...    38   \n",
      "3166  /rds-d2/user/wjm41/hpc-work/datasets/ZINC/real...   653   \n",
      "3175  /rds-d2/user/wjm41/hpc-work/datasets/ZINC/real...   656   \n",
      "3353  /rds-d2/user/wjm41/hpc-work/datasets/ZINC/real...   140   \n",
      "3737  /rds-d2/user/wjm41/hpc-work/datasets/ZINC/real...   777   \n",
      "4894  /rds-d2/user/wjm41/hpc-work/datasets/ZINC/real...    88   \n",
      "5158  /rds-d2/user/wjm41/hpc-work/datasets/ZINC/real...     2   \n",
      "5279  /rds-d2/user/wjm41/hpc-work/datasets/ZINC/real...    71   \n",
      "5382  /rds-d2/user/wjm41/hpc-work/datasets/ZINC/real...   307   \n",
      "5708  /rds-d2/user/wjm41/hpc-work/datasets/ZINC/real...  1119   \n",
      "5732  /rds-d2/user/wjm41/hpc-work/datasets/ZINC/real...    75   \n",
      "5752  /rds-d2/user/wjm41/hpc-work/datasets/ZINC/real...    78   \n",
      "5868  /rds-d2/user/wjm41/hpc-work/datasets/ZINC/real...  1142   \n",
      "5891  /rds-d2/user/wjm41/hpc-work/datasets/ZINC/real...     9   \n",
      "6077  /rds-d2/user/wjm41/hpc-work/datasets/ZINC/real...   156   \n",
      "6664  /rds-d2/user/wjm41/hpc-work/datasets/ZINC/real...   380   \n",
      "6858  /rds-d2/user/wjm41/hpc-work/datasets/ZINC/real...    17   \n",
      "7017  /rds-d2/user/wjm41/hpc-work/datasets/ZINC/real...    46   \n",
      "7200  /rds-d2/user/wjm41/hpc-work/datasets/ZINC/real...   158   \n",
      "7770  /rds-d2/user/wjm41/hpc-work/datasets/ZINC/real...   114   \n",
      "7832  /rds-d2/user/wjm41/hpc-work/datasets/ZINC/real...    24   \n",
      "8012  /rds-d2/user/wjm41/hpc-work/datasets/ZINC/real...  1461   \n",
      "8095  /rds-d2/user/wjm41/hpc-work/datasets/ZINC/real...    88   \n",
      "8360  /rds-d2/user/wjm41/hpc-work/datasets/ZINC/real...    12   \n",
      "9026  /rds-d2/user/wjm41/hpc-work/datasets/ZINC/real...   189   \n",
      "\n",
      "                                              cansmiles  \n",
      "4               c1cc(CN2CCCC(c3nnc4ccccn34)C2)n2ccnc2c1  \n",
      "20              c1ccc2oc(C3CCCN(Cc4cnc5cnccn45)C3)nc2c1  \n",
      "208                    CC(Cc1nc2ccccc2s1)Nc1ccc2nnnn2n1  \n",
      "289               O=C(NNc1nc(Br)cn2ccnc12)c1nccn2ccnc12  \n",
      "342         Cc1ccc(Br)nc1C(=O)NC(C)c1nnc2c(=O)[nH]ccn12  \n",
      "654              Cc1cn2c(CNC(=O)c3cnn4ccccc34)c(C)nc2s1  \n",
      "773            CC(NC(=O)c1c(Cl)nc2ccccn12)c1nnc2ccccn12  \n",
      "967               N#CCc1cccc(NC(=O)c2cnn3cc(Br)cnc23)n1  \n",
      "1305       CC(NC(=O)c1nccc2cccnc12)c1ccc2[nH]c(=O)oc2c1  \n",
      "1387        CC(NC(=O)c1ccc2oc(=S)[nH]c2c1)c1nnc2ccccn12  \n",
      "1624            Cc1cc(N2CCC(C)N(Cc3ccccc3)CC2)n2ncnc2n1  \n",
      "1700              CN(Cc1nnc2ccccn12)C(=O)c1ccnc2ccccc12  \n",
      "2028               Cc1nc2cc(C(=O)NNc3nc4ccncc4s3)ccc2o1  \n",
      "2083             Cn1ccn2c(CNC(=O)c3ccc4ncsc4c3)nnc2c1=O  \n",
      "2440              Cc1noc2ncc(CNc3ccc(-c4nnnn4C)cc3)cc12  \n",
      "2584             Cc1nn2c(CNc3ccc(Cn4cncn4)cc3)c(C)nc2s1  \n",
      "2802         Cc1cc(O)c2cc(NC(=O)c3cnn4ccc(C)nc34)ccc2n1  \n",
      "2882         Cc1cn2ccc(C(=O)Nc3nc(-c4cnn(C)c4)cs3)cc2n1  \n",
      "3133      Cn1cnnc1-c1cccc(NS(=O)(=O)c2c(Cl)nc3sccn23)c1  \n",
      "3166           Cc1csc2ncc(C(=O)Nc3cccc4ncccc34)c(=O)n12  \n",
      "3175          Cc1cc(C(=O)Nc2cnc3nccn3c2)nn1-c1ccc(F)cc1  \n",
      "3353                O=C(Nc1cnc2nccn2c1)c1cn2c(Br)cnc2s1  \n",
      "3737          Cn1c(NC(=O)c2cccnc2-n2cccn2)nc2cc(F)ccc21  \n",
      "4894               Cc1nc2sccn2c1CN(C)C(=O)c1cn2ccccc2n1  \n",
      "5158                 COc1ccc(CNCCc2cn3ccsc3n2)cc1OC(F)F  \n",
      "5279            O=C(NN=c1cc[nH]c2ccccc12)c1ccc2ncccc2c1  \n",
      "5382       Cn1c(=O)oc2cc(S(=O)(=O)Nc3ccc4ncccc4c3)ccc21  \n",
      "5708        Cc1ccc(C(=O)Nc2c(-c3cnn(C)c3)nc3ccccn23)cn1  \n",
      "5732               O=C(Nc1nn2cnnc2s1)c1csc(-c2ccccc2)n1  \n",
      "5752      Cc1cccc2ncnc(NC(C)c3ccc4[nH]c(=O)[nH]c4c3)c12  \n",
      "5868           Cc1ccc(NCc2nnc3n(C)c(=O)c4ccccc4n23)cc1C  \n",
      "5891           O=C(NNc1cc(O)nc2ncccc12)c1ccc2[nH]ccc2c1  \n",
      "6077             CC(CNC(=O)c1cnc2ccccn12)Nc1nc2ccccc2o1  \n",
      "6664            CC(NC(=O)c1cnc2sccn2c1=O)c1nc2ccccc2n1C  \n",
      "6858         O=C(Nc1cccc2cc[nH]c12)c1cccc2[nH]c(=O)oc12  \n",
      "7017  O=C(Nc1cccc2nccnc12)c1c[nH]c2cc([N+](=O)[O-])c...  \n",
      "7200               Cc1nnc(CNc2ccc3nnc(-c4ccccc4)n3n2)o1  \n",
      "7770          O=C(Nc1ccc2c(=O)cc[nH]c2c1)c1ccc2ccncc2c1  \n",
      "7832  O=C(Cc1c[nH]c2cc(Cl)ccc12)Nc1cccc2[nH]c(=O)[nH...  \n",
      "8012             Cn1c(NC(=O)Cc2csc3nccn23)nc2ccc(F)cc21  \n",
      "8095            CN(Cc1nc2ccccc2s1)C(=O)c1ccc2c(c1)nnn2C  \n",
      "8360     Cc1nn(C)c2nc(Cl)cc(NNC(=O)c3ccnc4[nH]nnc34)c12  \n",
      "9026              CCn1c(CNc2nnc(-c3nccn3C)o2)nc2ccccc21  \n"
     ]
    }
   ],
   "source": [
    "print(df_sub)"
   ]
  },
  {
   "cell_type": "code",
   "execution_count": 77,
   "metadata": {},
   "outputs": [
    {
     "name": "stdout",
     "output_type": "stream",
     "text": [
      "[3.22579553 3.26885611 3.351559   3.36018717 3.36710715 3.39419085\n",
      " 3.40139986 3.41134259 3.42690422 3.43067785 3.43966727 3.44211874\n",
      " 3.45325936 3.45487361 3.46587811 3.47003007 3.47565098 3.47787864\n",
      " 3.48443844 3.48539813 3.48554964 3.48985194 3.49767278 3.52108231\n",
      " 3.52599572 3.5277632  3.52941368 3.53546482 3.53580454 3.53610001\n",
      " 3.53811517 3.53851955 3.54165885 3.5509058  3.55379508 3.55602753\n",
      " 3.55843666 3.56622945 3.56710982 3.56942887 3.5704722  3.57344358\n",
      " 3.5815179 ]\n",
      "[3.42127602 3.26885611 3.351559   3.36018717 3.80062535 3.46656249\n",
      " 3.40139986 3.89392556 3.42690422 3.39124837 3.43966727 3.44211874\n",
      " 3.49418639 3.34164726 3.46587811 3.47003007 3.47565098 3.61234328\n",
      " 3.48443844 3.43546403 3.74480478 3.46660656 3.63701226 3.52108231\n",
      " 3.52599572 3.50633473 3.52941368 3.55271301 3.53580454 3.53610001\n",
      " 3.53811517 3.53851955 3.7502562  3.5509058  3.55379508 3.55602753\n",
      " 3.55843666 3.5795767  3.56710982 3.41308749 3.5704722  3.57344358\n",
      " 3.5815179 ]\n"
     ]
    }
   ],
   "source": [
    "print(df_sub['2body_score'].values)\n",
    "print(actual_scores_sub)"
   ]
  },
  {
   "cell_type": "code",
   "execution_count": 89,
   "metadata": {
    "scrolled": false
   },
   "outputs": [
    {
     "name": "stderr",
     "output_type": "stream",
     "text": [
      "  9%|▉         | 4/43 [00:00<00:08,  4.67it/s]"
     ]
    },
    {
     "name": "stdout",
     "output_type": "stream",
     "text": [
      "/rds-d2/user/wjm41/hpc-work/datasets/ZINC/real/EFDABC\n",
      "c1cc(CN2CCC[C@@H](c3nnc4ccccn34)C2)n2ccnc2c1\n",
      "3.4212760229704493\n",
      "3.2257955340244577\n"
     ]
    },
    {
     "name": "stderr",
     "output_type": "stream",
     "text": [
      "\r",
      " 12%|█▏        | 5/43 [00:00<00:08,  4.33it/s]"
     ]
    },
    {
     "name": "stdout",
     "output_type": "stream",
     "text": [
      "/rds-d2/user/wjm41/hpc-work/datasets/ZINC/real/GDDCBF\n",
      "[H]N(C(=O)c1nc(Br)ccc1C)[C@H](C)c1nnc2c(=O)n([H])ccn12\n",
      "3.800625349661178\n",
      "3.36710715396285\n"
     ]
    },
    {
     "name": "stderr",
     "output_type": "stream",
     "text": [
      " 16%|█▋        | 7/43 [00:01<00:07,  4.91it/s]"
     ]
    },
    {
     "name": "stdout",
     "output_type": "stream",
     "text": [
      "/rds-d2/user/wjm41/hpc-work/datasets/ZINC/real/EFDBBD\n",
      "[H]N(Cc1c(C)nc2sc(C)cn12)C(=O)c1cnn2ccccc12\n",
      "3.4665624894491027\n",
      "3.3941908494877686\n"
     ]
    },
    {
     "name": "stderr",
     "output_type": "stream",
     "text": [
      " 23%|██▎       | 10/43 [00:01<00:05,  5.69it/s]"
     ]
    },
    {
     "name": "stdout",
     "output_type": "stream",
     "text": [
      "/rds-d2/user/wjm41/hpc-work/datasets/ZINC/real/FEDBBE\n",
      "[H]N(C(=O)c1cnn2cc(Br)cnc12)c1cccc(CC#N)n1\n",
      "3.8939255597936167\n",
      "3.4113425907093213\n",
      "/rds-d2/user/wjm41/hpc-work/datasets/ZINC/real/EFDCBE\n",
      "[H]N(C(=O)c1ccc2oc(=S)n([H])c2c1)[C@H](C)c1nnc2ccccn12\n",
      "3.391248366699051\n",
      "3.430677850427488\n"
     ]
    },
    {
     "name": "stderr",
     "output_type": "stream",
     "text": [
      " 35%|███▍      | 15/43 [00:01<00:03,  8.69it/s]"
     ]
    },
    {
     "name": "stdout",
     "output_type": "stream",
     "text": [
      "/rds-d2/user/wjm41/hpc-work/datasets/ZINC/real/EFDCBE\n",
      "[H]N(C(=O)c1ccc2oc(C)nc2c1)N([H])c1nc2ccncc2s1\n",
      "3.494186387690617\n",
      "3.4532593576981943\n",
      "/rds-d2/user/wjm41/hpc-work/datasets/ZINC/real/ECEBBE\n",
      "[H]N(Cc1nnc2c(=O)n(C)ccn12)C(=O)c1ccc2ncsc2c1\n",
      "3.341647257663889\n",
      "3.4548736119790626\n"
     ]
    },
    {
     "name": "stderr",
     "output_type": "stream",
     "text": [
      "\r",
      " 42%|████▏     | 18/43 [00:01<00:02, 10.00it/s]"
     ]
    },
    {
     "name": "stdout",
     "output_type": "stream",
     "text": [
      "/rds-d2/user/wjm41/hpc-work/datasets/ZINC/real/EFDBBD\n",
      "[H]N(C(=O)c1ccn2cc(C)nc2c1)c1nc(-c2cnn(C)c2)cs1\n",
      "3.6123432806717988\n",
      "3.4778786395546066\n"
     ]
    },
    {
     "name": "stderr",
     "output_type": "stream",
     "text": [
      "\r",
      " 47%|████▋     | 20/43 [00:02<00:02,  9.27it/s]"
     ]
    },
    {
     "name": "stdout",
     "output_type": "stream",
     "text": [
      "/rds-d2/user/wjm41/hpc-work/datasets/ZINC/real/EFDBBD\n",
      "[H]N(C(=O)c1cnc2scc(C)n2c1=O)c1cccc2ncccc12\n",
      "3.435464026906599\n",
      "3.4853981255598363\n",
      "/rds-d2/user/wjm41/hpc-work/datasets/ZINC/real/EFDBBD\n",
      "[H]N(C(=O)c1cc(C)n(-c2ccc(F)cc2)n1)c1cnc2nccn2c1\n",
      "3.744804782898138\n",
      "3.4855496350973407\n"
     ]
    },
    {
     "name": "stderr",
     "output_type": "stream",
     "text": [
      "\r",
      " 51%|█████     | 22/43 [00:02<00:03,  6.79it/s]"
     ]
    },
    {
     "name": "stdout",
     "output_type": "stream",
     "text": [
      "/rds-d2/user/wjm41/hpc-work/datasets/ZINC/real/FEDBBD\n",
      "[H]N(C(=O)c1cn2c(Br)cnc2s1)c1cnc2nccn2c1\n",
      "3.4666065598258435\n",
      "3.4898519400133683\n",
      "/rds-d2/user/wjm41/hpc-work/datasets/ZINC/real/EFDBBD\n",
      "[H]N(C(=O)c1cccnc1-n1cccn1)c1nc2cc(F)ccc2n1C\n",
      "3.6370122566355567\n",
      "3.4976727790504456\n"
     ]
    },
    {
     "name": "stderr",
     "output_type": "stream",
     "text": [
      " 60%|██████    | 26/43 [00:03<00:01,  8.58it/s]"
     ]
    },
    {
     "name": "stdout",
     "output_type": "stream",
     "text": [
      "/rds-d2/user/wjm41/hpc-work/datasets/ZINC/real/DHCCBD\n",
      "[H]N(/N=c1\\ccn([H])c2ccccc12)C(=O)c1ccc2ncccc2c1\n",
      "3.50633473213418\n",
      "3.527763195112464\n"
     ]
    },
    {
     "name": "stderr",
     "output_type": "stream",
     "text": [
      " 72%|███████▏  | 31/43 [00:03<00:01,  8.89it/s]"
     ]
    },
    {
     "name": "stdout",
     "output_type": "stream",
     "text": [
      "/rds-d2/user/wjm41/hpc-work/datasets/ZINC/real/EFDBBD\n",
      "[H]N(C(=O)c1ccc(C)nc1)c1c(-c2cnn(C)c2)nc2ccccn12\n",
      "3.552713006426712\n",
      "3.5354648215949367\n",
      "/rds-d2/user/wjm41/hpc-work/datasets/ZINC/real/EFDBBD\n",
      "[H]N(Cc1nnc2n(C)c(=O)c3ccccc3n12)c1ccc(C)c(C)c1\n",
      "3.5381151671360316\n",
      "3.538115167136032\n"
     ]
    },
    {
     "name": "stderr",
     "output_type": "stream",
     "text": [
      "\r",
      " 77%|███████▋  | 33/43 [00:03<00:01,  9.89it/s]"
     ]
    },
    {
     "name": "stdout",
     "output_type": "stream",
     "text": [
      "/rds-d2/user/wjm41/hpc-work/datasets/ZINC/real/EFDCCE\n",
      "[H]N(C[C@@H](C)N([H])c1nc2ccccc2o1)C(=O)c1cnc2ccccn12\n",
      "3.750256197771512\n",
      "3.5416588492025816\n"
     ]
    },
    {
     "name": "stderr",
     "output_type": "stream",
     "text": [
      " 93%|█████████▎| 40/43 [00:04<00:00, 11.51it/s]"
     ]
    },
    {
     "name": "stdout",
     "output_type": "stream",
     "text": [
      "/rds-d2/user/wjm41/hpc-work/datasets/ZINC/real/DHCCBD\n",
      "[H]N(C(=O)c1ccc2ccncc2c1)c1ccc2c(=O)ccn([H])c2c1\n",
      "3.579576698222961\n",
      "3.5662294452869556\n",
      "/rds-d2/user/wjm41/hpc-work/datasets/ZINC/real/EFDBBD\n",
      "[H]N(C(=O)Cc1csc2nccn12)c1nc2ccc(F)cc2n1C\n",
      "3.4130874931691806\n",
      "3.569428873594404\n"
     ]
    },
    {
     "name": "stderr",
     "output_type": "stream",
     "text": [
      "100%|██████████| 43/43 [00:04<00:00,  9.72it/s]\n",
      "WARNING:matplotlib.legend:No handles with labels found to put in legend.\n"
     ]
    },
    {
     "name": "stdout",
     "output_type": "stream",
     "text": [
      "/rds-d2/user/wjm41/hpc-work/datasets/ZINC/real/DEEBCE\n",
      "[H]N(Cc1nc2ccccc2n1CC)c1nnc(-c2nccn2C)o1\n",
      "3.581517901795713\n",
      "3.5815179017957126\n",
      "19\n"
     ]
    },
    {
     "data": {
      "image/png": "[encoded data removed]",
      "text/plain": [
       "<Figure size 432x288 with 1 Axes>"
      ]
     },
     "metadata": {
      "needs_background": "light"
     },
     "output_type": "display_data"
    }
   ],
   "source": [
    "import matplotlib.pyplot as plt\n",
    "import matplotlib as mpl\n",
    "mpl.rcParams['figure.dpi'] = 100\n",
    "%matplotlib inline\n",
    "\n",
    "# actual_scores = []\n",
    "# # for i,row in tqdm(df2[df2['dir'].str.contains('rds-d2')].iterrows(), total=len(df2[df2['dir'].str.contains('rds-d2')])):\n",
    "# for i,row in tqdm(df2.iterrows(), total=len(df2)):\n",
    "#     smi = row['smiles']\n",
    "#     path = row['dir']\n",
    "#     df = pd.read_csv(path+'/scores_acc.csv')\n",
    "#     actual_score = df[df['smiles']==smi]['2body_score'].values[0]\n",
    "#     actual_scores.append(actual_score)\n",
    "\n",
    "# actual_scores = np.array(actual_scores)\n",
    "# # print(actual_scores)\n",
    "# _, bins, _ = plt.hist(actual_scores[actual_scores<10], bins=30, alpha=0.7, histtype='stepfilled', \n",
    "#          label='Including Don-Acc')\n",
    "# plt.hist(df2['2body_score'].values, bins=bins, alpha=0.7, histtype='stepfilled', \n",
    "#           label='Submitted Scores')\n",
    "         \n",
    "    \n",
    "# actual_scores_sub = []\n",
    "n_wrong = 0\n",
    "for i,row in tqdm(df_sub.iterrows(), total=len(df_sub)):\n",
    "    smi = row['smiles']\n",
    "    path = row['dir']\n",
    "    ind = row['ind']\n",
    "    df = pd.read_csv(path+'/scores_acc.csv')\n",
    "    actual_score = df[df['smiles']==smi]['2body_score'].values[0]\n",
    "    if actual_score != row['2body_score']:\n",
    "        print(path)\n",
    "        print(smi)\n",
    "        print(actual_score)\n",
    "        print(row['2body_score'])\n",
    "        n_wrong+=1\n",
    "print(n_wrong)\n",
    "#     actual_scores_sub.append(actual_score)\n",
    "    \n",
    "# actual_scores_sub = np.array(actual_scores_sub)\n",
    "# _, bins, _ = plt.hist(actual_scores_sub, bins=10, alpha=0.7, histtype='stepfilled', \n",
    "#          label='Including Don-Acc')\n",
    "# print(bins)\n",
    "# print(actual_scores_sub)\n",
    "# plt.hist(df_sub['2body_score'].values, bins=bins, alpha=0.7, histtype='stepfilled', \n",
    "#           label='Submitted Scores')    \n",
    "    \n",
    "# plt.hist([x, y], density=True, bins=bins) # alternating\n",
    "\n",
    "plt.title('top-N Molecules')\n",
    "# plt.title('Submitted Molecules')\n",
    "\n",
    "plt.xlabel('2body_score')\n",
    "plt.ylabel('Frequency')\n",
    "plt.legend(loc='upper right')\n",
    "# plt.xlim(right=10)\n",
    "plt.show()\n",
    "# print(len(df_sub['2body_score'].values))\n",
    "# print(len(actual_scores_sub[actual_scores_sub<10]))"
   ]
  },
  {
   "cell_type": "code",
   "execution_count": 34,
   "metadata": {
    "scrolled": true
   },
   "outputs": [
    {
     "name": "stdout",
     "output_type": "stream",
     "text": [
      "\n",
      "Cc1[nH]c2ccccc2c1C(=O)NNc1nc2cccnc2s1\n",
      "O=C(NNc1nc2cccnc2s1)c1coc(=O)c2ccccc12\n",
      "COc1ccc2[nH]c(C)c(C(=O)NNc3nc4cccnc4s3)c2c1\n",
      "Cc1[nH]c2ccccc2c1C(=O)NNc1nc2c(s1)=CNCC=2\n",
      "Cc1c(C(=O)NNc2nc3cccnc3s2)c2ccccc2[nH]c1=O\n",
      "Cn1nc(C(=O)NNc2nc3cccnc3s2)c2ccccc2c1=O\n",
      "\n",
      "O=C(NNc1nc2ccccc2[nH]1)c1cc(O)nc2ccccc12\n",
      "O=C(NNc1nc2ccccc2[nH]1)c1cc(F)cc2ccncc12\n",
      "O=C(NN=c1[nH]c2ccccc2[nH]1)c1cc(O)nc2ccccc12\n",
      "O=C(NNc1nc2ccccc2[nH]1)c1ccc(F)c2occc12\n"
     ]
    }
   ],
   "source": [
    "from rdkit import DataStructs\n",
    "from rdkit.Chem import AllChem\n",
    "\n",
    "missing_mols = ['Cc1[nH]c2ccccc2c1C(=O)NNc1nc2cccnc2s1', 'O=C(NNc1nc2ccccc2[nH]1)c1cc(O)nc2ccccc12']\n",
    "\n",
    "fp_missing = [AllChem.GetMorganFingerprintAsBitVect(MolFromSmiles(smi), radius=3, nBits=1024) for smi in missing_mols]\n",
    "fps = [AllChem.GetMorganFingerprintAsBitVect(MolFromSmiles(smi), radius=3, nBits=1024) for smi in df2['cansmiles']]\n",
    "\n",
    "threshold = 0.5\n",
    "\n",
    "for i in range(len(fp_missing)):\n",
    "    print('\\n{}'.format(missing_mols[i]))\n",
    "    for j in range(len(fps)):\n",
    "        sim = DataStructs.FingerprintSimilarity(fp_missing[i], fps[j])\n",
    "        if sim>threshold:\n",
    "            print(df2.iloc[j]['cansmiles'])"
   ]
  },
  {
   "cell_type": "code",
   "execution_count": null,
   "metadata": {},
   "outputs": [],
   "source": [
    "import pickle \n",
    "\n",
    "dirs_to_dl = df1['dir'].value_counts()\n",
    "rescore_dirs = []\n",
    "for path in tqdm(dirs_to_dl.index):\n",
    "        pairs = [file for file in os.listdir(path) if \"pairs_mpi_\" in file]\n",
    "        if len(pairs)!=0:\n",
    "            print(len(pairs))\n",
    "        smi_len = len(open(path+'/mols.smi','r').read().splitlines())\n",
    "        pickle_len = len(pickle.load(open(path+'/pairs.pickle','rb')))\n",
    "        \n",
    "        if smi_len != pickle_len:\n",
    "#             print(path)\n",
    "#             print(smi_len, pickle_len)\n",
    "            rescore_dirs.append(path)\n",
    "            \n",
    "print('Num bad dirs: {}'.format(len(rescore_dirs)))\n",
    "\n",
    "print(len(df1))\n",
    "print(len(df1[df1['dir'].str.contains('rds-d2')]))\n",
    "print(len(df1[df1['dir'].str.contains('rds-d7')]))\n",
    "\n",
    "# good_dirs = \n",
    "# score_dirs = df_tot.groupby('dir')\n",
    "\n",
    "print(len(df1[~df1['dir'].isin(rescore_dirs)]))"
   ]
  },
  {
   "cell_type": "code",
   "execution_count": null,
   "metadata": {},
   "outputs": [],
   "source": [
    "dirs_to_dl = df2['dir'].value_counts()\n",
    "rescore_dirs = []\n",
    "for path in tqdm(dirs_to_dl.index):\n",
    "        pairs = [file for file in os.listdir(path) if \"pairs_mpi_\" in file]\n",
    "        if len(pairs)!=0:\n",
    "            print(len(pairs))\n",
    "        smi_len = len(open(path+'/mols.smi','r').read().splitlines())\n",
    "        pickle_len = len(pickle.load(open(path+'/pairs.pickle','rb')))\n",
    "        \n",
    "        if smi_len != pickle_len:\n",
    "#             print(path)\n",
    "#             print(smi_len, pickle_len)\n",
    "            rescore_dirs.append(path)\n",
    "            \n",
    "print('Num bad dirs: {}'.format(len(rescore_dirs)))\n",
    "\n",
    "print(len(df2))\n",
    "print(len(df2[df2['dir'].str.contains('rds-d2')]))\n",
    "print(len(df2[df2['dir'].str.contains('rds-d7')]))\n",
    "\n",
    "# good_dirs = \n",
    "# score_dirs = df_tot.groupby('dir')\n",
    "\n",
    "print(len(df2[~df2['dir'].isin(rescore_dirs)]))"
   ]
  },
  {
   "cell_type": "code",
   "execution_count": 12,
   "metadata": {
    "scrolled": true
   },
   "outputs": [
    {
     "name": "stdout",
     "output_type": "stream",
     "text": [
      "796\n",
      "796\n"
     ]
    }
   ],
   "source": [
    "dirs_to_dl = df_tot['dir'].value_counts()\n",
    "print(len(dirs_to_dl))\n",
    "\n",
    "\n",
    "tranches = open(dir+'/all_tranches.txt','r').read().splitlines()\n",
    "tranches_to_dl = []\n",
    "for path in dirs_to_dl.index:\n",
    "    fold = path[-6:]\n",
    "    for tranch in tranches:\n",
    "        if fold in tranch:\n",
    "            tranches_to_dl.append(tranch)\n",
    "            \n",
    "print(len(tranches_to_dl))"
   ]
  },
  {
   "cell_type": "code",
   "execution_count": null,
   "metadata": {},
   "outputs": [],
   "source": [
    "with pd.option_context('display.max_rows', None, 'display.max_columns', None):  # more options can be specified also\n",
    "    print(dirs_to_dl)"
   ]
  },
  {
   "cell_type": "code",
   "execution_count": 26,
   "metadata": {},
   "outputs": [],
   "source": [
    "tranches = open(dir+'/all_tranches.txt','r').read().splitlines()\n",
    "tranches_to_dl = []\n",
    "for path in rescore_dirs:\n",
    "    fold = path[-6:]\n",
    "    for tranch in tranches:\n",
    "        if fold in tranch:\n",
    "            tranches_to_dl.append(fold)\n",
    "\n",
    "f = open('/rds-d7/project/rds-ZNFRY9wKoeE/val_dir/rescore_folds.txt', 'w')\n",
    "for line in tranches_to_dl:\n",
    "    f.write(line+'\\n')\n",
    "f.close()"
   ]
  },
  {
   "cell_type": "code",
   "execution_count": null,
   "metadata": {},
   "outputs": [],
   "source": [
    "# import mols2grid\n",
    "# \n",
    "# df1 = df1.rename(columns={'smiles':'SMILES'})\n",
    "# df2 = df2.rename(columns={'smiles':'SMILES'})\n",
    "\n",
    "# mols2grid.display(df1, template=\"pages\", n_rows=10, n_cols=5, subset=[\"img\"], tooltip=['SMILES'])\n",
    "mols2grid.display(df2, template=\"pages\", n_rows=10, n_cols=5, subset=[\"img\"], tooltip=['SMILES', '2body_score'])"
   ]
  },
  {
   "cell_type": "code",
   "execution_count": null,
   "metadata": {},
   "outputs": [],
   "source": [
    "import mols2grid\n",
    "\n",
    "# print(df_tot)\n",
    "# df_tot = pd.concat([df_all, df_all_2]).sort_values(by='2body_score')\n",
    "# df_tot = df_tot.iloc[:min(N, len(df_all_2))]\n",
    "# df_tot = df_tot.rename(columns={'smiles':'SMILES'})\n",
    "# df_all = df_all.rename(columns={'smiles':'SMILES'})\n",
    "# df_all_2 = df_all_2.rename(columns={'smiles':'SMILES'})\n",
    "# mols2grid.display(df_all, nrows=6, subset=[\"img\"], tooltip=['SMILES'])\n",
    "# mols2grid.display(df_all, template=\"table\", n_cols=5, subset=[\"img\"], tooltip=['SMILES'])\n",
    "# mols2grid.display(df_all, template=\"pages\", n_rows=10, n_cols=5, subset=[\"img\"], tooltip=['SMILES'])\n",
    "# mols2grid.display(df_all_2, template=\"pages\", n_rows=10, n_cols=5, subset=[\"img\"], tooltip=['SMILES'])\n",
    "mols2grid.display(df_all.rename(columns={'smiles':'SMILES'}), template=\"pages\", n_rows=10, n_cols=5, subset=[\"img\"], tooltip=['SMILES'])\n",
    "# page = mols2grid.to_pages(df_all, tooltip=['SMILES'], nrows=6)"
   ]
  },
  {
   "cell_type": "code",
   "execution_count": null,
   "metadata": {},
   "outputs": [],
   "source": [
    "mols2grid.save(df_tot, template=\"pages\", n_rows=10, n_cols=5, subset=[\"img\"], tooltip=['SMILES'], \n",
    "               output=dir2+'topN_grid_acc.html')"
   ]
  },
  {
   "cell_type": "markdown",
   "metadata": {},
   "source": [
    "# Validate previous top-N"
   ]
  },
  {
   "cell_type": "code",
   "execution_count": 1,
   "metadata": {},
   "outputs": [
    {
     "name": "stdout",
     "output_type": "stream",
     "text": [
      "                                                 smiles  2body_score\n",
      "0               Clc1csc(CN2CCC[C@H](c3nnc4ccccn34)C2)n1    -3.180210\n",
      "1       [H]N(CCc1cn2ccccc2n1)[C@@H](C)c1cnc2cc(C)nn2c1C    -3.197042\n",
      "2           c1ccn2c([C@H]3CCCN(Cc4ccc5nonc5c4)C3)nnc2c1    -3.219149\n",
      "3                [H]N(CCc1cn2ccsc2n1)Cc1cnc2ccc(Cl)cn12    -3.219950\n",
      "4          c1cc(CN2CCC[C@@H](c3nnc4ccccn34)C2)n2ccnc2c1    -3.225796\n",
      "...                                                 ...          ...\n",
      "9995  [H]N(c1ccnc2cc(F)cnc12)[C@H](C)c1ccc2c(c1)n([H...    -3.591474\n",
      "9996  [H]N(C(=O)C(=O)N([H])c1cccc(Br)n1)c1ccc2c(c1)o...    -3.591480\n",
      "9997   [H]N(C(=O)[C@@H]1CCc2cnc(C)n2C1)c1nc2ccc(C)nc2s1    -3.591488\n",
      "9998  [H]O[C@H](C(=O)N([H])c1nccc2ccn([H])c12)[C@H](...    -3.591488\n",
      "9999  [H]N(C(=O)c1cnn2cc(Br)cnc12)c1nc(=O)c2ccccc2n1[H]    -3.591497\n",
      "\n",
      "[10000 rows x 2 columns]\n"
     ]
    }
   ],
   "source": [
    "import pandas as pd\n",
    "\n",
    "df = pd.read_csv('~/topN_final_acc.csv')\n",
    "print(df)"
   ]
  }
 ],
 "metadata": {
  "kernelspec": {
   "display_name": "Python 3",
   "language": "python",
   "name": "python3"
  },
  "language_info": {
   "codemirror_mode": {
    "name": "ipython",
    "version": 3
   },
   "file_extension": ".py",
   "mimetype": "text/x-python",
   "name": "python",
   "nbconvert_exporter": "python",
   "pygments_lexer": "ipython3",
   "version": "3.6.10"
  }
 },
 "nbformat": 4,
 "nbformat_minor": 4
}
