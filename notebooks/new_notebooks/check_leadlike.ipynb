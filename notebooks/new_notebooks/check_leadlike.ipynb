{
 "cells": [
  {
   "cell_type": "markdown",
   "metadata": {},
   "source": [
    "This notebook is for checking that the molecules chosen for assaying possess \"lead-like\" physchem properties"
   ]
  },
  {
   "cell_type": "code",
   "execution_count": 4,
   "metadata": {},
   "outputs": [],
   "source": [
    "import pandas as pd\n",
    "\n",
    "import os\n",
    "import sys\n",
    "\n",
    "from tqdm import tqdm\n",
    "\n",
    "from rdkit import Chem\n",
    "\n",
    "from fresco.frag_funcs import check_mol_lead_like\n",
    "\n",
    "from rdkit import RDLogger\n",
    "RDLogger.DisableLog('rdApp.*')\n",
    "\n"
   ]
  },
  {
   "cell_type": "code",
   "execution_count": 5,
   "metadata": {},
   "outputs": [],
   "source": [
    "def check_df_lead_like(df, mol_col='mol', condition_col='lead-like'):\n",
    "    df[condition_col] = df[mol_col].apply(check_mol_lead_like)\n",
    "    return\n",
    "    print(df[condition_col].value_counts())\n"
   ]
  },
  {
   "cell_type": "markdown",
   "metadata": {},
   "source": [
    "Mpro"
   ]
  },
  {
   "cell_type": "code",
   "execution_count": 6,
   "metadata": {},
   "outputs": [
    {
     "name": "stdout",
     "output_type": "stream",
     "text": [
      "True    60\n",
      "Name: lead-like, dtype: int64\n"
     ]
    }
   ],
   "source": [
    "df_mpro = pd.read_csv(\n",
    "    '/home/wjm41/ml_physics/frag-pcore-screen/data/EnamineREAL/topN/mpro_taut_picks_constrained.csv')\n",
    "\n",
    "df_mpro['mol'] = [Chem.MolFromSmiles(smiles) for smiles in df_mpro['smiles']]\n",
    "check_df_lead_like(df_mpro)\n",
    "print(df_mpro['lead-like'].value_counts())\n"
   ]
  },
  {
   "cell_type": "markdown",
   "metadata": {},
   "source": [
    "Mac-1"
   ]
  },
  {
   "cell_type": "code",
   "execution_count": 7,
   "metadata": {},
   "outputs": [
    {
     "name": "stdout",
     "output_type": "stream",
     "text": [
      "True    60\n",
      "Name: lead-like, dtype: int64\n"
     ]
    }
   ],
   "source": [
    "df_mac1 = pd.read_csv(\n",
    "    '/home/wjm41/ml_physics/frag-pcore-screen/data/EnamineREAL/topN/mac1_taut_picks_constrained.csv')\n",
    "\n",
    "df_mac1['mol'] = [Chem.MolFromSmiles(smiles) for smiles in df_mac1['smiles']]\n",
    "check_df_lead_like(df_mac1)\n",
    "print(df_mac1['lead-like'].value_counts())\n"
   ]
  },
  {
   "cell_type": "markdown",
   "metadata": {},
   "source": [
    "Confirmed all chosen molecules are lead-like"
   ]
  }
 ],
 "metadata": {
  "interpreter": {
   "hash": "7367a18b348ca6007dd30e14cd00de3b4d55612a2acbb3a217e58adb00f48737"
  },
  "kernelspec": {
   "display_name": "Python 3.7.10 ('fresco': conda)",
   "language": "python",
   "name": "python3"
  },
  "language_info": {
   "codemirror_mode": {
    "name": "ipython",
    "version": 3
   },
   "file_extension": ".py",
   "mimetype": "text/x-python",
   "name": "python",
   "nbconvert_exporter": "python",
   "pygments_lexer": "ipython3",
   "version": "3.7.10"
  },
  "orig_nbformat": 4
 },
 "nbformat": 4,
 "nbformat_minor": 2
}
