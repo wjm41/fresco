{
 "cells": [
  {
   "cell_type": "markdown",
   "metadata": {},
   "source": [
    "# Imports"
   ]
  },
  {
   "cell_type": "code",
   "execution_count": 1,
   "metadata": {},
   "outputs": [],
   "source": [
    "from rdkit.Chem import AllChem, Descriptors, MolFromSmiles, MolToSmiles, MolFromSmarts, FindMolChiralCenters\n",
    "from rdkit import DataStructs\n",
    "import os\n",
    "\n",
    "import numpy as np\n",
    "import pandas as pd\n",
    "from tqdm import tqdm\n",
    "from IPython.core.display import display, HTML\n",
    "\n",
    "from rdkit import RDLogger\n",
    "RDLogger.DisableLog('rdApp.*')\n",
    "\n",
    "import matplotlib.pyplot as plt"
   ]
  },
  {
   "cell_type": "markdown",
   "metadata": {},
   "source": [
    "# Main"
   ]
  },
  {
   "cell_type": "markdown",
   "metadata": {},
   "source": [
    "## Import and decipher PAINS"
   ]
  },
  {
   "cell_type": "code",
   "execution_count": 2,
   "metadata": {},
   "outputs": [
    {
     "name": "stdout",
     "output_type": "stream",
     "text": [
      "Number of PAINS filters: 481\n"
     ]
    }
   ],
   "source": [
    "df_pains = pd.read_csv('../data/PAINS.sieve', delim_whitespace=True, skiprows=10, names=['family', 'regID', 'smarts', 'a', 'b'])[['regID','smarts']]\n",
    "df_pains['regID'] = df_pains['regID'].str.replace('regId=', '')\n",
    "\n",
    "print('Number of PAINS filters: {}'.format(len(df_pains)))\n",
    "\n",
    "pains_lib = [MolFromSmarts(x) for x in df_pains['smarts']]"
   ]
  },
  {
   "cell_type": "code",
   "execution_count": 3,
   "metadata": {},
   "outputs": [],
   "source": [
    "def pains_match(smi, pains_lib=pains_lib, log=False):\n",
    "    mol = MolFromSmiles(smi)\n",
    "    matches = [bool(mol.GetSubstructMatches(pain)) for pain in pains_lib]\n",
    "    if log:\n",
    "        print(matches)\n",
    "    return np.any(matches)\n",
    "\n",
    "# print(pains_match(\n",
    "#     '[H]O[C@H]1CN(C(=O)c2cnn3ccn([H])c23)C[C@H]1N([H])C(=O)c1cc(F)cn1[H]', pains_lib=pains_lib, log=True))\n",
    "\n",
    "def chiral_match(smi, log=False):\n",
    "    mol = MolFromSmiles(smi)\n",
    "    matches = FindMolChiralCenters(mol, includeUnassigned=True, useLegacyImplementation=False)\n",
    "    # matches = FindMolChiralCenters(mol, includeUnassigned=True)\n",
    "\n",
    "    if len(matches)>1:\n",
    "        return True\n",
    "    else:\n",
    "        return False"
   ]
  },
  {
   "cell_type": "markdown",
   "metadata": {},
   "source": [
    "## Useful Functions"
   ]
  },
  {
   "cell_type": "code",
   "execution_count": 4,
   "metadata": {},
   "outputs": [
    {
     "name": "stderr",
     "output_type": "stream",
     "text": [
      "100%|██████████| 50000/50000 [02:33<00:00, 326.66it/s]\n"
     ]
    },
    {
     "name": "stdout",
     "output_type": "stream",
     "text": [
      "False    49568\n",
      "True       432\n",
      "Name: pains, dtype: int64\n"
     ]
    },
    {
     "name": "stderr",
     "output_type": "stream",
     "text": [
      "100%|██████████| 50000/50000 [00:29<00:00, 1700.77it/s]\n"
     ]
    },
    {
     "name": "stdout",
     "output_type": "stream",
     "text": [
      "False    31327\n",
      "True     18673\n",
      "Name: diastereomer, dtype: int64\n"
     ]
    }
   ],
   "source": [
    "data_dir = '/rds-d7/project/rds-ZNFRY9wKoeE/EnamineREAL/data/'\n",
    "target = 'mpro'\n",
    "\n",
    "df_topn = pd.read_csv(data_dir+'../topN/topN_new_' + target+'.csv')\n",
    "# df_tot = pd.read_csv(data_dir+'../topN/top15M_'+target+'.csv')\n",
    "\n",
    "tqdm.pandas()\n",
    "df_topn['pains'] = df_topn['smiles'].progress_apply(pains_match)\n",
    "print(df_topn['pains'].value_counts())\n",
    "\n",
    "df_topn['diastereomer'] = df_topn['smiles'].progress_apply(chiral_match)\n",
    "print(df_topn['diastereomer'].value_counts())\n",
    "\n",
    "N = 50000\n",
    "# print(df_tot.head())\n",
    "# print([(~df_tot['pains']) & (~df_tot['diastereomer'])])\n",
    "df_topn['keep'] = (~df_topn['pains']) & (~df_topn['diastereomer'])\n",
    "\n",
    "df_topn[df_topn['keep']].to_csv(data_dir+'../topN/topN_new_filtered_' + target+'.csv')\n"
   ]
  },
  {
   "cell_type": "code",
   "execution_count": 5,
   "metadata": {},
   "outputs": [
    {
     "ename": "ModuleNotFoundError",
     "evalue": "No module named 'mols2grid'",
     "output_type": "error",
     "traceback": [
      "\u001b[0;31m---------------------------------------------------------------------------\u001b[0m",
      "\u001b[0;31mModuleNotFoundError\u001b[0m                       Traceback (most recent call last)",
      "\u001b[0;32m/tmp/ipykernel_192380/2665402434.py\u001b[0m in \u001b[0;36m<module>\u001b[0;34m\u001b[0m\n\u001b[0;32m----> 1\u001b[0;31m \u001b[0;32mimport\u001b[0m \u001b[0mmols2grid\u001b[0m\u001b[0;34m\u001b[0m\u001b[0;34m\u001b[0m\u001b[0m\n\u001b[0m\u001b[1;32m      2\u001b[0m \u001b[0;34m\u001b[0m\u001b[0m\n\u001b[1;32m      3\u001b[0m \u001b[0mdisplay_n\u001b[0m \u001b[0;34m=\u001b[0m \u001b[0;36m50\u001b[0m\u001b[0;34m\u001b[0m\u001b[0;34m\u001b[0m\u001b[0m\n\u001b[1;32m      4\u001b[0m \u001b[0;34m\u001b[0m\u001b[0m\n\u001b[1;32m      5\u001b[0m mols2grid.display(df_topn[df_topn['keep']].iloc[:display_n].rename(columns={\n",
      "\u001b[0;31mModuleNotFoundError\u001b[0m: No module named 'mols2grid'"
     ]
    }
   ],
   "source": [
    "import mols2grid\n",
    "\n",
    "display_n = 50\n",
    "\n",
    "mols2grid.display(df_topn[df_topn['keep']].iloc[:display_n].rename(columns={\n",
    "                  'smiles': 'SMILES'}), template=\"pages\", n_rows=10, n_cols=5, subset=[\"img\"], tooltip=['SMILES'])\n"
   ]
  },
  {
   "cell_type": "code",
   "execution_count": null,
   "metadata": {},
   "outputs": [],
   "source": [
    "df_tot['pains'] = df_tot['smiles'].progress_apply(pains_match)\n",
    "print(df_tot['pains'].value_counts())\n",
    "\n",
    "df_tot['diastereomer'] = df_tot['smiles'].progress_apply(chiral_match)\n",
    "print(df_tot['diastereomer'].value_counts())\n",
    "\n",
    "N = 50000\n",
    "# print(df_tot.head())\n",
    "# print([(~df_tot['pains']) & (~df_tot['diastereomer'])])\n",
    "df_tot['keep'] = (~df_tot['pains']) & (~df_tot['diastereomer'])\n",
    "df_topn_new = df_tot[df_tot['keep']].nlargest(n=N, columns='new_score')\n"
   ]
  },
  {
   "cell_type": "code",
   "execution_count": 9,
   "metadata": {},
   "outputs": [],
   "source": [
    "important = ['Donor-Aromatic',\n",
    "             'Donor-Acceptor',\n",
    "             'Aromatic-Aromatic']\n",
    "unimportant = ['Donor-Donor',\n",
    "               'Aromatic-Acceptor',\n",
    "               'Acceptor-Acceptor']\n",
    "\n",
    "pairs = important+unimportant\n",
    "\n",
    "df_tot = pd.concat(df_all).drop_duplicates(subset=['smiles'], keep='first')\n",
    "\n",
    "x = df_tot[pairs].to_numpy().astype(float)\n",
    "x[np.isnan(x)] = -100\n",
    "df_tot['new_score'] = np.mean(x, axis=1)\n",
    "df_topn = df_tot.nlargest(n=N, columns='new_score')\n",
    "\n",
    "df_topn.to_csv(data_dir+'../topN/topN_new_'+target+'.csv', index=False)\n",
    "# print(len(df_tot))\n"
   ]
  },
  {
   "cell_type": "code",
   "execution_count": 38,
   "metadata": {},
   "outputs": [],
   "source": [
    "df_topn['smiles'].to_csv(data_dir+'../topN/topN_new_'+target+'.csv', index=False)\n"
   ]
  },
  {
   "cell_type": "code",
   "execution_count": 35,
   "metadata": {},
   "outputs": [],
   "source": [
    "df = pd.read_csv('../data/activity_data.csv')\n",
    "df = df[(df['acrylamide'] == False) & (df['chloroacetamide'] == False)]\n",
    "df.reset_index(inplace=True)\n",
    "\n",
    "df['mol'] = [MolFromSmiles(x) for x in df['SMILES']]\n",
    "df_topn['mol'] = [MolFromSmiles(x)\n",
    "                     for x in df_topn['smiles']]\n",
    "fprints_moonshot = [AllChem.GetMorganFingerprintAsBitVect(\n",
    "    mol, radius=3, nBits=2048) for mol in df['mol'].values]\n",
    "fprints_topn = [AllChem.GetMorganFingerprintAsBitVect(\n",
    "    mol, radius=3, nBits=2048) for mol in df_topn['mol'].values]"
   ]
  },
  {
   "cell_type": "code",
   "execution_count": null,
   "metadata": {},
   "outputs": [],
   "source": [
    "threshold = 0.8\n",
    "sim_mat = np.empty((len(fprints_moonshot), len(fprints_topn)))\n",
    "for i in tqdm(range(len(fprints_moonshot))):\n",
    "    sim_mat[i] = np.array(DataStructs.BulkTanimotoSimilarity(\n",
    "        fprints_moonshot[i], fprints_topn))\n",
    "\n",
    "    # inds = np.argwhere(scores).flatten()\n",
    "    # if inds!=[]:\n",
    "    #     print(i, inds)\n",
    "fig = plt.figure(dpi=400)\n",
    "plt.matshow(sim_mat)"
   ]
  },
  {
   "cell_type": "code",
   "execution_count": null,
   "metadata": {},
   "outputs": [],
   "source": [
    "top_n = 100\n",
    "# print()\n",
    "# print(np.amax(sim_mat))\n",
    "max_inds = np.unravel_index(np.argpartition(\n",
    "    sim_mat.flatten(), -top_n)[-top_n:], shape=((len(fprints_moonshot), len(fprints_topn))))\n",
    "\n",
    "x = max_inds[0]\n",
    "y = max_inds[1]\n",
    "for n in range(top_n):\n",
    "    print(df_topn.iloc[y[n]]['smiles'], sim_mat[x[n], y[n]])\n",
    "    display(df.iloc[x[n]][['SMILES', 'CID', 'f_avg_IC50']])\n",
    "    \n"
   ]
  },
  {
   "cell_type": "markdown",
   "metadata": {},
   "source": [
    "## Visualise results"
   ]
  }
 ],
 "metadata": {
  "interpreter": {
   "hash": "7367a18b348ca6007dd30e14cd00de3b4d55612a2acbb3a217e58adb00f48737"
  },
  "kernelspec": {
   "display_name": "Python 3.7.10 64-bit ('fresco': conda)",
   "name": "python3"
  },
  "language_info": {
   "codemirror_mode": {
    "name": "ipython",
    "version": 3
   },
   "file_extension": ".py",
   "mimetype": "text/x-python",
   "name": "python",
   "nbconvert_exporter": "python",
   "pygments_lexer": "ipython3",
   "version": "3.7.10"
  }
 },
 "nbformat": 4,
 "nbformat_minor": 4
}
