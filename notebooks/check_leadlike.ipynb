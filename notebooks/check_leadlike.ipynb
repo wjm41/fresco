{
 "cells": [
  {
   "cell_type": "code",
   "execution_count": 1,
   "metadata": {},
   "outputs": [
    {
     "name": "stderr",
     "output_type": "stream",
     "text": [
      "INFO:rdkit:Enabling RDKit 2020.09.1 jupyter extensions\n"
     ]
    }
   ],
   "source": [
    "import pandas as pd\n",
    "\n",
    "import os\n",
    "import sys\n",
    "\n",
    "from tqdm import tqdm\n",
    "\n",
    "from rdkit import Chem\n",
    "from rdkit.Chem import Descriptors, Lipinski, rdMolDescriptors\n",
    "\n",
    "from rdkit import RDLogger\n",
    "RDLogger.DisableLog('rdApp.*')\n",
    "\n",
    "\n",
    "def filter_physchem(mol):\n",
    "\n",
    "    if mol.GetNumHeavyAtoms() > 25 or mol.GetNumHeavyAtoms() < 8:\n",
    "        return False\n",
    "    elif Descriptors.MolWt(mol) > 400 or Descriptors.MolWt(mol) < 109:\n",
    "        return False\n",
    "    elif Descriptors.MolLogP(mol) > 3.5 or Descriptors.MolLogP(mol) < -2.7:\n",
    "        return False\n",
    "    elif Descriptors.TPSA(mol) > 179 or Descriptors.TPSA(mol) < 3:\n",
    "        return False\n",
    "    elif Lipinski.NumHAcceptors(mol) > 8 or Lipinski.NumHAcceptors(mol) < 1:\n",
    "        return False\n",
    "    elif Lipinski.NumHDonors(mol) > 4:\n",
    "        return False\n",
    "    elif rdMolDescriptors.CalcNumRotatableBonds(mol) > 10:\n",
    "        return False\n",
    "    else:\n",
    "        return True\n"
   ]
  },
  {
   "cell_type": "code",
   "execution_count": 2,
   "metadata": {},
   "outputs": [
    {
     "name": "stdout",
     "output_type": "stream",
     "text": [
      "True    60\n",
      "Name: lead-like, dtype: int64\n"
     ]
    }
   ],
   "source": [
    "df_mpro = pd.read_csv(\n",
    "    '/home/wjm41/ml_physics/frag-pcore-screen/data/EnamineREAL/topN/mpro_taut_picks_constrained.csv')\n",
    "\n",
    "df_mpro['mol'] = [Chem.MolFromSmiles(smiles) for smiles in df_mpro['smiles']]\n",
    "df_mpro['lead-like'] = df_mpro['mol'].apply(filter_physchem)\n",
    "print(df_mpro['lead-like'].value_counts())"
   ]
  },
  {
   "cell_type": "code",
   "execution_count": 3,
   "metadata": {},
   "outputs": [
    {
     "name": "stdout",
     "output_type": "stream",
     "text": [
      "True    60\n",
      "Name: lead-like, dtype: int64\n"
     ]
    }
   ],
   "source": [
    "df_mac1 = pd.read_csv(\n",
    "    '/home/wjm41/ml_physics/frag-pcore-screen/data/EnamineREAL/topN/mac1_taut_picks_constrained.csv')\n",
    "\n",
    "df_mac1['mol'] = [Chem.MolFromSmiles(smiles) for smiles in df_mac1['smiles']]\n",
    "df_mac1['lead-like'] = df_mac1['mol'].apply(filter_physchem)\n",
    "print(df_mac1['lead-like'].value_counts())\n"
   ]
  },
  {
   "cell_type": "code",
   "execution_count": null,
   "metadata": {},
   "outputs": [],
   "source": []
  }
 ],
 "metadata": {
  "interpreter": {
   "hash": "7367a18b348ca6007dd30e14cd00de3b4d55612a2acbb3a217e58adb00f48737"
  },
  "kernelspec": {
   "display_name": "Python 3.7.10 ('fresco': conda)",
   "language": "python",
   "name": "python3"
  },
  "language_info": {
   "codemirror_mode": {
    "name": "ipython",
    "version": 3
   },
   "file_extension": ".py",
   "mimetype": "text/x-python",
   "name": "python",
   "nbconvert_exporter": "python",
   "pygments_lexer": "ipython3",
   "version": "3.7.10"
  },
  "orig_nbformat": 4
 },
 "nbformat": 4,
 "nbformat_minor": 2
}
